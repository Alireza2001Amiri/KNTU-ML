{
  "nbformat": 4,
  "nbformat_minor": 0,
  "metadata": {
    "colab": {
      "provenance": []
    },
    "kernelspec": {
      "name": "python3",
      "display_name": "Python 3"
    },
    "language_info": {
      "name": "python"
    }
  },
  "cells": [
    {
      "cell_type": "markdown",
      "source": [
        "# 1.1"
      ],
      "metadata": {
        "id": "3WHw1A1nCwCE"
      }
    },
    {
      "cell_type": "markdown",
      "source": [
        "**1.1.2**"
      ],
      "metadata": {
        "id": "13VYIUcdGv7E"
      }
    },
    {
      "cell_type": "code",
      "execution_count": null,
      "metadata": {
        "id": "GA3w7sa7s8Jt",
        "colab": {
          "base_uri": "https://localhost:8080/"
        },
        "outputId": "96708607-f08f-4a78-96e0-ab511942c122"
      },
      "outputs": [
        {
          "output_type": "stream",
          "name": "stdout",
          "text": [
            "Downloading...\n",
            "From: https://drive.google.com/uc?id=1Bn9G0-zpMl-YQAlzA_XIxWwc77lRpcaB\n",
            "To: /content/weather_prediction_dataset.csv\n",
            "\r  0% 0.00/2.77M [00:00<?, ?B/s]\r100% 2.77M/2.77M [00:00<00:00, 47.3MB/s]\n"
          ]
        }
      ],
      "source": [
        "!gdown 1Bn9G0-zpMl-YQAlzA_XIxWwc77lRpcaB\n",
        "#pima = pd.read_excel('/content/ECU + Tunnel_1.xlsx',header=None, names=col_names)\n"
      ]
    },
    {
      "cell_type": "code",
      "source": [
        "# Import required libraries\n",
        "import pandas as pd\n",
        "\n",
        "# Define the file path\n",
        "dataset_path = \"weather_prediction_dataset.csv\"\n",
        "\n",
        "# Load the dataset\n",
        "df = pd.read_csv(dataset_path)\n",
        "\n",
        "# Display dataset columns\n",
        "print(\"Dataset columns:\", df.columns)\n",
        "\n",
        "# List of French cities based on column names\n",
        "french_cities = [\"TOURS\", \"PARIS\", \"LYON\", \"MARSEILLE\", \"NICE\"]\n",
        "\n",
        "# Select columns related to French cities\n",
        "selected_columns = [\"DATE\", \"MONTH\"]  # Keep time-related information\n",
        "for city in french_cities:\n",
        "    selected_columns += [col for col in df.columns if city in col]\n",
        "\n",
        "# Create a new dataframe with only French cities' data\n",
        "df_france = df[selected_columns]\n",
        "\n",
        "# Save the filtered dataset to a new CSV file\n",
        "filtered_dataset_path = \"weather_prediction_france.csv\"\n",
        "df_france.to_csv(filtered_dataset_path, index=False)\n",
        "\n",
        "# Display the first few rows of the new dataset\n",
        "print(df_france.head())\n",
        "\n",
        "# Display general information about the filtered dataset\n",
        "print(df_france.info())\n",
        "\n",
        "print(f\"Filtered dataset for French cities has been successfully saved at: {filtered_dataset_path}\")\n"
      ],
      "metadata": {
        "colab": {
          "base_uri": "https://localhost:8080/"
        },
        "id": "R1DNdRJzFaNt",
        "outputId": "09d1605f-3a79-4c73-c579-b1008f8fea62"
      },
      "execution_count": null,
      "outputs": [
        {
          "output_type": "stream",
          "name": "stdout",
          "text": [
            "Dataset columns: Index(['DATE', 'MONTH', 'BASEL_cloud_cover', 'BASEL_humidity',\n",
            "       'BASEL_pressure', 'BASEL_global_radiation', 'BASEL_precipitation',\n",
            "       'BASEL_sunshine', 'BASEL_temp_mean', 'BASEL_temp_min',\n",
            "       ...\n",
            "       'STOCKHOLM_temp_min', 'STOCKHOLM_temp_max', 'TOURS_wind_speed',\n",
            "       'TOURS_humidity', 'TOURS_pressure', 'TOURS_global_radiation',\n",
            "       'TOURS_precipitation', 'TOURS_temp_mean', 'TOURS_temp_min',\n",
            "       'TOURS_temp_max'],\n",
            "      dtype='object', length=165)\n",
            "       DATE  MONTH  TOURS_wind_speed  TOURS_humidity  TOURS_pressure  \\\n",
            "0  20000101      1               1.6            0.97          1.0275   \n",
            "1  20000102      1               2.0            0.99          1.0293   \n",
            "2  20000103      1               3.4            0.91          1.0267   \n",
            "3  20000104      1               4.9            0.95          1.0222   \n",
            "4  20000105      1               3.6            0.95          1.0209   \n",
            "\n",
            "   TOURS_global_radiation  TOURS_precipitation  TOURS_temp_mean  \\\n",
            "0                    0.25                 0.04              8.5   \n",
            "1                    0.17                 0.16              7.9   \n",
            "2                    0.27                 0.00              8.1   \n",
            "3                    0.11                 0.44              8.6   \n",
            "4                    0.39                 0.04              8.0   \n",
            "\n",
            "   TOURS_temp_min  TOURS_temp_max  \n",
            "0             7.2             9.8  \n",
            "1             6.6             9.2  \n",
            "2             6.6             9.6  \n",
            "3             6.4            10.8  \n",
            "4             6.4             9.5  \n",
            "<class 'pandas.core.frame.DataFrame'>\n",
            "RangeIndex: 3654 entries, 0 to 3653\n",
            "Data columns (total 10 columns):\n",
            " #   Column                  Non-Null Count  Dtype  \n",
            "---  ------                  --------------  -----  \n",
            " 0   DATE                    3654 non-null   int64  \n",
            " 1   MONTH                   3654 non-null   int64  \n",
            " 2   TOURS_wind_speed        3654 non-null   float64\n",
            " 3   TOURS_humidity          3654 non-null   float64\n",
            " 4   TOURS_pressure          3654 non-null   float64\n",
            " 5   TOURS_global_radiation  3654 non-null   float64\n",
            " 6   TOURS_precipitation     3654 non-null   float64\n",
            " 7   TOURS_temp_mean         3654 non-null   float64\n",
            " 8   TOURS_temp_min          3654 non-null   float64\n",
            " 9   TOURS_temp_max          3654 non-null   float64\n",
            "dtypes: float64(8), int64(2)\n",
            "memory usage: 285.6 KB\n",
            "None\n",
            "Filtered dataset for French cities has been successfully saved at: weather_prediction_france.csv\n"
          ]
        }
      ]
    },
    {
      "cell_type": "markdown",
      "source": [
        "**1.1.3**"
      ],
      "metadata": {
        "id": "3xmvfN_iJqMB"
      }
    },
    {
      "cell_type": "code",
      "source": [
        "# بررسی تعداد نمونه‌ها در داده‌ها\n",
        "num_samples = df.shape[0]\n",
        "print(f'تعداد نمونه‌ها در مجموعه داده: {num_samples}')\n"
      ],
      "metadata": {
        "colab": {
          "base_uri": "https://localhost:8080/"
        },
        "id": "AIdqcVxFRlLe",
        "outputId": "a065ac3c-38f7-4acd-8de3-6d93af62380c"
      },
      "execution_count": null,
      "outputs": [
        {
          "output_type": "stream",
          "name": "stdout",
          "text": [
            "تعداد نمونه‌ها در مجموعه داده: 3654\n"
          ]
        }
      ]
    },
    {
      "cell_type": "code",
      "source": [
        "# تبدیل ستون تاریخ به فرمت تاریخ\n",
        "df['DATE'] = pd.to_datetime(df['DATE'], format='%Y%m%d')\n",
        "\n",
        "# استخراج اولین و آخرین تاریخ\n",
        "start_date = df['DATE'].min()\n",
        "end_date = df['DATE'].max()\n",
        "\n",
        "print(f'بازه زمانی داده‌ها: از {start_date} تا {end_date}')\n"
      ],
      "metadata": {
        "colab": {
          "base_uri": "https://localhost:8080/"
        },
        "id": "S8uRKKc_SCdE",
        "outputId": "86ce5adc-4d30-41a9-f891-089975921367"
      },
      "execution_count": null,
      "outputs": [
        {
          "output_type": "stream",
          "name": "stdout",
          "text": [
            "بازه زمانی داده‌ها: از 2000-01-01 00:00:00 تا 2010-01-01 00:00:00\n"
          ]
        }
      ]
    },
    {
      "cell_type": "code",
      "source": [
        "# Import required libraries\n",
        "import numpy as np\n",
        "from sklearn.preprocessing import MinMaxScaler\n",
        "from sklearn.model_selection import train_test_split\n",
        "\n",
        "# Load the dataset\n",
        "dataset_path = \"weather_prediction_dataset.csv\"\n",
        "df = pd.read_csv(dataset_path)\n",
        "\n",
        "# Display dataset info\n",
        "print(df.info())\n",
        "\n",
        "# Convert DATE column to datetime format\n",
        "df[\"DATE\"] = pd.to_datetime(df[\"DATE\"], format=\"%Y%m%d\")\n",
        "\n",
        "# Remove rows with missing values\n",
        "df_cleaned = df.dropna()\n",
        "\n",
        "# Normalize numerical columns\n",
        "scaler = MinMaxScaler()\n",
        "numeric_cols = df_cleaned.select_dtypes(include=[np.number]).columns\n",
        "df_cleaned[numeric_cols] = scaler.fit_transform(df_cleaned[numeric_cols])\n",
        "\n",
        "# Split into training and testing sets (80% train, 20% test)\n",
        "train_set, test_set = train_test_split(df_cleaned, test_size=0.2, random_state=42)\n",
        "\n",
        "# Save the cleaned dataset\n",
        "df_cleaned.to_csv(\"weather_prediction_cleaned.csv\", index=False)\n",
        "train_set.to_csv(\"weather_prediction_train.csv\", index=False)\n",
        "test_set.to_csv(\"weather_prediction_test.csv\", index=False)\n",
        "\n",
        "print(\"Data preprocessing completed successfully!\")\n"
      ],
      "metadata": {
        "colab": {
          "base_uri": "https://localhost:8080/"
        },
        "id": "ruvjdTC8L9Zx",
        "outputId": "16c45588-ea9a-469a-daf7-98d2945eb189"
      },
      "execution_count": null,
      "outputs": [
        {
          "output_type": "stream",
          "name": "stdout",
          "text": [
            "<class 'pandas.core.frame.DataFrame'>\n",
            "RangeIndex: 3654 entries, 0 to 3653\n",
            "Columns: 165 entries, DATE to TOURS_temp_max\n",
            "dtypes: float64(150), int64(15)\n",
            "memory usage: 4.6 MB\n",
            "None\n",
            "Data preprocessing completed successfully!\n"
          ]
        }
      ]
    },
    {
      "cell_type": "markdown",
      "source": [
        "**1.1.4**"
      ],
      "metadata": {
        "id": "ILkrXyDlWOX4"
      }
    },
    {
      "cell_type": "code",
      "source": [
        "import numpy as np\n",
        "from sklearn.linear_model import LinearRegression\n",
        "from sklearn.metrics import mean_squared_error\n",
        "from sklearn.model_selection import train_test_split\n",
        "\n",
        "# تابع برای تقسیم داده‌ها به پنجره‌ها\n",
        "def create_windows(data, window_size, overlap):\n",
        "    windows = []\n",
        "    for i in range(len(data) - window_size - overlap):\n",
        "        windows.append(data[i:i+window_size])\n",
        "    return np.array(windows)\n",
        "\n",
        "# داده‌ها را برای پنجره‌های مختلف تقسیم می‌کنیم\n",
        "window_size = 5\n",
        "overlap = 4\n",
        "data = df['TOURS_temp_mean'].values  # مثال از ویژگی دمای شهر Tours\n",
        "\n",
        "# ایجاد پنجره‌های زمانی\n",
        "windows = create_windows(data, window_size, overlap)\n",
        "\n",
        "# تقسیم داده‌ها به مجموعه آموزش و آزمون\n",
        "train_data, test_data = train_test_split(windows, test_size=0.2, shuffle=False)\n",
        "\n",
        "# آموزش مدل رگرسیون خطی\n",
        "model = LinearRegression()\n",
        "X_train = train_data[:, :-1]  # ویژگی‌ها\n",
        "y_train = train_data[:, -1]   # برچسب‌ها\n",
        "\n",
        "model.fit(X_train, y_train)\n",
        "\n",
        "# پیش‌بینی روی داده‌های آزمون\n",
        "X_test = test_data[:, :-1]\n",
        "y_test = test_data[:, -1]\n",
        "\n",
        "y_pred = model.predict(X_test)\n",
        "\n",
        "# ارزیابی مدل\n",
        "mse = mean_squared_error(y_test, y_pred)\n",
        "rmse = np.sqrt(mse)\n",
        "\n",
        "print(f\"Mean Squared Error: {mse}\")\n",
        "print(f\"Root Mean Squared Error: {rmse}\")\n"
      ],
      "metadata": {
        "colab": {
          "base_uri": "https://localhost:8080/"
        },
        "id": "aWCR4u7jK8xn",
        "outputId": "7a428ff8-576d-439f-904e-db744656e60e"
      },
      "execution_count": null,
      "outputs": [
        {
          "output_type": "stream",
          "name": "stdout",
          "text": [
            "Mean Squared Error: 4.518339394428953\n",
            "Root Mean Squared Error: 2.125638585091302\n"
          ]
        }
      ]
    },
    {
      "cell_type": "code",
      "source": [
        "# Select a target feature (e.g., TOURS_temp_mean)\n",
        "target_feature = \"TOURS_temp_mean\"\n",
        "\n",
        "# Define a function to create sliding windows\n",
        "def create_sliding_window(data, target_col, n_steps):\n",
        "    \"\"\"\n",
        "    Creates a dataset using a sliding window approach.\n",
        "    :param data: DataFrame containing the time-series data\n",
        "    :param target_col: The column we want to predict\n",
        "    :param n_steps: Number of previous time steps to use as input\n",
        "    :return: X (inputs), y (target values)\n",
        "    \"\"\"\n",
        "    X, y = [], []\n",
        "    for i in range(n_steps, len(data)):\n",
        "        X.append(data[target_col].iloc[i-n_steps:i].values)\n",
        "        y.append(data[target_col].iloc[i])\n",
        "    return np.array(X), np.array(y)\n",
        "\n",
        "# Create datasets for the two scenarios\n",
        "X_single, y_single = create_sliding_window(df, target_feature, 1)  # Single step\n",
        "X_multi, y_multi = create_sliding_window(df, target_feature, 5)  # Multi-step (5 previous values)\n",
        "\n",
        "# Split into training and testing sets (80% train, 20% test)\n",
        "X_train_single, X_test_single, y_train_single, y_test_single = train_test_split(X_single, y_single, test_size=0.2, random_state=42)\n",
        "X_train_multi, X_test_multi, y_train_multi, y_test_multi = train_test_split(X_multi, y_multi, test_size=0.2, random_state=42)\n",
        "\n",
        "# Save the datasets\n",
        "np.save(\"X_train_single.npy\", X_train_single)\n",
        "np.save(\"X_test_single.npy\", X_test_single)\n",
        "np.save(\"y_train_single.npy\", y_train_single)\n",
        "np.save(\"y_test_single.npy\", y_test_single)\n",
        "\n",
        "np.save(\"X_train_multi.npy\", X_train_multi)\n",
        "np.save(\"X_test_multi.npy\", X_test_multi)\n",
        "np.save(\"y_train_multi.npy\", y_train_multi)\n",
        "np.save(\"y_test_multi.npy\", y_test_multi)\n",
        "\n",
        "print(\"Data preprocessing for sliding window is completed successfully!\")\n"
      ],
      "metadata": {
        "colab": {
          "base_uri": "https://localhost:8080/"
        },
        "id": "h1FN5gFjWSiP",
        "outputId": "605393c0-ba60-4898-a87a-e63b89a3bc1a"
      },
      "execution_count": null,
      "outputs": [
        {
          "output_type": "stream",
          "name": "stdout",
          "text": [
            "Data preprocessing for sliding window is completed successfully!\n"
          ]
        }
      ]
    },
    {
      "cell_type": "code",
      "source": [
        "y_train_multi"
      ],
      "metadata": {
        "id": "NdCbHhnPC2Ij",
        "outputId": "3f54a3f7-61bc-4271-e290-08906a5bc9f1",
        "colab": {
          "base_uri": "https://localhost:8080/"
        }
      },
      "execution_count": null,
      "outputs": [
        {
          "output_type": "execute_result",
          "data": {
            "text/plain": [
              "array([15.9, 10.9, 17.9, ..., 14.4, 21. , 16.6])"
            ]
          },
          "metadata": {},
          "execution_count": 9
        }
      ]
    },
    {
      "cell_type": "code",
      "source": [
        "X_train_single.shape"
      ],
      "metadata": {
        "colab": {
          "base_uri": "https://localhost:8080/"
        },
        "id": "Ob3T-j8JvLiy",
        "outputId": "c9f4ca0c-266a-48a8-d7fc-398a18182074"
      },
      "execution_count": null,
      "outputs": [
        {
          "output_type": "execute_result",
          "data": {
            "text/plain": [
              "(2922, 1)"
            ]
          },
          "metadata": {},
          "execution_count": 10
        }
      ]
    },
    {
      "cell_type": "markdown",
      "source": [
        "# 1.2"
      ],
      "metadata": {
        "id": "uGKsvWcwC7oR"
      }
    },
    {
      "cell_type": "code",
      "source": [
        "city_data = df[['DATE', 'TOURS_temp_mean', 'TOURS_humidity', 'TOURS_pressure', 'TOURS_precipitation']]\n",
        "city_data['DATE'] = pd.to_datetime(city_data['DATE'], format='%Y%m%d')\n",
        "\n",
        "print(city_data.head())"
      ],
      "metadata": {
        "colab": {
          "base_uri": "https://localhost:8080/"
        },
        "id": "i0ednhVqP0v0",
        "outputId": "42658331-265b-40f9-b4c3-7427d1636fd6"
      },
      "execution_count": null,
      "outputs": [
        {
          "output_type": "stream",
          "name": "stdout",
          "text": [
            "        DATE  TOURS_temp_mean  TOURS_humidity  TOURS_pressure  \\\n",
            "0 2000-01-01              8.5            0.97          1.0275   \n",
            "1 2000-01-02              7.9            0.99          1.0293   \n",
            "2 2000-01-03              8.1            0.91          1.0267   \n",
            "3 2000-01-04              8.6            0.95          1.0222   \n",
            "4 2000-01-05              8.0            0.95          1.0209   \n",
            "\n",
            "   TOURS_precipitation  \n",
            "0                 0.04  \n",
            "1                 0.16  \n",
            "2                 0.00  \n",
            "3                 0.44  \n",
            "4                 0.04  \n"
          ]
        },
        {
          "output_type": "stream",
          "name": "stderr",
          "text": [
            "<ipython-input-11-a834537fcb86>:2: SettingWithCopyWarning: \n",
            "A value is trying to be set on a copy of a slice from a DataFrame.\n",
            "Try using .loc[row_indexer,col_indexer] = value instead\n",
            "\n",
            "See the caveats in the documentation: https://pandas.pydata.org/pandas-docs/stable/user_guide/indexing.html#returning-a-view-versus-a-copy\n",
            "  city_data['DATE'] = pd.to_datetime(city_data['DATE'], format='%Y%m%d')\n"
          ]
        }
      ]
    },
    {
      "cell_type": "markdown",
      "source": [
        "#1.3"
      ],
      "metadata": {
        "id": "0A9ImS4tDYRs"
      }
    },
    {
      "cell_type": "code",
      "source": [
        "df_cleaned.head"
      ],
      "metadata": {
        "colab": {
          "base_uri": "https://localhost:8080/",
          "height": 186
        },
        "id": "e5er6yG3vh1Q",
        "outputId": "ef11dba2-8df3-48c0-fe10-467cd20f86c4"
      },
      "execution_count": null,
      "outputs": [
        {
          "output_type": "execute_result",
          "data": {
            "text/plain": [
              "<bound method NDFrame.head of            DATE  MONTH  BASEL_cloud_cover  BASEL_humidity  BASEL_pressure  \\\n",
              "0    2000-01-01    0.0              1.000        0.850000        0.778986   \n",
              "1    2000-01-02    0.0              1.000        0.816667        0.836957   \n",
              "2    2000-01-03    0.0              0.625        0.716667        0.829710   \n",
              "3    2000-01-04    0.0              0.875        0.683333        0.735507   \n",
              "4    2000-01-05    0.0              0.625        0.866667        0.706522   \n",
              "...         ...    ...                ...             ...             ...   \n",
              "3649 2009-12-28    1.0              0.875        0.733333        0.413043   \n",
              "3650 2009-12-29    1.0              0.875        0.900000        0.311594   \n",
              "3651 2009-12-30    1.0              1.000        0.900000        0.222826   \n",
              "3652 2009-12-31    1.0              0.875        0.916667        0.184783   \n",
              "3653 2010-01-01    0.0              1.000        0.916667        0.197464   \n",
              "\n",
              "      BASEL_global_radiation  BASEL_precipitation  BASEL_sunshine  \\\n",
              "0                   0.042857             0.003963        0.000000   \n",
              "1                   0.057143             0.000000        0.000000   \n",
              "2                   0.128571             0.000000        0.241830   \n",
              "3                   0.165714             0.046235        0.450980   \n",
              "4                   0.131429             0.009247        0.241830   \n",
              "...                      ...                  ...             ...   \n",
              "3649                0.065714             0.055482        0.019608   \n",
              "3650                0.048571             0.221929        0.013072   \n",
              "3651                0.005714             0.203435        0.000000   \n",
              "3652                0.034286             0.075297        0.006536   \n",
              "3653                0.008571             0.073976        0.000000   \n",
              "\n",
              "      BASEL_temp_mean  BASEL_temp_min  ...  STOCKHOLM_temp_min  \\\n",
              "0            0.318538        0.478261  ...            0.254279   \n",
              "1            0.336815        0.508152  ...            0.493888   \n",
              "2            0.300261        0.437500  ...            0.457213   \n",
              "3            0.344648        0.448370  ...            0.542787   \n",
              "4            0.399478        0.538043  ...            0.437653   \n",
              "...               ...             ...  ...                 ...   \n",
              "3649         0.326371        0.461957  ...            0.415648   \n",
              "3650         0.360313        0.500000  ...            0.249389   \n",
              "3651         0.464752        0.638587  ...            0.176039   \n",
              "3652         0.415144        0.551630  ...            0.254279   \n",
              "3653         0.318538        0.429348  ...            0.266504   \n",
              "\n",
              "      STOCKHOLM_temp_max  TOURS_wind_speed  TOURS_humidity  TOURS_pressure  \\\n",
              "0               0.320675          0.089109        0.955224        0.986649   \n",
              "1               0.348101          0.128713        0.985075        0.988378   \n",
              "2               0.364979          0.267327        0.865672        0.985880   \n",
              "3               0.402954          0.415842        0.925373        0.981558   \n",
              "4               0.367089          0.287129        0.925373        0.980309   \n",
              "...                  ...               ...             ...             ...   \n",
              "3649            0.356540          0.297030        0.925373        0.961291   \n",
              "3650            0.322785          0.455446        0.835821        0.956969   \n",
              "3651            0.149789          0.306931        0.820896        0.954375   \n",
              "3652            0.168776          0.346535        0.820896        0.953799   \n",
              "3653            0.158228          0.267327        0.791045        0.964076   \n",
              "\n",
              "      TOURS_global_radiation  TOURS_precipitation  TOURS_temp_mean  \\\n",
              "0                   0.056980             0.006452         0.393048   \n",
              "1                   0.034188             0.025806         0.377005   \n",
              "2                   0.062678             0.000000         0.382353   \n",
              "3                   0.017094             0.070968         0.395722   \n",
              "4                   0.096866             0.006452         0.379679   \n",
              "...                      ...                  ...              ...   \n",
              "3649                0.048433             0.241935         0.331551   \n",
              "3650                0.054131             0.064516         0.443850   \n",
              "3651                0.054131             0.161290         0.433155   \n",
              "3652                0.150997             0.003226         0.393048   \n",
              "3653                0.017094             0.000000         0.179144   \n",
              "\n",
              "      TOURS_temp_min  TOURS_temp_max  \n",
              "0           0.567416        0.300699  \n",
              "1           0.550562        0.286713  \n",
              "2           0.550562        0.296037  \n",
              "3           0.544944        0.324009  \n",
              "4           0.544944        0.293706  \n",
              "...              ...             ...  \n",
              "3649        0.415730        0.319347  \n",
              "3650        0.539326        0.410256  \n",
              "3651        0.609551        0.335664  \n",
              "3652        0.539326        0.326340  \n",
              "3653        0.345506        0.114219  \n",
              "\n",
              "[3654 rows x 165 columns]>"
            ],
            "text/html": [
              "<div style=\"max-width:800px; border: 1px solid var(--colab-border-color);\"><style>\n",
              "      pre.function-repr-contents {\n",
              "        overflow-x: auto;\n",
              "        padding: 8px 12px;\n",
              "        max-height: 500px;\n",
              "      }\n",
              "\n",
              "      pre.function-repr-contents.function-repr-contents-collapsed {\n",
              "        cursor: pointer;\n",
              "        max-height: 100px;\n",
              "      }\n",
              "    </style>\n",
              "    <pre style=\"white-space: initial; background:\n",
              "         var(--colab-secondary-surface-color); padding: 8px 12px;\n",
              "         border-bottom: 1px solid var(--colab-border-color);\"><b>pandas.core.generic.NDFrame.head</b><br/>def head(n: int=5) -&gt; Self</pre><pre class=\"function-repr-contents function-repr-contents-collapsed\" style=\"\"><a class=\"filepath\" style=\"display:none\" href=\"#\">/usr/local/lib/python3.11/dist-packages/pandas/core/generic.py</a>Return the first `n` rows.\n",
              "\n",
              "This function returns the first `n` rows for the object based\n",
              "on position. It is useful for quickly testing if your object\n",
              "has the right type of data in it.\n",
              "\n",
              "For negative values of `n`, this function returns all rows except\n",
              "the last `|n|` rows, equivalent to ``df[:n]``.\n",
              "\n",
              "If n is larger than the number of rows, this function returns all rows.\n",
              "\n",
              "Parameters\n",
              "----------\n",
              "n : int, default 5\n",
              "    Number of rows to select.\n",
              "\n",
              "Returns\n",
              "-------\n",
              "same type as caller\n",
              "    The first `n` rows of the caller object.\n",
              "\n",
              "See Also\n",
              "--------\n",
              "DataFrame.tail: Returns the last `n` rows.\n",
              "\n",
              "Examples\n",
              "--------\n",
              "&gt;&gt;&gt; df = pd.DataFrame({&#x27;animal&#x27;: [&#x27;alligator&#x27;, &#x27;bee&#x27;, &#x27;falcon&#x27;, &#x27;lion&#x27;,\n",
              "...                    &#x27;monkey&#x27;, &#x27;parrot&#x27;, &#x27;shark&#x27;, &#x27;whale&#x27;, &#x27;zebra&#x27;]})\n",
              "&gt;&gt;&gt; df\n",
              "      animal\n",
              "0  alligator\n",
              "1        bee\n",
              "2     falcon\n",
              "3       lion\n",
              "4     monkey\n",
              "5     parrot\n",
              "6      shark\n",
              "7      whale\n",
              "8      zebra\n",
              "\n",
              "Viewing the first 5 lines\n",
              "\n",
              "&gt;&gt;&gt; df.head()\n",
              "      animal\n",
              "0  alligator\n",
              "1        bee\n",
              "2     falcon\n",
              "3       lion\n",
              "4     monkey\n",
              "\n",
              "Viewing the first `n` lines (three in this case)\n",
              "\n",
              "&gt;&gt;&gt; df.head(3)\n",
              "      animal\n",
              "0  alligator\n",
              "1        bee\n",
              "2     falcon\n",
              "\n",
              "For negative values of `n`\n",
              "\n",
              "&gt;&gt;&gt; df.head(-3)\n",
              "      animal\n",
              "0  alligator\n",
              "1        bee\n",
              "2     falcon\n",
              "3       lion\n",
              "4     monkey\n",
              "5     parrot</pre>\n",
              "      <script>\n",
              "      if (google.colab.kernel.accessAllowed && google.colab.files && google.colab.files.view) {\n",
              "        for (const element of document.querySelectorAll('.filepath')) {\n",
              "          element.style.display = 'block'\n",
              "          element.onclick = (event) => {\n",
              "            event.preventDefault();\n",
              "            event.stopPropagation();\n",
              "            google.colab.files.view(element.textContent, 5818);\n",
              "          };\n",
              "        }\n",
              "      }\n",
              "      for (const element of document.querySelectorAll('.function-repr-contents')) {\n",
              "        element.onclick = (event) => {\n",
              "          event.preventDefault();\n",
              "          event.stopPropagation();\n",
              "          element.classList.toggle('function-repr-contents-collapsed');\n",
              "        };\n",
              "      }\n",
              "      </script>\n",
              "      </div>"
            ]
          },
          "metadata": {},
          "execution_count": 22
        }
      ]
    },
    {
      "cell_type": "code",
      "source": [
        "from tqdm import tqdm\n",
        "\n",
        "# برای نمونه، در اینجا دما (TOURS_temp_mean) را به‌عنوان هدف انتخاب کرده‌ایم\n",
        "X = df_cleaned.drop(columns=['TOURS_temp_mean','DATE','MONTH']).values  # تمامی ویژگی‌ها به جز TOURS_temp_mean\n",
        "y = df_cleaned['TOURS_temp_mean'].values  # هدف: دمای شهر Tours\n",
        "\n",
        "# تقسیم داده‌ها به مجموعه آموزش و آزمون (80% آموزش و 20% آزمون)\n",
        "X_train, X_test, y_train, y_test = train_test_split(X, y, test_size=0.2, random_state=42)\n",
        "y_train = y_train.reshape(-1, 1)\n",
        "y_test = y_test.reshape(-1, 1)\n",
        "# تابع پیش‌بینی مدل (رگرسیون خطی درجه 1)\n",
        "def predict(X, weights):\n",
        "    return np.dot(X, weights)\n",
        "\n",
        "# تابع محاسبه خطا (MSE)\n",
        "def compute_error(y_true, y_pred):\n",
        "    return mean_squared_error(y_true, y_pred)\n",
        "\n",
        "# تابع محاسبه گرادیان (برای رگرسیون چندجمله‌ای درجه 1)\n",
        "def compute_gradient(X, y_true, y_pred):\n",
        "    return -2 * np.dot(X.T, (y_true - y_pred)) / len(y_true)\n",
        "\n",
        "# تابع بروزرسانی وزن‌ها\n",
        "def update_weights(weights, learning_rate, gradient):\n",
        "    return weights - learning_rate * gradient\n",
        "\n",
        "# حلقه آموزش مدل\n",
        "def train_model(X_train, y_train, X_test, y_test, learning_rate=0.01, max_epochs=1000, tolerance=0.001):\n",
        "    # وزن‌های اولیه مدل (آغاز از صفر)\n",
        "    weights = np.zeros((X_train.shape[1], 1))\n",
        "\n",
        "    # ذخیره خطاها برای نمایش در نهایت\n",
        "    train_errors = []\n",
        "    test_errors = []\n",
        "\n",
        "    # نوار پیشرفت tqdm\n",
        "    for epoch in tqdm(range(max_epochs), desc=\"Training\", ncols=100):\n",
        "        # پیش‌بینی برای داده‌های آموزش و آزمون\n",
        "        y_train_pred = predict(X_train, weights)\n",
        "        y_test_pred = predict(X_test, weights)\n",
        "\n",
        "        # محاسبه خطاها\n",
        "        train_error = compute_error(y_train, y_train_pred)\n",
        "        test_error = compute_error(y_test, y_test_pred)\n",
        "\n",
        "        # ذخیره خطاها\n",
        "        train_errors.append(train_error)\n",
        "        test_errors.append(test_error)\n",
        "\n",
        "        # محاسبه گرادیان\n",
        "        gradient = compute_gradient(X_train, y_train, y_train_pred)\n",
        "\n",
        "        # بروزرسانی وزن‌ها\n",
        "        weights = update_weights(weights, learning_rate, gradient)\n",
        "\n",
        "        # نمایش خطا برای داده‌های آموزش و آزمون\n",
        "        tqdm.write(f'Epoch {epoch+1}/{max_epochs} - Train Error: {train_error:.4f} - Test Error: {test_error:.4f}')\n",
        "\n",
        "        # توقف آموزش اگر خطا به حد مشخصی رسید\n",
        "        if train_error < tolerance:\n",
        "            print(f\"\\nTraining stopped at epoch {epoch+1} due to tolerance threshold.\")\n",
        "            break\n",
        "\n",
        "    return weights, train_errors, test_errors\n",
        "\n",
        "# آموزش مدل\n",
        "weights, train_errors, test_errors = train_model(X_train, y_train, X_test, y_test)\n",
        "\n",
        "# نمایش وزن‌ها نهایی\n",
        "print(\"\\nFinal weights:\", weights)\n",
        "\n",
        "# نمایش خطاها\n",
        "plt.plot(train_errors, label=\"Train Error\")\n",
        "plt.plot(test_errors, label=\"Test Error\")\n",
        "plt.xlabel(\"Epochs\")\n",
        "plt.ylabel(\"Error\")\n",
        "plt.legend()\n",
        "plt.title(\"Training and Test Errors Over Epochs\")\n",
        "plt.show()\n"
      ],
      "metadata": {
        "colab": {
          "base_uri": "https://localhost:8080/",
          "height": 1000
        },
        "id": "OY5_9vJnLSEI",
        "outputId": "1d1feea9-7a6e-4ba6-e961-7ccfc4253aec"
      },
      "execution_count": null,
      "outputs": [
        {
          "output_type": "stream",
          "name": "stderr",
          "text": [
            "Training:   0%|▏                                                   | 4/1000 [00:00<00:25, 39.67it/s]"
          ]
        },
        {
          "output_type": "stream",
          "name": "stdout",
          "text": [
            "Epoch 1/1000 - Train Error: 0.2715 - Test Error: 0.2744\n",
            "Epoch 2/1000 - Train Error: 0.0213 - Test Error: 0.0214\n",
            "Epoch 3/1000 - Train Error: 0.0116 - Test Error: 0.0115\n",
            "Epoch 4/1000 - Train Error: 0.0107 - Test Error: 0.0106\n",
            "Epoch 5/1000 - Train Error: 0.0102 - Test Error: 0.0100\n",
            "Epoch 6/1000 - Train Error: 0.0097 - Test Error: 0.0096\n",
            "Epoch 7/1000 - Train Error: 0.0093 - Test Error: 0.0091\n"
          ]
        },
        {
          "output_type": "stream",
          "name": "stderr",
          "text": [
            "Training:   1%|▋                                                  | 13/1000 [00:00<00:24, 40.61it/s]"
          ]
        },
        {
          "output_type": "stream",
          "name": "stdout",
          "text": [
            "Epoch 8/1000 - Train Error: 0.0089 - Test Error: 0.0087\n",
            "Epoch 9/1000 - Train Error: 0.0085 - Test Error: 0.0083\n",
            "Epoch 10/1000 - Train Error: 0.0082 - Test Error: 0.0080\n",
            "Epoch 11/1000 - Train Error: 0.0079 - Test Error: 0.0077\n",
            "Epoch 12/1000 - Train Error: 0.0076 - Test Error: 0.0074\n",
            "Epoch 13/1000 - Train Error: 0.0073 - Test Error: 0.0071\n",
            "Epoch 14/1000 - Train Error: 0.0071 - Test Error: 0.0069\n",
            "Epoch 15/1000 - Train Error: 0.0068 - Test Error: 0.0067\n",
            "Epoch 16/1000 - Train Error: 0.0066 - Test Error: 0.0064\n",
            "Epoch 17/1000 - Train Error: 0.0064 - Test Error: 0.0062\n"
          ]
        },
        {
          "output_type": "stream",
          "name": "stderr",
          "text": [
            "Training:   2%|█▏                                                 | 24/1000 [00:00<00:21, 45.96it/s]"
          ]
        },
        {
          "output_type": "stream",
          "name": "stdout",
          "text": [
            "Epoch 18/1000 - Train Error: 0.0062 - Test Error: 0.0061\n",
            "Epoch 19/1000 - Train Error: 0.0061 - Test Error: 0.0059\n",
            "Epoch 20/1000 - Train Error: 0.0059 - Test Error: 0.0058\n",
            "Epoch 21/1000 - Train Error: 0.0058 - Test Error: 0.0056\n",
            "Epoch 22/1000 - Train Error: 0.0057 - Test Error: 0.0055\n",
            "Epoch 23/1000 - Train Error: 0.0055 - Test Error: 0.0054\n",
            "Epoch 24/1000 - Train Error: 0.0054 - Test Error: 0.0053\n",
            "Epoch 25/1000 - Train Error: 0.0053 - Test Error: 0.0051\n",
            "Epoch 26/1000 - Train Error: 0.0052 - Test Error: 0.0051\n",
            "Epoch 27/1000 - Train Error: 0.0051 - Test Error: 0.0050\n"
          ]
        },
        {
          "output_type": "stream",
          "name": "stderr",
          "text": []
        },
        {
          "output_type": "stream",
          "name": "stdout",
          "text": [
            "Epoch 28/1000 - Train Error: 0.0050 - Test Error: 0.0049\n",
            "Epoch 29/1000 - Train Error: 0.0050 - Test Error: 0.0048\n",
            "Epoch 30/1000 - Train Error: 0.0049 - Test Error: 0.0047\n",
            "Epoch 31/1000 - Train Error: 0.0048 - Test Error: 0.0047\n",
            "Epoch 32/1000 - Train Error: 0.0048 - Test Error: 0.0046\n",
            "Epoch 33/1000 - Train Error: 0.0047 - Test Error: 0.0045\n"
          ]
        },
        {
          "output_type": "stream",
          "name": "stderr",
          "text": [
            "Training:   4%|█▉                                                 | 38/1000 [00:01<00:26, 36.56it/s]"
          ]
        },
        {
          "output_type": "stream",
          "name": "stdout",
          "text": [
            "Epoch 34/1000 - Train Error: 0.0046 - Test Error: 0.0045\n",
            "Epoch 35/1000 - Train Error: 0.0046 - Test Error: 0.0044\n",
            "Epoch 36/1000 - Train Error: 0.0045 - Test Error: 0.0044\n",
            "Epoch 37/1000 - Train Error: 0.0045 - Test Error: 0.0043\n",
            "Epoch 38/1000 - Train Error: 0.0045 - Test Error: 0.0043\n",
            "Epoch 39/1000 - Train Error: 0.0044 - Test Error: 0.0043\n",
            "Epoch 40/1000 - Train Error: 0.0044 - Test Error: 0.0042\n",
            "Epoch 41/1000 - Train Error: 0.0043 - Test Error: 0.0042\n"
          ]
        },
        {
          "output_type": "stream",
          "name": "stderr",
          "text": [
            "Training:   5%|██▌                                                | 50/1000 [00:01<00:22, 41.81it/s]"
          ]
        },
        {
          "output_type": "stream",
          "name": "stdout",
          "text": [
            "Epoch 42/1000 - Train Error: 0.0043 - Test Error: 0.0041\n",
            "Epoch 43/1000 - Train Error: 0.0043 - Test Error: 0.0041\n",
            "Epoch 44/1000 - Train Error: 0.0042 - Test Error: 0.0041\n",
            "Epoch 45/1000 - Train Error: 0.0042 - Test Error: 0.0040\n",
            "Epoch 46/1000 - Train Error: 0.0042 - Test Error: 0.0040\n",
            "Epoch 47/1000 - Train Error: 0.0041 - Test Error: 0.0040\n",
            "Epoch 48/1000 - Train Error: 0.0041 - Test Error: 0.0040\n",
            "Epoch 49/1000 - Train Error: 0.0041 - Test Error: 0.0039\n",
            "Epoch 50/1000 - Train Error: 0.0041 - Test Error: 0.0039\n",
            "Epoch 51/1000 - Train Error: 0.0040 - Test Error: 0.0039\n"
          ]
        },
        {
          "output_type": "stream",
          "name": "stderr",
          "text": [
            "Training:   6%|██▊                                                | 55/1000 [00:01<00:25, 36.82it/s]"
          ]
        },
        {
          "output_type": "stream",
          "name": "stdout",
          "text": [
            "Epoch 52/1000 - Train Error: 0.0040 - Test Error: 0.0039\n",
            "Epoch 53/1000 - Train Error: 0.0040 - Test Error: 0.0038\n",
            "Epoch 54/1000 - Train Error: 0.0040 - Test Error: 0.0038\n",
            "Epoch 55/1000 - Train Error: 0.0040 - Test Error: 0.0038\n",
            "Epoch 56/1000 - Train Error: 0.0039 - Test Error: 0.0038\n",
            "Epoch 57/1000 - Train Error: 0.0039 - Test Error: 0.0038\n",
            "Epoch 58/1000 - Train Error: 0.0039 - Test Error: 0.0037\n",
            "Epoch 59/1000 - Train Error: 0.0039 - Test Error: 0.0037\n",
            "Epoch 60/1000 - Train Error: 0.0039 - Test Error: 0.0037\n",
            "Epoch 61/1000 - Train Error: 0.0038 - Test Error: 0.0037\n"
          ]
        },
        {
          "output_type": "stream",
          "name": "stderr",
          "text": []
        },
        {
          "output_type": "stream",
          "name": "stdout",
          "text": [
            "Epoch 62/1000 - Train Error: 0.0038 - Test Error: 0.0037\n",
            "Epoch 63/1000 - Train Error: 0.0038 - Test Error: 0.0037\n",
            "Epoch 64/1000 - Train Error: 0.0038 - Test Error: 0.0036\n",
            "Epoch 65/1000 - Train Error: 0.0038 - Test Error: 0.0036\n",
            "Epoch 66/1000 - Train Error: 0.0038 - Test Error: 0.0036\n",
            "Epoch 67/1000 - Train Error: 0.0037 - Test Error: 0.0036\n",
            "Epoch 68/1000 - Train Error: 0.0037 - Test Error: 0.0036\n",
            "Epoch 69/1000 - Train Error: 0.0037 - Test Error: 0.0036\n",
            "Epoch 70/1000 - Train Error: 0.0037 - Test Error: 0.0036\n",
            "Epoch 71/1000 - Train Error: 0.0037 - Test Error: 0.0035\n",
            "Epoch 72/1000 - Train Error: 0.0037 - Test Error: 0.0035\n",
            "Epoch 73/1000 - Train Error: 0.0037 - Test Error: 0.0035\n"
          ]
        },
        {
          "output_type": "stream",
          "name": "stderr",
          "text": [
            "Training:   8%|████▏                                              | 82/1000 [00:01<00:16, 56.68it/s]"
          ]
        },
        {
          "output_type": "stream",
          "name": "stdout",
          "text": [
            "Epoch 74/1000 - Train Error: 0.0036 - Test Error: 0.0035\n",
            "Epoch 75/1000 - Train Error: 0.0036 - Test Error: 0.0035\n",
            "Epoch 76/1000 - Train Error: 0.0036 - Test Error: 0.0035\n",
            "Epoch 77/1000 - Train Error: 0.0036 - Test Error: 0.0035\n",
            "Epoch 78/1000 - Train Error: 0.0036 - Test Error: 0.0035\n",
            "Epoch 79/1000 - Train Error: 0.0036 - Test Error: 0.0034\n",
            "Epoch 80/1000 - Train Error: 0.0036 - Test Error: 0.0034\n",
            "Epoch 81/1000 - Train Error: 0.0036 - Test Error: 0.0034\n",
            "Epoch 82/1000 - Train Error: 0.0036 - Test Error: 0.0034\n",
            "Epoch 83/1000 - Train Error: 0.0035 - Test Error: 0.0034\n",
            "Epoch 84/1000 - Train Error: 0.0035 - Test Error: 0.0034\n",
            "Epoch 85/1000 - Train Error: 0.0035 - Test Error: 0.0034\n",
            "Epoch 86/1000 - Train Error: 0.0035 - Test Error: 0.0034\n",
            "Epoch 87/1000 - Train Error: 0.0035 - Test Error: 0.0034\n",
            "Epoch 88/1000 - Train Error: 0.0035 - Test Error: 0.0034\n"
          ]
        },
        {
          "output_type": "stream",
          "name": "stderr",
          "text": [
            "Training:  10%|████▉                                              | 98/1000 [00:02<00:13, 66.59it/s]"
          ]
        },
        {
          "output_type": "stream",
          "name": "stdout",
          "text": [
            "Epoch 89/1000 - Train Error: 0.0035 - Test Error: 0.0033\n",
            "Epoch 90/1000 - Train Error: 0.0035 - Test Error: 0.0033\n",
            "Epoch 91/1000 - Train Error: 0.0035 - Test Error: 0.0033\n",
            "Epoch 92/1000 - Train Error: 0.0034 - Test Error: 0.0033\n",
            "Epoch 93/1000 - Train Error: 0.0034 - Test Error: 0.0033\n",
            "Epoch 94/1000 - Train Error: 0.0034 - Test Error: 0.0033\n",
            "Epoch 95/1000 - Train Error: 0.0034 - Test Error: 0.0033\n",
            "Epoch 96/1000 - Train Error: 0.0034 - Test Error: 0.0033\n",
            "Epoch 97/1000 - Train Error: 0.0034 - Test Error: 0.0033\n",
            "Epoch 98/1000 - Train Error: 0.0034 - Test Error: 0.0033\n",
            "Epoch 99/1000 - Train Error: 0.0034 - Test Error: 0.0032\n",
            "Epoch 100/1000 - Train Error: 0.0034 - Test Error: 0.0032\n",
            "Epoch 101/1000 - Train Error: 0.0034 - Test Error: 0.0032\n",
            "Epoch 102/1000 - Train Error: 0.0033 - Test Error: 0.0032\n",
            "Epoch 103/1000 - Train Error: 0.0033 - Test Error: 0.0032\n",
            "Epoch 104/1000 - Train Error: 0.0033 - Test Error: 0.0032\n"
          ]
        },
        {
          "output_type": "stream",
          "name": "stderr",
          "text": [
            "Training:  11%|█████▋                                            | 114/1000 [00:02<00:13, 64.69it/s]"
          ]
        },
        {
          "output_type": "stream",
          "name": "stdout",
          "text": [
            "Epoch 105/1000 - Train Error: 0.0033 - Test Error: 0.0032\n",
            "Epoch 106/1000 - Train Error: 0.0033 - Test Error: 0.0032\n",
            "Epoch 107/1000 - Train Error: 0.0033 - Test Error: 0.0032\n",
            "Epoch 108/1000 - Train Error: 0.0033 - Test Error: 0.0032\n",
            "Epoch 109/1000 - Train Error: 0.0033 - Test Error: 0.0032\n",
            "Epoch 110/1000 - Train Error: 0.0033 - Test Error: 0.0032\n",
            "Epoch 111/1000 - Train Error: 0.0033 - Test Error: 0.0031\n",
            "Epoch 112/1000 - Train Error: 0.0033 - Test Error: 0.0031\n",
            "Epoch 113/1000 - Train Error: 0.0033 - Test Error: 0.0031\n",
            "Epoch 114/1000 - Train Error: 0.0032 - Test Error: 0.0031\n",
            "Epoch 115/1000 - Train Error: 0.0032 - Test Error: 0.0031\n",
            "Epoch 116/1000 - Train Error: 0.0032 - Test Error: 0.0031\n"
          ]
        },
        {
          "output_type": "stream",
          "name": "stderr",
          "text": [
            "Training:  13%|██████▍                                           | 128/1000 [00:02<00:14, 61.77it/s]"
          ]
        },
        {
          "output_type": "stream",
          "name": "stdout",
          "text": [
            "Epoch 117/1000 - Train Error: 0.0032 - Test Error: 0.0031\n",
            "Epoch 118/1000 - Train Error: 0.0032 - Test Error: 0.0031\n",
            "Epoch 119/1000 - Train Error: 0.0032 - Test Error: 0.0031\n",
            "Epoch 120/1000 - Train Error: 0.0032 - Test Error: 0.0031\n",
            "Epoch 121/1000 - Train Error: 0.0032 - Test Error: 0.0031\n",
            "Epoch 122/1000 - Train Error: 0.0032 - Test Error: 0.0031\n",
            "Epoch 123/1000 - Train Error: 0.0032 - Test Error: 0.0031\n",
            "Epoch 124/1000 - Train Error: 0.0032 - Test Error: 0.0030\n",
            "Epoch 125/1000 - Train Error: 0.0032 - Test Error: 0.0030\n",
            "Epoch 126/1000 - Train Error: 0.0032 - Test Error: 0.0030\n",
            "Epoch 127/1000 - Train Error: 0.0031 - Test Error: 0.0030\n",
            "Epoch 128/1000 - Train Error: 0.0031 - Test Error: 0.0030\n",
            "Epoch 129/1000 - Train Error: 0.0031 - Test Error: 0.0030\n"
          ]
        },
        {
          "output_type": "stream",
          "name": "stderr",
          "text": [
            "Training:  14%|███████▏                                          | 143/1000 [00:02<00:12, 67.61it/s]"
          ]
        },
        {
          "output_type": "stream",
          "name": "stdout",
          "text": [
            "Epoch 130/1000 - Train Error: 0.0031 - Test Error: 0.0030\n",
            "Epoch 131/1000 - Train Error: 0.0031 - Test Error: 0.0030\n",
            "Epoch 132/1000 - Train Error: 0.0031 - Test Error: 0.0030\n",
            "Epoch 133/1000 - Train Error: 0.0031 - Test Error: 0.0030\n",
            "Epoch 134/1000 - Train Error: 0.0031 - Test Error: 0.0030\n",
            "Epoch 135/1000 - Train Error: 0.0031 - Test Error: 0.0030\n",
            "Epoch 136/1000 - Train Error: 0.0031 - Test Error: 0.0030\n",
            "Epoch 137/1000 - Train Error: 0.0031 - Test Error: 0.0030\n",
            "Epoch 138/1000 - Train Error: 0.0031 - Test Error: 0.0030\n",
            "Epoch 139/1000 - Train Error: 0.0031 - Test Error: 0.0030\n",
            "Epoch 140/1000 - Train Error: 0.0031 - Test Error: 0.0029\n",
            "Epoch 141/1000 - Train Error: 0.0031 - Test Error: 0.0029\n",
            "Epoch 142/1000 - Train Error: 0.0030 - Test Error: 0.0029\n",
            "Epoch 143/1000 - Train Error: 0.0030 - Test Error: 0.0029\n",
            "Epoch 144/1000 - Train Error: 0.0030 - Test Error: 0.0029\n"
          ]
        },
        {
          "output_type": "stream",
          "name": "stderr",
          "text": []
        },
        {
          "output_type": "stream",
          "name": "stdout",
          "text": [
            "Epoch 145/1000 - Train Error: 0.0030 - Test Error: 0.0029\n",
            "Epoch 146/1000 - Train Error: 0.0030 - Test Error: 0.0029\n",
            "Epoch 147/1000 - Train Error: 0.0030 - Test Error: 0.0029\n",
            "Epoch 148/1000 - Train Error: 0.0030 - Test Error: 0.0029\n",
            "Epoch 149/1000 - Train Error: 0.0030 - Test Error: 0.0029\n",
            "Epoch 150/1000 - Train Error: 0.0030 - Test Error: 0.0029\n",
            "Epoch 151/1000 - Train Error: 0.0030 - Test Error: 0.0029\n",
            "Epoch 152/1000 - Train Error: 0.0030 - Test Error: 0.0029\n",
            "Epoch 153/1000 - Train Error: 0.0030 - Test Error: 0.0029\n",
            "Epoch 154/1000 - Train Error: 0.0030 - Test Error: 0.0029\n",
            "Epoch 155/1000 - Train Error: 0.0030 - Test Error: 0.0029\n",
            "Epoch 156/1000 - Train Error: 0.0030 - Test Error: 0.0029\n",
            "Epoch 157/1000 - Train Error: 0.0030 - Test Error: 0.0028\n",
            "Epoch 158/1000 - Train Error: 0.0029 - Test Error: 0.0028\n"
          ]
        },
        {
          "output_type": "stream",
          "name": "stderr",
          "text": [
            "Training:  17%|████████▋                                         | 173/1000 [00:03<00:11, 69.88it/s]"
          ]
        },
        {
          "output_type": "stream",
          "name": "stdout",
          "text": [
            "Epoch 159/1000 - Train Error: 0.0029 - Test Error: 0.0028\n",
            "Epoch 160/1000 - Train Error: 0.0029 - Test Error: 0.0028\n",
            "Epoch 161/1000 - Train Error: 0.0029 - Test Error: 0.0028\n",
            "Epoch 162/1000 - Train Error: 0.0029 - Test Error: 0.0028\n",
            "Epoch 163/1000 - Train Error: 0.0029 - Test Error: 0.0028\n",
            "Epoch 164/1000 - Train Error: 0.0029 - Test Error: 0.0028\n",
            "Epoch 165/1000 - Train Error: 0.0029 - Test Error: 0.0028\n",
            "Epoch 166/1000 - Train Error: 0.0029 - Test Error: 0.0028\n",
            "Epoch 167/1000 - Train Error: 0.0029 - Test Error: 0.0028\n",
            "Epoch 168/1000 - Train Error: 0.0029 - Test Error: 0.0028\n",
            "Epoch 169/1000 - Train Error: 0.0029 - Test Error: 0.0028\n",
            "Epoch 170/1000 - Train Error: 0.0029 - Test Error: 0.0028\n",
            "Epoch 171/1000 - Train Error: 0.0029 - Test Error: 0.0028\n",
            "Epoch 172/1000 - Train Error: 0.0029 - Test Error: 0.0028\n",
            "Epoch 173/1000 - Train Error: 0.0029 - Test Error: 0.0028\n"
          ]
        },
        {
          "output_type": "stream",
          "name": "stderr",
          "text": [
            "Training:  18%|█████████                                         | 181/1000 [00:03<00:11, 70.77it/s]"
          ]
        },
        {
          "output_type": "stream",
          "name": "stdout",
          "text": [
            "Epoch 174/1000 - Train Error: 0.0029 - Test Error: 0.0028\n",
            "Epoch 175/1000 - Train Error: 0.0029 - Test Error: 0.0028\n",
            "Epoch 176/1000 - Train Error: 0.0029 - Test Error: 0.0028\n",
            "Epoch 177/1000 - Train Error: 0.0028 - Test Error: 0.0027\n",
            "Epoch 178/1000 - Train Error: 0.0028 - Test Error: 0.0027\n",
            "Epoch 179/1000 - Train Error: 0.0028 - Test Error: 0.0027\n",
            "Epoch 180/1000 - Train Error: 0.0028 - Test Error: 0.0027\n",
            "Epoch 181/1000 - Train Error: 0.0028 - Test Error: 0.0027\n",
            "Epoch 182/1000 - Train Error: 0.0028 - Test Error: 0.0027\n",
            "Epoch 183/1000 - Train Error: 0.0028 - Test Error: 0.0027\n",
            "Epoch 184/1000 - Train Error: 0.0028 - Test Error: 0.0027\n",
            "Epoch 185/1000 - Train Error: 0.0028 - Test Error: 0.0027\n",
            "Epoch 186/1000 - Train Error: 0.0028 - Test Error: 0.0027\n"
          ]
        },
        {
          "output_type": "stream",
          "name": "stderr",
          "text": []
        },
        {
          "output_type": "stream",
          "name": "stdout",
          "text": [
            "Epoch 187/1000 - Train Error: 0.0028 - Test Error: 0.0027\n",
            "Epoch 188/1000 - Train Error: 0.0028 - Test Error: 0.0027\n",
            "Epoch 189/1000 - Train Error: 0.0028 - Test Error: 0.0027\n",
            "Epoch 190/1000 - Train Error: 0.0028 - Test Error: 0.0027\n",
            "Epoch 191/1000 - Train Error: 0.0028 - Test Error: 0.0027\n",
            "Epoch 192/1000 - Train Error: 0.0028 - Test Error: 0.0027\n",
            "Epoch 193/1000 - Train Error: 0.0028 - Test Error: 0.0027\n",
            "Epoch 194/1000 - Train Error: 0.0028 - Test Error: 0.0027\n",
            "Epoch 195/1000 - Train Error: 0.0028 - Test Error: 0.0027\n",
            "Epoch 196/1000 - Train Error: 0.0028 - Test Error: 0.0027\n",
            "Epoch 197/1000 - Train Error: 0.0028 - Test Error: 0.0027\n",
            "Epoch 198/1000 - Train Error: 0.0028 - Test Error: 0.0027\n",
            "Epoch 199/1000 - Train Error: 0.0027 - Test Error: 0.0026\n",
            "Epoch 200/1000 - Train Error: 0.0027 - Test Error: 0.0026\n",
            "Epoch 201/1000 - Train Error: 0.0027 - Test Error: 0.0026\n"
          ]
        },
        {
          "output_type": "stream",
          "name": "stderr",
          "text": [
            "                                                                                                    "
          ]
        },
        {
          "output_type": "stream",
          "name": "stdout",
          "text": [
            "Epoch 202/1000 - Train Error: 0.0027 - Test Error: 0.0026\n",
            "Epoch 203/1000 - Train Error: 0.0027 - Test Error: 0.0026\n",
            "Epoch 204/1000 - Train Error: 0.0027 - Test Error: 0.0026\n",
            "Epoch 205/1000 - Train Error: 0.0027 - Test Error: 0.0026\n",
            "Epoch 206/1000 - Train Error: 0.0027 - Test Error: 0.0026\n",
            "Epoch 207/1000 - Train Error: 0.0027 - Test Error: 0.0026\n",
            "Epoch 208/1000 - Train Error: 0.0027 - Test Error: 0.0026\n",
            "Epoch 209/1000 - Train Error: 0.0027 - Test Error: 0.0026\n",
            "Epoch 210/1000 - Train Error: 0.0027 - Test Error: 0.0026\n",
            "Epoch 211/1000 - Train Error: 0.0027 - Test Error: 0.0026\n",
            "Epoch 212/1000 - Train Error: 0.0027 - Test Error: 0.0026\n",
            "Epoch 213/1000 - Train Error: 0.0027 - Test Error: 0.0026\n",
            "Epoch 214/1000 - Train Error: 0.0027 - Test Error: 0.0026\n",
            "Epoch 215/1000 - Train Error: 0.0027 - Test Error: 0.0026\n"
          ]
        },
        {
          "output_type": "stream",
          "name": "stderr",
          "text": [
            "Training:  23%|███████████▎                                      | 227/1000 [00:03<00:11, 69.06it/s]"
          ]
        },
        {
          "output_type": "stream",
          "name": "stdout",
          "text": [
            "Epoch 216/1000 - Train Error: 0.0027 - Test Error: 0.0026\n",
            "Epoch 217/1000 - Train Error: 0.0027 - Test Error: 0.0026\n",
            "Epoch 218/1000 - Train Error: 0.0027 - Test Error: 0.0026\n",
            "Epoch 219/1000 - Train Error: 0.0027 - Test Error: 0.0026\n",
            "Epoch 220/1000 - Train Error: 0.0027 - Test Error: 0.0026\n",
            "Epoch 221/1000 - Train Error: 0.0027 - Test Error: 0.0026\n",
            "Epoch 222/1000 - Train Error: 0.0027 - Test Error: 0.0026\n",
            "Epoch 223/1000 - Train Error: 0.0027 - Test Error: 0.0026\n",
            "Epoch 224/1000 - Train Error: 0.0026 - Test Error: 0.0026\n",
            "Epoch 225/1000 - Train Error: 0.0026 - Test Error: 0.0026\n",
            "Epoch 226/1000 - Train Error: 0.0026 - Test Error: 0.0025\n",
            "Epoch 227/1000 - Train Error: 0.0026 - Test Error: 0.0025\n",
            "Epoch 228/1000 - Train Error: 0.0026 - Test Error: 0.0025\n",
            "Epoch 229/1000 - Train Error: 0.0026 - Test Error: 0.0025\n"
          ]
        },
        {
          "output_type": "stream",
          "name": "stderr",
          "text": [
            "Training:  24%|████████████                                      | 241/1000 [00:04<00:11, 68.09it/s]"
          ]
        },
        {
          "output_type": "stream",
          "name": "stdout",
          "text": [
            "Epoch 230/1000 - Train Error: 0.0026 - Test Error: 0.0025\n",
            "Epoch 231/1000 - Train Error: 0.0026 - Test Error: 0.0025\n",
            "Epoch 232/1000 - Train Error: 0.0026 - Test Error: 0.0025\n",
            "Epoch 233/1000 - Train Error: 0.0026 - Test Error: 0.0025\n",
            "Epoch 234/1000 - Train Error: 0.0026 - Test Error: 0.0025\n",
            "Epoch 235/1000 - Train Error: 0.0026 - Test Error: 0.0025\n",
            "Epoch 236/1000 - Train Error: 0.0026 - Test Error: 0.0025\n",
            "Epoch 237/1000 - Train Error: 0.0026 - Test Error: 0.0025\n",
            "Epoch 238/1000 - Train Error: 0.0026 - Test Error: 0.0025\n",
            "Epoch 239/1000 - Train Error: 0.0026 - Test Error: 0.0025\n",
            "Epoch 240/1000 - Train Error: 0.0026 - Test Error: 0.0025\n",
            "Epoch 241/1000 - Train Error: 0.0026 - Test Error: 0.0025\n",
            "Epoch 242/1000 - Train Error: 0.0026 - Test Error: 0.0025\n",
            "Epoch 243/1000 - Train Error: 0.0026 - Test Error: 0.0025\n",
            "Epoch 244/1000 - Train Error: 0.0026 - Test Error: 0.0025\n"
          ]
        },
        {
          "output_type": "stream",
          "name": "stderr",
          "text": [
            "Training:  26%|████████████▊                                     | 257/1000 [00:04<00:10, 69.85it/s]"
          ]
        },
        {
          "output_type": "stream",
          "name": "stdout",
          "text": [
            "Epoch 245/1000 - Train Error: 0.0026 - Test Error: 0.0025\n",
            "Epoch 246/1000 - Train Error: 0.0026 - Test Error: 0.0025\n",
            "Epoch 247/1000 - Train Error: 0.0026 - Test Error: 0.0025\n",
            "Epoch 248/1000 - Train Error: 0.0026 - Test Error: 0.0025\n",
            "Epoch 249/1000 - Train Error: 0.0026 - Test Error: 0.0025\n",
            "Epoch 250/1000 - Train Error: 0.0026 - Test Error: 0.0025\n",
            "Epoch 251/1000 - Train Error: 0.0026 - Test Error: 0.0025\n",
            "Epoch 252/1000 - Train Error: 0.0025 - Test Error: 0.0025\n",
            "Epoch 253/1000 - Train Error: 0.0025 - Test Error: 0.0025\n",
            "Epoch 254/1000 - Train Error: 0.0025 - Test Error: 0.0025\n",
            "Epoch 255/1000 - Train Error: 0.0025 - Test Error: 0.0025\n",
            "Epoch 256/1000 - Train Error: 0.0025 - Test Error: 0.0024\n",
            "Epoch 257/1000 - Train Error: 0.0025 - Test Error: 0.0024\n",
            "Epoch 258/1000 - Train Error: 0.0025 - Test Error: 0.0024\n"
          ]
        },
        {
          "output_type": "stream",
          "name": "stderr",
          "text": [
            "Training:  27%|█████████████▌                                    | 271/1000 [00:04<00:10, 68.13it/s]"
          ]
        },
        {
          "output_type": "stream",
          "name": "stdout",
          "text": [
            "Epoch 259/1000 - Train Error: 0.0025 - Test Error: 0.0024\n",
            "Epoch 260/1000 - Train Error: 0.0025 - Test Error: 0.0024\n",
            "Epoch 261/1000 - Train Error: 0.0025 - Test Error: 0.0024\n",
            "Epoch 262/1000 - Train Error: 0.0025 - Test Error: 0.0024\n",
            "Epoch 263/1000 - Train Error: 0.0025 - Test Error: 0.0024\n",
            "Epoch 264/1000 - Train Error: 0.0025 - Test Error: 0.0024\n",
            "Epoch 265/1000 - Train Error: 0.0025 - Test Error: 0.0024\n",
            "Epoch 266/1000 - Train Error: 0.0025 - Test Error: 0.0024\n",
            "Epoch 267/1000 - Train Error: 0.0025 - Test Error: 0.0024\n",
            "Epoch 268/1000 - Train Error: 0.0025 - Test Error: 0.0024\n",
            "Epoch 269/1000 - Train Error: 0.0025 - Test Error: 0.0024\n",
            "Epoch 270/1000 - Train Error: 0.0025 - Test Error: 0.0024\n",
            "Epoch 271/1000 - Train Error: 0.0025 - Test Error: 0.0024\n",
            "Epoch 272/1000 - Train Error: 0.0025 - Test Error: 0.0024\n"
          ]
        },
        {
          "output_type": "stream",
          "name": "stderr",
          "text": [
            "Training:  28%|█████████████▉                                    | 278/1000 [00:04<00:11, 65.34it/s]"
          ]
        },
        {
          "output_type": "stream",
          "name": "stdout",
          "text": [
            "Epoch 273/1000 - Train Error: 0.0025 - Test Error: 0.0024\n",
            "Epoch 274/1000 - Train Error: 0.0025 - Test Error: 0.0024\n",
            "Epoch 275/1000 - Train Error: 0.0025 - Test Error: 0.0024\n",
            "Epoch 276/1000 - Train Error: 0.0025 - Test Error: 0.0024\n",
            "Epoch 277/1000 - Train Error: 0.0025 - Test Error: 0.0024\n",
            "Epoch 278/1000 - Train Error: 0.0025 - Test Error: 0.0024\n",
            "Epoch 279/1000 - Train Error: 0.0025 - Test Error: 0.0024\n",
            "Epoch 280/1000 - Train Error: 0.0025 - Test Error: 0.0024\n",
            "Epoch 281/1000 - Train Error: 0.0025 - Test Error: 0.0024\n",
            "Epoch 282/1000 - Train Error: 0.0025 - Test Error: 0.0024\n",
            "Epoch 283/1000 - Train Error: 0.0025 - Test Error: 0.0024\n",
            "Epoch 284/1000 - Train Error: 0.0025 - Test Error: 0.0024\n",
            "Epoch 285/1000 - Train Error: 0.0024 - Test Error: 0.0024\n",
            "Epoch 286/1000 - Train Error: 0.0024 - Test Error: 0.0024\n"
          ]
        },
        {
          "output_type": "stream",
          "name": "stderr",
          "text": [
            "Training:  29%|██████████████▋                                   | 293/1000 [00:05<00:10, 66.85it/s]"
          ]
        },
        {
          "output_type": "stream",
          "name": "stdout",
          "text": [
            "Epoch 287/1000 - Train Error: 0.0024 - Test Error: 0.0024\n",
            "Epoch 288/1000 - Train Error: 0.0024 - Test Error: 0.0024\n",
            "Epoch 289/1000 - Train Error: 0.0024 - Test Error: 0.0024\n",
            "Epoch 290/1000 - Train Error: 0.0024 - Test Error: 0.0024\n",
            "Epoch 291/1000 - Train Error: 0.0024 - Test Error: 0.0023\n",
            "Epoch 292/1000 - Train Error: 0.0024 - Test Error: 0.0023\n",
            "Epoch 293/1000 - Train Error: 0.0024 - Test Error: 0.0023\n",
            "Epoch 294/1000 - Train Error: 0.0024 - Test Error: 0.0023\n",
            "Epoch 295/1000 - Train Error: 0.0024 - Test Error: 0.0023\n",
            "Epoch 296/1000 - Train Error: 0.0024 - Test Error: 0.0023\n",
            "Epoch 297/1000 - Train Error: 0.0024 - Test Error: 0.0023\n",
            "Epoch 298/1000 - Train Error: 0.0024 - Test Error: 0.0023\n",
            "Epoch 299/1000 - Train Error: 0.0024 - Test Error: 0.0023\n",
            "Epoch 300/1000 - Train Error: 0.0024 - Test Error: 0.0023\n"
          ]
        },
        {
          "output_type": "stream",
          "name": "stderr",
          "text": [
            "Training:  31%|███████████████▎                                  | 307/1000 [00:05<00:11, 61.45it/s]"
          ]
        },
        {
          "output_type": "stream",
          "name": "stdout",
          "text": [
            "Epoch 301/1000 - Train Error: 0.0024 - Test Error: 0.0023\n",
            "Epoch 302/1000 - Train Error: 0.0024 - Test Error: 0.0023\n",
            "Epoch 303/1000 - Train Error: 0.0024 - Test Error: 0.0023\n",
            "Epoch 304/1000 - Train Error: 0.0024 - Test Error: 0.0023\n",
            "Epoch 305/1000 - Train Error: 0.0024 - Test Error: 0.0023\n",
            "Epoch 306/1000 - Train Error: 0.0024 - Test Error: 0.0023\n",
            "Epoch 307/1000 - Train Error: 0.0024 - Test Error: 0.0023\n",
            "Epoch 308/1000 - Train Error: 0.0024 - Test Error: 0.0023\n",
            "Epoch 309/1000 - Train Error: 0.0024 - Test Error: 0.0023\n",
            "Epoch 310/1000 - Train Error: 0.0024 - Test Error: 0.0023\n",
            "Epoch 311/1000 - Train Error: 0.0024 - Test Error: 0.0023\n",
            "Epoch 312/1000 - Train Error: 0.0024 - Test Error: 0.0023\n",
            "Epoch 313/1000 - Train Error: 0.0024 - Test Error: 0.0023\n"
          ]
        },
        {
          "output_type": "stream",
          "name": "stderr",
          "text": [
            "Training:  32%|████████████████▏                                 | 323/1000 [00:05<00:10, 63.94it/s]"
          ]
        },
        {
          "output_type": "stream",
          "name": "stdout",
          "text": [
            "Epoch 314/1000 - Train Error: 0.0024 - Test Error: 0.0023\n",
            "Epoch 315/1000 - Train Error: 0.0024 - Test Error: 0.0023\n",
            "Epoch 316/1000 - Train Error: 0.0024 - Test Error: 0.0023\n",
            "Epoch 317/1000 - Train Error: 0.0024 - Test Error: 0.0023\n",
            "Epoch 318/1000 - Train Error: 0.0024 - Test Error: 0.0023\n",
            "Epoch 319/1000 - Train Error: 0.0024 - Test Error: 0.0023\n",
            "Epoch 320/1000 - Train Error: 0.0024 - Test Error: 0.0023\n",
            "Epoch 321/1000 - Train Error: 0.0024 - Test Error: 0.0023\n",
            "Epoch 322/1000 - Train Error: 0.0024 - Test Error: 0.0023\n",
            "Epoch 323/1000 - Train Error: 0.0023 - Test Error: 0.0023\n",
            "Epoch 324/1000 - Train Error: 0.0023 - Test Error: 0.0023\n",
            "Epoch 325/1000 - Train Error: 0.0023 - Test Error: 0.0023\n",
            "Epoch 326/1000 - Train Error: 0.0023 - Test Error: 0.0023\n"
          ]
        },
        {
          "output_type": "stream",
          "name": "stderr",
          "text": [
            "Training:  34%|████████████████▊                                 | 337/1000 [00:05<00:11, 60.24it/s]"
          ]
        },
        {
          "output_type": "stream",
          "name": "stdout",
          "text": [
            "Epoch 327/1000 - Train Error: 0.0023 - Test Error: 0.0023\n",
            "Epoch 328/1000 - Train Error: 0.0023 - Test Error: 0.0023\n",
            "Epoch 329/1000 - Train Error: 0.0023 - Test Error: 0.0023\n",
            "Epoch 330/1000 - Train Error: 0.0023 - Test Error: 0.0023\n",
            "Epoch 331/1000 - Train Error: 0.0023 - Test Error: 0.0023\n",
            "Epoch 332/1000 - Train Error: 0.0023 - Test Error: 0.0022\n",
            "Epoch 333/1000 - Train Error: 0.0023 - Test Error: 0.0022\n",
            "Epoch 334/1000 - Train Error: 0.0023 - Test Error: 0.0022\n",
            "Epoch 335/1000 - Train Error: 0.0023 - Test Error: 0.0022\n",
            "Epoch 336/1000 - Train Error: 0.0023 - Test Error: 0.0022\n",
            "Epoch 337/1000 - Train Error: 0.0023 - Test Error: 0.0022\n"
          ]
        },
        {
          "output_type": "stream",
          "name": "stderr",
          "text": [
            "Training:  34%|█████████████████▏                                | 344/1000 [00:05<00:11, 58.54it/s]"
          ]
        },
        {
          "output_type": "stream",
          "name": "stdout",
          "text": [
            "Epoch 338/1000 - Train Error: 0.0023 - Test Error: 0.0022\n",
            "Epoch 339/1000 - Train Error: 0.0023 - Test Error: 0.0022\n",
            "Epoch 340/1000 - Train Error: 0.0023 - Test Error: 0.0022\n",
            "Epoch 341/1000 - Train Error: 0.0023 - Test Error: 0.0022\n",
            "Epoch 342/1000 - Train Error: 0.0023 - Test Error: 0.0022\n",
            "Epoch 343/1000 - Train Error: 0.0023 - Test Error: 0.0022\n",
            "Epoch 344/1000 - Train Error: 0.0023 - Test Error: 0.0022\n",
            "Epoch 345/1000 - Train Error: 0.0023 - Test Error: 0.0022\n",
            "Epoch 346/1000 - Train Error: 0.0023 - Test Error: 0.0022\n",
            "Epoch 347/1000 - Train Error: 0.0023 - Test Error: 0.0022\n",
            "Epoch 348/1000 - Train Error: 0.0023 - Test Error: 0.0022\n",
            "Epoch 349/1000 - Train Error: 0.0023 - Test Error: 0.0022\n"
          ]
        },
        {
          "output_type": "stream",
          "name": "stderr",
          "text": []
        },
        {
          "output_type": "stream",
          "name": "stdout",
          "text": [
            "Epoch 350/1000 - Train Error: 0.0023 - Test Error: 0.0022\n",
            "Epoch 351/1000 - Train Error: 0.0023 - Test Error: 0.0022\n",
            "Epoch 352/1000 - Train Error: 0.0023 - Test Error: 0.0022\n",
            "Epoch 353/1000 - Train Error: 0.0023 - Test Error: 0.0022\n",
            "Epoch 354/1000 - Train Error: 0.0023 - Test Error: 0.0022\n",
            "Epoch 355/1000 - Train Error: 0.0023 - Test Error: 0.0022\n",
            "Epoch 356/1000 - Train Error: 0.0023 - Test Error: 0.0022\n",
            "Epoch 357/1000 - Train Error: 0.0023 - Test Error: 0.0022\n",
            "Epoch 358/1000 - Train Error: 0.0023 - Test Error: 0.0022\n",
            "Epoch 359/1000 - Train Error: 0.0023 - Test Error: 0.0022\n",
            "Epoch 360/1000 - Train Error: 0.0023 - Test Error: 0.0022\n",
            "Epoch 361/1000 - Train Error: 0.0023 - Test Error: 0.0022\n",
            "Epoch 362/1000 - Train Error: 0.0023 - Test Error: 0.0022\n",
            "Epoch 363/1000 - Train Error: 0.0023 - Test Error: 0.0022\n",
            "Epoch 364/1000 - Train Error: 0.0023 - Test Error: 0.0022\n"
          ]
        },
        {
          "output_type": "stream",
          "name": "stderr",
          "text": [
            "Training:  37%|██████████████████▌                               | 372/1000 [00:06<00:10, 60.07it/s]"
          ]
        },
        {
          "output_type": "stream",
          "name": "stdout",
          "text": [
            "Epoch 365/1000 - Train Error: 0.0023 - Test Error: 0.0022\n",
            "Epoch 366/1000 - Train Error: 0.0023 - Test Error: 0.0022\n",
            "Epoch 367/1000 - Train Error: 0.0022 - Test Error: 0.0022\n",
            "Epoch 368/1000 - Train Error: 0.0022 - Test Error: 0.0022\n",
            "Epoch 369/1000 - Train Error: 0.0022 - Test Error: 0.0022\n",
            "Epoch 370/1000 - Train Error: 0.0022 - Test Error: 0.0022\n",
            "Epoch 371/1000 - Train Error: 0.0022 - Test Error: 0.0022\n",
            "Epoch 372/1000 - Train Error: 0.0022 - Test Error: 0.0022\n",
            "Epoch 373/1000 - Train Error: 0.0022 - Test Error: 0.0022\n",
            "Epoch 374/1000 - Train Error: 0.0022 - Test Error: 0.0022\n",
            "Epoch 375/1000 - Train Error: 0.0022 - Test Error: 0.0022\n",
            "Epoch 376/1000 - Train Error: 0.0022 - Test Error: 0.0022\n"
          ]
        },
        {
          "output_type": "stream",
          "name": "stderr",
          "text": [
            "Training:  39%|███████████████████▎                              | 386/1000 [00:06<00:09, 62.56it/s]"
          ]
        },
        {
          "output_type": "stream",
          "name": "stdout",
          "text": [
            "Epoch 377/1000 - Train Error: 0.0022 - Test Error: 0.0022\n",
            "Epoch 378/1000 - Train Error: 0.0022 - Test Error: 0.0022\n",
            "Epoch 379/1000 - Train Error: 0.0022 - Test Error: 0.0022\n",
            "Epoch 380/1000 - Train Error: 0.0022 - Test Error: 0.0021\n",
            "Epoch 381/1000 - Train Error: 0.0022 - Test Error: 0.0021\n",
            "Epoch 382/1000 - Train Error: 0.0022 - Test Error: 0.0021\n",
            "Epoch 383/1000 - Train Error: 0.0022 - Test Error: 0.0021\n",
            "Epoch 384/1000 - Train Error: 0.0022 - Test Error: 0.0021\n",
            "Epoch 385/1000 - Train Error: 0.0022 - Test Error: 0.0021\n",
            "Epoch 386/1000 - Train Error: 0.0022 - Test Error: 0.0021\n",
            "Epoch 387/1000 - Train Error: 0.0022 - Test Error: 0.0021\n",
            "Epoch 388/1000 - Train Error: 0.0022 - Test Error: 0.0021\n",
            "Epoch 389/1000 - Train Error: 0.0022 - Test Error: 0.0021\n",
            "Epoch 390/1000 - Train Error: 0.0022 - Test Error: 0.0021\n"
          ]
        },
        {
          "output_type": "stream",
          "name": "stderr",
          "text": [
            "Training:  40%|████████████████████                              | 401/1000 [00:06<00:08, 67.00it/s]"
          ]
        },
        {
          "output_type": "stream",
          "name": "stdout",
          "text": [
            "Epoch 391/1000 - Train Error: 0.0022 - Test Error: 0.0021\n",
            "Epoch 392/1000 - Train Error: 0.0022 - Test Error: 0.0021\n",
            "Epoch 393/1000 - Train Error: 0.0022 - Test Error: 0.0021\n",
            "Epoch 394/1000 - Train Error: 0.0022 - Test Error: 0.0021\n",
            "Epoch 395/1000 - Train Error: 0.0022 - Test Error: 0.0021\n",
            "Epoch 396/1000 - Train Error: 0.0022 - Test Error: 0.0021\n",
            "Epoch 397/1000 - Train Error: 0.0022 - Test Error: 0.0021\n",
            "Epoch 398/1000 - Train Error: 0.0022 - Test Error: 0.0021\n",
            "Epoch 399/1000 - Train Error: 0.0022 - Test Error: 0.0021\n",
            "Epoch 400/1000 - Train Error: 0.0022 - Test Error: 0.0021\n",
            "Epoch 401/1000 - Train Error: 0.0022 - Test Error: 0.0021\n",
            "Epoch 402/1000 - Train Error: 0.0022 - Test Error: 0.0021\n",
            "Epoch 403/1000 - Train Error: 0.0022 - Test Error: 0.0021\n",
            "Epoch 404/1000 - Train Error: 0.0022 - Test Error: 0.0021\n",
            "Epoch 405/1000 - Train Error: 0.0022 - Test Error: 0.0021\n",
            "Epoch 406/1000 - Train Error: 0.0022 - Test Error: 0.0021\n",
            "Epoch 407/1000 - Train Error: 0.0022 - Test Error: 0.0021\n",
            "Epoch 408/1000 - Train Error: 0.0022 - Test Error: 0.0021\n"
          ]
        },
        {
          "output_type": "stream",
          "name": "stderr",
          "text": [
            "Training:  42%|█████████████████████                             | 421/1000 [00:06<00:07, 79.55it/s]"
          ]
        },
        {
          "output_type": "stream",
          "name": "stdout",
          "text": [
            "Epoch 409/1000 - Train Error: 0.0022 - Test Error: 0.0021\n",
            "Epoch 410/1000 - Train Error: 0.0022 - Test Error: 0.0021\n",
            "Epoch 411/1000 - Train Error: 0.0022 - Test Error: 0.0021\n",
            "Epoch 412/1000 - Train Error: 0.0022 - Test Error: 0.0021\n",
            "Epoch 413/1000 - Train Error: 0.0022 - Test Error: 0.0021\n",
            "Epoch 414/1000 - Train Error: 0.0022 - Test Error: 0.0021\n",
            "Epoch 415/1000 - Train Error: 0.0022 - Test Error: 0.0021\n",
            "Epoch 416/1000 - Train Error: 0.0022 - Test Error: 0.0021\n",
            "Epoch 417/1000 - Train Error: 0.0021 - Test Error: 0.0021\n",
            "Epoch 418/1000 - Train Error: 0.0021 - Test Error: 0.0021\n",
            "Epoch 419/1000 - Train Error: 0.0021 - Test Error: 0.0021\n",
            "Epoch 420/1000 - Train Error: 0.0021 - Test Error: 0.0021\n",
            "Epoch 421/1000 - Train Error: 0.0021 - Test Error: 0.0021\n",
            "Epoch 422/1000 - Train Error: 0.0021 - Test Error: 0.0021\n",
            "Epoch 423/1000 - Train Error: 0.0021 - Test Error: 0.0021\n",
            "Epoch 424/1000 - Train Error: 0.0021 - Test Error: 0.0021\n",
            "Epoch 425/1000 - Train Error: 0.0021 - Test Error: 0.0021\n",
            "Epoch 426/1000 - Train Error: 0.0021 - Test Error: 0.0021\n"
          ]
        },
        {
          "output_type": "stream",
          "name": "stderr",
          "text": [
            "Training:  44%|██████████████████████                            | 440/1000 [00:07<00:06, 83.26it/s]"
          ]
        },
        {
          "output_type": "stream",
          "name": "stdout",
          "text": [
            "Epoch 427/1000 - Train Error: 0.0021 - Test Error: 0.0021\n",
            "Epoch 428/1000 - Train Error: 0.0021 - Test Error: 0.0021\n",
            "Epoch 429/1000 - Train Error: 0.0021 - Test Error: 0.0021\n",
            "Epoch 430/1000 - Train Error: 0.0021 - Test Error: 0.0021\n",
            "Epoch 431/1000 - Train Error: 0.0021 - Test Error: 0.0021\n",
            "Epoch 432/1000 - Train Error: 0.0021 - Test Error: 0.0021\n",
            "Epoch 433/1000 - Train Error: 0.0021 - Test Error: 0.0021\n",
            "Epoch 434/1000 - Train Error: 0.0021 - Test Error: 0.0021\n",
            "Epoch 435/1000 - Train Error: 0.0021 - Test Error: 0.0020\n",
            "Epoch 436/1000 - Train Error: 0.0021 - Test Error: 0.0020\n",
            "Epoch 437/1000 - Train Error: 0.0021 - Test Error: 0.0020\n",
            "Epoch 438/1000 - Train Error: 0.0021 - Test Error: 0.0020\n",
            "Epoch 439/1000 - Train Error: 0.0021 - Test Error: 0.0020\n",
            "Epoch 440/1000 - Train Error: 0.0021 - Test Error: 0.0020\n",
            "Epoch 441/1000 - Train Error: 0.0021 - Test Error: 0.0020\n",
            "Epoch 442/1000 - Train Error: 0.0021 - Test Error: 0.0020\n",
            "Epoch 443/1000 - Train Error: 0.0021 - Test Error: 0.0020\n",
            "Epoch 444/1000 - Train Error: 0.0021 - Test Error: 0.0020\n"
          ]
        },
        {
          "output_type": "stream",
          "name": "stderr",
          "text": [
            "Training:  46%|███████████████████████                           | 460/1000 [00:07<00:06, 85.74it/s]"
          ]
        },
        {
          "output_type": "stream",
          "name": "stdout",
          "text": [
            "Epoch 445/1000 - Train Error: 0.0021 - Test Error: 0.0020\n",
            "Epoch 446/1000 - Train Error: 0.0021 - Test Error: 0.0020\n",
            "Epoch 447/1000 - Train Error: 0.0021 - Test Error: 0.0020\n",
            "Epoch 448/1000 - Train Error: 0.0021 - Test Error: 0.0020\n",
            "Epoch 449/1000 - Train Error: 0.0021 - Test Error: 0.0020\n",
            "Epoch 450/1000 - Train Error: 0.0021 - Test Error: 0.0020\n",
            "Epoch 451/1000 - Train Error: 0.0021 - Test Error: 0.0020\n",
            "Epoch 452/1000 - Train Error: 0.0021 - Test Error: 0.0020\n",
            "Epoch 453/1000 - Train Error: 0.0021 - Test Error: 0.0020\n",
            "Epoch 454/1000 - Train Error: 0.0021 - Test Error: 0.0020\n",
            "Epoch 455/1000 - Train Error: 0.0021 - Test Error: 0.0020\n",
            "Epoch 456/1000 - Train Error: 0.0021 - Test Error: 0.0020\n",
            "Epoch 457/1000 - Train Error: 0.0021 - Test Error: 0.0020\n",
            "Epoch 458/1000 - Train Error: 0.0021 - Test Error: 0.0020\n",
            "Epoch 459/1000 - Train Error: 0.0021 - Test Error: 0.0020\n",
            "Epoch 460/1000 - Train Error: 0.0021 - Test Error: 0.0020\n",
            "Epoch 461/1000 - Train Error: 0.0021 - Test Error: 0.0020\n",
            "Epoch 462/1000 - Train Error: 0.0021 - Test Error: 0.0020\n"
          ]
        },
        {
          "output_type": "stream",
          "name": "stderr",
          "text": [
            "Training:  48%|███████████████████████▉                          | 479/1000 [00:07<00:05, 87.86it/s]"
          ]
        },
        {
          "output_type": "stream",
          "name": "stdout",
          "text": [
            "Epoch 463/1000 - Train Error: 0.0021 - Test Error: 0.0020\n",
            "Epoch 464/1000 - Train Error: 0.0021 - Test Error: 0.0020\n",
            "Epoch 465/1000 - Train Error: 0.0021 - Test Error: 0.0020\n",
            "Epoch 466/1000 - Train Error: 0.0021 - Test Error: 0.0020\n",
            "Epoch 467/1000 - Train Error: 0.0021 - Test Error: 0.0020\n",
            "Epoch 468/1000 - Train Error: 0.0021 - Test Error: 0.0020\n",
            "Epoch 469/1000 - Train Error: 0.0021 - Test Error: 0.0020\n",
            "Epoch 470/1000 - Train Error: 0.0021 - Test Error: 0.0020\n",
            "Epoch 471/1000 - Train Error: 0.0021 - Test Error: 0.0020\n",
            "Epoch 472/1000 - Train Error: 0.0021 - Test Error: 0.0020\n",
            "Epoch 473/1000 - Train Error: 0.0021 - Test Error: 0.0020\n",
            "Epoch 474/1000 - Train Error: 0.0020 - Test Error: 0.0020\n",
            "Epoch 475/1000 - Train Error: 0.0020 - Test Error: 0.0020\n",
            "Epoch 476/1000 - Train Error: 0.0020 - Test Error: 0.0020\n",
            "Epoch 477/1000 - Train Error: 0.0020 - Test Error: 0.0020\n",
            "Epoch 478/1000 - Train Error: 0.0020 - Test Error: 0.0020\n",
            "Epoch 479/1000 - Train Error: 0.0020 - Test Error: 0.0020\n",
            "Epoch 480/1000 - Train Error: 0.0020 - Test Error: 0.0020\n"
          ]
        },
        {
          "output_type": "stream",
          "name": "stderr",
          "text": [
            "Training:  50%|████████████████████████▉                         | 498/1000 [00:07<00:05, 88.50it/s]"
          ]
        },
        {
          "output_type": "stream",
          "name": "stdout",
          "text": [
            "Epoch 481/1000 - Train Error: 0.0020 - Test Error: 0.0020\n",
            "Epoch 482/1000 - Train Error: 0.0020 - Test Error: 0.0020\n",
            "Epoch 483/1000 - Train Error: 0.0020 - Test Error: 0.0020\n",
            "Epoch 484/1000 - Train Error: 0.0020 - Test Error: 0.0020\n",
            "Epoch 485/1000 - Train Error: 0.0020 - Test Error: 0.0020\n",
            "Epoch 486/1000 - Train Error: 0.0020 - Test Error: 0.0020\n",
            "Epoch 487/1000 - Train Error: 0.0020 - Test Error: 0.0020\n",
            "Epoch 488/1000 - Train Error: 0.0020 - Test Error: 0.0020\n",
            "Epoch 489/1000 - Train Error: 0.0020 - Test Error: 0.0020\n",
            "Epoch 490/1000 - Train Error: 0.0020 - Test Error: 0.0020\n",
            "Epoch 491/1000 - Train Error: 0.0020 - Test Error: 0.0020\n",
            "Epoch 492/1000 - Train Error: 0.0020 - Test Error: 0.0020\n",
            "Epoch 493/1000 - Train Error: 0.0020 - Test Error: 0.0020\n",
            "Epoch 494/1000 - Train Error: 0.0020 - Test Error: 0.0020\n",
            "Epoch 495/1000 - Train Error: 0.0020 - Test Error: 0.0020\n",
            "Epoch 496/1000 - Train Error: 0.0020 - Test Error: 0.0020\n",
            "Epoch 497/1000 - Train Error: 0.0020 - Test Error: 0.0020\n",
            "Epoch 498/1000 - Train Error: 0.0020 - Test Error: 0.0020\n",
            "Epoch 499/1000 - Train Error: 0.0020 - Test Error: 0.0019\n"
          ]
        },
        {
          "output_type": "stream",
          "name": "stderr",
          "text": [
            "Training:  51%|█████████████████████████▎                        | 507/1000 [00:07<00:05, 83.82it/s]"
          ]
        },
        {
          "output_type": "stream",
          "name": "stdout",
          "text": [
            "Epoch 500/1000 - Train Error: 0.0020 - Test Error: 0.0019\n",
            "Epoch 501/1000 - Train Error: 0.0020 - Test Error: 0.0019\n",
            "Epoch 502/1000 - Train Error: 0.0020 - Test Error: 0.0019\n",
            "Epoch 503/1000 - Train Error: 0.0020 - Test Error: 0.0019\n",
            "Epoch 504/1000 - Train Error: 0.0020 - Test Error: 0.0019\n",
            "Epoch 505/1000 - Train Error: 0.0020 - Test Error: 0.0019\n",
            "Epoch 506/1000 - Train Error: 0.0020 - Test Error: 0.0019\n",
            "Epoch 507/1000 - Train Error: 0.0020 - Test Error: 0.0019\n",
            "Epoch 508/1000 - Train Error: 0.0020 - Test Error: 0.0019\n",
            "Epoch 509/1000 - Train Error: 0.0020 - Test Error: 0.0019\n",
            "Epoch 510/1000 - Train Error: 0.0020 - Test Error: 0.0019\n",
            "Epoch 511/1000 - Train Error: 0.0020 - Test Error: 0.0019\n",
            "Epoch 512/1000 - Train Error: 0.0020 - Test Error: 0.0019\n",
            "Epoch 513/1000 - Train Error: 0.0020 - Test Error: 0.0019\n",
            "Epoch 514/1000 - Train Error: 0.0020 - Test Error: 0.0019\n"
          ]
        },
        {
          "output_type": "stream",
          "name": "stderr",
          "text": [
            "                                                                                                    "
          ]
        },
        {
          "output_type": "stream",
          "name": "stdout",
          "text": [
            "Epoch 515/1000 - Train Error: 0.0020 - Test Error: 0.0019\n",
            "Epoch 516/1000 - Train Error: 0.0020 - Test Error: 0.0019\n",
            "Epoch 517/1000 - Train Error: 0.0020 - Test Error: 0.0019\n",
            "Epoch 518/1000 - Train Error: 0.0020 - Test Error: 0.0019\n",
            "Epoch 519/1000 - Train Error: 0.0020 - Test Error: 0.0019\n",
            "Epoch 520/1000 - Train Error: 0.0020 - Test Error: 0.0019\n",
            "Epoch 521/1000 - Train Error: 0.0020 - Test Error: 0.0019\n",
            "Epoch 522/1000 - Train Error: 0.0020 - Test Error: 0.0019\n",
            "Epoch 523/1000 - Train Error: 0.0020 - Test Error: 0.0019\n",
            "Epoch 524/1000 - Train Error: 0.0020 - Test Error: 0.0019\n",
            "Epoch 525/1000 - Train Error: 0.0020 - Test Error: 0.0019\n",
            "Epoch 526/1000 - Train Error: 0.0020 - Test Error: 0.0019\n",
            "Epoch 527/1000 - Train Error: 0.0020 - Test Error: 0.0019\n",
            "Epoch 528/1000 - Train Error: 0.0020 - Test Error: 0.0019\n",
            "Epoch 529/1000 - Train Error: 0.0020 - Test Error: 0.0019\n",
            "Epoch 530/1000 - Train Error: 0.0020 - Test Error: 0.0019\n",
            "Epoch 531/1000 - Train Error: 0.0020 - Test Error: 0.0019\n"
          ]
        },
        {
          "output_type": "stream",
          "name": "stderr",
          "text": [
            "Training:  55%|███████████████████████████▎                      | 546/1000 [00:08<00:05, 89.05it/s]"
          ]
        },
        {
          "output_type": "stream",
          "name": "stdout",
          "text": [
            "Epoch 532/1000 - Train Error: 0.0020 - Test Error: 0.0019\n",
            "Epoch 533/1000 - Train Error: 0.0020 - Test Error: 0.0019\n",
            "Epoch 534/1000 - Train Error: 0.0020 - Test Error: 0.0019\n",
            "Epoch 535/1000 - Train Error: 0.0020 - Test Error: 0.0019\n",
            "Epoch 536/1000 - Train Error: 0.0020 - Test Error: 0.0019\n",
            "Epoch 537/1000 - Train Error: 0.0020 - Test Error: 0.0019\n",
            "Epoch 538/1000 - Train Error: 0.0020 - Test Error: 0.0019\n",
            "Epoch 539/1000 - Train Error: 0.0020 - Test Error: 0.0019\n",
            "Epoch 540/1000 - Train Error: 0.0019 - Test Error: 0.0019\n",
            "Epoch 541/1000 - Train Error: 0.0019 - Test Error: 0.0019\n",
            "Epoch 542/1000 - Train Error: 0.0019 - Test Error: 0.0019\n",
            "Epoch 543/1000 - Train Error: 0.0019 - Test Error: 0.0019\n",
            "Epoch 544/1000 - Train Error: 0.0019 - Test Error: 0.0019\n",
            "Epoch 545/1000 - Train Error: 0.0019 - Test Error: 0.0019\n",
            "Epoch 546/1000 - Train Error: 0.0019 - Test Error: 0.0019\n",
            "Epoch 547/1000 - Train Error: 0.0019 - Test Error: 0.0019\n",
            "Epoch 548/1000 - Train Error: 0.0019 - Test Error: 0.0019\n",
            "Epoch 549/1000 - Train Error: 0.0019 - Test Error: 0.0019\n",
            "Epoch 550/1000 - Train Error: 0.0019 - Test Error: 0.0019\n"
          ]
        },
        {
          "output_type": "stream",
          "name": "stderr",
          "text": [
            "Training:  56%|████████████████████████████▏                     | 565/1000 [00:08<00:04, 87.79it/s]"
          ]
        },
        {
          "output_type": "stream",
          "name": "stdout",
          "text": [
            "Epoch 551/1000 - Train Error: 0.0019 - Test Error: 0.0019\n",
            "Epoch 552/1000 - Train Error: 0.0019 - Test Error: 0.0019\n",
            "Epoch 553/1000 - Train Error: 0.0019 - Test Error: 0.0019\n",
            "Epoch 554/1000 - Train Error: 0.0019 - Test Error: 0.0019\n",
            "Epoch 555/1000 - Train Error: 0.0019 - Test Error: 0.0019\n",
            "Epoch 556/1000 - Train Error: 0.0019 - Test Error: 0.0019\n",
            "Epoch 557/1000 - Train Error: 0.0019 - Test Error: 0.0019\n",
            "Epoch 558/1000 - Train Error: 0.0019 - Test Error: 0.0019\n",
            "Epoch 559/1000 - Train Error: 0.0019 - Test Error: 0.0019\n",
            "Epoch 560/1000 - Train Error: 0.0019 - Test Error: 0.0019\n",
            "Epoch 561/1000 - Train Error: 0.0019 - Test Error: 0.0019\n",
            "Epoch 562/1000 - Train Error: 0.0019 - Test Error: 0.0019\n",
            "Epoch 563/1000 - Train Error: 0.0019 - Test Error: 0.0019\n",
            "Epoch 564/1000 - Train Error: 0.0019 - Test Error: 0.0019\n",
            "Epoch 565/1000 - Train Error: 0.0019 - Test Error: 0.0019\n",
            "Epoch 566/1000 - Train Error: 0.0019 - Test Error: 0.0019\n",
            "Epoch 567/1000 - Train Error: 0.0019 - Test Error: 0.0019\n",
            "Epoch 568/1000 - Train Error: 0.0019 - Test Error: 0.0019\n"
          ]
        },
        {
          "output_type": "stream",
          "name": "stderr",
          "text": [
            "Training:  58%|█████████████████████████████▏                    | 583/1000 [00:08<00:04, 83.76it/s]"
          ]
        },
        {
          "output_type": "stream",
          "name": "stdout",
          "text": [
            "Epoch 569/1000 - Train Error: 0.0019 - Test Error: 0.0019\n",
            "Epoch 570/1000 - Train Error: 0.0019 - Test Error: 0.0019\n",
            "Epoch 571/1000 - Train Error: 0.0019 - Test Error: 0.0019\n",
            "Epoch 572/1000 - Train Error: 0.0019 - Test Error: 0.0019\n",
            "Epoch 573/1000 - Train Error: 0.0019 - Test Error: 0.0018\n",
            "Epoch 574/1000 - Train Error: 0.0019 - Test Error: 0.0018\n",
            "Epoch 575/1000 - Train Error: 0.0019 - Test Error: 0.0018\n",
            "Epoch 576/1000 - Train Error: 0.0019 - Test Error: 0.0018\n",
            "Epoch 577/1000 - Train Error: 0.0019 - Test Error: 0.0018\n",
            "Epoch 578/1000 - Train Error: 0.0019 - Test Error: 0.0018\n",
            "Epoch 579/1000 - Train Error: 0.0019 - Test Error: 0.0018\n",
            "Epoch 580/1000 - Train Error: 0.0019 - Test Error: 0.0018\n",
            "Epoch 581/1000 - Train Error: 0.0019 - Test Error: 0.0018\n",
            "Epoch 582/1000 - Train Error: 0.0019 - Test Error: 0.0018\n",
            "Epoch 583/1000 - Train Error: 0.0019 - Test Error: 0.0018\n",
            "Epoch 584/1000 - Train Error: 0.0019 - Test Error: 0.0018\n",
            "Epoch 585/1000 - Train Error: 0.0019 - Test Error: 0.0018\n"
          ]
        },
        {
          "output_type": "stream",
          "name": "stderr",
          "text": [
            "                                                                                                    "
          ]
        },
        {
          "output_type": "stream",
          "name": "stdout",
          "text": [
            "Epoch 586/1000 - Train Error: 0.0019 - Test Error: 0.0018\n",
            "Epoch 587/1000 - Train Error: 0.0019 - Test Error: 0.0018\n",
            "Epoch 588/1000 - Train Error: 0.0019 - Test Error: 0.0018\n",
            "Epoch 589/1000 - Train Error: 0.0019 - Test Error: 0.0018\n",
            "Epoch 590/1000 - Train Error: 0.0019 - Test Error: 0.0018\n",
            "Epoch 591/1000 - Train Error: 0.0019 - Test Error: 0.0018\n",
            "Epoch 592/1000 - Train Error: 0.0019 - Test Error: 0.0018\n",
            "Epoch 593/1000 - Train Error: 0.0019 - Test Error: 0.0018\n",
            "Epoch 594/1000 - Train Error: 0.0019 - Test Error: 0.0018\n",
            "Epoch 595/1000 - Train Error: 0.0019 - Test Error: 0.0018\n",
            "Epoch 596/1000 - Train Error: 0.0019 - Test Error: 0.0018\n",
            "Epoch 597/1000 - Train Error: 0.0019 - Test Error: 0.0018\n"
          ]
        },
        {
          "output_type": "stream",
          "name": "stderr",
          "text": [
            "Training:  60%|██████████████████████████████                    | 601/1000 [00:09<00:06, 64.14it/s]"
          ]
        },
        {
          "output_type": "stream",
          "name": "stdout",
          "text": [
            "Epoch 598/1000 - Train Error: 0.0019 - Test Error: 0.0018\n",
            "Epoch 599/1000 - Train Error: 0.0019 - Test Error: 0.0018\n",
            "Epoch 600/1000 - Train Error: 0.0019 - Test Error: 0.0018\n",
            "Epoch 601/1000 - Train Error: 0.0019 - Test Error: 0.0018\n",
            "Epoch 602/1000 - Train Error: 0.0019 - Test Error: 0.0018\n",
            "Epoch 603/1000 - Train Error: 0.0019 - Test Error: 0.0018\n",
            "Epoch 604/1000 - Train Error: 0.0019 - Test Error: 0.0018\n",
            "Epoch 605/1000 - Train Error: 0.0019 - Test Error: 0.0018\n"
          ]
        },
        {
          "output_type": "stream",
          "name": "stderr",
          "text": [
            "Training:  61%|██████████████████████████████▍                   | 609/1000 [00:09<00:06, 56.85it/s]"
          ]
        },
        {
          "output_type": "stream",
          "name": "stdout",
          "text": [
            "Epoch 606/1000 - Train Error: 0.0019 - Test Error: 0.0018\n",
            "Epoch 607/1000 - Train Error: 0.0019 - Test Error: 0.0018\n",
            "Epoch 608/1000 - Train Error: 0.0019 - Test Error: 0.0018\n",
            "Epoch 609/1000 - Train Error: 0.0019 - Test Error: 0.0018\n",
            "Epoch 610/1000 - Train Error: 0.0019 - Test Error: 0.0018\n",
            "Epoch 611/1000 - Train Error: 0.0019 - Test Error: 0.0018\n",
            "Epoch 612/1000 - Train Error: 0.0019 - Test Error: 0.0018\n",
            "Epoch 613/1000 - Train Error: 0.0019 - Test Error: 0.0018\n"
          ]
        },
        {
          "output_type": "stream",
          "name": "stderr",
          "text": [
            "                                                                                                    "
          ]
        },
        {
          "output_type": "stream",
          "name": "stdout",
          "text": [
            "Epoch 614/1000 - Train Error: 0.0019 - Test Error: 0.0018\n",
            "Epoch 615/1000 - Train Error: 0.0019 - Test Error: 0.0018\n",
            "Epoch 616/1000 - Train Error: 0.0018 - Test Error: 0.0018\n",
            "Epoch 617/1000 - Train Error: 0.0018 - Test Error: 0.0018\n",
            "Epoch 618/1000 - Train Error: 0.0018 - Test Error: 0.0018\n",
            "Epoch 619/1000 - Train Error: 0.0018 - Test Error: 0.0018\n",
            "Epoch 620/1000 - Train Error: 0.0018 - Test Error: 0.0018\n"
          ]
        },
        {
          "output_type": "stream",
          "name": "stderr",
          "text": [
            "Training:  63%|███████████████████████████████▎                  | 627/1000 [00:09<00:08, 45.50it/s]"
          ]
        },
        {
          "output_type": "stream",
          "name": "stdout",
          "text": [
            "Epoch 621/1000 - Train Error: 0.0018 - Test Error: 0.0018\n",
            "Epoch 622/1000 - Train Error: 0.0018 - Test Error: 0.0018\n",
            "Epoch 623/1000 - Train Error: 0.0018 - Test Error: 0.0018\n",
            "Epoch 624/1000 - Train Error: 0.0018 - Test Error: 0.0018\n",
            "Epoch 625/1000 - Train Error: 0.0018 - Test Error: 0.0018\n",
            "Epoch 626/1000 - Train Error: 0.0018 - Test Error: 0.0018\n",
            "Epoch 627/1000 - Train Error: 0.0018 - Test Error: 0.0018\n",
            "Epoch 628/1000 - Train Error: 0.0018 - Test Error: 0.0018\n",
            "Epoch 629/1000 - Train Error: 0.0018 - Test Error: 0.0018\n"
          ]
        },
        {
          "output_type": "stream",
          "name": "stderr",
          "text": [
            "Training:  64%|███████████████████████████████▊                  | 637/1000 [00:10<00:08, 44.92it/s]"
          ]
        },
        {
          "output_type": "stream",
          "name": "stdout",
          "text": [
            "Epoch 630/1000 - Train Error: 0.0018 - Test Error: 0.0018\n",
            "Epoch 631/1000 - Train Error: 0.0018 - Test Error: 0.0018\n",
            "Epoch 632/1000 - Train Error: 0.0018 - Test Error: 0.0018\n",
            "Epoch 633/1000 - Train Error: 0.0018 - Test Error: 0.0018\n",
            "Epoch 634/1000 - Train Error: 0.0018 - Test Error: 0.0018\n",
            "Epoch 635/1000 - Train Error: 0.0018 - Test Error: 0.0018\n",
            "Epoch 636/1000 - Train Error: 0.0018 - Test Error: 0.0018\n",
            "Epoch 637/1000 - Train Error: 0.0018 - Test Error: 0.0018\n",
            "Epoch 638/1000 - Train Error: 0.0018 - Test Error: 0.0018\n",
            "Epoch 639/1000 - Train Error: 0.0018 - Test Error: 0.0018\n"
          ]
        },
        {
          "output_type": "stream",
          "name": "stderr",
          "text": [
            "Training:  65%|████████████████████████████████▎                 | 647/1000 [00:10<00:08, 41.98it/s]"
          ]
        },
        {
          "output_type": "stream",
          "name": "stdout",
          "text": [
            "Epoch 640/1000 - Train Error: 0.0018 - Test Error: 0.0018\n",
            "Epoch 641/1000 - Train Error: 0.0018 - Test Error: 0.0018\n",
            "Epoch 642/1000 - Train Error: 0.0018 - Test Error: 0.0018\n",
            "Epoch 643/1000 - Train Error: 0.0018 - Test Error: 0.0018\n",
            "Epoch 644/1000 - Train Error: 0.0018 - Test Error: 0.0018\n",
            "Epoch 645/1000 - Train Error: 0.0018 - Test Error: 0.0018\n",
            "Epoch 646/1000 - Train Error: 0.0018 - Test Error: 0.0018\n",
            "Epoch 647/1000 - Train Error: 0.0018 - Test Error: 0.0018\n"
          ]
        },
        {
          "output_type": "stream",
          "name": "stderr",
          "text": [
            "Training:  65%|████████████████████████████████▌                 | 652/1000 [00:10<00:08, 42.38it/s]"
          ]
        },
        {
          "output_type": "stream",
          "name": "stdout",
          "text": [
            "Epoch 648/1000 - Train Error: 0.0018 - Test Error: 0.0018\n",
            "Epoch 649/1000 - Train Error: 0.0018 - Test Error: 0.0018\n",
            "Epoch 650/1000 - Train Error: 0.0018 - Test Error: 0.0018\n",
            "Epoch 651/1000 - Train Error: 0.0018 - Test Error: 0.0018\n",
            "Epoch 652/1000 - Train Error: 0.0018 - Test Error: 0.0018\n",
            "Epoch 653/1000 - Train Error: 0.0018 - Test Error: 0.0018\n",
            "Epoch 654/1000 - Train Error: 0.0018 - Test Error: 0.0018\n",
            "Epoch 655/1000 - Train Error: 0.0018 - Test Error: 0.0018\n",
            "Epoch 656/1000 - Train Error: 0.0018 - Test Error: 0.0018\n",
            "Epoch 657/1000 - Train Error: 0.0018 - Test Error: 0.0018\n"
          ]
        },
        {
          "output_type": "stream",
          "name": "stderr",
          "text": [
            "Training:  66%|█████████████████████████████████▏                | 663/1000 [00:10<00:07, 44.84it/s]"
          ]
        },
        {
          "output_type": "stream",
          "name": "stdout",
          "text": [
            "Epoch 658/1000 - Train Error: 0.0018 - Test Error: 0.0018\n",
            "Epoch 659/1000 - Train Error: 0.0018 - Test Error: 0.0017\n",
            "Epoch 660/1000 - Train Error: 0.0018 - Test Error: 0.0017\n",
            "Epoch 661/1000 - Train Error: 0.0018 - Test Error: 0.0017\n",
            "Epoch 662/1000 - Train Error: 0.0018 - Test Error: 0.0017\n",
            "Epoch 663/1000 - Train Error: 0.0018 - Test Error: 0.0017\n",
            "Epoch 664/1000 - Train Error: 0.0018 - Test Error: 0.0017\n",
            "Epoch 665/1000 - Train Error: 0.0018 - Test Error: 0.0017\n",
            "Epoch 666/1000 - Train Error: 0.0018 - Test Error: 0.0017\n",
            "Epoch 667/1000 - Train Error: 0.0018 - Test Error: 0.0017\n",
            "Epoch 668/1000 - Train Error: 0.0018 - Test Error: 0.0017\n"
          ]
        },
        {
          "output_type": "stream",
          "name": "stderr",
          "text": [
            "Training:  68%|█████████████████████████████████▊                | 675/1000 [00:10<00:06, 48.78it/s]"
          ]
        },
        {
          "output_type": "stream",
          "name": "stdout",
          "text": [
            "Epoch 669/1000 - Train Error: 0.0018 - Test Error: 0.0017\n",
            "Epoch 670/1000 - Train Error: 0.0018 - Test Error: 0.0017\n",
            "Epoch 671/1000 - Train Error: 0.0018 - Test Error: 0.0017\n",
            "Epoch 672/1000 - Train Error: 0.0018 - Test Error: 0.0017\n",
            "Epoch 673/1000 - Train Error: 0.0018 - Test Error: 0.0017\n",
            "Epoch 674/1000 - Train Error: 0.0018 - Test Error: 0.0017\n",
            "Epoch 675/1000 - Train Error: 0.0018 - Test Error: 0.0017\n",
            "Epoch 676/1000 - Train Error: 0.0018 - Test Error: 0.0017\n",
            "Epoch 677/1000 - Train Error: 0.0018 - Test Error: 0.0017\n",
            "Epoch 678/1000 - Train Error: 0.0018 - Test Error: 0.0017\n"
          ]
        },
        {
          "output_type": "stream",
          "name": "stderr",
          "text": [
            "Training:  68%|██████████████████████████████████▎               | 685/1000 [00:11<00:07, 44.74it/s]"
          ]
        },
        {
          "output_type": "stream",
          "name": "stdout",
          "text": [
            "Epoch 679/1000 - Train Error: 0.0018 - Test Error: 0.0017\n",
            "Epoch 680/1000 - Train Error: 0.0018 - Test Error: 0.0017\n",
            "Epoch 681/1000 - Train Error: 0.0018 - Test Error: 0.0017\n",
            "Epoch 682/1000 - Train Error: 0.0018 - Test Error: 0.0017\n",
            "Epoch 683/1000 - Train Error: 0.0018 - Test Error: 0.0017\n",
            "Epoch 684/1000 - Train Error: 0.0018 - Test Error: 0.0017\n",
            "Epoch 685/1000 - Train Error: 0.0018 - Test Error: 0.0017\n",
            "Epoch 686/1000 - Train Error: 0.0018 - Test Error: 0.0017\n",
            "Epoch 687/1000 - Train Error: 0.0018 - Test Error: 0.0017\n",
            "Epoch 688/1000 - Train Error: 0.0018 - Test Error: 0.0017\n"
          ]
        },
        {
          "output_type": "stream",
          "name": "stderr",
          "text": [
            "Training:  70%|██████████████████████████████████▊               | 696/1000 [00:11<00:06, 44.60it/s]"
          ]
        },
        {
          "output_type": "stream",
          "name": "stdout",
          "text": [
            "Epoch 689/1000 - Train Error: 0.0018 - Test Error: 0.0017\n",
            "Epoch 690/1000 - Train Error: 0.0018 - Test Error: 0.0017\n",
            "Epoch 691/1000 - Train Error: 0.0018 - Test Error: 0.0017\n",
            "Epoch 692/1000 - Train Error: 0.0018 - Test Error: 0.0017\n",
            "Epoch 693/1000 - Train Error: 0.0018 - Test Error: 0.0017\n",
            "Epoch 694/1000 - Train Error: 0.0018 - Test Error: 0.0017\n",
            "Epoch 695/1000 - Train Error: 0.0018 - Test Error: 0.0017\n",
            "Epoch 696/1000 - Train Error: 0.0018 - Test Error: 0.0017\n",
            "Epoch 697/1000 - Train Error: 0.0018 - Test Error: 0.0017\n"
          ]
        },
        {
          "output_type": "stream",
          "name": "stderr",
          "text": [
            "Training:  70%|███████████████████████████████████               | 701/1000 [00:11<00:07, 39.43it/s]"
          ]
        },
        {
          "output_type": "stream",
          "name": "stdout",
          "text": [
            "Epoch 698/1000 - Train Error: 0.0018 - Test Error: 0.0017\n",
            "Epoch 699/1000 - Train Error: 0.0018 - Test Error: 0.0017\n",
            "Epoch 700/1000 - Train Error: 0.0018 - Test Error: 0.0017\n",
            "Epoch 701/1000 - Train Error: 0.0018 - Test Error: 0.0017\n",
            "Epoch 702/1000 - Train Error: 0.0017 - Test Error: 0.0017\n",
            "Epoch 703/1000 - Train Error: 0.0017 - Test Error: 0.0017\n"
          ]
        },
        {
          "output_type": "stream",
          "name": "stderr",
          "text": [
            "Training:  71%|███████████████████████████████████▌              | 710/1000 [00:11<00:08, 35.39it/s]"
          ]
        },
        {
          "output_type": "stream",
          "name": "stdout",
          "text": [
            "Epoch 704/1000 - Train Error: 0.0017 - Test Error: 0.0017\n",
            "Epoch 705/1000 - Train Error: 0.0017 - Test Error: 0.0017\n",
            "Epoch 706/1000 - Train Error: 0.0017 - Test Error: 0.0017\n",
            "Epoch 707/1000 - Train Error: 0.0017 - Test Error: 0.0017\n",
            "Epoch 708/1000 - Train Error: 0.0017 - Test Error: 0.0017\n",
            "Epoch 709/1000 - Train Error: 0.0017 - Test Error: 0.0017\n",
            "Epoch 710/1000 - Train Error: 0.0017 - Test Error: 0.0017\n"
          ]
        },
        {
          "output_type": "stream",
          "name": "stderr",
          "text": [
            "Training:  72%|████████████████████████████████████              | 721/1000 [00:11<00:06, 42.25it/s]"
          ]
        },
        {
          "output_type": "stream",
          "name": "stdout",
          "text": [
            "Epoch 711/1000 - Train Error: 0.0017 - Test Error: 0.0017\n",
            "Epoch 712/1000 - Train Error: 0.0017 - Test Error: 0.0017\n",
            "Epoch 713/1000 - Train Error: 0.0017 - Test Error: 0.0017\n",
            "Epoch 714/1000 - Train Error: 0.0017 - Test Error: 0.0017\n",
            "Epoch 715/1000 - Train Error: 0.0017 - Test Error: 0.0017\n",
            "Epoch 716/1000 - Train Error: 0.0017 - Test Error: 0.0017\n",
            "Epoch 717/1000 - Train Error: 0.0017 - Test Error: 0.0017\n",
            "Epoch 718/1000 - Train Error: 0.0017 - Test Error: 0.0017\n",
            "Epoch 719/1000 - Train Error: 0.0017 - Test Error: 0.0017\n",
            "Epoch 720/1000 - Train Error: 0.0017 - Test Error: 0.0017\n",
            "Epoch 721/1000 - Train Error: 0.0017 - Test Error: 0.0017\n"
          ]
        },
        {
          "output_type": "stream",
          "name": "stderr",
          "text": [
            "Training:  73%|████████████████████████████████████▎             | 726/1000 [00:12<00:07, 35.22it/s]"
          ]
        },
        {
          "output_type": "stream",
          "name": "stdout",
          "text": [
            "Epoch 722/1000 - Train Error: 0.0017 - Test Error: 0.0017\n",
            "Epoch 723/1000 - Train Error: 0.0017 - Test Error: 0.0017\n",
            "Epoch 724/1000 - Train Error: 0.0017 - Test Error: 0.0017\n",
            "Epoch 725/1000 - Train Error: 0.0017 - Test Error: 0.0017\n",
            "Epoch 726/1000 - Train Error: 0.0017 - Test Error: 0.0017\n"
          ]
        },
        {
          "output_type": "stream",
          "name": "stderr",
          "text": [
            "Training:  73%|████████████████████████████████████▌             | 730/1000 [00:12<00:08, 32.49it/s]"
          ]
        },
        {
          "output_type": "stream",
          "name": "stdout",
          "text": [
            "Epoch 727/1000 - Train Error: 0.0017 - Test Error: 0.0017\n",
            "Epoch 728/1000 - Train Error: 0.0017 - Test Error: 0.0017\n",
            "Epoch 729/1000 - Train Error: 0.0017 - Test Error: 0.0017\n",
            "Epoch 730/1000 - Train Error: 0.0017 - Test Error: 0.0017\n",
            "Epoch 731/1000 - Train Error: 0.0017 - Test Error: 0.0017\n"
          ]
        },
        {
          "output_type": "stream",
          "name": "stderr",
          "text": [
            "Training:  73%|████████████████████████████████████▋             | 734/1000 [00:12<00:09, 28.63it/s]"
          ]
        },
        {
          "output_type": "stream",
          "name": "stdout",
          "text": [
            "Epoch 732/1000 - Train Error: 0.0017 - Test Error: 0.0017\n",
            "Epoch 733/1000 - Train Error: 0.0017 - Test Error: 0.0017\n",
            "Epoch 734/1000 - Train Error: 0.0017 - Test Error: 0.0017\n",
            "Epoch 735/1000 - Train Error: 0.0017 - Test Error: 0.0017\n",
            "Epoch 736/1000 - Train Error: 0.0017 - Test Error: 0.0017\n"
          ]
        },
        {
          "output_type": "stream",
          "name": "stderr",
          "text": [
            "Training:  74%|█████████████████████████████████████             | 741/1000 [00:12<00:09, 26.38it/s]"
          ]
        },
        {
          "output_type": "stream",
          "name": "stdout",
          "text": [
            "Epoch 737/1000 - Train Error: 0.0017 - Test Error: 0.0017\n",
            "Epoch 738/1000 - Train Error: 0.0017 - Test Error: 0.0017\n",
            "Epoch 739/1000 - Train Error: 0.0017 - Test Error: 0.0017\n",
            "Epoch 740/1000 - Train Error: 0.0017 - Test Error: 0.0017\n",
            "Epoch 741/1000 - Train Error: 0.0017 - Test Error: 0.0017\n"
          ]
        },
        {
          "output_type": "stream",
          "name": "stderr",
          "text": [
            "Training:  74%|█████████████████████████████████████▎            | 745/1000 [00:13<00:09, 27.59it/s]"
          ]
        },
        {
          "output_type": "stream",
          "name": "stdout",
          "text": [
            "Epoch 742/1000 - Train Error: 0.0017 - Test Error: 0.0017\n",
            "Epoch 743/1000 - Train Error: 0.0017 - Test Error: 0.0017\n",
            "Epoch 744/1000 - Train Error: 0.0017 - Test Error: 0.0017\n",
            "Epoch 745/1000 - Train Error: 0.0017 - Test Error: 0.0017\n",
            "Epoch 746/1000 - Train Error: 0.0017 - Test Error: 0.0017\n",
            "Epoch 747/1000 - Train Error: 0.0017 - Test Error: 0.0017\n",
            "Epoch 748/1000 - Train Error: 0.0017 - Test Error: 0.0017\n",
            "Epoch 749/1000 - Train Error: 0.0017 - Test Error: 0.0017\n"
          ]
        },
        {
          "output_type": "stream",
          "name": "stderr",
          "text": [
            "                                                                                                    "
          ]
        },
        {
          "output_type": "stream",
          "name": "stdout",
          "text": [
            "Epoch 750/1000 - Train Error: 0.0017 - Test Error: 0.0017\n",
            "Epoch 751/1000 - Train Error: 0.0017 - Test Error: 0.0017\n",
            "Epoch 752/1000 - Train Error: 0.0017 - Test Error: 0.0017\n",
            "Epoch 753/1000 - Train Error: 0.0017 - Test Error: 0.0017\n",
            "Epoch 754/1000 - Train Error: 0.0017 - Test Error: 0.0017\n",
            "Epoch 755/1000 - Train Error: 0.0017 - Test Error: 0.0017\n",
            "Epoch 756/1000 - Train Error: 0.0017 - Test Error: 0.0017\n",
            "Epoch 757/1000 - Train Error: 0.0017 - Test Error: 0.0017\n",
            "Epoch 758/1000 - Train Error: 0.0017 - Test Error: 0.0016\n"
          ]
        },
        {
          "output_type": "stream",
          "name": "stderr",
          "text": [
            "Training:  76%|██████████████████████████████████████▎           | 765/1000 [00:13<00:05, 42.80it/s]"
          ]
        },
        {
          "output_type": "stream",
          "name": "stdout",
          "text": [
            "Epoch 759/1000 - Train Error: 0.0017 - Test Error: 0.0016\n",
            "Epoch 760/1000 - Train Error: 0.0017 - Test Error: 0.0016\n",
            "Epoch 761/1000 - Train Error: 0.0017 - Test Error: 0.0016\n",
            "Epoch 762/1000 - Train Error: 0.0017 - Test Error: 0.0016\n",
            "Epoch 763/1000 - Train Error: 0.0017 - Test Error: 0.0016\n",
            "Epoch 764/1000 - Train Error: 0.0017 - Test Error: 0.0016\n",
            "Epoch 765/1000 - Train Error: 0.0017 - Test Error: 0.0016\n",
            "Epoch 766/1000 - Train Error: 0.0017 - Test Error: 0.0016\n",
            "Epoch 767/1000 - Train Error: 0.0017 - Test Error: 0.0016\n",
            "Epoch 768/1000 - Train Error: 0.0017 - Test Error: 0.0016\n"
          ]
        },
        {
          "output_type": "stream",
          "name": "stderr",
          "text": [
            "Training:  78%|██████████████████████████████████████▊           | 775/1000 [00:13<00:05, 41.74it/s]"
          ]
        },
        {
          "output_type": "stream",
          "name": "stdout",
          "text": [
            "Epoch 769/1000 - Train Error: 0.0017 - Test Error: 0.0016\n",
            "Epoch 770/1000 - Train Error: 0.0017 - Test Error: 0.0016\n",
            "Epoch 771/1000 - Train Error: 0.0017 - Test Error: 0.0016\n",
            "Epoch 772/1000 - Train Error: 0.0017 - Test Error: 0.0016\n",
            "Epoch 773/1000 - Train Error: 0.0017 - Test Error: 0.0016\n",
            "Epoch 774/1000 - Train Error: 0.0017 - Test Error: 0.0016\n",
            "Epoch 775/1000 - Train Error: 0.0017 - Test Error: 0.0016\n",
            "Epoch 776/1000 - Train Error: 0.0017 - Test Error: 0.0016\n",
            "Epoch 777/1000 - Train Error: 0.0017 - Test Error: 0.0016\n",
            "Epoch 778/1000 - Train Error: 0.0017 - Test Error: 0.0016\n"
          ]
        },
        {
          "output_type": "stream",
          "name": "stderr",
          "text": [
            "Training:  79%|███████████████████████████████████████▎          | 786/1000 [00:13<00:04, 46.74it/s]"
          ]
        },
        {
          "output_type": "stream",
          "name": "stdout",
          "text": [
            "Epoch 779/1000 - Train Error: 0.0017 - Test Error: 0.0016\n",
            "Epoch 780/1000 - Train Error: 0.0017 - Test Error: 0.0016\n",
            "Epoch 781/1000 - Train Error: 0.0017 - Test Error: 0.0016\n",
            "Epoch 782/1000 - Train Error: 0.0017 - Test Error: 0.0016\n",
            "Epoch 783/1000 - Train Error: 0.0017 - Test Error: 0.0016\n",
            "Epoch 784/1000 - Train Error: 0.0017 - Test Error: 0.0016\n",
            "Epoch 785/1000 - Train Error: 0.0017 - Test Error: 0.0016\n",
            "Epoch 786/1000 - Train Error: 0.0017 - Test Error: 0.0016\n",
            "Epoch 787/1000 - Train Error: 0.0017 - Test Error: 0.0016\n",
            "Epoch 788/1000 - Train Error: 0.0017 - Test Error: 0.0016\n",
            "Epoch 789/1000 - Train Error: 0.0017 - Test Error: 0.0016\n"
          ]
        },
        {
          "output_type": "stream",
          "name": "stderr",
          "text": [
            "                                                                                                    "
          ]
        },
        {
          "output_type": "stream",
          "name": "stdout",
          "text": [
            "Epoch 790/1000 - Train Error: 0.0017 - Test Error: 0.0016\n",
            "Epoch 791/1000 - Train Error: 0.0017 - Test Error: 0.0016\n",
            "Epoch 792/1000 - Train Error: 0.0017 - Test Error: 0.0016\n",
            "Epoch 793/1000 - Train Error: 0.0017 - Test Error: 0.0016\n",
            "Epoch 794/1000 - Train Error: 0.0017 - Test Error: 0.0016\n",
            "Epoch 795/1000 - Train Error: 0.0017 - Test Error: 0.0016\n",
            "Epoch 796/1000 - Train Error: 0.0017 - Test Error: 0.0016\n",
            "Epoch 797/1000 - Train Error: 0.0017 - Test Error: 0.0016\n"
          ]
        },
        {
          "output_type": "stream",
          "name": "stderr",
          "text": [
            "Training:  80%|████████████████████████████████████████          | 801/1000 [00:14<00:04, 41.28it/s]"
          ]
        },
        {
          "output_type": "stream",
          "name": "stdout",
          "text": [
            "Epoch 798/1000 - Train Error: 0.0017 - Test Error: 0.0016\n",
            "Epoch 799/1000 - Train Error: 0.0017 - Test Error: 0.0016\n",
            "Epoch 800/1000 - Train Error: 0.0017 - Test Error: 0.0016\n",
            "Epoch 801/1000 - Train Error: 0.0017 - Test Error: 0.0016\n",
            "Epoch 802/1000 - Train Error: 0.0016 - Test Error: 0.0016\n",
            "Epoch 803/1000 - Train Error: 0.0016 - Test Error: 0.0016\n",
            "Epoch 804/1000 - Train Error: 0.0016 - Test Error: 0.0016\n",
            "Epoch 805/1000 - Train Error: 0.0016 - Test Error: 0.0016\n"
          ]
        },
        {
          "output_type": "stream",
          "name": "stderr",
          "text": [
            "Training:  81%|████████████████████████████████████████▌         | 811/1000 [00:14<00:04, 39.84it/s]"
          ]
        },
        {
          "output_type": "stream",
          "name": "stdout",
          "text": [
            "Epoch 806/1000 - Train Error: 0.0016 - Test Error: 0.0016\n",
            "Epoch 807/1000 - Train Error: 0.0016 - Test Error: 0.0016\n",
            "Epoch 808/1000 - Train Error: 0.0016 - Test Error: 0.0016\n",
            "Epoch 809/1000 - Train Error: 0.0016 - Test Error: 0.0016\n",
            "Epoch 810/1000 - Train Error: 0.0016 - Test Error: 0.0016\n",
            "Epoch 811/1000 - Train Error: 0.0016 - Test Error: 0.0016\n",
            "Epoch 812/1000 - Train Error: 0.0016 - Test Error: 0.0016\n",
            "Epoch 813/1000 - Train Error: 0.0016 - Test Error: 0.0016\n"
          ]
        },
        {
          "output_type": "stream",
          "name": "stderr",
          "text": [
            "Training:  82%|█████████████████████████████████████████         | 820/1000 [00:14<00:05, 34.81it/s]"
          ]
        },
        {
          "output_type": "stream",
          "name": "stdout",
          "text": [
            "Epoch 814/1000 - Train Error: 0.0016 - Test Error: 0.0016\n",
            "Epoch 815/1000 - Train Error: 0.0016 - Test Error: 0.0016\n",
            "Epoch 816/1000 - Train Error: 0.0016 - Test Error: 0.0016\n",
            "Epoch 817/1000 - Train Error: 0.0016 - Test Error: 0.0016\n",
            "Epoch 818/1000 - Train Error: 0.0016 - Test Error: 0.0016\n",
            "Epoch 819/1000 - Train Error: 0.0016 - Test Error: 0.0016\n",
            "Epoch 820/1000 - Train Error: 0.0016 - Test Error: 0.0016\n"
          ]
        },
        {
          "output_type": "stream",
          "name": "stderr",
          "text": [
            "Training:  83%|█████████████████████████████████████████▎        | 826/1000 [00:15<00:04, 39.73it/s]"
          ]
        },
        {
          "output_type": "stream",
          "name": "stdout",
          "text": [
            "Epoch 821/1000 - Train Error: 0.0016 - Test Error: 0.0016\n",
            "Epoch 822/1000 - Train Error: 0.0016 - Test Error: 0.0016\n",
            "Epoch 823/1000 - Train Error: 0.0016 - Test Error: 0.0016\n",
            "Epoch 824/1000 - Train Error: 0.0016 - Test Error: 0.0016\n",
            "Epoch 825/1000 - Train Error: 0.0016 - Test Error: 0.0016\n",
            "Epoch 826/1000 - Train Error: 0.0016 - Test Error: 0.0016\n",
            "Epoch 827/1000 - Train Error: 0.0016 - Test Error: 0.0016\n",
            "Epoch 828/1000 - Train Error: 0.0016 - Test Error: 0.0016\n",
            "Epoch 829/1000 - Train Error: 0.0016 - Test Error: 0.0016\n",
            "Epoch 830/1000 - Train Error: 0.0016 - Test Error: 0.0016\n"
          ]
        },
        {
          "output_type": "stream",
          "name": "stderr",
          "text": [
            "Training:  84%|█████████████████████████████████████████▊        | 836/1000 [00:15<00:04, 40.56it/s]"
          ]
        },
        {
          "output_type": "stream",
          "name": "stdout",
          "text": [
            "Epoch 831/1000 - Train Error: 0.0016 - Test Error: 0.0016\n",
            "Epoch 832/1000 - Train Error: 0.0016 - Test Error: 0.0016\n",
            "Epoch 833/1000 - Train Error: 0.0016 - Test Error: 0.0016\n",
            "Epoch 834/1000 - Train Error: 0.0016 - Test Error: 0.0016\n",
            "Epoch 835/1000 - Train Error: 0.0016 - Test Error: 0.0016\n",
            "Epoch 836/1000 - Train Error: 0.0016 - Test Error: 0.0016\n",
            "Epoch 837/1000 - Train Error: 0.0016 - Test Error: 0.0016\n",
            "Epoch 838/1000 - Train Error: 0.0016 - Test Error: 0.0016\n",
            "Epoch 839/1000 - Train Error: 0.0016 - Test Error: 0.0016\n",
            "Epoch 840/1000 - Train Error: 0.0016 - Test Error: 0.0016\n"
          ]
        },
        {
          "output_type": "stream",
          "name": "stderr",
          "text": [
            "Training:  85%|██████████████████████████████████████████▎       | 846/1000 [00:15<00:03, 42.96it/s]"
          ]
        },
        {
          "output_type": "stream",
          "name": "stdout",
          "text": [
            "Epoch 841/1000 - Train Error: 0.0016 - Test Error: 0.0016\n",
            "Epoch 842/1000 - Train Error: 0.0016 - Test Error: 0.0016\n",
            "Epoch 843/1000 - Train Error: 0.0016 - Test Error: 0.0016\n",
            "Epoch 844/1000 - Train Error: 0.0016 - Test Error: 0.0016\n",
            "Epoch 845/1000 - Train Error: 0.0016 - Test Error: 0.0016\n",
            "Epoch 846/1000 - Train Error: 0.0016 - Test Error: 0.0016\n",
            "Epoch 847/1000 - Train Error: 0.0016 - Test Error: 0.0016\n",
            "Epoch 848/1000 - Train Error: 0.0016 - Test Error: 0.0016\n",
            "Epoch 849/1000 - Train Error: 0.0016 - Test Error: 0.0016\n",
            "Epoch 850/1000 - Train Error: 0.0016 - Test Error: 0.0016\n"
          ]
        },
        {
          "output_type": "stream",
          "name": "stderr",
          "text": [
            "Training:  86%|██████████████████████████████████████████▊       | 856/1000 [00:15<00:03, 42.55it/s]"
          ]
        },
        {
          "output_type": "stream",
          "name": "stdout",
          "text": [
            "Epoch 851/1000 - Train Error: 0.0016 - Test Error: 0.0016\n",
            "Epoch 852/1000 - Train Error: 0.0016 - Test Error: 0.0016\n",
            "Epoch 853/1000 - Train Error: 0.0016 - Test Error: 0.0016\n",
            "Epoch 854/1000 - Train Error: 0.0016 - Test Error: 0.0016\n",
            "Epoch 855/1000 - Train Error: 0.0016 - Test Error: 0.0016\n",
            "Epoch 856/1000 - Train Error: 0.0016 - Test Error: 0.0016\n",
            "Epoch 857/1000 - Train Error: 0.0016 - Test Error: 0.0016\n",
            "Epoch 858/1000 - Train Error: 0.0016 - Test Error: 0.0016\n",
            "Epoch 859/1000 - Train Error: 0.0016 - Test Error: 0.0016\n",
            "Epoch 860/1000 - Train Error: 0.0016 - Test Error: 0.0016\n",
            "Epoch 861/1000 - Train Error: 0.0016 - Test Error: 0.0016\n"
          ]
        },
        {
          "output_type": "stream",
          "name": "stderr",
          "text": [
            "Training:  88%|███████████████████████████████████████████▊      | 875/1000 [00:15<00:01, 64.39it/s]"
          ]
        },
        {
          "output_type": "stream",
          "name": "stdout",
          "text": [
            "Epoch 862/1000 - Train Error: 0.0016 - Test Error: 0.0016\n",
            "Epoch 863/1000 - Train Error: 0.0016 - Test Error: 0.0016\n",
            "Epoch 864/1000 - Train Error: 0.0016 - Test Error: 0.0016\n",
            "Epoch 865/1000 - Train Error: 0.0016 - Test Error: 0.0016\n",
            "Epoch 866/1000 - Train Error: 0.0016 - Test Error: 0.0016\n",
            "Epoch 867/1000 - Train Error: 0.0016 - Test Error: 0.0016\n",
            "Epoch 868/1000 - Train Error: 0.0016 - Test Error: 0.0016\n",
            "Epoch 869/1000 - Train Error: 0.0016 - Test Error: 0.0016\n",
            "Epoch 870/1000 - Train Error: 0.0016 - Test Error: 0.0016\n",
            "Epoch 871/1000 - Train Error: 0.0016 - Test Error: 0.0016\n",
            "Epoch 872/1000 - Train Error: 0.0016 - Test Error: 0.0016\n",
            "Epoch 873/1000 - Train Error: 0.0016 - Test Error: 0.0016\n",
            "Epoch 874/1000 - Train Error: 0.0016 - Test Error: 0.0015\n",
            "Epoch 875/1000 - Train Error: 0.0016 - Test Error: 0.0015\n",
            "Epoch 876/1000 - Train Error: 0.0016 - Test Error: 0.0015\n",
            "Epoch 877/1000 - Train Error: 0.0016 - Test Error: 0.0015\n",
            "Epoch 878/1000 - Train Error: 0.0016 - Test Error: 0.0015\n"
          ]
        },
        {
          "output_type": "stream",
          "name": "stderr",
          "text": [
            "Training:  89%|████████████████████████████████████████████▌     | 891/1000 [00:16<00:01, 68.80it/s]"
          ]
        },
        {
          "output_type": "stream",
          "name": "stdout",
          "text": [
            "Epoch 879/1000 - Train Error: 0.0016 - Test Error: 0.0015\n",
            "Epoch 880/1000 - Train Error: 0.0016 - Test Error: 0.0015\n",
            "Epoch 881/1000 - Train Error: 0.0016 - Test Error: 0.0015\n",
            "Epoch 882/1000 - Train Error: 0.0016 - Test Error: 0.0015\n",
            "Epoch 883/1000 - Train Error: 0.0016 - Test Error: 0.0015\n",
            "Epoch 884/1000 - Train Error: 0.0016 - Test Error: 0.0015\n",
            "Epoch 885/1000 - Train Error: 0.0016 - Test Error: 0.0015\n",
            "Epoch 886/1000 - Train Error: 0.0016 - Test Error: 0.0015\n",
            "Epoch 887/1000 - Train Error: 0.0016 - Test Error: 0.0015\n",
            "Epoch 888/1000 - Train Error: 0.0016 - Test Error: 0.0015\n",
            "Epoch 889/1000 - Train Error: 0.0016 - Test Error: 0.0015\n",
            "Epoch 890/1000 - Train Error: 0.0016 - Test Error: 0.0015\n",
            "Epoch 891/1000 - Train Error: 0.0016 - Test Error: 0.0015\n",
            "Epoch 892/1000 - Train Error: 0.0016 - Test Error: 0.0015\n",
            "Epoch 893/1000 - Train Error: 0.0016 - Test Error: 0.0015\n",
            "Epoch 894/1000 - Train Error: 0.0016 - Test Error: 0.0015\n"
          ]
        },
        {
          "output_type": "stream",
          "name": "stderr",
          "text": []
        },
        {
          "output_type": "stream",
          "name": "stdout",
          "text": [
            "Epoch 895/1000 - Train Error: 0.0016 - Test Error: 0.0015\n",
            "Epoch 896/1000 - Train Error: 0.0016 - Test Error: 0.0015\n",
            "Epoch 897/1000 - Train Error: 0.0016 - Test Error: 0.0015\n",
            "Epoch 898/1000 - Train Error: 0.0016 - Test Error: 0.0015\n",
            "Epoch 899/1000 - Train Error: 0.0016 - Test Error: 0.0015\n",
            "Epoch 900/1000 - Train Error: 0.0016 - Test Error: 0.0015\n",
            "Epoch 901/1000 - Train Error: 0.0016 - Test Error: 0.0015\n",
            "Epoch 902/1000 - Train Error: 0.0016 - Test Error: 0.0015\n",
            "Epoch 903/1000 - Train Error: 0.0016 - Test Error: 0.0015\n",
            "Epoch 904/1000 - Train Error: 0.0016 - Test Error: 0.0015\n",
            "Epoch 905/1000 - Train Error: 0.0016 - Test Error: 0.0015\n",
            "Epoch 906/1000 - Train Error: 0.0016 - Test Error: 0.0015\n",
            "Epoch 907/1000 - Train Error: 0.0016 - Test Error: 0.0015\n",
            "Epoch 908/1000 - Train Error: 0.0016 - Test Error: 0.0015\n",
            "Epoch 909/1000 - Train Error: 0.0016 - Test Error: 0.0015\n",
            "Epoch 910/1000 - Train Error: 0.0016 - Test Error: 0.0015\n",
            "Epoch 911/1000 - Train Error: 0.0016 - Test Error: 0.0015\n"
          ]
        },
        {
          "output_type": "stream",
          "name": "stderr",
          "text": [
            "                                                                                                    "
          ]
        },
        {
          "output_type": "stream",
          "name": "stdout",
          "text": [
            "Epoch 912/1000 - Train Error: 0.0016 - Test Error: 0.0015\n",
            "Epoch 913/1000 - Train Error: 0.0016 - Test Error: 0.0015\n",
            "Epoch 914/1000 - Train Error: 0.0016 - Test Error: 0.0015\n",
            "Epoch 915/1000 - Train Error: 0.0016 - Test Error: 0.0015\n",
            "Epoch 916/1000 - Train Error: 0.0016 - Test Error: 0.0015\n",
            "Epoch 917/1000 - Train Error: 0.0015 - Test Error: 0.0015\n",
            "Epoch 918/1000 - Train Error: 0.0015 - Test Error: 0.0015\n",
            "Epoch 919/1000 - Train Error: 0.0015 - Test Error: 0.0015\n",
            "Epoch 920/1000 - Train Error: 0.0015 - Test Error: 0.0015\n",
            "Epoch 921/1000 - Train Error: 0.0015 - Test Error: 0.0015\n",
            "Epoch 922/1000 - Train Error: 0.0015 - Test Error: 0.0015\n",
            "Epoch 923/1000 - Train Error: 0.0015 - Test Error: 0.0015\n",
            "Epoch 924/1000 - Train Error: 0.0015 - Test Error: 0.0015\n",
            "Epoch 925/1000 - Train Error: 0.0015 - Test Error: 0.0015\n",
            "Epoch 926/1000 - Train Error: 0.0015 - Test Error: 0.0015\n"
          ]
        },
        {
          "output_type": "stream",
          "name": "stderr",
          "text": []
        },
        {
          "output_type": "stream",
          "name": "stdout",
          "text": [
            "Epoch 927/1000 - Train Error: 0.0015 - Test Error: 0.0015\n",
            "Epoch 928/1000 - Train Error: 0.0015 - Test Error: 0.0015\n",
            "Epoch 929/1000 - Train Error: 0.0015 - Test Error: 0.0015\n",
            "Epoch 930/1000 - Train Error: 0.0015 - Test Error: 0.0015\n",
            "Epoch 931/1000 - Train Error: 0.0015 - Test Error: 0.0015\n",
            "Epoch 932/1000 - Train Error: 0.0015 - Test Error: 0.0015\n",
            "Epoch 933/1000 - Train Error: 0.0015 - Test Error: 0.0015\n",
            "Epoch 934/1000 - Train Error: 0.0015 - Test Error: 0.0015\n",
            "Epoch 935/1000 - Train Error: 0.0015 - Test Error: 0.0015\n",
            "Epoch 936/1000 - Train Error: 0.0015 - Test Error: 0.0015\n",
            "Epoch 937/1000 - Train Error: 0.0015 - Test Error: 0.0015\n",
            "Epoch 938/1000 - Train Error: 0.0015 - Test Error: 0.0015\n",
            "Epoch 939/1000 - Train Error: 0.0015 - Test Error: 0.0015\n",
            "Epoch 940/1000 - Train Error: 0.0015 - Test Error: 0.0015\n",
            "Epoch 941/1000 - Train Error: 0.0015 - Test Error: 0.0015\n",
            "Epoch 942/1000 - Train Error: 0.0015 - Test Error: 0.0015\n"
          ]
        },
        {
          "output_type": "stream",
          "name": "stderr",
          "text": [
            "Training:  95%|███████████████████████████████████████████████▋  | 954/1000 [00:16<00:00, 82.79it/s]"
          ]
        },
        {
          "output_type": "stream",
          "name": "stdout",
          "text": [
            "Epoch 943/1000 - Train Error: 0.0015 - Test Error: 0.0015\n",
            "Epoch 944/1000 - Train Error: 0.0015 - Test Error: 0.0015\n",
            "Epoch 945/1000 - Train Error: 0.0015 - Test Error: 0.0015\n",
            "Epoch 946/1000 - Train Error: 0.0015 - Test Error: 0.0015\n",
            "Epoch 947/1000 - Train Error: 0.0015 - Test Error: 0.0015\n",
            "Epoch 948/1000 - Train Error: 0.0015 - Test Error: 0.0015\n",
            "Epoch 949/1000 - Train Error: 0.0015 - Test Error: 0.0015\n",
            "Epoch 950/1000 - Train Error: 0.0015 - Test Error: 0.0015\n",
            "Epoch 951/1000 - Train Error: 0.0015 - Test Error: 0.0015\n",
            "Epoch 952/1000 - Train Error: 0.0015 - Test Error: 0.0015\n",
            "Epoch 953/1000 - Train Error: 0.0015 - Test Error: 0.0015\n",
            "Epoch 954/1000 - Train Error: 0.0015 - Test Error: 0.0015\n",
            "Epoch 955/1000 - Train Error: 0.0015 - Test Error: 0.0015\n",
            "Epoch 956/1000 - Train Error: 0.0015 - Test Error: 0.0015\n",
            "Epoch 957/1000 - Train Error: 0.0015 - Test Error: 0.0015\n",
            "Epoch 958/1000 - Train Error: 0.0015 - Test Error: 0.0015\n",
            "Epoch 959/1000 - Train Error: 0.0015 - Test Error: 0.0015\n",
            "Epoch 960/1000 - Train Error: 0.0015 - Test Error: 0.0015\n"
          ]
        },
        {
          "output_type": "stream",
          "name": "stderr",
          "text": []
        },
        {
          "output_type": "stream",
          "name": "stdout",
          "text": [
            "Epoch 961/1000 - Train Error: 0.0015 - Test Error: 0.0015\n",
            "Epoch 962/1000 - Train Error: 0.0015 - Test Error: 0.0015\n",
            "Epoch 963/1000 - Train Error: 0.0015 - Test Error: 0.0015\n",
            "Epoch 964/1000 - Train Error: 0.0015 - Test Error: 0.0015\n",
            "Epoch 965/1000 - Train Error: 0.0015 - Test Error: 0.0015\n",
            "Epoch 966/1000 - Train Error: 0.0015 - Test Error: 0.0015\n",
            "Epoch 967/1000 - Train Error: 0.0015 - Test Error: 0.0015\n",
            "Epoch 968/1000 - Train Error: 0.0015 - Test Error: 0.0015\n",
            "Epoch 969/1000 - Train Error: 0.0015 - Test Error: 0.0015\n",
            "Epoch 970/1000 - Train Error: 0.0015 - Test Error: 0.0015\n",
            "Epoch 971/1000 - Train Error: 0.0015 - Test Error: 0.0015\n",
            "Epoch 972/1000 - Train Error: 0.0015 - Test Error: 0.0015\n",
            "Epoch 973/1000 - Train Error: 0.0015 - Test Error: 0.0015\n",
            "Epoch 974/1000 - Train Error: 0.0015 - Test Error: 0.0015\n",
            "Epoch 975/1000 - Train Error: 0.0015 - Test Error: 0.0015\n",
            "Epoch 976/1000 - Train Error: 0.0015 - Test Error: 0.0015\n"
          ]
        },
        {
          "output_type": "stream",
          "name": "stderr",
          "text": [
            "Training:  98%|█████████████████████████████████████████████████ | 982/1000 [00:17<00:00, 82.69it/s]"
          ]
        },
        {
          "output_type": "stream",
          "name": "stdout",
          "text": [
            "Epoch 977/1000 - Train Error: 0.0015 - Test Error: 0.0015\n",
            "Epoch 978/1000 - Train Error: 0.0015 - Test Error: 0.0015\n",
            "Epoch 979/1000 - Train Error: 0.0015 - Test Error: 0.0015\n",
            "Epoch 980/1000 - Train Error: 0.0015 - Test Error: 0.0015\n",
            "Epoch 981/1000 - Train Error: 0.0015 - Test Error: 0.0015\n",
            "Epoch 982/1000 - Train Error: 0.0015 - Test Error: 0.0015\n",
            "Epoch 983/1000 - Train Error: 0.0015 - Test Error: 0.0015\n",
            "Epoch 984/1000 - Train Error: 0.0015 - Test Error: 0.0015\n",
            "Epoch 985/1000 - Train Error: 0.0015 - Test Error: 0.0015\n",
            "Epoch 986/1000 - Train Error: 0.0015 - Test Error: 0.0015\n",
            "Epoch 987/1000 - Train Error: 0.0015 - Test Error: 0.0015\n",
            "Epoch 988/1000 - Train Error: 0.0015 - Test Error: 0.0015\n"
          ]
        },
        {
          "output_type": "stream",
          "name": "stderr",
          "text": [
            "Training:  99%|█████████████████████████████████████████████████▌| 991/1000 [00:17<00:00, 59.05it/s]"
          ]
        },
        {
          "output_type": "stream",
          "name": "stdout",
          "text": [
            "Epoch 989/1000 - Train Error: 0.0015 - Test Error: 0.0015\n",
            "Epoch 990/1000 - Train Error: 0.0015 - Test Error: 0.0015\n",
            "Epoch 991/1000 - Train Error: 0.0015 - Test Error: 0.0015\n",
            "Epoch 992/1000 - Train Error: 0.0015 - Test Error: 0.0015\n",
            "Epoch 993/1000 - Train Error: 0.0015 - Test Error: 0.0015\n",
            "Epoch 994/1000 - Train Error: 0.0015 - Test Error: 0.0015\n",
            "Epoch 995/1000 - Train Error: 0.0015 - Test Error: 0.0015\n"
          ]
        },
        {
          "output_type": "stream",
          "name": "stderr",
          "text": [
            "Training: 100%|█████████████████████████████████████████████████| 1000/1000 [00:17<00:00, 56.46it/s]\n"
          ]
        },
        {
          "output_type": "stream",
          "name": "stdout",
          "text": [
            "Epoch 996/1000 - Train Error: 0.0015 - Test Error: 0.0015\n",
            "Epoch 997/1000 - Train Error: 0.0015 - Test Error: 0.0015\n",
            "Epoch 998/1000 - Train Error: 0.0015 - Test Error: 0.0015\n",
            "Epoch 999/1000 - Train Error: 0.0015 - Test Error: 0.0015\n",
            "Epoch 1000/1000 - Train Error: 0.0015 - Test Error: 0.0015\n",
            "\n",
            "Final weights: [[ 4.44792555e-04]\n",
            " [-4.06120093e-03]\n",
            " [-2.52591180e-03]\n",
            " [ 2.50553200e-03]\n",
            " [-2.17923140e-03]\n",
            " [ 9.64634290e-03]\n",
            " [ 3.08612539e-02]\n",
            " [ 2.66407955e-02]\n",
            " [ 3.05272501e-02]\n",
            " [ 3.99759122e-03]\n",
            " [ 5.16285051e-03]\n",
            " [ 6.78296651e-04]\n",
            " [-9.13002479e-03]\n",
            " [-8.36538197e-04]\n",
            " [-3.12423500e-03]\n",
            " [ 9.92272341e-04]\n",
            " [-2.86321150e-04]\n",
            " [-6.52839538e-03]\n",
            " [-7.30791124e-04]\n",
            " [-3.16656713e-03]\n",
            " [ 8.14501760e-04]\n",
            " [-5.45436247e-03]\n",
            " [-5.67894429e-04]\n",
            " [ 3.15769228e-03]\n",
            " [ 6.40628581e-03]\n",
            " [ 2.46409255e-02]\n",
            " [ 2.01474607e-02]\n",
            " [ 2.34519740e-02]\n",
            " [-5.53143869e-03]\n",
            " [ 5.70237049e-03]\n",
            " [-2.06847827e-05]\n",
            " [ 3.66095383e-03]\n",
            " [-5.39647825e-03]\n",
            " [-5.39839335e-04]\n",
            " [-8.23502084e-04]\n",
            " [ 4.92114432e-03]\n",
            " [ 4.33873212e-03]\n",
            " [ 5.14555042e-03]\n",
            " [-3.44116899e-03]\n",
            " [ 4.11658529e-03]\n",
            " [ 1.39248677e-04]\n",
            " [ 5.43636289e-04]\n",
            " [-5.28868243e-03]\n",
            " [-1.12205744e-03]\n",
            " [ 2.93554980e-03]\n",
            " [ 4.66123999e-03]\n",
            " [ 2.31954775e-02]\n",
            " [ 1.97064875e-02]\n",
            " [ 2.11486223e-02]\n",
            " [ 5.63987249e-03]\n",
            " [-2.57100717e-03]\n",
            " [-8.52502645e-03]\n",
            " [-1.36140843e-03]\n",
            " [ 2.68686681e-03]\n",
            " [ 3.88125149e-03]\n",
            " [ 3.82795693e-02]\n",
            " [ 4.06598733e-02]\n",
            " [ 2.99128057e-02]\n",
            " [ 1.04167623e-03]\n",
            " [-2.52663243e-03]\n",
            " [ 5.94412468e-03]\n",
            " [-3.02580630e-03]\n",
            " [-1.41705100e-03]\n",
            " [ 2.75485265e-03]\n",
            " [ 3.00794778e-03]\n",
            " [ 1.47751380e-02]\n",
            " [ 1.37456164e-02]\n",
            " [ 1.38217836e-02]\n",
            " [ 1.36999391e-03]\n",
            " [-3.08830784e-03]\n",
            " [ 1.16386352e-03]\n",
            " [ 2.16857834e-03]\n",
            " [-1.72285133e-03]\n",
            " [-4.21014937e-03]\n",
            " [ 1.23504273e-03]\n",
            " [ 1.11529595e-02]\n",
            " [ 9.45080828e-03]\n",
            " [ 1.08427852e-02]\n",
            " [-1.54609264e-03]\n",
            " [-2.28431929e-03]\n",
            " [-1.49616323e-03]\n",
            " [-1.27157884e-03]\n",
            " [-6.16331997e-03]\n",
            " [-1.77042959e-03]\n",
            " [ 4.03898685e-03]\n",
            " [ 1.70994123e-04]\n",
            " [ 2.73961976e-02]\n",
            " [ 2.56767590e-02]\n",
            " [ 2.72647840e-02]\n",
            " [-7.03352252e-03]\n",
            " [-3.85212813e-04]\n",
            " [ 5.94940714e-04]\n",
            " [ 7.62595546e-04]\n",
            " [ 1.27065884e-03]\n",
            " [-2.16425155e-02]\n",
            " [ 5.49560163e-03]\n",
            " [ 4.15216228e-03]\n",
            " [ 2.20986505e-03]\n",
            " [-3.86161861e-03]\n",
            " [ 3.34061537e-02]\n",
            " [ 2.46786082e-02]\n",
            " [ 3.47379655e-02]\n",
            " [-4.23305650e-03]\n",
            " [ 6.69748550e-03]\n",
            " [ 3.28676041e-03]\n",
            " [-1.72641083e-03]\n",
            " [-7.07068711e-07]\n",
            " [-4.74794581e-03]\n",
            " [-1.14052249e-03]\n",
            " [ 1.69420685e-03]\n",
            " [ 1.80813733e-02]\n",
            " [ 1.61866569e-02]\n",
            " [ 1.76080115e-02]\n",
            " [ 1.01846958e-03]\n",
            " [-2.35683403e-03]\n",
            " [-5.20088404e-03]\n",
            " [-2.72125070e-03]\n",
            " [ 2.58184690e-03]\n",
            " [ 1.01658599e-03]\n",
            " [-2.36107776e-03]\n",
            " [ 4.93957404e-03]\n",
            " [ 2.19187530e-03]\n",
            " [ 1.14761414e-03]\n",
            " [ 2.30995365e-03]\n",
            " [-7.58841130e-03]\n",
            " [ 1.50555592e-02]\n",
            " [ 4.33684905e-03]\n",
            " [ 2.09999198e-03]\n",
            " [-1.68987897e-03]\n",
            " [ 3.40487177e-02]\n",
            " [ 3.11736507e-02]\n",
            " [ 3.26558428e-02]\n",
            " [-1.26295171e-02]\n",
            " [ 2.16181226e-03]\n",
            " [ 8.03613806e-03]\n",
            " [-1.26660359e-03]\n",
            " [ 4.86864609e-03]\n",
            " [ 9.99758279e-03]\n",
            " [ 7.61946980e-03]\n",
            " [ 1.00386566e-02]\n",
            " [ 5.56979732e-03]\n",
            " [ 1.07025948e-03]\n",
            " [-1.78603186e-03]\n",
            " [ 1.68133041e-03]\n",
            " [ 7.79839793e-03]\n",
            " [ 1.07248151e-02]\n",
            " [ 1.12969351e-02]\n",
            " [ 1.12918543e-02]\n",
            " [ 6.98001733e-04]\n",
            " [ 4.96204865e-04]\n",
            " [ 5.48111542e-04]\n",
            " [-3.30807046e-03]\n",
            " [-1.13611800e-03]\n",
            " [ 5.83467958e-04]\n",
            " [-1.66440266e-03]\n",
            " [ 1.29815780e-02]\n",
            " [-2.27815756e-02]\n",
            " [ 6.99941989e-04]\n",
            " [ 1.42719964e-02]\n",
            " [ 1.74601248e-03]\n",
            " [ 6.34544019e-02]\n",
            " [ 6.20676774e-02]]\n"
          ]
        },
        {
          "output_type": "display_data",
          "data": {
            "text/plain": [
              "<Figure size 640x480 with 1 Axes>"
            ],
            "image/png": "[encoded data removed]"
          },
          "metadata": {}
        }
      ]
    },
    {
      "cell_type": "markdown",
      "source": [
        "**1.3.1**"
      ],
      "metadata": {
        "id": "hEOhoDgCdGrT"
      }
    },
    {
      "cell_type": "code",
      "source": [
        "from sklearn.linear_model import LinearRegression, Lasso, Ridge\n",
        "\n",
        "# تعریف مدل‌های مختلف\n",
        "models = {\n",
        "    'Linear Regression': LinearRegression(),\n",
        "    'Lasso Regression': Lasso(alpha=0.1),\n",
        "    'Ridge Regression': Ridge(alpha=0.1)\n",
        "}\n",
        "\n",
        "# آموزش و ارزیابی مدل‌ها\n",
        "results = {}\n",
        "for model_name, model in models.items():\n",
        "    # آموزش مدل\n",
        "    model.fit(X_train, y_train)\n",
        "\n",
        "    # پیش‌بینی\n",
        "    y_train_pred = model.predict(X_train)\n",
        "    y_test_pred = model.predict(X_test)\n",
        "\n",
        "    # محاسبه MSE برای داده‌های آموزش و آزمون\n",
        "    train_error = mean_squared_error(y_train, y_train_pred)\n",
        "    test_error = mean_squared_error(y_test, y_test_pred)\n",
        "\n",
        "    results[model_name] = {\n",
        "        'Train Error (MSE)': train_error,\n",
        "        'Test Error (MSE)': test_error,\n",
        "        'Model': model\n",
        "    }\n",
        "\n",
        "# نمایش نتایج MSE برای هر مدل\n",
        "for model_name, result in results.items():\n",
        "    print(f\"{model_name} - Train MSE: {result['Train Error (MSE)']:.4f}, Test MSE: {result['Test Error (MSE)']:.4f}\")\n",
        "\n",
        "# مقایسه خطاهای مدل‌ها\n",
        "labels = list(results.keys())\n",
        "train_errors = [result['Train Error (MSE)'] for result in results.values()]\n",
        "test_errors = [result['Test Error (MSE)'] for result in results.values()]\n",
        "\n",
        "# نمودار مقایسه MSE\n",
        "plt.figure(figsize=(8,6))\n",
        "plt.bar(labels, train_errors, alpha=0.6, label='Train MSE')\n",
        "plt.bar(labels, test_errors, alpha=0.6, label='Test MSE')\n",
        "plt.ylabel('Mean Squared Error')\n",
        "plt.title('Comparison of Model Errors (MSE)')\n",
        "plt.legend()\n",
        "plt.show()\n",
        "\n",
        "# انتخاب بهترین مدل بر اساس کمترین MSE در آزمون\n",
        "best_model_name = min(results, key=lambda model: results[model]['Test Error (MSE)'])\n",
        "best_model = results[best_model_name]['Model']\n",
        "print(f\"\\nBest Model: {best_model_name}\")\n"
      ],
      "metadata": {
        "colab": {
          "base_uri": "https://localhost:8080/",
          "height": 632
        },
        "id": "e8HdHoFYdJqw",
        "outputId": "5ec8838a-c0d4-4880-ec34-70968748092b"
      },
      "execution_count": null,
      "outputs": [
        {
          "output_type": "stream",
          "name": "stdout",
          "text": [
            "Linear Regression - Train MSE: 0.0000, Test MSE: 0.0000\n",
            "Lasso Regression - Train MSE: 0.0300, Test MSE: 0.0296\n",
            "Ridge Regression - Train MSE: 0.0000, Test MSE: 0.0000\n"
          ]
        },
        {
          "output_type": "display_data",
          "data": {
            "text/plain": [
              "<Figure size 800x600 with 1 Axes>"
            ],
            "image/png": "[encoded data removed]"
          },
          "metadata": {}
        },
        {
          "output_type": "stream",
          "name": "stdout",
          "text": [
            "\n",
            "Best Model: Linear Regression\n"
          ]
        }
      ]
    },
    {
      "cell_type": "markdown",
      "source": [
        "# امتیازی"
      ],
      "metadata": {
        "id": "TmDy5XD8ySZN"
      }
    },
    {
      "cell_type": "code",
      "source": [
        "from tqdm import tqdm\n",
        "\n",
        "# برای نمونه، در اینجا دما (BASEL_temp_mean) را به‌عنوان هدف انتخاب کرده‌ایم\n",
        "X = df_cleaned.drop(columns=['BASEL_temp_mean','DATE','MONTH']).values  # تمامی ویژگی‌ها به جز BASEL_temp_mean\n",
        "y = df_cleaned['BASEL_temp_mean'].values  # هدف: دمای شهر BASEL\n",
        "\n",
        "# تقسیم داده‌ها به مجموعه آموزش و آزمون (80% آموزش و 20% آزمون)\n",
        "X_train, X_test, y_train, y_test = train_test_split(X, y, test_size=0.2, random_state=42)\n",
        "y_train = y_train.reshape(-1, 1)\n",
        "y_test = y_test.reshape(-1, 1)\n",
        "# تابع پیش‌بینی مدل (رگرسیون خطی درجه 1)\n",
        "def predict(X, weights):\n",
        "    return np.dot(X, weights)\n",
        "\n",
        "# تابع محاسبه خطا (MSE)\n",
        "def compute_error(y_true, y_pred):\n",
        "    return mean_squared_error(y_true, y_pred)\n",
        "\n",
        "# تابع محاسبه گرادیان (برای رگرسیون چندجمله‌ای درجه 1)\n",
        "def compute_gradient(X, y_true, y_pred):\n",
        "    return -2 * np.dot(X.T, (y_true - y_pred)) / len(y_true)\n",
        "\n",
        "# تابع بروزرسانی وزن‌ها\n",
        "def update_weights(weights, learning_rate, gradient):\n",
        "    return weights - learning_rate * gradient\n",
        "\n",
        "# حلقه آموزش مدل\n",
        "def train_model(X_train, y_train, X_test, y_test, learning_rate=0.01, max_epochs=1000, tolerance=0.001):\n",
        "    # وزن‌های اولیه مدل (آغاز از صفر)\n",
        "    weights = np.zeros((X_train.shape[1], 1))\n",
        "\n",
        "    # ذخیره خطاها برای نمایش در نهایت\n",
        "    train_errors = []\n",
        "    test_errors = []\n",
        "\n",
        "    # نوار پیشرفت tqdm\n",
        "    for epoch in tqdm(range(max_epochs), desc=\"Training\", ncols=100):\n",
        "        # پیش‌بینی برای داده‌های آموزش و آزمون\n",
        "        y_train_pred = predict(X_train, weights)\n",
        "        y_test_pred = predict(X_test, weights)\n",
        "\n",
        "        # محاسبه خطاها\n",
        "        train_error = compute_error(y_train, y_train_pred)\n",
        "        test_error = compute_error(y_test, y_test_pred)\n",
        "\n",
        "        # ذخیره خطاها\n",
        "        train_errors.append(train_error)\n",
        "        test_errors.append(test_error)\n",
        "\n",
        "        # محاسبه گرادیان\n",
        "        gradient = compute_gradient(X_train, y_train, y_train_pred)\n",
        "\n",
        "        # بروزرسانی وزن‌ها\n",
        "        weights = update_weights(weights, learning_rate, gradient)\n",
        "\n",
        "        # نمایش خطا برای داده‌های آموزش و آزمون\n",
        "        tqdm.write(f'Epoch {epoch+1}/{max_epochs} - Train Error: {train_error:.4f} - Test Error: {test_error:.4f}')\n",
        "\n",
        "        # توقف آموزش اگر خطا به حد مشخصی رسید\n",
        "        if train_error < tolerance:\n",
        "            print(f\"\\nTraining stopped at epoch {epoch+1} due to tolerance threshold.\")\n",
        "            break\n",
        "\n",
        "    return weights, train_errors, test_errors\n",
        "\n",
        "# آموزش مدل\n",
        "weights, train_errors, test_errors = train_model(X_train, y_train, X_test, y_test)\n",
        "\n",
        "# نمایش وزن‌ها نهایی\n",
        "print(\"\\nFinal weights:\", weights)\n",
        "\n",
        "# نمایش خطاها\n",
        "plt.plot(train_errors, label=\"Train Error\")\n",
        "plt.plot(test_errors, label=\"Test Error\")\n",
        "plt.xlabel(\"Epochs\")\n",
        "plt.ylabel(\"Error\")\n",
        "plt.legend()\n",
        "plt.title(\"Training and Test Errors Over Epochs\")\n",
        "plt.show()\n"
      ],
      "metadata": {
        "colab": {
          "base_uri": "https://localhost:8080/",
          "height": 1000
        },
        "id": "VtOMcPUcyV23",
        "outputId": "fd5d128e-ee54-470a-807a-ebe4d7306e99"
      },
      "execution_count": null,
      "outputs": [
        {
          "output_type": "stream",
          "name": "stderr",
          "text": []
        },
        {
          "output_type": "stream",
          "name": "stdout",
          "text": [
            "Epoch 1/1000 - Train Error: 0.3184 - Test Error: 0.3215\n",
            "Epoch 2/1000 - Train Error: 0.0256 - Test Error: 0.0256\n",
            "Epoch 3/1000 - Train Error: 0.0141 - Test Error: 0.0138\n",
            "Epoch 4/1000 - Train Error: 0.0129 - Test Error: 0.0126\n",
            "Epoch 5/1000 - Train Error: 0.0122 - Test Error: 0.0118\n",
            "Epoch 6/1000 - Train Error: 0.0115 - Test Error: 0.0112\n",
            "Epoch 7/1000 - Train Error: 0.0109 - Test Error: 0.0105\n",
            "Epoch 8/1000 - Train Error: 0.0103 - Test Error: 0.0100\n",
            "Epoch 9/1000 - Train Error: 0.0097 - Test Error: 0.0094\n",
            "Epoch 10/1000 - Train Error: 0.0093 - Test Error: 0.0090\n",
            "Epoch 11/1000 - Train Error: 0.0088 - Test Error: 0.0085\n",
            "Epoch 12/1000 - Train Error: 0.0084 - Test Error: 0.0081\n",
            "Epoch 13/1000 - Train Error: 0.0080 - Test Error: 0.0077\n",
            "Epoch 14/1000 - Train Error: 0.0077 - Test Error: 0.0074\n",
            "Epoch 15/1000 - Train Error: 0.0073 - Test Error: 0.0071\n",
            "Epoch 16/1000 - Train Error: 0.0070 - Test Error: 0.0068\n",
            "Epoch 17/1000 - Train Error: 0.0067 - Test Error: 0.0065\n",
            "Epoch 18/1000 - Train Error: 0.0065 - Test Error: 0.0063\n",
            "Epoch 19/1000 - Train Error: 0.0063 - Test Error: 0.0060\n"
          ]
        },
        {
          "output_type": "stream",
          "name": "stderr",
          "text": [
            "                                                                                                    "
          ]
        },
        {
          "output_type": "stream",
          "name": "stdout",
          "text": [
            "Epoch 20/1000 - Train Error: 0.0060 - Test Error: 0.0058\n",
            "Epoch 21/1000 - Train Error: 0.0058 - Test Error: 0.0056\n",
            "Epoch 22/1000 - Train Error: 0.0056 - Test Error: 0.0054\n",
            "Epoch 23/1000 - Train Error: 0.0055 - Test Error: 0.0053\n",
            "Epoch 24/1000 - Train Error: 0.0053 - Test Error: 0.0051\n",
            "Epoch 25/1000 - Train Error: 0.0052 - Test Error: 0.0050\n",
            "Epoch 26/1000 - Train Error: 0.0050 - Test Error: 0.0048\n",
            "Epoch 27/1000 - Train Error: 0.0049 - Test Error: 0.0047\n",
            "Epoch 28/1000 - Train Error: 0.0048 - Test Error: 0.0046\n",
            "Epoch 29/1000 - Train Error: 0.0046 - Test Error: 0.0045\n",
            "Epoch 30/1000 - Train Error: 0.0045 - Test Error: 0.0044\n",
            "Epoch 31/1000 - Train Error: 0.0044 - Test Error: 0.0043\n",
            "Epoch 32/1000 - Train Error: 0.0043 - Test Error: 0.0042\n",
            "Epoch 33/1000 - Train Error: 0.0043 - Test Error: 0.0041\n",
            "Epoch 34/1000 - Train Error: 0.0042 - Test Error: 0.0040\n",
            "Epoch 35/1000 - Train Error: 0.0041 - Test Error: 0.0040\n",
            "Epoch 36/1000 - Train Error: 0.0040 - Test Error: 0.0039\n",
            "Epoch 37/1000 - Train Error: 0.0040 - Test Error: 0.0038\n",
            "Epoch 38/1000 - Train Error: 0.0039 - Test Error: 0.0038\n",
            "Epoch 39/1000 - Train Error: 0.0038 - Test Error: 0.0037\n",
            "Epoch 40/1000 - Train Error: 0.0038 - Test Error: 0.0037\n",
            "Epoch 41/1000 - Train Error: 0.0037 - Test Error: 0.0036\n",
            "Epoch 42/1000 - Train Error: 0.0037 - Test Error: 0.0036\n"
          ]
        },
        {
          "output_type": "stream",
          "name": "stderr",
          "text": [
            "Training:   5%|██▋                                               | 54/1000 [00:00<00:09, 101.60it/s]"
          ]
        },
        {
          "output_type": "stream",
          "name": "stdout",
          "text": [
            "Epoch 43/1000 - Train Error: 0.0036 - Test Error: 0.0035\n",
            "Epoch 44/1000 - Train Error: 0.0036 - Test Error: 0.0035\n",
            "Epoch 45/1000 - Train Error: 0.0035 - Test Error: 0.0034\n",
            "Epoch 46/1000 - Train Error: 0.0035 - Test Error: 0.0034\n",
            "Epoch 47/1000 - Train Error: 0.0034 - Test Error: 0.0034\n",
            "Epoch 48/1000 - Train Error: 0.0034 - Test Error: 0.0033\n",
            "Epoch 49/1000 - Train Error: 0.0034 - Test Error: 0.0033\n",
            "Epoch 50/1000 - Train Error: 0.0033 - Test Error: 0.0033\n",
            "Epoch 51/1000 - Train Error: 0.0033 - Test Error: 0.0032\n",
            "Epoch 52/1000 - Train Error: 0.0033 - Test Error: 0.0032\n",
            "Epoch 53/1000 - Train Error: 0.0032 - Test Error: 0.0032\n",
            "Epoch 54/1000 - Train Error: 0.0032 - Test Error: 0.0031\n",
            "Epoch 55/1000 - Train Error: 0.0032 - Test Error: 0.0031\n",
            "Epoch 56/1000 - Train Error: 0.0031 - Test Error: 0.0031\n",
            "Epoch 57/1000 - Train Error: 0.0031 - Test Error: 0.0031\n",
            "Epoch 58/1000 - Train Error: 0.0031 - Test Error: 0.0030\n",
            "Epoch 59/1000 - Train Error: 0.0031 - Test Error: 0.0030\n",
            "Epoch 60/1000 - Train Error: 0.0030 - Test Error: 0.0030\n",
            "Epoch 61/1000 - Train Error: 0.0030 - Test Error: 0.0030\n"
          ]
        },
        {
          "output_type": "stream",
          "name": "stderr",
          "text": [
            "Training:   8%|███▊                                              | 76/1000 [00:00<00:08, 102.97it/s]"
          ]
        },
        {
          "output_type": "stream",
          "name": "stdout",
          "text": [
            "Epoch 62/1000 - Train Error: 0.0030 - Test Error: 0.0029\n",
            "Epoch 63/1000 - Train Error: 0.0030 - Test Error: 0.0029\n",
            "Epoch 64/1000 - Train Error: 0.0030 - Test Error: 0.0029\n",
            "Epoch 65/1000 - Train Error: 0.0029 - Test Error: 0.0029\n",
            "Epoch 66/1000 - Train Error: 0.0029 - Test Error: 0.0029\n",
            "Epoch 67/1000 - Train Error: 0.0029 - Test Error: 0.0028\n",
            "Epoch 68/1000 - Train Error: 0.0029 - Test Error: 0.0028\n",
            "Epoch 69/1000 - Train Error: 0.0029 - Test Error: 0.0028\n",
            "Epoch 70/1000 - Train Error: 0.0028 - Test Error: 0.0028\n",
            "Epoch 71/1000 - Train Error: 0.0028 - Test Error: 0.0028\n",
            "Epoch 72/1000 - Train Error: 0.0028 - Test Error: 0.0028\n",
            "Epoch 73/1000 - Train Error: 0.0028 - Test Error: 0.0027\n",
            "Epoch 74/1000 - Train Error: 0.0028 - Test Error: 0.0027\n",
            "Epoch 75/1000 - Train Error: 0.0027 - Test Error: 0.0027\n",
            "Epoch 76/1000 - Train Error: 0.0027 - Test Error: 0.0027\n",
            "Epoch 77/1000 - Train Error: 0.0027 - Test Error: 0.0027\n",
            "Epoch 78/1000 - Train Error: 0.0027 - Test Error: 0.0027\n",
            "Epoch 79/1000 - Train Error: 0.0027 - Test Error: 0.0027\n",
            "Epoch 80/1000 - Train Error: 0.0027 - Test Error: 0.0026\n",
            "Epoch 81/1000 - Train Error: 0.0027 - Test Error: 0.0026\n",
            "Epoch 82/1000 - Train Error: 0.0026 - Test Error: 0.0026\n",
            "Epoch 83/1000 - Train Error: 0.0026 - Test Error: 0.0026\n",
            "Epoch 84/1000 - Train Error: 0.0026 - Test Error: 0.0026\n"
          ]
        },
        {
          "output_type": "stream",
          "name": "stderr",
          "text": [
            "                                                                                                    "
          ]
        },
        {
          "output_type": "stream",
          "name": "stdout",
          "text": [
            "Epoch 85/1000 - Train Error: 0.0026 - Test Error: 0.0026\n",
            "Epoch 86/1000 - Train Error: 0.0026 - Test Error: 0.0026\n",
            "Epoch 87/1000 - Train Error: 0.0026 - Test Error: 0.0025\n",
            "Epoch 88/1000 - Train Error: 0.0026 - Test Error: 0.0025\n",
            "Epoch 89/1000 - Train Error: 0.0025 - Test Error: 0.0025\n",
            "Epoch 90/1000 - Train Error: 0.0025 - Test Error: 0.0025\n",
            "Epoch 91/1000 - Train Error: 0.0025 - Test Error: 0.0025\n",
            "Epoch 92/1000 - Train Error: 0.0025 - Test Error: 0.0025\n",
            "Epoch 93/1000 - Train Error: 0.0025 - Test Error: 0.0025\n",
            "Epoch 94/1000 - Train Error: 0.0025 - Test Error: 0.0025\n",
            "Epoch 95/1000 - Train Error: 0.0025 - Test Error: 0.0025\n",
            "Epoch 96/1000 - Train Error: 0.0025 - Test Error: 0.0024\n",
            "Epoch 97/1000 - Train Error: 0.0024 - Test Error: 0.0024\n",
            "Epoch 98/1000 - Train Error: 0.0024 - Test Error: 0.0024\n",
            "Epoch 99/1000 - Train Error: 0.0024 - Test Error: 0.0024\n",
            "Epoch 100/1000 - Train Error: 0.0024 - Test Error: 0.0024\n",
            "Epoch 101/1000 - Train Error: 0.0024 - Test Error: 0.0024\n",
            "Epoch 102/1000 - Train Error: 0.0024 - Test Error: 0.0024\n",
            "Epoch 103/1000 - Train Error: 0.0024 - Test Error: 0.0024\n",
            "Epoch 104/1000 - Train Error: 0.0024 - Test Error: 0.0024\n",
            "Epoch 105/1000 - Train Error: 0.0024 - Test Error: 0.0023\n"
          ]
        },
        {
          "output_type": "stream",
          "name": "stderr",
          "text": [
            "Training:  12%|█████▉                                           | 122/1000 [00:01<00:08, 106.36it/s]"
          ]
        },
        {
          "output_type": "stream",
          "name": "stdout",
          "text": [
            "Epoch 106/1000 - Train Error: 0.0023 - Test Error: 0.0023\n",
            "Epoch 107/1000 - Train Error: 0.0023 - Test Error: 0.0023\n",
            "Epoch 108/1000 - Train Error: 0.0023 - Test Error: 0.0023\n",
            "Epoch 109/1000 - Train Error: 0.0023 - Test Error: 0.0023\n",
            "Epoch 110/1000 - Train Error: 0.0023 - Test Error: 0.0023\n",
            "Epoch 111/1000 - Train Error: 0.0023 - Test Error: 0.0023\n",
            "Epoch 112/1000 - Train Error: 0.0023 - Test Error: 0.0023\n",
            "Epoch 113/1000 - Train Error: 0.0023 - Test Error: 0.0023\n",
            "Epoch 114/1000 - Train Error: 0.0023 - Test Error: 0.0023\n",
            "Epoch 115/1000 - Train Error: 0.0023 - Test Error: 0.0023\n",
            "Epoch 116/1000 - Train Error: 0.0023 - Test Error: 0.0023\n",
            "Epoch 117/1000 - Train Error: 0.0022 - Test Error: 0.0022\n",
            "Epoch 118/1000 - Train Error: 0.0022 - Test Error: 0.0022\n",
            "Epoch 119/1000 - Train Error: 0.0022 - Test Error: 0.0022\n",
            "Epoch 120/1000 - Train Error: 0.0022 - Test Error: 0.0022\n",
            "Epoch 121/1000 - Train Error: 0.0022 - Test Error: 0.0022\n",
            "Epoch 122/1000 - Train Error: 0.0022 - Test Error: 0.0022\n",
            "Epoch 123/1000 - Train Error: 0.0022 - Test Error: 0.0022\n",
            "Epoch 124/1000 - Train Error: 0.0022 - Test Error: 0.0022\n",
            "Epoch 125/1000 - Train Error: 0.0022 - Test Error: 0.0022\n",
            "Epoch 126/1000 - Train Error: 0.0022 - Test Error: 0.0022\n",
            "Epoch 127/1000 - Train Error: 0.0022 - Test Error: 0.0022\n",
            "Epoch 128/1000 - Train Error: 0.0022 - Test Error: 0.0022\n"
          ]
        },
        {
          "output_type": "stream",
          "name": "stderr",
          "text": [
            "Training:  14%|███████                                          | 144/1000 [00:01<00:08, 104.95it/s]"
          ]
        },
        {
          "output_type": "stream",
          "name": "stdout",
          "text": [
            "Epoch 129/1000 - Train Error: 0.0022 - Test Error: 0.0022\n",
            "Epoch 130/1000 - Train Error: 0.0021 - Test Error: 0.0021\n",
            "Epoch 131/1000 - Train Error: 0.0021 - Test Error: 0.0021\n",
            "Epoch 132/1000 - Train Error: 0.0021 - Test Error: 0.0021\n",
            "Epoch 133/1000 - Train Error: 0.0021 - Test Error: 0.0021\n",
            "Epoch 134/1000 - Train Error: 0.0021 - Test Error: 0.0021\n",
            "Epoch 135/1000 - Train Error: 0.0021 - Test Error: 0.0021\n",
            "Epoch 136/1000 - Train Error: 0.0021 - Test Error: 0.0021\n",
            "Epoch 137/1000 - Train Error: 0.0021 - Test Error: 0.0021\n",
            "Epoch 138/1000 - Train Error: 0.0021 - Test Error: 0.0021\n",
            "Epoch 139/1000 - Train Error: 0.0021 - Test Error: 0.0021\n",
            "Epoch 140/1000 - Train Error: 0.0021 - Test Error: 0.0021\n",
            "Epoch 141/1000 - Train Error: 0.0021 - Test Error: 0.0021\n",
            "Epoch 142/1000 - Train Error: 0.0021 - Test Error: 0.0021\n",
            "Epoch 143/1000 - Train Error: 0.0021 - Test Error: 0.0021\n",
            "Epoch 144/1000 - Train Error: 0.0021 - Test Error: 0.0021\n",
            "Epoch 145/1000 - Train Error: 0.0020 - Test Error: 0.0021\n",
            "Epoch 146/1000 - Train Error: 0.0020 - Test Error: 0.0020\n",
            "Epoch 147/1000 - Train Error: 0.0020 - Test Error: 0.0020\n",
            "Epoch 148/1000 - Train Error: 0.0020 - Test Error: 0.0020\n",
            "Epoch 149/1000 - Train Error: 0.0020 - Test Error: 0.0020\n",
            "Epoch 150/1000 - Train Error: 0.0020 - Test Error: 0.0020\n"
          ]
        },
        {
          "output_type": "stream",
          "name": "stderr",
          "text": [
            "Training:  17%|████████▏                                        | 167/1000 [00:01<00:07, 108.12it/s]"
          ]
        },
        {
          "output_type": "stream",
          "name": "stdout",
          "text": [
            "Epoch 151/1000 - Train Error: 0.0020 - Test Error: 0.0020\n",
            "Epoch 152/1000 - Train Error: 0.0020 - Test Error: 0.0020\n",
            "Epoch 153/1000 - Train Error: 0.0020 - Test Error: 0.0020\n",
            "Epoch 154/1000 - Train Error: 0.0020 - Test Error: 0.0020\n",
            "Epoch 155/1000 - Train Error: 0.0020 - Test Error: 0.0020\n",
            "Epoch 156/1000 - Train Error: 0.0020 - Test Error: 0.0020\n",
            "Epoch 157/1000 - Train Error: 0.0020 - Test Error: 0.0020\n",
            "Epoch 158/1000 - Train Error: 0.0020 - Test Error: 0.0020\n",
            "Epoch 159/1000 - Train Error: 0.0020 - Test Error: 0.0020\n",
            "Epoch 160/1000 - Train Error: 0.0020 - Test Error: 0.0020\n",
            "Epoch 161/1000 - Train Error: 0.0020 - Test Error: 0.0020\n",
            "Epoch 162/1000 - Train Error: 0.0020 - Test Error: 0.0020\n",
            "Epoch 163/1000 - Train Error: 0.0020 - Test Error: 0.0020\n",
            "Epoch 164/1000 - Train Error: 0.0019 - Test Error: 0.0020\n",
            "Epoch 165/1000 - Train Error: 0.0019 - Test Error: 0.0020\n",
            "Epoch 166/1000 - Train Error: 0.0019 - Test Error: 0.0019\n",
            "Epoch 167/1000 - Train Error: 0.0019 - Test Error: 0.0019\n",
            "Epoch 168/1000 - Train Error: 0.0019 - Test Error: 0.0019\n",
            "Epoch 169/1000 - Train Error: 0.0019 - Test Error: 0.0019\n",
            "Epoch 170/1000 - Train Error: 0.0019 - Test Error: 0.0019\n",
            "Epoch 171/1000 - Train Error: 0.0019 - Test Error: 0.0019\n"
          ]
        },
        {
          "output_type": "stream",
          "name": "stderr",
          "text": [
            "Training:  19%|█████████▎                                       | 189/1000 [00:01<00:08, 100.57it/s]"
          ]
        },
        {
          "output_type": "stream",
          "name": "stdout",
          "text": [
            "Epoch 172/1000 - Train Error: 0.0019 - Test Error: 0.0019\n",
            "Epoch 173/1000 - Train Error: 0.0019 - Test Error: 0.0019\n",
            "Epoch 174/1000 - Train Error: 0.0019 - Test Error: 0.0019\n",
            "Epoch 175/1000 - Train Error: 0.0019 - Test Error: 0.0019\n",
            "Epoch 176/1000 - Train Error: 0.0019 - Test Error: 0.0019\n",
            "Epoch 177/1000 - Train Error: 0.0019 - Test Error: 0.0019\n",
            "Epoch 178/1000 - Train Error: 0.0019 - Test Error: 0.0019\n",
            "Epoch 179/1000 - Train Error: 0.0019 - Test Error: 0.0019\n",
            "Epoch 180/1000 - Train Error: 0.0019 - Test Error: 0.0019\n",
            "Epoch 181/1000 - Train Error: 0.0019 - Test Error: 0.0019\n",
            "Epoch 182/1000 - Train Error: 0.0019 - Test Error: 0.0019\n",
            "Epoch 183/1000 - Train Error: 0.0019 - Test Error: 0.0019\n",
            "Epoch 184/1000 - Train Error: 0.0019 - Test Error: 0.0019\n",
            "Epoch 185/1000 - Train Error: 0.0019 - Test Error: 0.0019\n",
            "Epoch 186/1000 - Train Error: 0.0018 - Test Error: 0.0019\n",
            "Epoch 187/1000 - Train Error: 0.0018 - Test Error: 0.0019\n",
            "Epoch 188/1000 - Train Error: 0.0018 - Test Error: 0.0019\n",
            "Epoch 189/1000 - Train Error: 0.0018 - Test Error: 0.0019\n",
            "Epoch 190/1000 - Train Error: 0.0018 - Test Error: 0.0018\n",
            "Epoch 191/1000 - Train Error: 0.0018 - Test Error: 0.0018\n"
          ]
        },
        {
          "output_type": "stream",
          "name": "stderr",
          "text": []
        },
        {
          "output_type": "stream",
          "name": "stdout",
          "text": [
            "Epoch 192/1000 - Train Error: 0.0018 - Test Error: 0.0018\n",
            "Epoch 193/1000 - Train Error: 0.0018 - Test Error: 0.0018\n",
            "Epoch 194/1000 - Train Error: 0.0018 - Test Error: 0.0018\n",
            "Epoch 195/1000 - Train Error: 0.0018 - Test Error: 0.0018\n",
            "Epoch 196/1000 - Train Error: 0.0018 - Test Error: 0.0018\n",
            "Epoch 197/1000 - Train Error: 0.0018 - Test Error: 0.0018\n",
            "Epoch 198/1000 - Train Error: 0.0018 - Test Error: 0.0018\n",
            "Epoch 199/1000 - Train Error: 0.0018 - Test Error: 0.0018\n",
            "Epoch 200/1000 - Train Error: 0.0018 - Test Error: 0.0018\n",
            "Epoch 201/1000 - Train Error: 0.0018 - Test Error: 0.0018\n",
            "Epoch 202/1000 - Train Error: 0.0018 - Test Error: 0.0018\n",
            "Epoch 203/1000 - Train Error: 0.0018 - Test Error: 0.0018\n",
            "Epoch 204/1000 - Train Error: 0.0018 - Test Error: 0.0018\n",
            "Epoch 205/1000 - Train Error: 0.0018 - Test Error: 0.0018\n",
            "Epoch 206/1000 - Train Error: 0.0018 - Test Error: 0.0018\n",
            "Epoch 207/1000 - Train Error: 0.0018 - Test Error: 0.0018\n",
            "Epoch 208/1000 - Train Error: 0.0018 - Test Error: 0.0018\n",
            "Epoch 209/1000 - Train Error: 0.0018 - Test Error: 0.0018\n",
            "Epoch 210/1000 - Train Error: 0.0018 - Test Error: 0.0018\n"
          ]
        },
        {
          "output_type": "stream",
          "name": "stderr",
          "text": [
            "Training:  23%|███████████▌                                      | 230/1000 [00:02<00:07, 96.83it/s]"
          ]
        },
        {
          "output_type": "stream",
          "name": "stdout",
          "text": [
            "Epoch 211/1000 - Train Error: 0.0018 - Test Error: 0.0018\n",
            "Epoch 212/1000 - Train Error: 0.0018 - Test Error: 0.0018\n",
            "Epoch 213/1000 - Train Error: 0.0018 - Test Error: 0.0018\n",
            "Epoch 214/1000 - Train Error: 0.0018 - Test Error: 0.0018\n",
            "Epoch 215/1000 - Train Error: 0.0017 - Test Error: 0.0018\n",
            "Epoch 216/1000 - Train Error: 0.0017 - Test Error: 0.0018\n",
            "Epoch 217/1000 - Train Error: 0.0017 - Test Error: 0.0018\n",
            "Epoch 218/1000 - Train Error: 0.0017 - Test Error: 0.0018\n",
            "Epoch 219/1000 - Train Error: 0.0017 - Test Error: 0.0018\n",
            "Epoch 220/1000 - Train Error: 0.0017 - Test Error: 0.0018\n",
            "Epoch 221/1000 - Train Error: 0.0017 - Test Error: 0.0017\n",
            "Epoch 222/1000 - Train Error: 0.0017 - Test Error: 0.0017\n",
            "Epoch 223/1000 - Train Error: 0.0017 - Test Error: 0.0017\n",
            "Epoch 224/1000 - Train Error: 0.0017 - Test Error: 0.0017\n",
            "Epoch 225/1000 - Train Error: 0.0017 - Test Error: 0.0017\n",
            "Epoch 226/1000 - Train Error: 0.0017 - Test Error: 0.0017\n",
            "Epoch 227/1000 - Train Error: 0.0017 - Test Error: 0.0017\n",
            "Epoch 228/1000 - Train Error: 0.0017 - Test Error: 0.0017\n",
            "Epoch 229/1000 - Train Error: 0.0017 - Test Error: 0.0017\n",
            "Epoch 230/1000 - Train Error: 0.0017 - Test Error: 0.0017\n"
          ]
        },
        {
          "output_type": "stream",
          "name": "stderr",
          "text": [
            "Training:  24%|████████████                                      | 240/1000 [00:02<00:08, 93.75it/s]"
          ]
        },
        {
          "output_type": "stream",
          "name": "stdout",
          "text": [
            "Epoch 231/1000 - Train Error: 0.0017 - Test Error: 0.0017\n",
            "Epoch 232/1000 - Train Error: 0.0017 - Test Error: 0.0017\n",
            "Epoch 233/1000 - Train Error: 0.0017 - Test Error: 0.0017\n",
            "Epoch 234/1000 - Train Error: 0.0017 - Test Error: 0.0017\n",
            "Epoch 235/1000 - Train Error: 0.0017 - Test Error: 0.0017\n",
            "Epoch 236/1000 - Train Error: 0.0017 - Test Error: 0.0017\n",
            "Epoch 237/1000 - Train Error: 0.0017 - Test Error: 0.0017\n",
            "Epoch 238/1000 - Train Error: 0.0017 - Test Error: 0.0017\n",
            "Epoch 239/1000 - Train Error: 0.0017 - Test Error: 0.0017\n",
            "Epoch 240/1000 - Train Error: 0.0017 - Test Error: 0.0017\n",
            "Epoch 241/1000 - Train Error: 0.0017 - Test Error: 0.0017\n",
            "Epoch 242/1000 - Train Error: 0.0017 - Test Error: 0.0017\n",
            "Epoch 243/1000 - Train Error: 0.0017 - Test Error: 0.0017\n",
            "Epoch 244/1000 - Train Error: 0.0017 - Test Error: 0.0017\n",
            "Epoch 245/1000 - Train Error: 0.0017 - Test Error: 0.0017\n",
            "Epoch 246/1000 - Train Error: 0.0017 - Test Error: 0.0017\n",
            "Epoch 247/1000 - Train Error: 0.0017 - Test Error: 0.0017\n",
            "Epoch 248/1000 - Train Error: 0.0017 - Test Error: 0.0017\n",
            "Epoch 249/1000 - Train Error: 0.0017 - Test Error: 0.0017\n",
            "Epoch 250/1000 - Train Error: 0.0017 - Test Error: 0.0017\n",
            "Epoch 251/1000 - Train Error: 0.0016 - Test Error: 0.0017\n"
          ]
        },
        {
          "output_type": "stream",
          "name": "stderr",
          "text": [
            "Training:  26%|█████████████                                     | 262/1000 [00:02<00:07, 95.17it/s]"
          ]
        },
        {
          "output_type": "stream",
          "name": "stdout",
          "text": [
            "Epoch 252/1000 - Train Error: 0.0016 - Test Error: 0.0017\n",
            "Epoch 253/1000 - Train Error: 0.0016 - Test Error: 0.0017\n",
            "Epoch 254/1000 - Train Error: 0.0016 - Test Error: 0.0017\n",
            "Epoch 255/1000 - Train Error: 0.0016 - Test Error: 0.0017\n",
            "Epoch 256/1000 - Train Error: 0.0016 - Test Error: 0.0017\n",
            "Epoch 257/1000 - Train Error: 0.0016 - Test Error: 0.0017\n",
            "Epoch 258/1000 - Train Error: 0.0016 - Test Error: 0.0017\n",
            "Epoch 259/1000 - Train Error: 0.0016 - Test Error: 0.0017\n",
            "Epoch 260/1000 - Train Error: 0.0016 - Test Error: 0.0016\n",
            "Epoch 261/1000 - Train Error: 0.0016 - Test Error: 0.0016\n",
            "Epoch 262/1000 - Train Error: 0.0016 - Test Error: 0.0016\n",
            "Epoch 263/1000 - Train Error: 0.0016 - Test Error: 0.0016\n",
            "Epoch 264/1000 - Train Error: 0.0016 - Test Error: 0.0016\n",
            "Epoch 265/1000 - Train Error: 0.0016 - Test Error: 0.0016\n",
            "Epoch 266/1000 - Train Error: 0.0016 - Test Error: 0.0016\n",
            "Epoch 267/1000 - Train Error: 0.0016 - Test Error: 0.0016\n",
            "Epoch 268/1000 - Train Error: 0.0016 - Test Error: 0.0016\n"
          ]
        },
        {
          "output_type": "stream",
          "name": "stderr",
          "text": [
            "Training:  28%|██████████████                                    | 282/1000 [00:02<00:08, 84.42it/s]"
          ]
        },
        {
          "output_type": "stream",
          "name": "stdout",
          "text": [
            "Epoch 269/1000 - Train Error: 0.0016 - Test Error: 0.0016\n",
            "Epoch 270/1000 - Train Error: 0.0016 - Test Error: 0.0016\n",
            "Epoch 271/1000 - Train Error: 0.0016 - Test Error: 0.0016\n",
            "Epoch 272/1000 - Train Error: 0.0016 - Test Error: 0.0016\n",
            "Epoch 273/1000 - Train Error: 0.0016 - Test Error: 0.0016\n",
            "Epoch 274/1000 - Train Error: 0.0016 - Test Error: 0.0016\n",
            "Epoch 275/1000 - Train Error: 0.0016 - Test Error: 0.0016\n",
            "Epoch 276/1000 - Train Error: 0.0016 - Test Error: 0.0016\n",
            "Epoch 277/1000 - Train Error: 0.0016 - Test Error: 0.0016\n",
            "Epoch 278/1000 - Train Error: 0.0016 - Test Error: 0.0016\n",
            "Epoch 279/1000 - Train Error: 0.0016 - Test Error: 0.0016\n",
            "Epoch 280/1000 - Train Error: 0.0016 - Test Error: 0.0016\n",
            "Epoch 281/1000 - Train Error: 0.0016 - Test Error: 0.0016\n",
            "Epoch 282/1000 - Train Error: 0.0016 - Test Error: 0.0016\n",
            "Epoch 283/1000 - Train Error: 0.0016 - Test Error: 0.0016\n",
            "Epoch 284/1000 - Train Error: 0.0016 - Test Error: 0.0016\n"
          ]
        },
        {
          "output_type": "stream",
          "name": "stderr",
          "text": [
            "Training:  30%|███████████████                                   | 300/1000 [00:03<00:08, 83.11it/s]"
          ]
        },
        {
          "output_type": "stream",
          "name": "stdout",
          "text": [
            "Epoch 285/1000 - Train Error: 0.0016 - Test Error: 0.0016\n",
            "Epoch 286/1000 - Train Error: 0.0016 - Test Error: 0.0016\n",
            "Epoch 287/1000 - Train Error: 0.0016 - Test Error: 0.0016\n",
            "Epoch 288/1000 - Train Error: 0.0016 - Test Error: 0.0016\n",
            "Epoch 289/1000 - Train Error: 0.0016 - Test Error: 0.0016\n",
            "Epoch 290/1000 - Train Error: 0.0016 - Test Error: 0.0016\n",
            "Epoch 291/1000 - Train Error: 0.0016 - Test Error: 0.0016\n",
            "Epoch 292/1000 - Train Error: 0.0016 - Test Error: 0.0016\n",
            "Epoch 293/1000 - Train Error: 0.0016 - Test Error: 0.0016\n",
            "Epoch 294/1000 - Train Error: 0.0016 - Test Error: 0.0016\n",
            "Epoch 295/1000 - Train Error: 0.0016 - Test Error: 0.0016\n",
            "Epoch 296/1000 - Train Error: 0.0016 - Test Error: 0.0016\n",
            "Epoch 297/1000 - Train Error: 0.0015 - Test Error: 0.0016\n",
            "Epoch 298/1000 - Train Error: 0.0015 - Test Error: 0.0016\n",
            "Epoch 299/1000 - Train Error: 0.0015 - Test Error: 0.0016\n",
            "Epoch 300/1000 - Train Error: 0.0015 - Test Error: 0.0016\n",
            "Epoch 301/1000 - Train Error: 0.0015 - Test Error: 0.0016\n"
          ]
        },
        {
          "output_type": "stream",
          "name": "stderr",
          "text": [
            "Training:  31%|███████████████▍                                  | 309/1000 [00:03<00:08, 84.31it/s]"
          ]
        },
        {
          "output_type": "stream",
          "name": "stdout",
          "text": [
            "Epoch 302/1000 - Train Error: 0.0015 - Test Error: 0.0016\n",
            "Epoch 303/1000 - Train Error: 0.0015 - Test Error: 0.0016\n",
            "Epoch 304/1000 - Train Error: 0.0015 - Test Error: 0.0016\n",
            "Epoch 305/1000 - Train Error: 0.0015 - Test Error: 0.0016\n",
            "Epoch 306/1000 - Train Error: 0.0015 - Test Error: 0.0016\n",
            "Epoch 307/1000 - Train Error: 0.0015 - Test Error: 0.0016\n",
            "Epoch 308/1000 - Train Error: 0.0015 - Test Error: 0.0016\n",
            "Epoch 309/1000 - Train Error: 0.0015 - Test Error: 0.0016\n",
            "Epoch 310/1000 - Train Error: 0.0015 - Test Error: 0.0016\n",
            "Epoch 311/1000 - Train Error: 0.0015 - Test Error: 0.0015\n",
            "Epoch 312/1000 - Train Error: 0.0015 - Test Error: 0.0015\n",
            "Epoch 313/1000 - Train Error: 0.0015 - Test Error: 0.0015\n",
            "Epoch 314/1000 - Train Error: 0.0015 - Test Error: 0.0015\n",
            "Epoch 315/1000 - Train Error: 0.0015 - Test Error: 0.0015\n"
          ]
        },
        {
          "output_type": "stream",
          "name": "stderr",
          "text": [
            "Training:  33%|████████████████▎                                 | 326/1000 [00:03<00:09, 73.46it/s]"
          ]
        },
        {
          "output_type": "stream",
          "name": "stdout",
          "text": [
            "Epoch 316/1000 - Train Error: 0.0015 - Test Error: 0.0015\n",
            "Epoch 317/1000 - Train Error: 0.0015 - Test Error: 0.0015\n",
            "Epoch 318/1000 - Train Error: 0.0015 - Test Error: 0.0015\n",
            "Epoch 319/1000 - Train Error: 0.0015 - Test Error: 0.0015\n",
            "Epoch 320/1000 - Train Error: 0.0015 - Test Error: 0.0015\n",
            "Epoch 321/1000 - Train Error: 0.0015 - Test Error: 0.0015\n",
            "Epoch 322/1000 - Train Error: 0.0015 - Test Error: 0.0015\n",
            "Epoch 323/1000 - Train Error: 0.0015 - Test Error: 0.0015\n",
            "Epoch 324/1000 - Train Error: 0.0015 - Test Error: 0.0015\n",
            "Epoch 325/1000 - Train Error: 0.0015 - Test Error: 0.0015\n",
            "Epoch 326/1000 - Train Error: 0.0015 - Test Error: 0.0015\n",
            "Epoch 327/1000 - Train Error: 0.0015 - Test Error: 0.0015\n",
            "Epoch 328/1000 - Train Error: 0.0015 - Test Error: 0.0015\n",
            "Epoch 329/1000 - Train Error: 0.0015 - Test Error: 0.0015\n",
            "Epoch 330/1000 - Train Error: 0.0015 - Test Error: 0.0015\n"
          ]
        },
        {
          "output_type": "stream",
          "name": "stderr",
          "text": [
            "Training:  34%|█████████████████                                 | 342/1000 [00:03<00:09, 71.85it/s]"
          ]
        },
        {
          "output_type": "stream",
          "name": "stdout",
          "text": [
            "Epoch 331/1000 - Train Error: 0.0015 - Test Error: 0.0015\n",
            "Epoch 332/1000 - Train Error: 0.0015 - Test Error: 0.0015\n",
            "Epoch 333/1000 - Train Error: 0.0015 - Test Error: 0.0015\n",
            "Epoch 334/1000 - Train Error: 0.0015 - Test Error: 0.0015\n",
            "Epoch 335/1000 - Train Error: 0.0015 - Test Error: 0.0015\n",
            "Epoch 336/1000 - Train Error: 0.0015 - Test Error: 0.0015\n",
            "Epoch 337/1000 - Train Error: 0.0015 - Test Error: 0.0015\n",
            "Epoch 338/1000 - Train Error: 0.0015 - Test Error: 0.0015\n",
            "Epoch 339/1000 - Train Error: 0.0015 - Test Error: 0.0015\n",
            "Epoch 340/1000 - Train Error: 0.0015 - Test Error: 0.0015\n",
            "Epoch 341/1000 - Train Error: 0.0015 - Test Error: 0.0015\n",
            "Epoch 342/1000 - Train Error: 0.0015 - Test Error: 0.0015\n",
            "Epoch 343/1000 - Train Error: 0.0015 - Test Error: 0.0015\n",
            "Epoch 344/1000 - Train Error: 0.0015 - Test Error: 0.0015\n"
          ]
        },
        {
          "output_type": "stream",
          "name": "stderr",
          "text": [
            "                                                                                                    "
          ]
        },
        {
          "output_type": "stream",
          "name": "stdout",
          "text": [
            "Epoch 345/1000 - Train Error: 0.0015 - Test Error: 0.0015\n",
            "Epoch 346/1000 - Train Error: 0.0015 - Test Error: 0.0015\n",
            "Epoch 347/1000 - Train Error: 0.0015 - Test Error: 0.0015\n",
            "Epoch 348/1000 - Train Error: 0.0015 - Test Error: 0.0015\n",
            "Epoch 349/1000 - Train Error: 0.0015 - Test Error: 0.0015\n",
            "Epoch 350/1000 - Train Error: 0.0015 - Test Error: 0.0015\n",
            "Epoch 351/1000 - Train Error: 0.0015 - Test Error: 0.0015\n",
            "Epoch 352/1000 - Train Error: 0.0015 - Test Error: 0.0015\n",
            "Epoch 353/1000 - Train Error: 0.0015 - Test Error: 0.0015\n",
            "Epoch 354/1000 - Train Error: 0.0015 - Test Error: 0.0015\n",
            "Epoch 355/1000 - Train Error: 0.0014 - Test Error: 0.0015\n",
            "Epoch 356/1000 - Train Error: 0.0014 - Test Error: 0.0015\n",
            "Epoch 357/1000 - Train Error: 0.0014 - Test Error: 0.0015\n",
            "Epoch 358/1000 - Train Error: 0.0014 - Test Error: 0.0015\n",
            "Epoch 359/1000 - Train Error: 0.0014 - Test Error: 0.0015\n"
          ]
        },
        {
          "output_type": "stream",
          "name": "stderr",
          "text": [
            "Training:  38%|██████████████████▊                               | 375/1000 [00:04<00:08, 74.92it/s]"
          ]
        },
        {
          "output_type": "stream",
          "name": "stdout",
          "text": [
            "Epoch 360/1000 - Train Error: 0.0014 - Test Error: 0.0015\n",
            "Epoch 361/1000 - Train Error: 0.0014 - Test Error: 0.0015\n",
            "Epoch 362/1000 - Train Error: 0.0014 - Test Error: 0.0015\n",
            "Epoch 363/1000 - Train Error: 0.0014 - Test Error: 0.0015\n",
            "Epoch 364/1000 - Train Error: 0.0014 - Test Error: 0.0015\n",
            "Epoch 365/1000 - Train Error: 0.0014 - Test Error: 0.0015\n",
            "Epoch 366/1000 - Train Error: 0.0014 - Test Error: 0.0015\n",
            "Epoch 367/1000 - Train Error: 0.0014 - Test Error: 0.0015\n",
            "Epoch 368/1000 - Train Error: 0.0014 - Test Error: 0.0015\n",
            "Epoch 369/1000 - Train Error: 0.0014 - Test Error: 0.0015\n",
            "Epoch 370/1000 - Train Error: 0.0014 - Test Error: 0.0015\n",
            "Epoch 371/1000 - Train Error: 0.0014 - Test Error: 0.0015\n",
            "Epoch 372/1000 - Train Error: 0.0014 - Test Error: 0.0015\n",
            "Epoch 373/1000 - Train Error: 0.0014 - Test Error: 0.0015\n",
            "Epoch 374/1000 - Train Error: 0.0014 - Test Error: 0.0015\n",
            "Epoch 375/1000 - Train Error: 0.0014 - Test Error: 0.0014\n",
            "Epoch 376/1000 - Train Error: 0.0014 - Test Error: 0.0014\n"
          ]
        },
        {
          "output_type": "stream",
          "name": "stderr",
          "text": [
            "Training:  39%|███████████████████▌                              | 391/1000 [00:04<00:08, 75.67it/s]"
          ]
        },
        {
          "output_type": "stream",
          "name": "stdout",
          "text": [
            "Epoch 377/1000 - Train Error: 0.0014 - Test Error: 0.0014\n",
            "Epoch 378/1000 - Train Error: 0.0014 - Test Error: 0.0014\n",
            "Epoch 379/1000 - Train Error: 0.0014 - Test Error: 0.0014\n",
            "Epoch 380/1000 - Train Error: 0.0014 - Test Error: 0.0014\n",
            "Epoch 381/1000 - Train Error: 0.0014 - Test Error: 0.0014\n",
            "Epoch 382/1000 - Train Error: 0.0014 - Test Error: 0.0014\n",
            "Epoch 383/1000 - Train Error: 0.0014 - Test Error: 0.0014\n",
            "Epoch 384/1000 - Train Error: 0.0014 - Test Error: 0.0014\n",
            "Epoch 385/1000 - Train Error: 0.0014 - Test Error: 0.0014\n",
            "Epoch 386/1000 - Train Error: 0.0014 - Test Error: 0.0014\n",
            "Epoch 387/1000 - Train Error: 0.0014 - Test Error: 0.0014\n",
            "Epoch 388/1000 - Train Error: 0.0014 - Test Error: 0.0014\n",
            "Epoch 389/1000 - Train Error: 0.0014 - Test Error: 0.0014\n",
            "Epoch 390/1000 - Train Error: 0.0014 - Test Error: 0.0014\n",
            "Epoch 391/1000 - Train Error: 0.0014 - Test Error: 0.0014\n",
            "Epoch 392/1000 - Train Error: 0.0014 - Test Error: 0.0014\n"
          ]
        },
        {
          "output_type": "stream",
          "name": "stderr",
          "text": [
            "Training:  41%|████████████████████▎                             | 407/1000 [00:04<00:07, 74.31it/s]"
          ]
        },
        {
          "output_type": "stream",
          "name": "stdout",
          "text": [
            "Epoch 393/1000 - Train Error: 0.0014 - Test Error: 0.0014\n",
            "Epoch 394/1000 - Train Error: 0.0014 - Test Error: 0.0014\n",
            "Epoch 395/1000 - Train Error: 0.0014 - Test Error: 0.0014\n",
            "Epoch 396/1000 - Train Error: 0.0014 - Test Error: 0.0014\n",
            "Epoch 397/1000 - Train Error: 0.0014 - Test Error: 0.0014\n",
            "Epoch 398/1000 - Train Error: 0.0014 - Test Error: 0.0014\n",
            "Epoch 399/1000 - Train Error: 0.0014 - Test Error: 0.0014\n",
            "Epoch 400/1000 - Train Error: 0.0014 - Test Error: 0.0014\n",
            "Epoch 401/1000 - Train Error: 0.0014 - Test Error: 0.0014\n",
            "Epoch 402/1000 - Train Error: 0.0014 - Test Error: 0.0014\n",
            "Epoch 403/1000 - Train Error: 0.0014 - Test Error: 0.0014\n",
            "Epoch 404/1000 - Train Error: 0.0014 - Test Error: 0.0014\n",
            "Epoch 405/1000 - Train Error: 0.0014 - Test Error: 0.0014\n",
            "Epoch 406/1000 - Train Error: 0.0014 - Test Error: 0.0014\n",
            "Epoch 407/1000 - Train Error: 0.0014 - Test Error: 0.0014\n"
          ]
        },
        {
          "output_type": "stream",
          "name": "stderr",
          "text": [
            "Training:  42%|████████████████████▊                             | 415/1000 [00:04<00:07, 73.57it/s]"
          ]
        },
        {
          "output_type": "stream",
          "name": "stdout",
          "text": [
            "Epoch 408/1000 - Train Error: 0.0014 - Test Error: 0.0014\n",
            "Epoch 409/1000 - Train Error: 0.0014 - Test Error: 0.0014\n",
            "Epoch 410/1000 - Train Error: 0.0014 - Test Error: 0.0014\n",
            "Epoch 411/1000 - Train Error: 0.0014 - Test Error: 0.0014\n",
            "Epoch 412/1000 - Train Error: 0.0014 - Test Error: 0.0014\n",
            "Epoch 413/1000 - Train Error: 0.0014 - Test Error: 0.0014\n",
            "Epoch 414/1000 - Train Error: 0.0014 - Test Error: 0.0014\n",
            "Epoch 415/1000 - Train Error: 0.0014 - Test Error: 0.0014\n",
            "Epoch 416/1000 - Train Error: 0.0014 - Test Error: 0.0014\n",
            "Epoch 417/1000 - Train Error: 0.0014 - Test Error: 0.0014\n",
            "Epoch 418/1000 - Train Error: 0.0014 - Test Error: 0.0014\n",
            "Epoch 419/1000 - Train Error: 0.0014 - Test Error: 0.0014\n",
            "Epoch 420/1000 - Train Error: 0.0014 - Test Error: 0.0014\n",
            "Epoch 421/1000 - Train Error: 0.0014 - Test Error: 0.0014\n",
            "Epoch 422/1000 - Train Error: 0.0014 - Test Error: 0.0014\n"
          ]
        },
        {
          "output_type": "stream",
          "name": "stderr",
          "text": [
            "Training:  43%|█████████████████████▌                            | 431/1000 [00:04<00:08, 70.10it/s]"
          ]
        },
        {
          "output_type": "stream",
          "name": "stdout",
          "text": [
            "Epoch 423/1000 - Train Error: 0.0014 - Test Error: 0.0014\n",
            "Epoch 424/1000 - Train Error: 0.0014 - Test Error: 0.0014\n",
            "Epoch 425/1000 - Train Error: 0.0014 - Test Error: 0.0014\n",
            "Epoch 426/1000 - Train Error: 0.0014 - Test Error: 0.0014\n",
            "Epoch 427/1000 - Train Error: 0.0014 - Test Error: 0.0014\n",
            "Epoch 428/1000 - Train Error: 0.0013 - Test Error: 0.0014\n",
            "Epoch 429/1000 - Train Error: 0.0013 - Test Error: 0.0014\n",
            "Epoch 430/1000 - Train Error: 0.0013 - Test Error: 0.0014\n",
            "Epoch 431/1000 - Train Error: 0.0013 - Test Error: 0.0014\n",
            "Epoch 432/1000 - Train Error: 0.0013 - Test Error: 0.0014\n",
            "Epoch 433/1000 - Train Error: 0.0013 - Test Error: 0.0014\n",
            "Epoch 434/1000 - Train Error: 0.0013 - Test Error: 0.0014\n",
            "Epoch 435/1000 - Train Error: 0.0013 - Test Error: 0.0014\n",
            "Epoch 436/1000 - Train Error: 0.0013 - Test Error: 0.0014\n",
            "Epoch 437/1000 - Train Error: 0.0013 - Test Error: 0.0014\n"
          ]
        },
        {
          "output_type": "stream",
          "name": "stderr",
          "text": [
            "Training:  45%|██████████████████████▍                           | 448/1000 [00:05<00:07, 72.91it/s]"
          ]
        },
        {
          "output_type": "stream",
          "name": "stdout",
          "text": [
            "Epoch 438/1000 - Train Error: 0.0013 - Test Error: 0.0014\n",
            "Epoch 439/1000 - Train Error: 0.0013 - Test Error: 0.0014\n",
            "Epoch 440/1000 - Train Error: 0.0013 - Test Error: 0.0014\n",
            "Epoch 441/1000 - Train Error: 0.0013 - Test Error: 0.0014\n",
            "Epoch 442/1000 - Train Error: 0.0013 - Test Error: 0.0014\n",
            "Epoch 443/1000 - Train Error: 0.0013 - Test Error: 0.0014\n",
            "Epoch 444/1000 - Train Error: 0.0013 - Test Error: 0.0014\n",
            "Epoch 445/1000 - Train Error: 0.0013 - Test Error: 0.0014\n",
            "Epoch 446/1000 - Train Error: 0.0013 - Test Error: 0.0014\n",
            "Epoch 447/1000 - Train Error: 0.0013 - Test Error: 0.0014\n",
            "Epoch 448/1000 - Train Error: 0.0013 - Test Error: 0.0014\n",
            "Epoch 449/1000 - Train Error: 0.0013 - Test Error: 0.0014\n",
            "Epoch 450/1000 - Train Error: 0.0013 - Test Error: 0.0014\n",
            "Epoch 451/1000 - Train Error: 0.0013 - Test Error: 0.0014\n",
            "Epoch 452/1000 - Train Error: 0.0013 - Test Error: 0.0014\n",
            "Epoch 453/1000 - Train Error: 0.0013 - Test Error: 0.0014\n"
          ]
        },
        {
          "output_type": "stream",
          "name": "stderr",
          "text": [
            "Training:  46%|███████████████████████▏                          | 464/1000 [00:05<00:07, 76.24it/s]"
          ]
        },
        {
          "output_type": "stream",
          "name": "stdout",
          "text": [
            "Epoch 454/1000 - Train Error: 0.0013 - Test Error: 0.0014\n",
            "Epoch 455/1000 - Train Error: 0.0013 - Test Error: 0.0013\n",
            "Epoch 456/1000 - Train Error: 0.0013 - Test Error: 0.0013\n",
            "Epoch 457/1000 - Train Error: 0.0013 - Test Error: 0.0013\n",
            "Epoch 458/1000 - Train Error: 0.0013 - Test Error: 0.0013\n",
            "Epoch 459/1000 - Train Error: 0.0013 - Test Error: 0.0013\n",
            "Epoch 460/1000 - Train Error: 0.0013 - Test Error: 0.0013\n",
            "Epoch 461/1000 - Train Error: 0.0013 - Test Error: 0.0013\n",
            "Epoch 462/1000 - Train Error: 0.0013 - Test Error: 0.0013\n",
            "Epoch 463/1000 - Train Error: 0.0013 - Test Error: 0.0013\n",
            "Epoch 464/1000 - Train Error: 0.0013 - Test Error: 0.0013\n",
            "Epoch 465/1000 - Train Error: 0.0013 - Test Error: 0.0013\n",
            "Epoch 466/1000 - Train Error: 0.0013 - Test Error: 0.0013\n",
            "Epoch 467/1000 - Train Error: 0.0013 - Test Error: 0.0013\n",
            "Epoch 468/1000 - Train Error: 0.0013 - Test Error: 0.0013\n",
            "Epoch 469/1000 - Train Error: 0.0013 - Test Error: 0.0013\n"
          ]
        },
        {
          "output_type": "stream",
          "name": "stderr",
          "text": [
            "Training:  48%|████████████████████████                          | 480/1000 [00:05<00:06, 75.97it/s]"
          ]
        },
        {
          "output_type": "stream",
          "name": "stdout",
          "text": [
            "Epoch 470/1000 - Train Error: 0.0013 - Test Error: 0.0013\n",
            "Epoch 471/1000 - Train Error: 0.0013 - Test Error: 0.0013\n",
            "Epoch 472/1000 - Train Error: 0.0013 - Test Error: 0.0013\n",
            "Epoch 473/1000 - Train Error: 0.0013 - Test Error: 0.0013\n",
            "Epoch 474/1000 - Train Error: 0.0013 - Test Error: 0.0013\n",
            "Epoch 475/1000 - Train Error: 0.0013 - Test Error: 0.0013\n",
            "Epoch 476/1000 - Train Error: 0.0013 - Test Error: 0.0013\n",
            "Epoch 477/1000 - Train Error: 0.0013 - Test Error: 0.0013\n",
            "Epoch 478/1000 - Train Error: 0.0013 - Test Error: 0.0013\n",
            "Epoch 479/1000 - Train Error: 0.0013 - Test Error: 0.0013\n",
            "Epoch 480/1000 - Train Error: 0.0013 - Test Error: 0.0013\n",
            "Epoch 481/1000 - Train Error: 0.0013 - Test Error: 0.0013\n",
            "Epoch 482/1000 - Train Error: 0.0013 - Test Error: 0.0013\n",
            "Epoch 483/1000 - Train Error: 0.0013 - Test Error: 0.0013\n",
            "Epoch 484/1000 - Train Error: 0.0013 - Test Error: 0.0013\n",
            "Epoch 485/1000 - Train Error: 0.0013 - Test Error: 0.0013\n",
            "Epoch 486/1000 - Train Error: 0.0013 - Test Error: 0.0013\n",
            "Epoch 487/1000 - Train Error: 0.0013 - Test Error: 0.0013\n"
          ]
        },
        {
          "output_type": "stream",
          "name": "stderr",
          "text": [
            "Training:  50%|█████████████████████████                         | 500/1000 [00:05<00:05, 83.77it/s]"
          ]
        },
        {
          "output_type": "stream",
          "name": "stdout",
          "text": [
            "Epoch 488/1000 - Train Error: 0.0013 - Test Error: 0.0013\n",
            "Epoch 489/1000 - Train Error: 0.0013 - Test Error: 0.0013\n",
            "Epoch 490/1000 - Train Error: 0.0013 - Test Error: 0.0013\n",
            "Epoch 491/1000 - Train Error: 0.0013 - Test Error: 0.0013\n",
            "Epoch 492/1000 - Train Error: 0.0013 - Test Error: 0.0013\n",
            "Epoch 493/1000 - Train Error: 0.0013 - Test Error: 0.0013\n",
            "Epoch 494/1000 - Train Error: 0.0013 - Test Error: 0.0013\n",
            "Epoch 495/1000 - Train Error: 0.0013 - Test Error: 0.0013\n",
            "Epoch 496/1000 - Train Error: 0.0013 - Test Error: 0.0013\n",
            "Epoch 497/1000 - Train Error: 0.0013 - Test Error: 0.0013\n",
            "Epoch 498/1000 - Train Error: 0.0013 - Test Error: 0.0013\n",
            "Epoch 499/1000 - Train Error: 0.0013 - Test Error: 0.0013\n",
            "Epoch 500/1000 - Train Error: 0.0013 - Test Error: 0.0013\n",
            "Epoch 501/1000 - Train Error: 0.0013 - Test Error: 0.0013\n",
            "Epoch 502/1000 - Train Error: 0.0013 - Test Error: 0.0013\n",
            "Epoch 503/1000 - Train Error: 0.0013 - Test Error: 0.0013\n",
            "Epoch 504/1000 - Train Error: 0.0013 - Test Error: 0.0013\n"
          ]
        },
        {
          "output_type": "stream",
          "name": "stderr",
          "text": [
            "                                                                                                    "
          ]
        },
        {
          "output_type": "stream",
          "name": "stdout",
          "text": [
            "Epoch 505/1000 - Train Error: 0.0013 - Test Error: 0.0013\n",
            "Epoch 506/1000 - Train Error: 0.0013 - Test Error: 0.0013\n",
            "Epoch 507/1000 - Train Error: 0.0013 - Test Error: 0.0013\n",
            "Epoch 508/1000 - Train Error: 0.0013 - Test Error: 0.0013\n",
            "Epoch 509/1000 - Train Error: 0.0013 - Test Error: 0.0013\n",
            "Epoch 510/1000 - Train Error: 0.0013 - Test Error: 0.0013\n",
            "Epoch 511/1000 - Train Error: 0.0013 - Test Error: 0.0013\n",
            "Epoch 512/1000 - Train Error: 0.0013 - Test Error: 0.0013\n",
            "Epoch 513/1000 - Train Error: 0.0013 - Test Error: 0.0013\n",
            "Epoch 514/1000 - Train Error: 0.0013 - Test Error: 0.0013\n",
            "Epoch 515/1000 - Train Error: 0.0013 - Test Error: 0.0013\n",
            "Epoch 516/1000 - Train Error: 0.0013 - Test Error: 0.0013\n",
            "Epoch 517/1000 - Train Error: 0.0013 - Test Error: 0.0013\n",
            "Epoch 518/1000 - Train Error: 0.0013 - Test Error: 0.0013\n",
            "Epoch 519/1000 - Train Error: 0.0012 - Test Error: 0.0013\n"
          ]
        },
        {
          "output_type": "stream",
          "name": "stderr",
          "text": [
            "Training:  53%|██████████████████████████▎                       | 527/1000 [00:06<00:05, 80.16it/s]"
          ]
        },
        {
          "output_type": "stream",
          "name": "stdout",
          "text": [
            "Epoch 520/1000 - Train Error: 0.0012 - Test Error: 0.0013\n",
            "Epoch 521/1000 - Train Error: 0.0012 - Test Error: 0.0013\n",
            "Epoch 522/1000 - Train Error: 0.0012 - Test Error: 0.0013\n",
            "Epoch 523/1000 - Train Error: 0.0012 - Test Error: 0.0013\n",
            "Epoch 524/1000 - Train Error: 0.0012 - Test Error: 0.0013\n",
            "Epoch 525/1000 - Train Error: 0.0012 - Test Error: 0.0013\n",
            "Epoch 526/1000 - Train Error: 0.0012 - Test Error: 0.0013\n",
            "Epoch 527/1000 - Train Error: 0.0012 - Test Error: 0.0013\n",
            "Epoch 528/1000 - Train Error: 0.0012 - Test Error: 0.0013\n",
            "Epoch 529/1000 - Train Error: 0.0012 - Test Error: 0.0013\n",
            "Epoch 530/1000 - Train Error: 0.0012 - Test Error: 0.0013\n",
            "Epoch 531/1000 - Train Error: 0.0012 - Test Error: 0.0013\n",
            "Epoch 532/1000 - Train Error: 0.0012 - Test Error: 0.0013\n",
            "Epoch 533/1000 - Train Error: 0.0012 - Test Error: 0.0013\n",
            "Epoch 534/1000 - Train Error: 0.0012 - Test Error: 0.0013\n",
            "Epoch 535/1000 - Train Error: 0.0012 - Test Error: 0.0013\n"
          ]
        },
        {
          "output_type": "stream",
          "name": "stderr",
          "text": [
            "Training:  54%|███████████████████████████▏                      | 544/1000 [00:06<00:06, 75.81it/s]"
          ]
        },
        {
          "output_type": "stream",
          "name": "stdout",
          "text": [
            "Epoch 536/1000 - Train Error: 0.0012 - Test Error: 0.0013\n",
            "Epoch 537/1000 - Train Error: 0.0012 - Test Error: 0.0013\n",
            "Epoch 538/1000 - Train Error: 0.0012 - Test Error: 0.0013\n",
            "Epoch 539/1000 - Train Error: 0.0012 - Test Error: 0.0013\n",
            "Epoch 540/1000 - Train Error: 0.0012 - Test Error: 0.0013\n",
            "Epoch 541/1000 - Train Error: 0.0012 - Test Error: 0.0013\n",
            "Epoch 542/1000 - Train Error: 0.0012 - Test Error: 0.0013\n",
            "Epoch 543/1000 - Train Error: 0.0012 - Test Error: 0.0013\n",
            "Epoch 544/1000 - Train Error: 0.0012 - Test Error: 0.0013\n",
            "Epoch 545/1000 - Train Error: 0.0012 - Test Error: 0.0013\n",
            "Epoch 546/1000 - Train Error: 0.0012 - Test Error: 0.0013\n",
            "Epoch 547/1000 - Train Error: 0.0012 - Test Error: 0.0013\n",
            "Epoch 548/1000 - Train Error: 0.0012 - Test Error: 0.0013\n",
            "Epoch 549/1000 - Train Error: 0.0012 - Test Error: 0.0013\n",
            "Epoch 550/1000 - Train Error: 0.0012 - Test Error: 0.0013\n"
          ]
        },
        {
          "output_type": "stream",
          "name": "stderr",
          "text": [
            "Training:  56%|████████████████████████████                      | 560/1000 [00:06<00:05, 73.37it/s]"
          ]
        },
        {
          "output_type": "stream",
          "name": "stdout",
          "text": [
            "Epoch 551/1000 - Train Error: 0.0012 - Test Error: 0.0013\n",
            "Epoch 552/1000 - Train Error: 0.0012 - Test Error: 0.0013\n",
            "Epoch 553/1000 - Train Error: 0.0012 - Test Error: 0.0013\n",
            "Epoch 554/1000 - Train Error: 0.0012 - Test Error: 0.0012\n",
            "Epoch 555/1000 - Train Error: 0.0012 - Test Error: 0.0012\n",
            "Epoch 556/1000 - Train Error: 0.0012 - Test Error: 0.0012\n",
            "Epoch 557/1000 - Train Error: 0.0012 - Test Error: 0.0012\n",
            "Epoch 558/1000 - Train Error: 0.0012 - Test Error: 0.0012\n",
            "Epoch 559/1000 - Train Error: 0.0012 - Test Error: 0.0012\n",
            "Epoch 560/1000 - Train Error: 0.0012 - Test Error: 0.0012\n",
            "Epoch 561/1000 - Train Error: 0.0012 - Test Error: 0.0012\n",
            "Epoch 562/1000 - Train Error: 0.0012 - Test Error: 0.0012\n",
            "Epoch 563/1000 - Train Error: 0.0012 - Test Error: 0.0012\n",
            "Epoch 564/1000 - Train Error: 0.0012 - Test Error: 0.0012\n",
            "Epoch 565/1000 - Train Error: 0.0012 - Test Error: 0.0012\n",
            "Epoch 566/1000 - Train Error: 0.0012 - Test Error: 0.0012\n"
          ]
        },
        {
          "output_type": "stream",
          "name": "stderr",
          "text": [
            "Training:  58%|████████████████████████████▊                     | 576/1000 [00:06<00:05, 73.80it/s]"
          ]
        },
        {
          "output_type": "stream",
          "name": "stdout",
          "text": [
            "Epoch 567/1000 - Train Error: 0.0012 - Test Error: 0.0012\n",
            "Epoch 568/1000 - Train Error: 0.0012 - Test Error: 0.0012\n",
            "Epoch 569/1000 - Train Error: 0.0012 - Test Error: 0.0012\n",
            "Epoch 570/1000 - Train Error: 0.0012 - Test Error: 0.0012\n",
            "Epoch 571/1000 - Train Error: 0.0012 - Test Error: 0.0012\n",
            "Epoch 572/1000 - Train Error: 0.0012 - Test Error: 0.0012\n",
            "Epoch 573/1000 - Train Error: 0.0012 - Test Error: 0.0012\n",
            "Epoch 574/1000 - Train Error: 0.0012 - Test Error: 0.0012\n",
            "Epoch 575/1000 - Train Error: 0.0012 - Test Error: 0.0012\n",
            "Epoch 576/1000 - Train Error: 0.0012 - Test Error: 0.0012\n",
            "Epoch 577/1000 - Train Error: 0.0012 - Test Error: 0.0012\n",
            "Epoch 578/1000 - Train Error: 0.0012 - Test Error: 0.0012\n",
            "Epoch 579/1000 - Train Error: 0.0012 - Test Error: 0.0012\n",
            "Epoch 580/1000 - Train Error: 0.0012 - Test Error: 0.0012\n",
            "Epoch 581/1000 - Train Error: 0.0012 - Test Error: 0.0012\n",
            "Epoch 582/1000 - Train Error: 0.0012 - Test Error: 0.0012\n"
          ]
        },
        {
          "output_type": "stream",
          "name": "stderr",
          "text": [
            "Training:  59%|█████████████████████████████▋                    | 593/1000 [00:07<00:05, 70.84it/s]"
          ]
        },
        {
          "output_type": "stream",
          "name": "stdout",
          "text": [
            "Epoch 583/1000 - Train Error: 0.0012 - Test Error: 0.0012\n",
            "Epoch 584/1000 - Train Error: 0.0012 - Test Error: 0.0012\n",
            "Epoch 585/1000 - Train Error: 0.0012 - Test Error: 0.0012\n",
            "Epoch 586/1000 - Train Error: 0.0012 - Test Error: 0.0012\n",
            "Epoch 587/1000 - Train Error: 0.0012 - Test Error: 0.0012\n",
            "Epoch 588/1000 - Train Error: 0.0012 - Test Error: 0.0012\n",
            "Epoch 589/1000 - Train Error: 0.0012 - Test Error: 0.0012\n",
            "Epoch 590/1000 - Train Error: 0.0012 - Test Error: 0.0012\n",
            "Epoch 591/1000 - Train Error: 0.0012 - Test Error: 0.0012\n",
            "Epoch 592/1000 - Train Error: 0.0012 - Test Error: 0.0012\n",
            "Epoch 593/1000 - Train Error: 0.0012 - Test Error: 0.0012\n",
            "Epoch 594/1000 - Train Error: 0.0012 - Test Error: 0.0012\n",
            "Epoch 595/1000 - Train Error: 0.0012 - Test Error: 0.0012\n"
          ]
        },
        {
          "output_type": "stream",
          "name": "stderr",
          "text": [
            "Training:  61%|██████████████████████████████▌                   | 610/1000 [00:07<00:05, 74.82it/s]"
          ]
        },
        {
          "output_type": "stream",
          "name": "stdout",
          "text": [
            "Epoch 596/1000 - Train Error: 0.0012 - Test Error: 0.0012\n",
            "Epoch 597/1000 - Train Error: 0.0012 - Test Error: 0.0012\n",
            "Epoch 598/1000 - Train Error: 0.0012 - Test Error: 0.0012\n",
            "Epoch 599/1000 - Train Error: 0.0012 - Test Error: 0.0012\n",
            "Epoch 600/1000 - Train Error: 0.0012 - Test Error: 0.0012\n",
            "Epoch 601/1000 - Train Error: 0.0012 - Test Error: 0.0012\n",
            "Epoch 602/1000 - Train Error: 0.0012 - Test Error: 0.0012\n",
            "Epoch 603/1000 - Train Error: 0.0012 - Test Error: 0.0012\n",
            "Epoch 604/1000 - Train Error: 0.0012 - Test Error: 0.0012\n",
            "Epoch 605/1000 - Train Error: 0.0012 - Test Error: 0.0012\n",
            "Epoch 606/1000 - Train Error: 0.0012 - Test Error: 0.0012\n",
            "Epoch 607/1000 - Train Error: 0.0012 - Test Error: 0.0012\n",
            "Epoch 608/1000 - Train Error: 0.0012 - Test Error: 0.0012\n",
            "Epoch 609/1000 - Train Error: 0.0012 - Test Error: 0.0012\n",
            "Epoch 610/1000 - Train Error: 0.0012 - Test Error: 0.0012\n",
            "Epoch 611/1000 - Train Error: 0.0012 - Test Error: 0.0012\n",
            "Epoch 612/1000 - Train Error: 0.0012 - Test Error: 0.0012\n"
          ]
        },
        {
          "output_type": "stream",
          "name": "stderr",
          "text": [
            "Training:  63%|███████████████████████████████▎                  | 626/1000 [00:07<00:04, 75.71it/s]"
          ]
        },
        {
          "output_type": "stream",
          "name": "stdout",
          "text": [
            "Epoch 613/1000 - Train Error: 0.0012 - Test Error: 0.0012\n",
            "Epoch 614/1000 - Train Error: 0.0012 - Test Error: 0.0012\n",
            "Epoch 615/1000 - Train Error: 0.0012 - Test Error: 0.0012\n",
            "Epoch 616/1000 - Train Error: 0.0012 - Test Error: 0.0012\n",
            "Epoch 617/1000 - Train Error: 0.0012 - Test Error: 0.0012\n",
            "Epoch 618/1000 - Train Error: 0.0012 - Test Error: 0.0012\n",
            "Epoch 619/1000 - Train Error: 0.0012 - Test Error: 0.0012\n",
            "Epoch 620/1000 - Train Error: 0.0012 - Test Error: 0.0012\n",
            "Epoch 621/1000 - Train Error: 0.0012 - Test Error: 0.0012\n",
            "Epoch 622/1000 - Train Error: 0.0012 - Test Error: 0.0012\n",
            "Epoch 623/1000 - Train Error: 0.0012 - Test Error: 0.0012\n",
            "Epoch 624/1000 - Train Error: 0.0012 - Test Error: 0.0012\n",
            "Epoch 625/1000 - Train Error: 0.0012 - Test Error: 0.0012\n",
            "Epoch 626/1000 - Train Error: 0.0012 - Test Error: 0.0012\n",
            "Epoch 627/1000 - Train Error: 0.0012 - Test Error: 0.0012\n",
            "Epoch 628/1000 - Train Error: 0.0012 - Test Error: 0.0012\n"
          ]
        },
        {
          "output_type": "stream",
          "name": "stderr",
          "text": [
            "Training:  63%|███████████████████████████████▋                  | 634/1000 [00:07<00:04, 73.33it/s]"
          ]
        },
        {
          "output_type": "stream",
          "name": "stdout",
          "text": [
            "Epoch 629/1000 - Train Error: 0.0012 - Test Error: 0.0012\n",
            "Epoch 630/1000 - Train Error: 0.0012 - Test Error: 0.0012\n",
            "Epoch 631/1000 - Train Error: 0.0011 - Test Error: 0.0012\n",
            "Epoch 632/1000 - Train Error: 0.0011 - Test Error: 0.0012\n",
            "Epoch 633/1000 - Train Error: 0.0011 - Test Error: 0.0012\n",
            "Epoch 634/1000 - Train Error: 0.0011 - Test Error: 0.0012\n",
            "Epoch 635/1000 - Train Error: 0.0011 - Test Error: 0.0012\n",
            "Epoch 636/1000 - Train Error: 0.0011 - Test Error: 0.0012\n",
            "Epoch 637/1000 - Train Error: 0.0011 - Test Error: 0.0012\n",
            "Epoch 638/1000 - Train Error: 0.0011 - Test Error: 0.0012\n",
            "Epoch 639/1000 - Train Error: 0.0011 - Test Error: 0.0012\n",
            "Epoch 640/1000 - Train Error: 0.0011 - Test Error: 0.0012\n",
            "Epoch 641/1000 - Train Error: 0.0011 - Test Error: 0.0012\n"
          ]
        },
        {
          "output_type": "stream",
          "name": "stderr",
          "text": [
            "Training:  65%|████████████████████████████████▌                 | 650/1000 [00:07<00:04, 72.86it/s]"
          ]
        },
        {
          "output_type": "stream",
          "name": "stdout",
          "text": [
            "Epoch 642/1000 - Train Error: 0.0011 - Test Error: 0.0012\n",
            "Epoch 643/1000 - Train Error: 0.0011 - Test Error: 0.0012\n",
            "Epoch 644/1000 - Train Error: 0.0011 - Test Error: 0.0012\n",
            "Epoch 645/1000 - Train Error: 0.0011 - Test Error: 0.0012\n",
            "Epoch 646/1000 - Train Error: 0.0011 - Test Error: 0.0012\n",
            "Epoch 647/1000 - Train Error: 0.0011 - Test Error: 0.0012\n",
            "Epoch 648/1000 - Train Error: 0.0011 - Test Error: 0.0012\n",
            "Epoch 649/1000 - Train Error: 0.0011 - Test Error: 0.0012\n",
            "Epoch 650/1000 - Train Error: 0.0011 - Test Error: 0.0012\n",
            "Epoch 651/1000 - Train Error: 0.0011 - Test Error: 0.0012\n",
            "Epoch 652/1000 - Train Error: 0.0011 - Test Error: 0.0012\n",
            "Epoch 653/1000 - Train Error: 0.0011 - Test Error: 0.0012\n",
            "Epoch 654/1000 - Train Error: 0.0011 - Test Error: 0.0012\n",
            "Epoch 655/1000 - Train Error: 0.0011 - Test Error: 0.0012\n",
            "Epoch 656/1000 - Train Error: 0.0011 - Test Error: 0.0012\n",
            "Epoch 657/1000 - Train Error: 0.0011 - Test Error: 0.0012\n",
            "Epoch 658/1000 - Train Error: 0.0011 - Test Error: 0.0012\n"
          ]
        },
        {
          "output_type": "stream",
          "name": "stderr",
          "text": [
            "Training:  67%|█████████████████████████████████▍                | 668/1000 [00:08<00:04, 76.66it/s]"
          ]
        },
        {
          "output_type": "stream",
          "name": "stdout",
          "text": [
            "Epoch 659/1000 - Train Error: 0.0011 - Test Error: 0.0012\n",
            "Epoch 660/1000 - Train Error: 0.0011 - Test Error: 0.0012\n",
            "Epoch 661/1000 - Train Error: 0.0011 - Test Error: 0.0012\n",
            "Epoch 662/1000 - Train Error: 0.0011 - Test Error: 0.0012\n",
            "Epoch 663/1000 - Train Error: 0.0011 - Test Error: 0.0012\n",
            "Epoch 664/1000 - Train Error: 0.0011 - Test Error: 0.0012\n",
            "Epoch 665/1000 - Train Error: 0.0011 - Test Error: 0.0012\n",
            "Epoch 666/1000 - Train Error: 0.0011 - Test Error: 0.0012\n",
            "Epoch 667/1000 - Train Error: 0.0011 - Test Error: 0.0012\n",
            "Epoch 668/1000 - Train Error: 0.0011 - Test Error: 0.0012\n",
            "Epoch 669/1000 - Train Error: 0.0011 - Test Error: 0.0012\n",
            "Epoch 670/1000 - Train Error: 0.0011 - Test Error: 0.0012\n",
            "Epoch 671/1000 - Train Error: 0.0011 - Test Error: 0.0012\n",
            "Epoch 672/1000 - Train Error: 0.0011 - Test Error: 0.0012\n",
            "Epoch 673/1000 - Train Error: 0.0011 - Test Error: 0.0012\n",
            "Epoch 674/1000 - Train Error: 0.0011 - Test Error: 0.0012\n"
          ]
        },
        {
          "output_type": "stream",
          "name": "stderr",
          "text": [
            "Training:  68%|██████████████████████████████████▏               | 684/1000 [00:08<00:04, 76.11it/s]"
          ]
        },
        {
          "output_type": "stream",
          "name": "stdout",
          "text": [
            "Epoch 675/1000 - Train Error: 0.0011 - Test Error: 0.0012\n",
            "Epoch 676/1000 - Train Error: 0.0011 - Test Error: 0.0012\n",
            "Epoch 677/1000 - Train Error: 0.0011 - Test Error: 0.0011\n",
            "Epoch 678/1000 - Train Error: 0.0011 - Test Error: 0.0011\n",
            "Epoch 679/1000 - Train Error: 0.0011 - Test Error: 0.0011\n",
            "Epoch 680/1000 - Train Error: 0.0011 - Test Error: 0.0011\n",
            "Epoch 681/1000 - Train Error: 0.0011 - Test Error: 0.0011\n",
            "Epoch 682/1000 - Train Error: 0.0011 - Test Error: 0.0011\n",
            "Epoch 683/1000 - Train Error: 0.0011 - Test Error: 0.0011\n",
            "Epoch 684/1000 - Train Error: 0.0011 - Test Error: 0.0011\n",
            "Epoch 685/1000 - Train Error: 0.0011 - Test Error: 0.0011\n",
            "Epoch 686/1000 - Train Error: 0.0011 - Test Error: 0.0011\n",
            "Epoch 687/1000 - Train Error: 0.0011 - Test Error: 0.0011\n",
            "Epoch 688/1000 - Train Error: 0.0011 - Test Error: 0.0011\n",
            "Epoch 689/1000 - Train Error: 0.0011 - Test Error: 0.0011\n",
            "Epoch 690/1000 - Train Error: 0.0011 - Test Error: 0.0011\n",
            "Epoch 691/1000 - Train Error: 0.0011 - Test Error: 0.0011\n"
          ]
        },
        {
          "output_type": "stream",
          "name": "stderr",
          "text": [
            "Training:  70%|███████████████████████████████████               | 702/1000 [00:08<00:03, 79.63it/s]"
          ]
        },
        {
          "output_type": "stream",
          "name": "stdout",
          "text": [
            "Epoch 692/1000 - Train Error: 0.0011 - Test Error: 0.0011\n",
            "Epoch 693/1000 - Train Error: 0.0011 - Test Error: 0.0011\n",
            "Epoch 694/1000 - Train Error: 0.0011 - Test Error: 0.0011\n",
            "Epoch 695/1000 - Train Error: 0.0011 - Test Error: 0.0011\n",
            "Epoch 696/1000 - Train Error: 0.0011 - Test Error: 0.0011\n",
            "Epoch 697/1000 - Train Error: 0.0011 - Test Error: 0.0011\n",
            "Epoch 698/1000 - Train Error: 0.0011 - Test Error: 0.0011\n",
            "Epoch 699/1000 - Train Error: 0.0011 - Test Error: 0.0011\n",
            "Epoch 700/1000 - Train Error: 0.0011 - Test Error: 0.0011\n",
            "Epoch 701/1000 - Train Error: 0.0011 - Test Error: 0.0011\n",
            "Epoch 702/1000 - Train Error: 0.0011 - Test Error: 0.0011\n",
            "Epoch 703/1000 - Train Error: 0.0011 - Test Error: 0.0011\n",
            "Epoch 704/1000 - Train Error: 0.0011 - Test Error: 0.0011\n",
            "Epoch 705/1000 - Train Error: 0.0011 - Test Error: 0.0011\n",
            "Epoch 706/1000 - Train Error: 0.0011 - Test Error: 0.0011\n",
            "Epoch 707/1000 - Train Error: 0.0011 - Test Error: 0.0011\n"
          ]
        },
        {
          "output_type": "stream",
          "name": "stderr",
          "text": [
            "Training:  72%|████████████████████████████████████              | 720/1000 [00:08<00:03, 77.11it/s]"
          ]
        },
        {
          "output_type": "stream",
          "name": "stdout",
          "text": [
            "Epoch 708/1000 - Train Error: 0.0011 - Test Error: 0.0011\n",
            "Epoch 709/1000 - Train Error: 0.0011 - Test Error: 0.0011\n",
            "Epoch 710/1000 - Train Error: 0.0011 - Test Error: 0.0011\n",
            "Epoch 711/1000 - Train Error: 0.0011 - Test Error: 0.0011\n",
            "Epoch 712/1000 - Train Error: 0.0011 - Test Error: 0.0011\n",
            "Epoch 713/1000 - Train Error: 0.0011 - Test Error: 0.0011\n",
            "Epoch 714/1000 - Train Error: 0.0011 - Test Error: 0.0011\n",
            "Epoch 715/1000 - Train Error: 0.0011 - Test Error: 0.0011\n",
            "Epoch 716/1000 - Train Error: 0.0011 - Test Error: 0.0011\n",
            "Epoch 717/1000 - Train Error: 0.0011 - Test Error: 0.0011\n",
            "Epoch 718/1000 - Train Error: 0.0011 - Test Error: 0.0011\n",
            "Epoch 719/1000 - Train Error: 0.0011 - Test Error: 0.0011\n",
            "Epoch 720/1000 - Train Error: 0.0011 - Test Error: 0.0011\n",
            "Epoch 721/1000 - Train Error: 0.0011 - Test Error: 0.0011\n",
            "Epoch 722/1000 - Train Error: 0.0011 - Test Error: 0.0011\n",
            "Epoch 723/1000 - Train Error: 0.0011 - Test Error: 0.0011\n",
            "Epoch 724/1000 - Train Error: 0.0011 - Test Error: 0.0011\n"
          ]
        },
        {
          "output_type": "stream",
          "name": "stderr",
          "text": [
            "Training:  74%|█████████████████████████████████████             | 740/1000 [00:08<00:03, 79.51it/s]"
          ]
        },
        {
          "output_type": "stream",
          "name": "stdout",
          "text": [
            "Epoch 725/1000 - Train Error: 0.0011 - Test Error: 0.0011\n",
            "Epoch 726/1000 - Train Error: 0.0011 - Test Error: 0.0011\n",
            "Epoch 727/1000 - Train Error: 0.0011 - Test Error: 0.0011\n",
            "Epoch 728/1000 - Train Error: 0.0011 - Test Error: 0.0011\n",
            "Epoch 729/1000 - Train Error: 0.0011 - Test Error: 0.0011\n",
            "Epoch 730/1000 - Train Error: 0.0011 - Test Error: 0.0011\n",
            "Epoch 731/1000 - Train Error: 0.0011 - Test Error: 0.0011\n",
            "Epoch 732/1000 - Train Error: 0.0011 - Test Error: 0.0011\n",
            "Epoch 733/1000 - Train Error: 0.0011 - Test Error: 0.0011\n",
            "Epoch 734/1000 - Train Error: 0.0011 - Test Error: 0.0011\n",
            "Epoch 735/1000 - Train Error: 0.0011 - Test Error: 0.0011\n",
            "Epoch 736/1000 - Train Error: 0.0011 - Test Error: 0.0011\n",
            "Epoch 737/1000 - Train Error: 0.0011 - Test Error: 0.0011\n",
            "Epoch 738/1000 - Train Error: 0.0011 - Test Error: 0.0011\n",
            "Epoch 739/1000 - Train Error: 0.0011 - Test Error: 0.0011\n",
            "Epoch 740/1000 - Train Error: 0.0011 - Test Error: 0.0011\n",
            "Epoch 741/1000 - Train Error: 0.0011 - Test Error: 0.0011\n"
          ]
        },
        {
          "output_type": "stream",
          "name": "stderr",
          "text": [
            "Training:  75%|█████████████████████████████████████▌            | 750/1000 [00:09<00:02, 83.83it/s]"
          ]
        },
        {
          "output_type": "stream",
          "name": "stdout",
          "text": [
            "Epoch 742/1000 - Train Error: 0.0011 - Test Error: 0.0011\n",
            "Epoch 743/1000 - Train Error: 0.0011 - Test Error: 0.0011\n",
            "Epoch 744/1000 - Train Error: 0.0011 - Test Error: 0.0011\n",
            "Epoch 745/1000 - Train Error: 0.0011 - Test Error: 0.0011\n",
            "Epoch 746/1000 - Train Error: 0.0011 - Test Error: 0.0011\n",
            "Epoch 747/1000 - Train Error: 0.0011 - Test Error: 0.0011\n",
            "Epoch 748/1000 - Train Error: 0.0011 - Test Error: 0.0011\n",
            "Epoch 749/1000 - Train Error: 0.0011 - Test Error: 0.0011\n",
            "Epoch 750/1000 - Train Error: 0.0011 - Test Error: 0.0011\n",
            "Epoch 751/1000 - Train Error: 0.0011 - Test Error: 0.0011\n",
            "Epoch 752/1000 - Train Error: 0.0011 - Test Error: 0.0011\n",
            "Epoch 753/1000 - Train Error: 0.0011 - Test Error: 0.0011\n",
            "Epoch 754/1000 - Train Error: 0.0011 - Test Error: 0.0011\n",
            "Epoch 755/1000 - Train Error: 0.0011 - Test Error: 0.0011\n",
            "Epoch 756/1000 - Train Error: 0.0011 - Test Error: 0.0011\n",
            "Epoch 757/1000 - Train Error: 0.0011 - Test Error: 0.0011\n"
          ]
        },
        {
          "output_type": "stream",
          "name": "stderr",
          "text": [
            "Training:  77%|██████████████████████████████████████▎           | 767/1000 [00:09<00:02, 79.08it/s]"
          ]
        },
        {
          "output_type": "stream",
          "name": "stdout",
          "text": [
            "Epoch 758/1000 - Train Error: 0.0011 - Test Error: 0.0011\n",
            "Epoch 759/1000 - Train Error: 0.0011 - Test Error: 0.0011\n",
            "Epoch 760/1000 - Train Error: 0.0011 - Test Error: 0.0011\n",
            "Epoch 761/1000 - Train Error: 0.0011 - Test Error: 0.0011\n",
            "Epoch 762/1000 - Train Error: 0.0011 - Test Error: 0.0011\n",
            "Epoch 763/1000 - Train Error: 0.0011 - Test Error: 0.0011\n",
            "Epoch 764/1000 - Train Error: 0.0011 - Test Error: 0.0011\n",
            "Epoch 765/1000 - Train Error: 0.0011 - Test Error: 0.0011\n",
            "Epoch 766/1000 - Train Error: 0.0011 - Test Error: 0.0011\n",
            "Epoch 767/1000 - Train Error: 0.0011 - Test Error: 0.0011\n",
            "Epoch 768/1000 - Train Error: 0.0011 - Test Error: 0.0011\n",
            "Epoch 769/1000 - Train Error: 0.0011 - Test Error: 0.0011\n",
            "Epoch 770/1000 - Train Error: 0.0011 - Test Error: 0.0011\n",
            "Epoch 771/1000 - Train Error: 0.0011 - Test Error: 0.0011\n",
            "Epoch 772/1000 - Train Error: 0.0011 - Test Error: 0.0011\n",
            "Epoch 773/1000 - Train Error: 0.0011 - Test Error: 0.0011\n",
            "Epoch 774/1000 - Train Error: 0.0010 - Test Error: 0.0011\n"
          ]
        },
        {
          "output_type": "stream",
          "name": "stderr",
          "text": [
            "Training:  78%|███████████████████████████████████████▏          | 784/1000 [00:09<00:02, 78.27it/s]"
          ]
        },
        {
          "output_type": "stream",
          "name": "stdout",
          "text": [
            "Epoch 775/1000 - Train Error: 0.0010 - Test Error: 0.0011\n",
            "Epoch 776/1000 - Train Error: 0.0010 - Test Error: 0.0011\n",
            "Epoch 777/1000 - Train Error: 0.0010 - Test Error: 0.0011\n",
            "Epoch 778/1000 - Train Error: 0.0010 - Test Error: 0.0011\n",
            "Epoch 779/1000 - Train Error: 0.0010 - Test Error: 0.0011\n",
            "Epoch 780/1000 - Train Error: 0.0010 - Test Error: 0.0011\n",
            "Epoch 781/1000 - Train Error: 0.0010 - Test Error: 0.0011\n",
            "Epoch 782/1000 - Train Error: 0.0010 - Test Error: 0.0011\n",
            "Epoch 783/1000 - Train Error: 0.0010 - Test Error: 0.0011\n",
            "Epoch 784/1000 - Train Error: 0.0010 - Test Error: 0.0011\n",
            "Epoch 785/1000 - Train Error: 0.0010 - Test Error: 0.0011\n",
            "Epoch 786/1000 - Train Error: 0.0010 - Test Error: 0.0011\n",
            "Epoch 787/1000 - Train Error: 0.0010 - Test Error: 0.0011\n",
            "Epoch 788/1000 - Train Error: 0.0010 - Test Error: 0.0011\n",
            "Epoch 789/1000 - Train Error: 0.0010 - Test Error: 0.0011\n",
            "Epoch 790/1000 - Train Error: 0.0010 - Test Error: 0.0011\n"
          ]
        },
        {
          "output_type": "stream",
          "name": "stderr",
          "text": [
            "Training:  80%|████████████████████████████████████████          | 802/1000 [00:09<00:02, 81.96it/s]"
          ]
        },
        {
          "output_type": "stream",
          "name": "stdout",
          "text": [
            "Epoch 791/1000 - Train Error: 0.0010 - Test Error: 0.0011\n",
            "Epoch 792/1000 - Train Error: 0.0010 - Test Error: 0.0011\n",
            "Epoch 793/1000 - Train Error: 0.0010 - Test Error: 0.0011\n",
            "Epoch 794/1000 - Train Error: 0.0010 - Test Error: 0.0011\n",
            "Epoch 795/1000 - Train Error: 0.0010 - Test Error: 0.0011\n",
            "Epoch 796/1000 - Train Error: 0.0010 - Test Error: 0.0011\n",
            "Epoch 797/1000 - Train Error: 0.0010 - Test Error: 0.0011\n",
            "Epoch 798/1000 - Train Error: 0.0010 - Test Error: 0.0011\n",
            "Epoch 799/1000 - Train Error: 0.0010 - Test Error: 0.0011\n",
            "Epoch 800/1000 - Train Error: 0.0010 - Test Error: 0.0011\n",
            "Epoch 801/1000 - Train Error: 0.0010 - Test Error: 0.0011\n",
            "Epoch 802/1000 - Train Error: 0.0010 - Test Error: 0.0011\n",
            "Epoch 803/1000 - Train Error: 0.0010 - Test Error: 0.0011\n",
            "Epoch 804/1000 - Train Error: 0.0010 - Test Error: 0.0011\n",
            "Epoch 805/1000 - Train Error: 0.0010 - Test Error: 0.0011\n",
            "Epoch 806/1000 - Train Error: 0.0010 - Test Error: 0.0011\n",
            "Epoch 807/1000 - Train Error: 0.0010 - Test Error: 0.0011\n",
            "Epoch 808/1000 - Train Error: 0.0010 - Test Error: 0.0011\n"
          ]
        },
        {
          "output_type": "stream",
          "name": "stderr",
          "text": [
            "Training:  82%|█████████████████████████████████████████         | 820/1000 [00:09<00:02, 78.31it/s]"
          ]
        },
        {
          "output_type": "stream",
          "name": "stdout",
          "text": [
            "Epoch 809/1000 - Train Error: 0.0010 - Test Error: 0.0011\n",
            "Epoch 810/1000 - Train Error: 0.0010 - Test Error: 0.0011\n",
            "Epoch 811/1000 - Train Error: 0.0010 - Test Error: 0.0011\n",
            "Epoch 812/1000 - Train Error: 0.0010 - Test Error: 0.0011\n",
            "Epoch 813/1000 - Train Error: 0.0010 - Test Error: 0.0011\n",
            "Epoch 814/1000 - Train Error: 0.0010 - Test Error: 0.0011\n",
            "Epoch 815/1000 - Train Error: 0.0010 - Test Error: 0.0011\n",
            "Epoch 816/1000 - Train Error: 0.0010 - Test Error: 0.0011\n",
            "Epoch 817/1000 - Train Error: 0.0010 - Test Error: 0.0011\n",
            "Epoch 818/1000 - Train Error: 0.0010 - Test Error: 0.0011\n",
            "Epoch 819/1000 - Train Error: 0.0010 - Test Error: 0.0011\n",
            "Epoch 820/1000 - Train Error: 0.0010 - Test Error: 0.0011\n",
            "Epoch 821/1000 - Train Error: 0.0010 - Test Error: 0.0011\n",
            "Epoch 822/1000 - Train Error: 0.0010 - Test Error: 0.0011\n"
          ]
        },
        {
          "output_type": "stream",
          "name": "stderr",
          "text": [
            "Training:  84%|█████████████████████████████████████████▊        | 836/1000 [00:10<00:02, 74.18it/s]"
          ]
        },
        {
          "output_type": "stream",
          "name": "stdout",
          "text": [
            "Epoch 823/1000 - Train Error: 0.0010 - Test Error: 0.0011\n",
            "Epoch 824/1000 - Train Error: 0.0010 - Test Error: 0.0011\n",
            "Epoch 825/1000 - Train Error: 0.0010 - Test Error: 0.0011\n",
            "Epoch 826/1000 - Train Error: 0.0010 - Test Error: 0.0011\n",
            "Epoch 827/1000 - Train Error: 0.0010 - Test Error: 0.0011\n",
            "Epoch 828/1000 - Train Error: 0.0010 - Test Error: 0.0011\n",
            "Epoch 829/1000 - Train Error: 0.0010 - Test Error: 0.0011\n",
            "Epoch 830/1000 - Train Error: 0.0010 - Test Error: 0.0011\n",
            "Epoch 831/1000 - Train Error: 0.0010 - Test Error: 0.0011\n",
            "Epoch 832/1000 - Train Error: 0.0010 - Test Error: 0.0011\n",
            "Epoch 833/1000 - Train Error: 0.0010 - Test Error: 0.0011\n",
            "Epoch 834/1000 - Train Error: 0.0010 - Test Error: 0.0010\n",
            "Epoch 835/1000 - Train Error: 0.0010 - Test Error: 0.0010\n",
            "Epoch 836/1000 - Train Error: 0.0010 - Test Error: 0.0010\n",
            "Epoch 837/1000 - Train Error: 0.0010 - Test Error: 0.0010\n"
          ]
        },
        {
          "output_type": "stream",
          "name": "stderr",
          "text": [
            "Training:  85%|██████████████████████████████████████████▌       | 852/1000 [00:10<00:02, 71.16it/s]"
          ]
        },
        {
          "output_type": "stream",
          "name": "stdout",
          "text": [
            "Epoch 838/1000 - Train Error: 0.0010 - Test Error: 0.0010\n",
            "Epoch 839/1000 - Train Error: 0.0010 - Test Error: 0.0010\n",
            "Epoch 840/1000 - Train Error: 0.0010 - Test Error: 0.0010\n",
            "Epoch 841/1000 - Train Error: 0.0010 - Test Error: 0.0010\n",
            "Epoch 842/1000 - Train Error: 0.0010 - Test Error: 0.0010\n",
            "Epoch 843/1000 - Train Error: 0.0010 - Test Error: 0.0010\n",
            "Epoch 844/1000 - Train Error: 0.0010 - Test Error: 0.0010\n",
            "Epoch 845/1000 - Train Error: 0.0010 - Test Error: 0.0010\n",
            "Epoch 846/1000 - Train Error: 0.0010 - Test Error: 0.0010\n",
            "Epoch 847/1000 - Train Error: 0.0010 - Test Error: 0.0010\n",
            "Epoch 848/1000 - Train Error: 0.0010 - Test Error: 0.0010\n",
            "Epoch 849/1000 - Train Error: 0.0010 - Test Error: 0.0010\n",
            "Epoch 850/1000 - Train Error: 0.0010 - Test Error: 0.0010\n",
            "Epoch 851/1000 - Train Error: 0.0010 - Test Error: 0.0010\n",
            "Epoch 852/1000 - Train Error: 0.0010 - Test Error: 0.0010\n"
          ]
        },
        {
          "output_type": "stream",
          "name": "stderr",
          "text": [
            "Training:  86%|██████████████████████████████████████████▉       | 859/1000 [00:10<00:01, 81.75it/s]\n"
          ]
        },
        {
          "output_type": "stream",
          "name": "stdout",
          "text": [
            "Epoch 853/1000 - Train Error: 0.0010 - Test Error: 0.0010\n",
            "Epoch 854/1000 - Train Error: 0.0010 - Test Error: 0.0010\n",
            "Epoch 855/1000 - Train Error: 0.0010 - Test Error: 0.0010\n",
            "Epoch 856/1000 - Train Error: 0.0010 - Test Error: 0.0010\n",
            "Epoch 857/1000 - Train Error: 0.0010 - Test Error: 0.0010\n",
            "Epoch 858/1000 - Train Error: 0.0010 - Test Error: 0.0010\n",
            "Epoch 859/1000 - Train Error: 0.0010 - Test Error: 0.0010\n",
            "Epoch 860/1000 - Train Error: 0.0010 - Test Error: 0.0010\n",
            "\n",
            "Training stopped at epoch 860 due to tolerance threshold.\n",
            "\n",
            "Final weights: [[ 8.48521489e-03]\n",
            " [-2.54971073e-02]\n",
            " [-9.15857518e-03]\n",
            " [ 1.89988050e-02]\n",
            " [-3.35244039e-03]\n",
            " [ 1.29089506e-02]\n",
            " [ 4.37577356e-02]\n",
            " [ 4.41604664e-02]\n",
            " [ 2.83724929e-03]\n",
            " [ 1.03930410e-03]\n",
            " [-1.48986767e-03]\n",
            " [ 1.32421133e-03]\n",
            " [-3.69809896e-04]\n",
            " [ 3.12212138e-04]\n",
            " [ 1.52476536e-02]\n",
            " [ 1.52437104e-02]\n",
            " [-6.91422701e-04]\n",
            " [ 2.11789611e-04]\n",
            " [ 2.69813848e-03]\n",
            " [-5.41583895e-04]\n",
            " [-6.31364471e-03]\n",
            " [-1.84287042e-04]\n",
            " [ 9.73916917e-04]\n",
            " [-1.23966484e-03]\n",
            " [ 1.76168145e-02]\n",
            " [ 1.42482300e-02]\n",
            " [ 1.62919152e-02]\n",
            " [-2.45585088e-04]\n",
            " [ 2.69896341e-03]\n",
            " [ 2.91650052e-03]\n",
            " [-5.78868734e-03]\n",
            " [ 2.41890724e-03]\n",
            " [ 9.20008395e-05]\n",
            " [ 1.30113951e-03]\n",
            " [ 1.59734203e-02]\n",
            " [ 1.45127055e-02]\n",
            " [ 1.60045818e-02]\n",
            " [ 1.06501342e-03]\n",
            " [-2.95359952e-04]\n",
            " [ 1.46738365e-03]\n",
            " [-3.91029277e-04]\n",
            " [-7.13139626e-03]\n",
            " [ 3.63443242e-03]\n",
            " [ 2.24325233e-03]\n",
            " [ 2.26303443e-03]\n",
            " [ 2.13073468e-02]\n",
            " [ 1.79970951e-02]\n",
            " [ 1.91140794e-02]\n",
            " [-1.35751783e-03]\n",
            " [-3.40016748e-03]\n",
            " [-7.63474509e-03]\n",
            " [-1.03398607e-04]\n",
            " [ 4.54811262e-04]\n",
            " [ 9.20531677e-04]\n",
            " [ 1.80041699e-02]\n",
            " [ 2.13138330e-02]\n",
            " [ 1.25586134e-02]\n",
            " [-7.56668826e-03]\n",
            " [-3.07043116e-04]\n",
            " [-3.32150318e-03]\n",
            " [-7.57878648e-03]\n",
            " [ 6.29818688e-03]\n",
            " [ 4.52950788e-03]\n",
            " [ 3.44755899e-03]\n",
            " [ 2.16728218e-02]\n",
            " [ 2.02619147e-02]\n",
            " [ 2.04424026e-02]\n",
            " [-2.12199912e-03]\n",
            " [-1.49638114e-03]\n",
            " [-1.83284231e-03]\n",
            " [-2.12423422e-03]\n",
            " [ 5.80211335e-03]\n",
            " [-2.70846661e-03]\n",
            " [ 3.12205810e-03]\n",
            " [ 2.48664852e-02]\n",
            " [ 2.06288294e-02]\n",
            " [ 2.35742262e-02]\n",
            " [ 1.67363386e-03]\n",
            " [-4.08160418e-04]\n",
            " [ 1.84336397e-03]\n",
            " [ 1.60183083e-03]\n",
            " [-6.74307350e-03]\n",
            " [ 1.81492075e-03]\n",
            " [ 2.67187794e-03]\n",
            " [-2.62890929e-03]\n",
            " [ 2.14835797e-02]\n",
            " [ 2.13641159e-02]\n",
            " [ 2.02980580e-02]\n",
            " [ 2.01231200e-03]\n",
            " [-7.62775420e-04]\n",
            " [ 4.02247806e-03]\n",
            " [ 4.47943645e-03]\n",
            " [ 4.48979373e-03]\n",
            " [-1.89045086e-02]\n",
            " [ 6.44545564e-03]\n",
            " [-4.16553796e-05]\n",
            " [ 5.45055760e-03]\n",
            " [-7.34066115e-04]\n",
            " [ 3.26864247e-02]\n",
            " [ 2.61739473e-02]\n",
            " [ 3.21776999e-02]\n",
            " [ 5.49794564e-03]\n",
            " [ 8.46696466e-03]\n",
            " [ 9.46864037e-03]\n",
            " [-1.08735126e-02]\n",
            " [-8.12899011e-03]\n",
            " [ 7.28594058e-03]\n",
            " [-9.52042381e-04]\n",
            " [ 9.00828527e-04]\n",
            " [ 3.48881588e-02]\n",
            " [ 3.44408920e-02]\n",
            " [ 3.14475828e-02]\n",
            " [-1.81847921e-03]\n",
            " [-2.89336597e-03]\n",
            " [-3.07754166e-03]\n",
            " [ 1.69072405e-03]\n",
            " [-3.22065976e-03]\n",
            " [ 4.15884215e-04]\n",
            " [ 1.14286397e-05]\n",
            " [ 2.99152672e-03]\n",
            " [-1.80642107e-03]\n",
            " [-1.03936634e-03]\n",
            " [-1.87327887e-03]\n",
            " [-1.33217703e-02]\n",
            " [ 1.52874617e-02]\n",
            " [ 1.51023469e-03]\n",
            " [-1.68536935e-04]\n",
            " [-1.62285248e-03]\n",
            " [ 2.37243141e-02]\n",
            " [ 2.13536775e-02]\n",
            " [ 2.27919380e-02]\n",
            " [-4.42870506e-03]\n",
            " [ 4.82964230e-03]\n",
            " [ 8.76860244e-03]\n",
            " [ 1.16952287e-03]\n",
            " [-5.31877603e-04]\n",
            " [ 1.65203899e-02]\n",
            " [ 1.44064138e-02]\n",
            " [ 1.62482848e-02]\n",
            " [ 1.01388101e-02]\n",
            " [ 7.70859926e-03]\n",
            " [ 3.06037662e-03]\n",
            " [ 1.65032608e-04]\n",
            " [ 3.97256758e-03]\n",
            " [ 2.15388909e-02]\n",
            " [ 2.36314281e-02]\n",
            " [ 2.08796305e-02]\n",
            " [-2.51622232e-03]\n",
            " [-2.45093577e-03]\n",
            " [-1.36318237e-04]\n",
            " [ 7.97736557e-04]\n",
            " [ 2.40111256e-04]\n",
            " [ 8.96908395e-04]\n",
            " [ 2.51422061e-04]\n",
            " [ 6.43446485e-04]\n",
            " [ 2.25969072e-03]\n",
            " [-2.50244942e-03]\n",
            " [-2.71374158e-03]\n",
            " [ 3.25774422e-03]\n",
            " [ 2.93533167e-02]\n",
            " [ 3.10997913e-02]\n",
            " [ 2.51610013e-02]]\n"
          ]
        },
        {
          "output_type": "display_data",
          "data": {
            "text/plain": [
              "<Figure size 640x480 with 1 Axes>"
            ],
            "image/png": "[encoded data removed]"
          },
          "metadata": {}
        }
      ]
    },
    {
      "cell_type": "code",
      "source": [
        "from sklearn.linear_model import LinearRegression, Lasso, Ridge\n",
        "\n",
        "# تعریف مدل‌های مختلف\n",
        "models = {\n",
        "    'Linear Regression': LinearRegression(),\n",
        "    'Lasso Regression': Lasso(alpha=0.1),\n",
        "    'Ridge Regression': Ridge(alpha=0.1)\n",
        "}\n",
        "\n",
        "# آموزش و ارزیابی مدل‌ها\n",
        "results = {}\n",
        "for model_name, model in models.items():\n",
        "    # آموزش مدل\n",
        "    model.fit(X_train, y_train)\n",
        "\n",
        "    # پیش‌بینی\n",
        "    y_train_pred = model.predict(X_train)\n",
        "    y_test_pred = model.predict(X_test)\n",
        "\n",
        "    # محاسبه MSE برای داده‌های آموزش و آزمون\n",
        "    train_error = mean_squared_error(y_train, y_train_pred)\n",
        "    test_error = mean_squared_error(y_test, y_test_pred)\n",
        "\n",
        "    results[model_name] = {\n",
        "        'Train Error (MSE)': train_error,\n",
        "        'Test Error (MSE)': test_error,\n",
        "        'Model': model\n",
        "    }\n",
        "\n",
        "# نمایش نتایج MSE برای هر مدل\n",
        "for model_name, result in results.items():\n",
        "    print(f\"{model_name} - Train MSE: {result['Train Error (MSE)']:.4f}, Test MSE: {result['Test Error (MSE)']:.4f}\")\n",
        "\n",
        "# مقایسه خطاهای مدل‌ها\n",
        "labels = list(results.keys())\n",
        "train_errors = [result['Train Error (MSE)'] for result in results.values()]\n",
        "test_errors = [result['Test Error (MSE)'] for result in results.values()]\n",
        "\n",
        "# نمودار مقایسه MSE\n",
        "plt.figure(figsize=(8,6))\n",
        "plt.bar(labels, train_errors, alpha=0.6, label='Train MSE')\n",
        "plt.bar(labels, test_errors, alpha=0.6, label='Test MSE')\n",
        "plt.ylabel('Mean Squared Error')\n",
        "plt.title('Comparison of Model Errors (MSE)')\n",
        "plt.legend()\n",
        "plt.show()\n",
        "\n",
        "# انتخاب بهترین مدل بر اساس کمترین MSE در آزمون\n",
        "best_model_name = min(results, key=lambda model: results[model]['Test Error (MSE)'])\n",
        "best_model = results[best_model_name]['Model']\n",
        "print(f\"\\nBest Model: {best_model_name}\")\n"
      ],
      "metadata": {
        "colab": {
          "base_uri": "https://localhost:8080/",
          "height": 632
        },
        "id": "x8tbCFdEycWL",
        "outputId": "c03c68cf-ea1f-48d6-dd88-f437ce94ecea"
      },
      "execution_count": null,
      "outputs": [
        {
          "output_type": "stream",
          "name": "stdout",
          "text": [
            "Linear Regression - Train MSE: 0.0001, Test MSE: 0.0001\n",
            "Lasso Regression - Train MSE: 0.0376, Test MSE: 0.0368\n",
            "Ridge Regression - Train MSE: 0.0001, Test MSE: 0.0001\n"
          ]
        },
        {
          "output_type": "display_data",
          "data": {
            "text/plain": [
              "<Figure size 800x600 with 1 Axes>"
            ],
            "image/png": "[encoded data removed]"
          },
          "metadata": {}
        },
        {
          "output_type": "stream",
          "name": "stdout",
          "text": [
            "\n",
            "Best Model: Ridge Regression\n"
          ]
        }
      ]
    },
    {
      "cell_type": "code",
      "source": [
        "from tqdm import tqdm\n",
        "\n",
        "# برای نمونه، در اینجا دما (BUDAPEST_temp_mean) را به‌عنوان هدف انتخاب کرده‌ایم\n",
        "X = df_cleaned.drop(columns=['BUDAPEST_temp_mean','DATE','MONTH']).values  # تمامی ویژگی‌ها به جز BUDAPEST_temp_mean\n",
        "y = df_cleaned['BUDAPEST_temp_mean'].values  # هدف: دمای شهر BUDAPEST\n",
        "\n",
        "# تقسیم داده‌ها به مجموعه آموزش و آزمون (80% آموزش و 20% آزمون)\n",
        "X_train, X_test, y_train, y_test = train_test_split(X, y, test_size=0.2, random_state=42)\n",
        "y_train = y_train.reshape(-1, 1)\n",
        "y_test = y_test.reshape(-1, 1)\n",
        "# تابع پیش‌بینی مدل (رگرسیون خطی درجه 1)\n",
        "def predict(X, weights):\n",
        "    return np.dot(X, weights)\n",
        "\n",
        "# تابع محاسبه خطا (MSE)\n",
        "def compute_error(y_true, y_pred):\n",
        "    return mean_squared_error(y_true, y_pred)\n",
        "\n",
        "# تابع محاسبه گرادیان (برای رگرسیون چندجمله‌ای درجه 1)\n",
        "def compute_gradient(X, y_true, y_pred):\n",
        "    return -2 * np.dot(X.T, (y_true - y_pred)) / len(y_true)\n",
        "\n",
        "# تابع بروزرسانی وزن‌ها\n",
        "def update_weights(weights, learning_rate, gradient):\n",
        "    return weights - learning_rate * gradient\n",
        "\n",
        "# حلقه آموزش مدل\n",
        "def train_model(X_train, y_train, X_test, y_test, learning_rate=0.01, max_epochs=1000, tolerance=0.001):\n",
        "    # وزن‌های اولیه مدل (آغاز از صفر)\n",
        "    weights = np.zeros((X_train.shape[1], 1))\n",
        "\n",
        "    # ذخیره خطاها برای نمایش در نهایت\n",
        "    train_errors = []\n",
        "    test_errors = []\n",
        "\n",
        "    # نوار پیشرفت tqdm\n",
        "    for epoch in tqdm(range(max_epochs), desc=\"Training\", ncols=100):\n",
        "        # پیش‌بینی برای داده‌های آموزش و آزمون\n",
        "        y_train_pred = predict(X_train, weights)\n",
        "        y_test_pred = predict(X_test, weights)\n",
        "\n",
        "        # محاسبه خطاها\n",
        "        train_error = compute_error(y_train, y_train_pred)\n",
        "        test_error = compute_error(y_test, y_test_pred)\n",
        "\n",
        "        # ذخیره خطاها\n",
        "        train_errors.append(train_error)\n",
        "        test_errors.append(test_error)\n",
        "\n",
        "        # محاسبه گرادیان\n",
        "        gradient = compute_gradient(X_train, y_train, y_train_pred)\n",
        "\n",
        "        # بروزرسانی وزن‌ها\n",
        "        weights = update_weights(weights, learning_rate, gradient)\n",
        "\n",
        "        # نمایش خطا برای داده‌های آموزش و آزمون\n",
        "        tqdm.write(f'Epoch {epoch+1}/{max_epochs} - Train Error: {train_error:.4f} - Test Error: {test_error:.4f}')\n",
        "\n",
        "        # توقف آموزش اگر خطا به حد مشخصی رسید\n",
        "        if train_error < tolerance:\n",
        "            print(f\"\\nTraining stopped at epoch {epoch+1} due to tolerance threshold.\")\n",
        "            break\n",
        "\n",
        "    return weights, train_errors, test_errors\n",
        "\n",
        "# آموزش مدل\n",
        "weights, train_errors, test_errors = train_model(X_train, y_train, X_test, y_test)\n",
        "\n",
        "# نمایش وزن‌ها نهایی\n",
        "print(\"\\nFinal weights:\", weights)\n",
        "\n",
        "# نمایش خطاها\n",
        "plt.plot(train_errors, label=\"Train Error\")\n",
        "plt.plot(test_errors, label=\"Test Error\")\n",
        "plt.xlabel(\"Epochs\")\n",
        "plt.ylabel(\"Error\")\n",
        "plt.legend()\n",
        "plt.title(\"Training and Test Errors Over Epochs\")\n",
        "plt.show()\n"
      ],
      "metadata": {
        "colab": {
          "base_uri": "https://localhost:8080/",
          "height": 1000
        },
        "id": "u3MlPk9izHUV",
        "outputId": "45d9b955-0b9e-4b97-8ff9-40538c3343aa"
      },
      "execution_count": null,
      "outputs": [
        {
          "output_type": "stream",
          "name": "stderr",
          "text": [
            "Training:   1%|▌                                                  | 10/1000 [00:00<00:10, 92.36it/s]"
          ]
        },
        {
          "output_type": "stream",
          "name": "stdout",
          "text": [
            "Epoch 1/1000 - Train Error: 0.3048 - Test Error: 0.3005\n",
            "Epoch 2/1000 - Train Error: 0.0286 - Test Error: 0.0273\n",
            "Epoch 3/1000 - Train Error: 0.0177 - Test Error: 0.0172\n",
            "Epoch 4/1000 - Train Error: 0.0165 - Test Error: 0.0161\n",
            "Epoch 5/1000 - Train Error: 0.0156 - Test Error: 0.0153\n",
            "Epoch 6/1000 - Train Error: 0.0149 - Test Error: 0.0146\n",
            "Epoch 7/1000 - Train Error: 0.0142 - Test Error: 0.0139\n",
            "Epoch 8/1000 - Train Error: 0.0136 - Test Error: 0.0133\n",
            "Epoch 9/1000 - Train Error: 0.0130 - Test Error: 0.0127\n",
            "Epoch 10/1000 - Train Error: 0.0124 - Test Error: 0.0122\n",
            "Epoch 11/1000 - Train Error: 0.0119 - Test Error: 0.0117\n",
            "Epoch 12/1000 - Train Error: 0.0115 - Test Error: 0.0112\n",
            "Epoch 13/1000 - Train Error: 0.0110 - Test Error: 0.0108\n",
            "Epoch 14/1000 - Train Error: 0.0106 - Test Error: 0.0104\n",
            "Epoch 15/1000 - Train Error: 0.0103 - Test Error: 0.0101\n",
            "Epoch 16/1000 - Train Error: 0.0099 - Test Error: 0.0098\n",
            "Epoch 17/1000 - Train Error: 0.0096 - Test Error: 0.0094\n",
            "Epoch 18/1000 - Train Error: 0.0093 - Test Error: 0.0092\n",
            "Epoch 19/1000 - Train Error: 0.0090 - Test Error: 0.0089\n",
            "Epoch 20/1000 - Train Error: 0.0088 - Test Error: 0.0087\n",
            "Epoch 21/1000 - Train Error: 0.0086 - Test Error: 0.0084\n"
          ]
        },
        {
          "output_type": "stream",
          "name": "stderr",
          "text": [
            "Training:   3%|█▋                                                | 34/1000 [00:00<00:08, 109.82it/s]"
          ]
        },
        {
          "output_type": "stream",
          "name": "stdout",
          "text": [
            "Epoch 22/1000 - Train Error: 0.0083 - Test Error: 0.0082\n",
            "Epoch 23/1000 - Train Error: 0.0081 - Test Error: 0.0080\n",
            "Epoch 24/1000 - Train Error: 0.0079 - Test Error: 0.0078\n",
            "Epoch 25/1000 - Train Error: 0.0078 - Test Error: 0.0077\n",
            "Epoch 26/1000 - Train Error: 0.0076 - Test Error: 0.0075\n",
            "Epoch 27/1000 - Train Error: 0.0074 - Test Error: 0.0074\n",
            "Epoch 28/1000 - Train Error: 0.0073 - Test Error: 0.0072\n",
            "Epoch 29/1000 - Train Error: 0.0072 - Test Error: 0.0071\n",
            "Epoch 30/1000 - Train Error: 0.0070 - Test Error: 0.0070\n",
            "Epoch 31/1000 - Train Error: 0.0069 - Test Error: 0.0068\n",
            "Epoch 32/1000 - Train Error: 0.0068 - Test Error: 0.0067\n",
            "Epoch 33/1000 - Train Error: 0.0067 - Test Error: 0.0066\n",
            "Epoch 34/1000 - Train Error: 0.0066 - Test Error: 0.0065\n",
            "Epoch 35/1000 - Train Error: 0.0065 - Test Error: 0.0064\n",
            "Epoch 36/1000 - Train Error: 0.0064 - Test Error: 0.0064\n",
            "Epoch 37/1000 - Train Error: 0.0063 - Test Error: 0.0063\n",
            "Epoch 38/1000 - Train Error: 0.0062 - Test Error: 0.0062\n",
            "Epoch 39/1000 - Train Error: 0.0061 - Test Error: 0.0061\n",
            "Epoch 40/1000 - Train Error: 0.0061 - Test Error: 0.0061\n",
            "Epoch 41/1000 - Train Error: 0.0060 - Test Error: 0.0060\n",
            "Epoch 42/1000 - Train Error: 0.0059 - Test Error: 0.0059\n",
            "Epoch 43/1000 - Train Error: 0.0059 - Test Error: 0.0059\n",
            "Epoch 44/1000 - Train Error: 0.0058 - Test Error: 0.0058\n",
            "Epoch 45/1000 - Train Error: 0.0058 - Test Error: 0.0058\n"
          ]
        },
        {
          "output_type": "stream",
          "name": "stderr",
          "text": [
            "Training:   6%|██▉                                               | 58/1000 [00:00<00:08, 110.05it/s]"
          ]
        },
        {
          "output_type": "stream",
          "name": "stdout",
          "text": [
            "Epoch 46/1000 - Train Error: 0.0057 - Test Error: 0.0057\n",
            "Epoch 47/1000 - Train Error: 0.0056 - Test Error: 0.0056\n",
            "Epoch 48/1000 - Train Error: 0.0056 - Test Error: 0.0056\n",
            "Epoch 49/1000 - Train Error: 0.0055 - Test Error: 0.0056\n",
            "Epoch 50/1000 - Train Error: 0.0055 - Test Error: 0.0055\n",
            "Epoch 51/1000 - Train Error: 0.0054 - Test Error: 0.0055\n",
            "Epoch 52/1000 - Train Error: 0.0054 - Test Error: 0.0054\n",
            "Epoch 53/1000 - Train Error: 0.0054 - Test Error: 0.0054\n",
            "Epoch 54/1000 - Train Error: 0.0053 - Test Error: 0.0053\n",
            "Epoch 55/1000 - Train Error: 0.0053 - Test Error: 0.0053\n",
            "Epoch 56/1000 - Train Error: 0.0052 - Test Error: 0.0053\n",
            "Epoch 57/1000 - Train Error: 0.0052 - Test Error: 0.0052\n",
            "Epoch 58/1000 - Train Error: 0.0052 - Test Error: 0.0052\n",
            "Epoch 59/1000 - Train Error: 0.0051 - Test Error: 0.0052\n",
            "Epoch 60/1000 - Train Error: 0.0051 - Test Error: 0.0051\n",
            "Epoch 61/1000 - Train Error: 0.0051 - Test Error: 0.0051\n",
            "Epoch 62/1000 - Train Error: 0.0050 - Test Error: 0.0051\n",
            "Epoch 63/1000 - Train Error: 0.0050 - Test Error: 0.0050\n",
            "Epoch 64/1000 - Train Error: 0.0050 - Test Error: 0.0050\n",
            "Epoch 65/1000 - Train Error: 0.0049 - Test Error: 0.0050\n",
            "Epoch 66/1000 - Train Error: 0.0049 - Test Error: 0.0049\n",
            "Epoch 67/1000 - Train Error: 0.0049 - Test Error: 0.0049\n",
            "Epoch 68/1000 - Train Error: 0.0048 - Test Error: 0.0049\n"
          ]
        },
        {
          "output_type": "stream",
          "name": "stderr",
          "text": []
        },
        {
          "output_type": "stream",
          "name": "stdout",
          "text": [
            "Epoch 69/1000 - Train Error: 0.0048 - Test Error: 0.0049\n",
            "Epoch 70/1000 - Train Error: 0.0048 - Test Error: 0.0048\n",
            "Epoch 71/1000 - Train Error: 0.0048 - Test Error: 0.0048\n",
            "Epoch 72/1000 - Train Error: 0.0047 - Test Error: 0.0048\n",
            "Epoch 73/1000 - Train Error: 0.0047 - Test Error: 0.0048\n",
            "Epoch 74/1000 - Train Error: 0.0047 - Test Error: 0.0047\n",
            "Epoch 75/1000 - Train Error: 0.0047 - Test Error: 0.0047\n",
            "Epoch 76/1000 - Train Error: 0.0046 - Test Error: 0.0047\n",
            "Epoch 77/1000 - Train Error: 0.0046 - Test Error: 0.0047\n",
            "Epoch 78/1000 - Train Error: 0.0046 - Test Error: 0.0047\n",
            "Epoch 79/1000 - Train Error: 0.0046 - Test Error: 0.0046\n",
            "Epoch 80/1000 - Train Error: 0.0045 - Test Error: 0.0046\n",
            "Epoch 81/1000 - Train Error: 0.0045 - Test Error: 0.0046\n",
            "Epoch 82/1000 - Train Error: 0.0045 - Test Error: 0.0046\n",
            "Epoch 83/1000 - Train Error: 0.0045 - Test Error: 0.0046\n",
            "Epoch 84/1000 - Train Error: 0.0045 - Test Error: 0.0045\n",
            "Epoch 85/1000 - Train Error: 0.0044 - Test Error: 0.0045\n",
            "Epoch 86/1000 - Train Error: 0.0044 - Test Error: 0.0045\n",
            "Epoch 87/1000 - Train Error: 0.0044 - Test Error: 0.0045\n",
            "Epoch 88/1000 - Train Error: 0.0044 - Test Error: 0.0045\n",
            "Epoch 89/1000 - Train Error: 0.0044 - Test Error: 0.0044\n",
            "Epoch 90/1000 - Train Error: 0.0043 - Test Error: 0.0044\n",
            "Epoch 91/1000 - Train Error: 0.0043 - Test Error: 0.0044\n"
          ]
        },
        {
          "output_type": "stream",
          "name": "stderr",
          "text": [
            "Training:  11%|█████▏                                           | 106/1000 [00:01<00:07, 112.64it/s]"
          ]
        },
        {
          "output_type": "stream",
          "name": "stdout",
          "text": [
            "Epoch 92/1000 - Train Error: 0.0043 - Test Error: 0.0044\n",
            "Epoch 93/1000 - Train Error: 0.0043 - Test Error: 0.0044\n",
            "Epoch 94/1000 - Train Error: 0.0043 - Test Error: 0.0044\n",
            "Epoch 95/1000 - Train Error: 0.0043 - Test Error: 0.0043\n",
            "Epoch 96/1000 - Train Error: 0.0042 - Test Error: 0.0043\n",
            "Epoch 97/1000 - Train Error: 0.0042 - Test Error: 0.0043\n",
            "Epoch 98/1000 - Train Error: 0.0042 - Test Error: 0.0043\n",
            "Epoch 99/1000 - Train Error: 0.0042 - Test Error: 0.0043\n",
            "Epoch 100/1000 - Train Error: 0.0042 - Test Error: 0.0043\n",
            "Epoch 101/1000 - Train Error: 0.0042 - Test Error: 0.0043\n",
            "Epoch 102/1000 - Train Error: 0.0042 - Test Error: 0.0042\n",
            "Epoch 103/1000 - Train Error: 0.0041 - Test Error: 0.0042\n",
            "Epoch 104/1000 - Train Error: 0.0041 - Test Error: 0.0042\n",
            "Epoch 105/1000 - Train Error: 0.0041 - Test Error: 0.0042\n",
            "Epoch 106/1000 - Train Error: 0.0041 - Test Error: 0.0042\n",
            "Epoch 107/1000 - Train Error: 0.0041 - Test Error: 0.0042\n",
            "Epoch 108/1000 - Train Error: 0.0041 - Test Error: 0.0042\n",
            "Epoch 109/1000 - Train Error: 0.0041 - Test Error: 0.0041\n",
            "Epoch 110/1000 - Train Error: 0.0040 - Test Error: 0.0041\n",
            "Epoch 111/1000 - Train Error: 0.0040 - Test Error: 0.0041\n",
            "Epoch 112/1000 - Train Error: 0.0040 - Test Error: 0.0041\n",
            "Epoch 113/1000 - Train Error: 0.0040 - Test Error: 0.0041\n"
          ]
        },
        {
          "output_type": "stream",
          "name": "stderr",
          "text": [
            "Training:  13%|██████▎                                          | 129/1000 [00:01<00:08, 102.73it/s]"
          ]
        },
        {
          "output_type": "stream",
          "name": "stdout",
          "text": [
            "Epoch 114/1000 - Train Error: 0.0040 - Test Error: 0.0041\n",
            "Epoch 115/1000 - Train Error: 0.0040 - Test Error: 0.0041\n",
            "Epoch 116/1000 - Train Error: 0.0040 - Test Error: 0.0041\n",
            "Epoch 117/1000 - Train Error: 0.0040 - Test Error: 0.0040\n",
            "Epoch 118/1000 - Train Error: 0.0039 - Test Error: 0.0040\n",
            "Epoch 119/1000 - Train Error: 0.0039 - Test Error: 0.0040\n",
            "Epoch 120/1000 - Train Error: 0.0039 - Test Error: 0.0040\n",
            "Epoch 121/1000 - Train Error: 0.0039 - Test Error: 0.0040\n",
            "Epoch 122/1000 - Train Error: 0.0039 - Test Error: 0.0040\n",
            "Epoch 123/1000 - Train Error: 0.0039 - Test Error: 0.0040\n",
            "Epoch 124/1000 - Train Error: 0.0039 - Test Error: 0.0040\n",
            "Epoch 125/1000 - Train Error: 0.0039 - Test Error: 0.0040\n",
            "Epoch 126/1000 - Train Error: 0.0039 - Test Error: 0.0040\n",
            "Epoch 127/1000 - Train Error: 0.0038 - Test Error: 0.0039\n",
            "Epoch 128/1000 - Train Error: 0.0038 - Test Error: 0.0039\n",
            "Epoch 129/1000 - Train Error: 0.0038 - Test Error: 0.0039\n",
            "Epoch 130/1000 - Train Error: 0.0038 - Test Error: 0.0039\n",
            "Epoch 131/1000 - Train Error: 0.0038 - Test Error: 0.0039\n",
            "Epoch 132/1000 - Train Error: 0.0038 - Test Error: 0.0039\n",
            "Epoch 133/1000 - Train Error: 0.0038 - Test Error: 0.0039\n"
          ]
        },
        {
          "output_type": "stream",
          "name": "stderr",
          "text": []
        },
        {
          "output_type": "stream",
          "name": "stdout",
          "text": [
            "Epoch 134/1000 - Train Error: 0.0038 - Test Error: 0.0039\n",
            "Epoch 135/1000 - Train Error: 0.0038 - Test Error: 0.0039\n",
            "Epoch 136/1000 - Train Error: 0.0038 - Test Error: 0.0039\n",
            "Epoch 137/1000 - Train Error: 0.0037 - Test Error: 0.0039\n",
            "Epoch 138/1000 - Train Error: 0.0037 - Test Error: 0.0038\n",
            "Epoch 139/1000 - Train Error: 0.0037 - Test Error: 0.0038\n",
            "Epoch 140/1000 - Train Error: 0.0037 - Test Error: 0.0038\n",
            "Epoch 141/1000 - Train Error: 0.0037 - Test Error: 0.0038\n",
            "Epoch 142/1000 - Train Error: 0.0037 - Test Error: 0.0038\n",
            "Epoch 143/1000 - Train Error: 0.0037 - Test Error: 0.0038\n",
            "Epoch 144/1000 - Train Error: 0.0037 - Test Error: 0.0038\n",
            "Epoch 145/1000 - Train Error: 0.0037 - Test Error: 0.0038\n",
            "Epoch 146/1000 - Train Error: 0.0037 - Test Error: 0.0038\n",
            "Epoch 147/1000 - Train Error: 0.0037 - Test Error: 0.0038\n",
            "Epoch 148/1000 - Train Error: 0.0037 - Test Error: 0.0038\n",
            "Epoch 149/1000 - Train Error: 0.0036 - Test Error: 0.0038\n",
            "Epoch 150/1000 - Train Error: 0.0036 - Test Error: 0.0038\n",
            "Epoch 151/1000 - Train Error: 0.0036 - Test Error: 0.0037\n",
            "Epoch 152/1000 - Train Error: 0.0036 - Test Error: 0.0037\n",
            "Epoch 153/1000 - Train Error: 0.0036 - Test Error: 0.0037\n",
            "Epoch 154/1000 - Train Error: 0.0036 - Test Error: 0.0037\n"
          ]
        },
        {
          "output_type": "stream",
          "name": "stderr",
          "text": [
            "Training:  17%|████████▌                                        | 174/1000 [00:01<00:07, 106.37it/s]"
          ]
        },
        {
          "output_type": "stream",
          "name": "stdout",
          "text": [
            "Epoch 155/1000 - Train Error: 0.0036 - Test Error: 0.0037\n",
            "Epoch 156/1000 - Train Error: 0.0036 - Test Error: 0.0037\n",
            "Epoch 157/1000 - Train Error: 0.0036 - Test Error: 0.0037\n",
            "Epoch 158/1000 - Train Error: 0.0036 - Test Error: 0.0037\n",
            "Epoch 159/1000 - Train Error: 0.0036 - Test Error: 0.0037\n",
            "Epoch 160/1000 - Train Error: 0.0036 - Test Error: 0.0037\n",
            "Epoch 161/1000 - Train Error: 0.0036 - Test Error: 0.0037\n",
            "Epoch 162/1000 - Train Error: 0.0036 - Test Error: 0.0037\n",
            "Epoch 163/1000 - Train Error: 0.0035 - Test Error: 0.0037\n",
            "Epoch 164/1000 - Train Error: 0.0035 - Test Error: 0.0037\n",
            "Epoch 165/1000 - Train Error: 0.0035 - Test Error: 0.0037\n",
            "Epoch 166/1000 - Train Error: 0.0035 - Test Error: 0.0036\n",
            "Epoch 167/1000 - Train Error: 0.0035 - Test Error: 0.0036\n",
            "Epoch 168/1000 - Train Error: 0.0035 - Test Error: 0.0036\n",
            "Epoch 169/1000 - Train Error: 0.0035 - Test Error: 0.0036\n",
            "Epoch 170/1000 - Train Error: 0.0035 - Test Error: 0.0036\n",
            "Epoch 171/1000 - Train Error: 0.0035 - Test Error: 0.0036\n",
            "Epoch 172/1000 - Train Error: 0.0035 - Test Error: 0.0036\n",
            "Epoch 173/1000 - Train Error: 0.0035 - Test Error: 0.0036\n",
            "Epoch 174/1000 - Train Error: 0.0035 - Test Error: 0.0036\n",
            "Epoch 175/1000 - Train Error: 0.0035 - Test Error: 0.0036\n",
            "Epoch 176/1000 - Train Error: 0.0035 - Test Error: 0.0036\n"
          ]
        },
        {
          "output_type": "stream",
          "name": "stderr",
          "text": [
            "Training:  20%|█████████▋                                       | 197/1000 [00:01<00:07, 106.53it/s]"
          ]
        },
        {
          "output_type": "stream",
          "name": "stdout",
          "text": [
            "Epoch 177/1000 - Train Error: 0.0035 - Test Error: 0.0036\n",
            "Epoch 178/1000 - Train Error: 0.0035 - Test Error: 0.0036\n",
            "Epoch 179/1000 - Train Error: 0.0034 - Test Error: 0.0036\n",
            "Epoch 180/1000 - Train Error: 0.0034 - Test Error: 0.0036\n",
            "Epoch 181/1000 - Train Error: 0.0034 - Test Error: 0.0036\n",
            "Epoch 182/1000 - Train Error: 0.0034 - Test Error: 0.0036\n",
            "Epoch 183/1000 - Train Error: 0.0034 - Test Error: 0.0035\n",
            "Epoch 184/1000 - Train Error: 0.0034 - Test Error: 0.0035\n",
            "Epoch 185/1000 - Train Error: 0.0034 - Test Error: 0.0035\n",
            "Epoch 186/1000 - Train Error: 0.0034 - Test Error: 0.0035\n",
            "Epoch 187/1000 - Train Error: 0.0034 - Test Error: 0.0035\n",
            "Epoch 188/1000 - Train Error: 0.0034 - Test Error: 0.0035\n",
            "Epoch 189/1000 - Train Error: 0.0034 - Test Error: 0.0035\n",
            "Epoch 190/1000 - Train Error: 0.0034 - Test Error: 0.0035\n",
            "Epoch 191/1000 - Train Error: 0.0034 - Test Error: 0.0035\n",
            "Epoch 192/1000 - Train Error: 0.0034 - Test Error: 0.0035\n",
            "Epoch 193/1000 - Train Error: 0.0034 - Test Error: 0.0035\n",
            "Epoch 194/1000 - Train Error: 0.0034 - Test Error: 0.0035\n",
            "Epoch 195/1000 - Train Error: 0.0034 - Test Error: 0.0035\n",
            "Epoch 196/1000 - Train Error: 0.0034 - Test Error: 0.0035\n",
            "Epoch 197/1000 - Train Error: 0.0034 - Test Error: 0.0035\n",
            "Epoch 198/1000 - Train Error: 0.0034 - Test Error: 0.0035\n"
          ]
        },
        {
          "output_type": "stream",
          "name": "stderr",
          "text": [
            "                                                                                                    "
          ]
        },
        {
          "output_type": "stream",
          "name": "stdout",
          "text": [
            "Epoch 199/1000 - Train Error: 0.0033 - Test Error: 0.0035\n",
            "Epoch 200/1000 - Train Error: 0.0033 - Test Error: 0.0035\n",
            "Epoch 201/1000 - Train Error: 0.0033 - Test Error: 0.0035\n",
            "Epoch 202/1000 - Train Error: 0.0033 - Test Error: 0.0035\n",
            "Epoch 203/1000 - Train Error: 0.0033 - Test Error: 0.0035\n",
            "Epoch 204/1000 - Train Error: 0.0033 - Test Error: 0.0035\n",
            "Epoch 205/1000 - Train Error: 0.0033 - Test Error: 0.0034\n",
            "Epoch 206/1000 - Train Error: 0.0033 - Test Error: 0.0034\n",
            "Epoch 207/1000 - Train Error: 0.0033 - Test Error: 0.0034\n",
            "Epoch 208/1000 - Train Error: 0.0033 - Test Error: 0.0034\n",
            "Epoch 209/1000 - Train Error: 0.0033 - Test Error: 0.0034\n",
            "Epoch 210/1000 - Train Error: 0.0033 - Test Error: 0.0034\n",
            "Epoch 211/1000 - Train Error: 0.0033 - Test Error: 0.0034\n",
            "Epoch 212/1000 - Train Error: 0.0033 - Test Error: 0.0034\n",
            "Epoch 213/1000 - Train Error: 0.0033 - Test Error: 0.0034\n",
            "Epoch 214/1000 - Train Error: 0.0033 - Test Error: 0.0034\n",
            "Epoch 215/1000 - Train Error: 0.0033 - Test Error: 0.0034\n",
            "Epoch 216/1000 - Train Error: 0.0033 - Test Error: 0.0034\n",
            "Epoch 217/1000 - Train Error: 0.0033 - Test Error: 0.0034\n"
          ]
        },
        {
          "output_type": "stream",
          "name": "stderr",
          "text": [
            "Training:  23%|███████████▌                                      | 230/1000 [00:02<00:07, 97.04it/s]"
          ]
        },
        {
          "output_type": "stream",
          "name": "stdout",
          "text": [
            "Epoch 218/1000 - Train Error: 0.0033 - Test Error: 0.0034\n",
            "Epoch 219/1000 - Train Error: 0.0033 - Test Error: 0.0034\n",
            "Epoch 220/1000 - Train Error: 0.0033 - Test Error: 0.0034\n",
            "Epoch 221/1000 - Train Error: 0.0033 - Test Error: 0.0034\n",
            "Epoch 222/1000 - Train Error: 0.0032 - Test Error: 0.0034\n",
            "Epoch 223/1000 - Train Error: 0.0032 - Test Error: 0.0034\n",
            "Epoch 224/1000 - Train Error: 0.0032 - Test Error: 0.0034\n",
            "Epoch 225/1000 - Train Error: 0.0032 - Test Error: 0.0034\n",
            "Epoch 226/1000 - Train Error: 0.0032 - Test Error: 0.0034\n",
            "Epoch 227/1000 - Train Error: 0.0032 - Test Error: 0.0034\n",
            "Epoch 228/1000 - Train Error: 0.0032 - Test Error: 0.0034\n",
            "Epoch 229/1000 - Train Error: 0.0032 - Test Error: 0.0034\n",
            "Epoch 230/1000 - Train Error: 0.0032 - Test Error: 0.0033\n",
            "Epoch 231/1000 - Train Error: 0.0032 - Test Error: 0.0033\n",
            "Epoch 232/1000 - Train Error: 0.0032 - Test Error: 0.0033\n",
            "Epoch 233/1000 - Train Error: 0.0032 - Test Error: 0.0033\n",
            "Epoch 234/1000 - Train Error: 0.0032 - Test Error: 0.0033\n",
            "Epoch 235/1000 - Train Error: 0.0032 - Test Error: 0.0033\n",
            "Epoch 236/1000 - Train Error: 0.0032 - Test Error: 0.0033\n",
            "Epoch 237/1000 - Train Error: 0.0032 - Test Error: 0.0033\n"
          ]
        },
        {
          "output_type": "stream",
          "name": "stderr",
          "text": [
            "Training:  25%|████████████▌                                     | 250/1000 [00:02<00:07, 94.96it/s]"
          ]
        },
        {
          "output_type": "stream",
          "name": "stdout",
          "text": [
            "Epoch 238/1000 - Train Error: 0.0032 - Test Error: 0.0033\n",
            "Epoch 239/1000 - Train Error: 0.0032 - Test Error: 0.0033\n",
            "Epoch 240/1000 - Train Error: 0.0032 - Test Error: 0.0033\n",
            "Epoch 241/1000 - Train Error: 0.0032 - Test Error: 0.0033\n",
            "Epoch 242/1000 - Train Error: 0.0032 - Test Error: 0.0033\n",
            "Epoch 243/1000 - Train Error: 0.0032 - Test Error: 0.0033\n",
            "Epoch 244/1000 - Train Error: 0.0032 - Test Error: 0.0033\n",
            "Epoch 245/1000 - Train Error: 0.0032 - Test Error: 0.0033\n",
            "Epoch 246/1000 - Train Error: 0.0032 - Test Error: 0.0033\n",
            "Epoch 247/1000 - Train Error: 0.0032 - Test Error: 0.0033\n",
            "Epoch 248/1000 - Train Error: 0.0032 - Test Error: 0.0033\n",
            "Epoch 249/1000 - Train Error: 0.0032 - Test Error: 0.0033\n",
            "Epoch 250/1000 - Train Error: 0.0031 - Test Error: 0.0033\n",
            "Epoch 251/1000 - Train Error: 0.0031 - Test Error: 0.0033\n",
            "Epoch 252/1000 - Train Error: 0.0031 - Test Error: 0.0033\n",
            "Epoch 253/1000 - Train Error: 0.0031 - Test Error: 0.0033\n",
            "Epoch 254/1000 - Train Error: 0.0031 - Test Error: 0.0033\n",
            "Epoch 255/1000 - Train Error: 0.0031 - Test Error: 0.0033\n",
            "Epoch 256/1000 - Train Error: 0.0031 - Test Error: 0.0033\n"
          ]
        },
        {
          "output_type": "stream",
          "name": "stderr",
          "text": [
            "Training:  27%|█████████████▌                                    | 270/1000 [00:02<00:07, 96.03it/s]"
          ]
        },
        {
          "output_type": "stream",
          "name": "stdout",
          "text": [
            "Epoch 257/1000 - Train Error: 0.0031 - Test Error: 0.0033\n",
            "Epoch 258/1000 - Train Error: 0.0031 - Test Error: 0.0033\n",
            "Epoch 259/1000 - Train Error: 0.0031 - Test Error: 0.0033\n",
            "Epoch 260/1000 - Train Error: 0.0031 - Test Error: 0.0033\n",
            "Epoch 261/1000 - Train Error: 0.0031 - Test Error: 0.0032\n",
            "Epoch 262/1000 - Train Error: 0.0031 - Test Error: 0.0032\n",
            "Epoch 263/1000 - Train Error: 0.0031 - Test Error: 0.0032\n",
            "Epoch 264/1000 - Train Error: 0.0031 - Test Error: 0.0032\n",
            "Epoch 265/1000 - Train Error: 0.0031 - Test Error: 0.0032\n",
            "Epoch 266/1000 - Train Error: 0.0031 - Test Error: 0.0032\n",
            "Epoch 267/1000 - Train Error: 0.0031 - Test Error: 0.0032\n",
            "Epoch 268/1000 - Train Error: 0.0031 - Test Error: 0.0032\n",
            "Epoch 269/1000 - Train Error: 0.0031 - Test Error: 0.0032\n",
            "Epoch 270/1000 - Train Error: 0.0031 - Test Error: 0.0032\n",
            "Epoch 271/1000 - Train Error: 0.0031 - Test Error: 0.0032\n",
            "Epoch 272/1000 - Train Error: 0.0031 - Test Error: 0.0032\n",
            "Epoch 273/1000 - Train Error: 0.0031 - Test Error: 0.0032\n",
            "Epoch 274/1000 - Train Error: 0.0031 - Test Error: 0.0032\n",
            "Epoch 275/1000 - Train Error: 0.0031 - Test Error: 0.0032\n",
            "Epoch 276/1000 - Train Error: 0.0031 - Test Error: 0.0032\n"
          ]
        },
        {
          "output_type": "stream",
          "name": "stderr",
          "text": [
            "Training:  29%|██████████████▍                                   | 290/1000 [00:02<00:07, 95.84it/s]"
          ]
        },
        {
          "output_type": "stream",
          "name": "stdout",
          "text": [
            "Epoch 277/1000 - Train Error: 0.0031 - Test Error: 0.0032\n",
            "Epoch 278/1000 - Train Error: 0.0031 - Test Error: 0.0032\n",
            "Epoch 279/1000 - Train Error: 0.0031 - Test Error: 0.0032\n",
            "Epoch 280/1000 - Train Error: 0.0031 - Test Error: 0.0032\n",
            "Epoch 281/1000 - Train Error: 0.0031 - Test Error: 0.0032\n",
            "Epoch 282/1000 - Train Error: 0.0031 - Test Error: 0.0032\n",
            "Epoch 283/1000 - Train Error: 0.0030 - Test Error: 0.0032\n",
            "Epoch 284/1000 - Train Error: 0.0030 - Test Error: 0.0032\n",
            "Epoch 285/1000 - Train Error: 0.0030 - Test Error: 0.0032\n",
            "Epoch 286/1000 - Train Error: 0.0030 - Test Error: 0.0032\n",
            "Epoch 287/1000 - Train Error: 0.0030 - Test Error: 0.0032\n",
            "Epoch 288/1000 - Train Error: 0.0030 - Test Error: 0.0032\n",
            "Epoch 289/1000 - Train Error: 0.0030 - Test Error: 0.0032\n",
            "Epoch 290/1000 - Train Error: 0.0030 - Test Error: 0.0032\n",
            "Epoch 291/1000 - Train Error: 0.0030 - Test Error: 0.0032\n",
            "Epoch 292/1000 - Train Error: 0.0030 - Test Error: 0.0032\n",
            "Epoch 293/1000 - Train Error: 0.0030 - Test Error: 0.0032\n",
            "Epoch 294/1000 - Train Error: 0.0030 - Test Error: 0.0032\n",
            "Epoch 295/1000 - Train Error: 0.0030 - Test Error: 0.0032\n",
            "Epoch 296/1000 - Train Error: 0.0030 - Test Error: 0.0031\n",
            "Epoch 297/1000 - Train Error: 0.0030 - Test Error: 0.0031\n"
          ]
        },
        {
          "output_type": "stream",
          "name": "stderr",
          "text": []
        },
        {
          "output_type": "stream",
          "name": "stdout",
          "text": [
            "Epoch 298/1000 - Train Error: 0.0030 - Test Error: 0.0031\n",
            "Epoch 299/1000 - Train Error: 0.0030 - Test Error: 0.0031\n",
            "Epoch 300/1000 - Train Error: 0.0030 - Test Error: 0.0031\n",
            "Epoch 301/1000 - Train Error: 0.0030 - Test Error: 0.0031\n",
            "Epoch 302/1000 - Train Error: 0.0030 - Test Error: 0.0031\n",
            "Epoch 303/1000 - Train Error: 0.0030 - Test Error: 0.0031\n",
            "Epoch 304/1000 - Train Error: 0.0030 - Test Error: 0.0031\n",
            "Epoch 305/1000 - Train Error: 0.0030 - Test Error: 0.0031\n",
            "Epoch 306/1000 - Train Error: 0.0030 - Test Error: 0.0031\n",
            "Epoch 307/1000 - Train Error: 0.0030 - Test Error: 0.0031\n",
            "Epoch 308/1000 - Train Error: 0.0030 - Test Error: 0.0031\n",
            "Epoch 309/1000 - Train Error: 0.0030 - Test Error: 0.0031\n",
            "Epoch 310/1000 - Train Error: 0.0030 - Test Error: 0.0031\n",
            "Epoch 311/1000 - Train Error: 0.0030 - Test Error: 0.0031\n",
            "Epoch 312/1000 - Train Error: 0.0030 - Test Error: 0.0031\n",
            "Epoch 313/1000 - Train Error: 0.0030 - Test Error: 0.0031\n",
            "Epoch 314/1000 - Train Error: 0.0030 - Test Error: 0.0031\n",
            "Epoch 315/1000 - Train Error: 0.0030 - Test Error: 0.0031\n",
            "Epoch 316/1000 - Train Error: 0.0030 - Test Error: 0.0031\n",
            "Epoch 317/1000 - Train Error: 0.0030 - Test Error: 0.0031\n",
            "Epoch 318/1000 - Train Error: 0.0030 - Test Error: 0.0031\n"
          ]
        },
        {
          "output_type": "stream",
          "name": "stderr",
          "text": [
            "Training:  33%|████████████████▎                                | 333/1000 [00:03<00:06, 102.43it/s]"
          ]
        },
        {
          "output_type": "stream",
          "name": "stdout",
          "text": [
            "Epoch 319/1000 - Train Error: 0.0030 - Test Error: 0.0031\n",
            "Epoch 320/1000 - Train Error: 0.0030 - Test Error: 0.0031\n",
            "Epoch 321/1000 - Train Error: 0.0030 - Test Error: 0.0031\n",
            "Epoch 322/1000 - Train Error: 0.0029 - Test Error: 0.0031\n",
            "Epoch 323/1000 - Train Error: 0.0029 - Test Error: 0.0031\n",
            "Epoch 324/1000 - Train Error: 0.0029 - Test Error: 0.0031\n",
            "Epoch 325/1000 - Train Error: 0.0029 - Test Error: 0.0031\n",
            "Epoch 326/1000 - Train Error: 0.0029 - Test Error: 0.0031\n",
            "Epoch 327/1000 - Train Error: 0.0029 - Test Error: 0.0031\n",
            "Epoch 328/1000 - Train Error: 0.0029 - Test Error: 0.0031\n",
            "Epoch 329/1000 - Train Error: 0.0029 - Test Error: 0.0031\n",
            "Epoch 330/1000 - Train Error: 0.0029 - Test Error: 0.0031\n",
            "Epoch 331/1000 - Train Error: 0.0029 - Test Error: 0.0031\n",
            "Epoch 332/1000 - Train Error: 0.0029 - Test Error: 0.0031\n",
            "Epoch 333/1000 - Train Error: 0.0029 - Test Error: 0.0031\n",
            "Epoch 334/1000 - Train Error: 0.0029 - Test Error: 0.0031\n",
            "Epoch 335/1000 - Train Error: 0.0029 - Test Error: 0.0031\n",
            "Epoch 336/1000 - Train Error: 0.0029 - Test Error: 0.0031\n",
            "Epoch 337/1000 - Train Error: 0.0029 - Test Error: 0.0030\n",
            "Epoch 338/1000 - Train Error: 0.0029 - Test Error: 0.0030\n",
            "Epoch 339/1000 - Train Error: 0.0029 - Test Error: 0.0030\n",
            "Epoch 340/1000 - Train Error: 0.0029 - Test Error: 0.0030\n"
          ]
        },
        {
          "output_type": "stream",
          "name": "stderr",
          "text": []
        },
        {
          "output_type": "stream",
          "name": "stdout",
          "text": [
            "Epoch 341/1000 - Train Error: 0.0029 - Test Error: 0.0030\n",
            "Epoch 342/1000 - Train Error: 0.0029 - Test Error: 0.0030\n",
            "Epoch 343/1000 - Train Error: 0.0029 - Test Error: 0.0030\n",
            "Epoch 344/1000 - Train Error: 0.0029 - Test Error: 0.0030\n",
            "Epoch 345/1000 - Train Error: 0.0029 - Test Error: 0.0030\n",
            "Epoch 346/1000 - Train Error: 0.0029 - Test Error: 0.0030\n",
            "Epoch 347/1000 - Train Error: 0.0029 - Test Error: 0.0030\n",
            "Epoch 348/1000 - Train Error: 0.0029 - Test Error: 0.0030\n",
            "Epoch 349/1000 - Train Error: 0.0029 - Test Error: 0.0030\n",
            "Epoch 350/1000 - Train Error: 0.0029 - Test Error: 0.0030\n",
            "Epoch 351/1000 - Train Error: 0.0029 - Test Error: 0.0030\n",
            "Epoch 352/1000 - Train Error: 0.0029 - Test Error: 0.0030\n",
            "Epoch 353/1000 - Train Error: 0.0029 - Test Error: 0.0030\n",
            "Epoch 354/1000 - Train Error: 0.0029 - Test Error: 0.0030\n",
            "Epoch 355/1000 - Train Error: 0.0029 - Test Error: 0.0030\n",
            "Epoch 356/1000 - Train Error: 0.0029 - Test Error: 0.0030\n",
            "Epoch 357/1000 - Train Error: 0.0029 - Test Error: 0.0030\n",
            "Epoch 358/1000 - Train Error: 0.0029 - Test Error: 0.0030\n",
            "Epoch 359/1000 - Train Error: 0.0029 - Test Error: 0.0030\n"
          ]
        },
        {
          "output_type": "stream",
          "name": "stderr",
          "text": [
            "Training:  38%|██████████████████▊                               | 376/1000 [00:03<00:06, 94.91it/s]"
          ]
        },
        {
          "output_type": "stream",
          "name": "stdout",
          "text": [
            "Epoch 360/1000 - Train Error: 0.0029 - Test Error: 0.0030\n",
            "Epoch 361/1000 - Train Error: 0.0029 - Test Error: 0.0030\n",
            "Epoch 362/1000 - Train Error: 0.0029 - Test Error: 0.0030\n",
            "Epoch 363/1000 - Train Error: 0.0029 - Test Error: 0.0030\n",
            "Epoch 364/1000 - Train Error: 0.0029 - Test Error: 0.0030\n",
            "Epoch 365/1000 - Train Error: 0.0029 - Test Error: 0.0030\n",
            "Epoch 366/1000 - Train Error: 0.0028 - Test Error: 0.0030\n",
            "Epoch 367/1000 - Train Error: 0.0028 - Test Error: 0.0030\n",
            "Epoch 368/1000 - Train Error: 0.0028 - Test Error: 0.0030\n",
            "Epoch 369/1000 - Train Error: 0.0028 - Test Error: 0.0030\n",
            "Epoch 370/1000 - Train Error: 0.0028 - Test Error: 0.0030\n",
            "Epoch 371/1000 - Train Error: 0.0028 - Test Error: 0.0030\n",
            "Epoch 372/1000 - Train Error: 0.0028 - Test Error: 0.0030\n",
            "Epoch 373/1000 - Train Error: 0.0028 - Test Error: 0.0030\n",
            "Epoch 374/1000 - Train Error: 0.0028 - Test Error: 0.0030\n",
            "Epoch 375/1000 - Train Error: 0.0028 - Test Error: 0.0030\n",
            "Epoch 376/1000 - Train Error: 0.0028 - Test Error: 0.0030\n",
            "Epoch 377/1000 - Train Error: 0.0028 - Test Error: 0.0030\n",
            "Epoch 378/1000 - Train Error: 0.0028 - Test Error: 0.0030\n"
          ]
        },
        {
          "output_type": "stream",
          "name": "stderr",
          "text": [
            "Training:  40%|███████████████████▊                              | 397/1000 [00:03<00:06, 97.33it/s]"
          ]
        },
        {
          "output_type": "stream",
          "name": "stdout",
          "text": [
            "Epoch 379/1000 - Train Error: 0.0028 - Test Error: 0.0030\n",
            "Epoch 380/1000 - Train Error: 0.0028 - Test Error: 0.0030\n",
            "Epoch 381/1000 - Train Error: 0.0028 - Test Error: 0.0030\n",
            "Epoch 382/1000 - Train Error: 0.0028 - Test Error: 0.0030\n",
            "Epoch 383/1000 - Train Error: 0.0028 - Test Error: 0.0030\n",
            "Epoch 384/1000 - Train Error: 0.0028 - Test Error: 0.0029\n",
            "Epoch 385/1000 - Train Error: 0.0028 - Test Error: 0.0029\n",
            "Epoch 386/1000 - Train Error: 0.0028 - Test Error: 0.0029\n",
            "Epoch 387/1000 - Train Error: 0.0028 - Test Error: 0.0029\n",
            "Epoch 388/1000 - Train Error: 0.0028 - Test Error: 0.0029\n",
            "Epoch 389/1000 - Train Error: 0.0028 - Test Error: 0.0029\n",
            "Epoch 390/1000 - Train Error: 0.0028 - Test Error: 0.0029\n",
            "Epoch 391/1000 - Train Error: 0.0028 - Test Error: 0.0029\n",
            "Epoch 392/1000 - Train Error: 0.0028 - Test Error: 0.0029\n",
            "Epoch 393/1000 - Train Error: 0.0028 - Test Error: 0.0029\n",
            "Epoch 394/1000 - Train Error: 0.0028 - Test Error: 0.0029\n",
            "Epoch 395/1000 - Train Error: 0.0028 - Test Error: 0.0029\n",
            "Epoch 396/1000 - Train Error: 0.0028 - Test Error: 0.0029\n",
            "Epoch 397/1000 - Train Error: 0.0028 - Test Error: 0.0029\n",
            "Epoch 398/1000 - Train Error: 0.0028 - Test Error: 0.0029\n",
            "Epoch 399/1000 - Train Error: 0.0028 - Test Error: 0.0029\n"
          ]
        },
        {
          "output_type": "stream",
          "name": "stderr",
          "text": [
            "                                                                                                    "
          ]
        },
        {
          "output_type": "stream",
          "name": "stdout",
          "text": [
            "Epoch 400/1000 - Train Error: 0.0028 - Test Error: 0.0029\n",
            "Epoch 401/1000 - Train Error: 0.0028 - Test Error: 0.0029\n",
            "Epoch 402/1000 - Train Error: 0.0028 - Test Error: 0.0029\n",
            "Epoch 403/1000 - Train Error: 0.0028 - Test Error: 0.0029\n",
            "Epoch 404/1000 - Train Error: 0.0028 - Test Error: 0.0029\n",
            "Epoch 405/1000 - Train Error: 0.0028 - Test Error: 0.0029\n",
            "Epoch 406/1000 - Train Error: 0.0028 - Test Error: 0.0029\n",
            "Epoch 407/1000 - Train Error: 0.0028 - Test Error: 0.0029\n",
            "Epoch 408/1000 - Train Error: 0.0028 - Test Error: 0.0029\n",
            "Epoch 409/1000 - Train Error: 0.0028 - Test Error: 0.0029\n",
            "Epoch 410/1000 - Train Error: 0.0028 - Test Error: 0.0029\n",
            "Epoch 411/1000 - Train Error: 0.0028 - Test Error: 0.0029\n",
            "Epoch 412/1000 - Train Error: 0.0028 - Test Error: 0.0029\n",
            "Epoch 413/1000 - Train Error: 0.0028 - Test Error: 0.0029\n",
            "Epoch 414/1000 - Train Error: 0.0028 - Test Error: 0.0029\n",
            "Epoch 415/1000 - Train Error: 0.0028 - Test Error: 0.0029\n",
            "Epoch 416/1000 - Train Error: 0.0028 - Test Error: 0.0029\n",
            "Epoch 417/1000 - Train Error: 0.0027 - Test Error: 0.0029\n"
          ]
        },
        {
          "output_type": "stream",
          "name": "stderr",
          "text": [
            "Training:  43%|█████████████████████▍                            | 429/1000 [00:04<00:05, 96.26it/s]"
          ]
        },
        {
          "output_type": "stream",
          "name": "stdout",
          "text": [
            "Epoch 418/1000 - Train Error: 0.0027 - Test Error: 0.0029\n",
            "Epoch 419/1000 - Train Error: 0.0027 - Test Error: 0.0029\n",
            "Epoch 420/1000 - Train Error: 0.0027 - Test Error: 0.0029\n",
            "Epoch 421/1000 - Train Error: 0.0027 - Test Error: 0.0029\n",
            "Epoch 422/1000 - Train Error: 0.0027 - Test Error: 0.0029\n",
            "Epoch 423/1000 - Train Error: 0.0027 - Test Error: 0.0029\n",
            "Epoch 424/1000 - Train Error: 0.0027 - Test Error: 0.0029\n",
            "Epoch 425/1000 - Train Error: 0.0027 - Test Error: 0.0029\n",
            "Epoch 426/1000 - Train Error: 0.0027 - Test Error: 0.0029\n",
            "Epoch 427/1000 - Train Error: 0.0027 - Test Error: 0.0029\n",
            "Epoch 428/1000 - Train Error: 0.0027 - Test Error: 0.0029\n",
            "Epoch 429/1000 - Train Error: 0.0027 - Test Error: 0.0029\n",
            "Epoch 430/1000 - Train Error: 0.0027 - Test Error: 0.0029\n",
            "Epoch 431/1000 - Train Error: 0.0027 - Test Error: 0.0029\n",
            "Epoch 432/1000 - Train Error: 0.0027 - Test Error: 0.0029\n",
            "Epoch 433/1000 - Train Error: 0.0027 - Test Error: 0.0029\n",
            "Epoch 434/1000 - Train Error: 0.0027 - Test Error: 0.0029\n",
            "Epoch 435/1000 - Train Error: 0.0027 - Test Error: 0.0029\n",
            "Epoch 436/1000 - Train Error: 0.0027 - Test Error: 0.0028\n",
            "Epoch 437/1000 - Train Error: 0.0027 - Test Error: 0.0028\n"
          ]
        },
        {
          "output_type": "stream",
          "name": "stderr",
          "text": [
            "                                                                                                    "
          ]
        },
        {
          "output_type": "stream",
          "name": "stdout",
          "text": [
            "Epoch 438/1000 - Train Error: 0.0027 - Test Error: 0.0028\n",
            "Epoch 439/1000 - Train Error: 0.0027 - Test Error: 0.0028\n",
            "Epoch 440/1000 - Train Error: 0.0027 - Test Error: 0.0028\n",
            "Epoch 441/1000 - Train Error: 0.0027 - Test Error: 0.0028\n",
            "Epoch 442/1000 - Train Error: 0.0027 - Test Error: 0.0028\n",
            "Epoch 443/1000 - Train Error: 0.0027 - Test Error: 0.0028\n",
            "Epoch 444/1000 - Train Error: 0.0027 - Test Error: 0.0028\n",
            "Epoch 445/1000 - Train Error: 0.0027 - Test Error: 0.0028\n",
            "Epoch 446/1000 - Train Error: 0.0027 - Test Error: 0.0028\n",
            "Epoch 447/1000 - Train Error: 0.0027 - Test Error: 0.0028\n",
            "Epoch 448/1000 - Train Error: 0.0027 - Test Error: 0.0028\n",
            "Epoch 449/1000 - Train Error: 0.0027 - Test Error: 0.0028\n",
            "Epoch 450/1000 - Train Error: 0.0027 - Test Error: 0.0028\n",
            "Epoch 451/1000 - Train Error: 0.0027 - Test Error: 0.0028\n",
            "Epoch 452/1000 - Train Error: 0.0027 - Test Error: 0.0028\n",
            "Epoch 453/1000 - Train Error: 0.0027 - Test Error: 0.0028\n",
            "Epoch 454/1000 - Train Error: 0.0027 - Test Error: 0.0028\n",
            "Epoch 455/1000 - Train Error: 0.0027 - Test Error: 0.0028\n",
            "Epoch 456/1000 - Train Error: 0.0027 - Test Error: 0.0028\n",
            "Epoch 457/1000 - Train Error: 0.0027 - Test Error: 0.0028\n",
            "Epoch 458/1000 - Train Error: 0.0027 - Test Error: 0.0028\n",
            "Epoch 459/1000 - Train Error: 0.0027 - Test Error: 0.0028\n"
          ]
        },
        {
          "output_type": "stream",
          "name": "stderr",
          "text": [
            "Training:  47%|███████████████████████▌                          | 472/1000 [00:04<00:05, 96.06it/s]"
          ]
        },
        {
          "output_type": "stream",
          "name": "stdout",
          "text": [
            "Epoch 460/1000 - Train Error: 0.0027 - Test Error: 0.0028\n",
            "Epoch 461/1000 - Train Error: 0.0027 - Test Error: 0.0028\n",
            "Epoch 462/1000 - Train Error: 0.0027 - Test Error: 0.0028\n",
            "Epoch 463/1000 - Train Error: 0.0027 - Test Error: 0.0028\n",
            "Epoch 464/1000 - Train Error: 0.0027 - Test Error: 0.0028\n",
            "Epoch 465/1000 - Train Error: 0.0027 - Test Error: 0.0028\n",
            "Epoch 466/1000 - Train Error: 0.0027 - Test Error: 0.0028\n",
            "Epoch 467/1000 - Train Error: 0.0027 - Test Error: 0.0028\n",
            "Epoch 468/1000 - Train Error: 0.0027 - Test Error: 0.0028\n",
            "Epoch 469/1000 - Train Error: 0.0027 - Test Error: 0.0028\n",
            "Epoch 470/1000 - Train Error: 0.0027 - Test Error: 0.0028\n",
            "Epoch 471/1000 - Train Error: 0.0027 - Test Error: 0.0028\n",
            "Epoch 472/1000 - Train Error: 0.0027 - Test Error: 0.0028\n",
            "Epoch 473/1000 - Train Error: 0.0027 - Test Error: 0.0028\n",
            "Epoch 474/1000 - Train Error: 0.0027 - Test Error: 0.0028\n",
            "Epoch 475/1000 - Train Error: 0.0026 - Test Error: 0.0028\n"
          ]
        },
        {
          "output_type": "stream",
          "name": "stderr",
          "text": []
        },
        {
          "output_type": "stream",
          "name": "stdout",
          "text": [
            "Epoch 476/1000 - Train Error: 0.0026 - Test Error: 0.0028\n",
            "Epoch 477/1000 - Train Error: 0.0026 - Test Error: 0.0028\n",
            "Epoch 478/1000 - Train Error: 0.0026 - Test Error: 0.0028\n",
            "Epoch 479/1000 - Train Error: 0.0026 - Test Error: 0.0028\n",
            "Epoch 480/1000 - Train Error: 0.0026 - Test Error: 0.0028\n",
            "Epoch 481/1000 - Train Error: 0.0026 - Test Error: 0.0028\n",
            "Epoch 482/1000 - Train Error: 0.0026 - Test Error: 0.0028\n",
            "Epoch 483/1000 - Train Error: 0.0026 - Test Error: 0.0028\n",
            "Epoch 484/1000 - Train Error: 0.0026 - Test Error: 0.0028\n",
            "Epoch 485/1000 - Train Error: 0.0026 - Test Error: 0.0028\n",
            "Epoch 486/1000 - Train Error: 0.0026 - Test Error: 0.0028\n",
            "Epoch 487/1000 - Train Error: 0.0026 - Test Error: 0.0028\n",
            "Epoch 488/1000 - Train Error: 0.0026 - Test Error: 0.0028\n",
            "Epoch 489/1000 - Train Error: 0.0026 - Test Error: 0.0028\n",
            "Epoch 490/1000 - Train Error: 0.0026 - Test Error: 0.0028\n",
            "Epoch 491/1000 - Train Error: 0.0026 - Test Error: 0.0028\n",
            "Epoch 492/1000 - Train Error: 0.0026 - Test Error: 0.0028\n",
            "Epoch 493/1000 - Train Error: 0.0026 - Test Error: 0.0028\n"
          ]
        },
        {
          "output_type": "stream",
          "name": "stderr",
          "text": [
            "Training:  50%|█████████████████████████                         | 502/1000 [00:05<00:05, 85.80it/s]"
          ]
        },
        {
          "output_type": "stream",
          "name": "stdout",
          "text": [
            "Epoch 494/1000 - Train Error: 0.0026 - Test Error: 0.0027\n",
            "Epoch 495/1000 - Train Error: 0.0026 - Test Error: 0.0027\n",
            "Epoch 496/1000 - Train Error: 0.0026 - Test Error: 0.0027\n",
            "Epoch 497/1000 - Train Error: 0.0026 - Test Error: 0.0027\n",
            "Epoch 498/1000 - Train Error: 0.0026 - Test Error: 0.0027\n",
            "Epoch 499/1000 - Train Error: 0.0026 - Test Error: 0.0027\n",
            "Epoch 500/1000 - Train Error: 0.0026 - Test Error: 0.0027\n",
            "Epoch 501/1000 - Train Error: 0.0026 - Test Error: 0.0027\n",
            "Epoch 502/1000 - Train Error: 0.0026 - Test Error: 0.0027\n",
            "Epoch 503/1000 - Train Error: 0.0026 - Test Error: 0.0027\n",
            "Epoch 504/1000 - Train Error: 0.0026 - Test Error: 0.0027\n",
            "Epoch 505/1000 - Train Error: 0.0026 - Test Error: 0.0027\n",
            "Epoch 506/1000 - Train Error: 0.0026 - Test Error: 0.0027\n",
            "Epoch 507/1000 - Train Error: 0.0026 - Test Error: 0.0027\n",
            "Epoch 508/1000 - Train Error: 0.0026 - Test Error: 0.0027\n",
            "Epoch 509/1000 - Train Error: 0.0026 - Test Error: 0.0027\n",
            "Epoch 510/1000 - Train Error: 0.0026 - Test Error: 0.0027\n",
            "Epoch 511/1000 - Train Error: 0.0026 - Test Error: 0.0027\n"
          ]
        },
        {
          "output_type": "stream",
          "name": "stderr",
          "text": [
            "Training:  52%|██████████████████████████▏                       | 523/1000 [00:05<00:05, 92.11it/s]"
          ]
        },
        {
          "output_type": "stream",
          "name": "stdout",
          "text": [
            "Epoch 512/1000 - Train Error: 0.0026 - Test Error: 0.0027\n",
            "Epoch 513/1000 - Train Error: 0.0026 - Test Error: 0.0027\n",
            "Epoch 514/1000 - Train Error: 0.0026 - Test Error: 0.0027\n",
            "Epoch 515/1000 - Train Error: 0.0026 - Test Error: 0.0027\n",
            "Epoch 516/1000 - Train Error: 0.0026 - Test Error: 0.0027\n",
            "Epoch 517/1000 - Train Error: 0.0026 - Test Error: 0.0027\n",
            "Epoch 518/1000 - Train Error: 0.0026 - Test Error: 0.0027\n",
            "Epoch 519/1000 - Train Error: 0.0026 - Test Error: 0.0027\n",
            "Epoch 520/1000 - Train Error: 0.0026 - Test Error: 0.0027\n",
            "Epoch 521/1000 - Train Error: 0.0026 - Test Error: 0.0027\n",
            "Epoch 522/1000 - Train Error: 0.0026 - Test Error: 0.0027\n",
            "Epoch 523/1000 - Train Error: 0.0026 - Test Error: 0.0027\n",
            "Epoch 524/1000 - Train Error: 0.0026 - Test Error: 0.0027\n",
            "Epoch 525/1000 - Train Error: 0.0026 - Test Error: 0.0027\n",
            "Epoch 526/1000 - Train Error: 0.0026 - Test Error: 0.0027\n",
            "Epoch 527/1000 - Train Error: 0.0026 - Test Error: 0.0027\n",
            "Epoch 528/1000 - Train Error: 0.0026 - Test Error: 0.0027\n",
            "Epoch 529/1000 - Train Error: 0.0026 - Test Error: 0.0027\n",
            "Epoch 530/1000 - Train Error: 0.0026 - Test Error: 0.0027\n"
          ]
        },
        {
          "output_type": "stream",
          "name": "stderr",
          "text": [
            "Training:  54%|███████████████████████████▏                      | 543/1000 [00:05<00:05, 88.22it/s]"
          ]
        },
        {
          "output_type": "stream",
          "name": "stdout",
          "text": [
            "Epoch 531/1000 - Train Error: 0.0026 - Test Error: 0.0027\n",
            "Epoch 532/1000 - Train Error: 0.0026 - Test Error: 0.0027\n",
            "Epoch 533/1000 - Train Error: 0.0026 - Test Error: 0.0027\n",
            "Epoch 534/1000 - Train Error: 0.0026 - Test Error: 0.0027\n",
            "Epoch 535/1000 - Train Error: 0.0026 - Test Error: 0.0027\n",
            "Epoch 536/1000 - Train Error: 0.0026 - Test Error: 0.0027\n",
            "Epoch 537/1000 - Train Error: 0.0026 - Test Error: 0.0027\n",
            "Epoch 538/1000 - Train Error: 0.0026 - Test Error: 0.0027\n",
            "Epoch 539/1000 - Train Error: 0.0025 - Test Error: 0.0027\n",
            "Epoch 540/1000 - Train Error: 0.0025 - Test Error: 0.0027\n",
            "Epoch 541/1000 - Train Error: 0.0025 - Test Error: 0.0027\n",
            "Epoch 542/1000 - Train Error: 0.0025 - Test Error: 0.0027\n",
            "Epoch 543/1000 - Train Error: 0.0025 - Test Error: 0.0027\n",
            "Epoch 544/1000 - Train Error: 0.0025 - Test Error: 0.0027\n",
            "Epoch 545/1000 - Train Error: 0.0025 - Test Error: 0.0027\n",
            "Epoch 546/1000 - Train Error: 0.0025 - Test Error: 0.0027\n",
            "Epoch 547/1000 - Train Error: 0.0025 - Test Error: 0.0027\n"
          ]
        },
        {
          "output_type": "stream",
          "name": "stderr",
          "text": []
        },
        {
          "output_type": "stream",
          "name": "stdout",
          "text": [
            "Epoch 548/1000 - Train Error: 0.0025 - Test Error: 0.0027\n",
            "Epoch 549/1000 - Train Error: 0.0025 - Test Error: 0.0027\n",
            "Epoch 550/1000 - Train Error: 0.0025 - Test Error: 0.0027\n",
            "Epoch 551/1000 - Train Error: 0.0025 - Test Error: 0.0027\n",
            "Epoch 552/1000 - Train Error: 0.0025 - Test Error: 0.0027\n",
            "Epoch 553/1000 - Train Error: 0.0025 - Test Error: 0.0027\n",
            "Epoch 554/1000 - Train Error: 0.0025 - Test Error: 0.0027\n",
            "Epoch 555/1000 - Train Error: 0.0025 - Test Error: 0.0027\n",
            "Epoch 556/1000 - Train Error: 0.0025 - Test Error: 0.0027\n",
            "Epoch 557/1000 - Train Error: 0.0025 - Test Error: 0.0027\n",
            "Epoch 558/1000 - Train Error: 0.0025 - Test Error: 0.0026\n",
            "Epoch 559/1000 - Train Error: 0.0025 - Test Error: 0.0026\n",
            "Epoch 560/1000 - Train Error: 0.0025 - Test Error: 0.0026\n",
            "Epoch 561/1000 - Train Error: 0.0025 - Test Error: 0.0026\n",
            "Epoch 562/1000 - Train Error: 0.0025 - Test Error: 0.0026\n",
            "Epoch 563/1000 - Train Error: 0.0025 - Test Error: 0.0026\n"
          ]
        },
        {
          "output_type": "stream",
          "name": "stderr",
          "text": [
            "Training:  58%|████████████████████████████▉                     | 579/1000 [00:05<00:05, 83.50it/s]"
          ]
        },
        {
          "output_type": "stream",
          "name": "stdout",
          "text": [
            "Epoch 564/1000 - Train Error: 0.0025 - Test Error: 0.0026\n",
            "Epoch 565/1000 - Train Error: 0.0025 - Test Error: 0.0026\n",
            "Epoch 566/1000 - Train Error: 0.0025 - Test Error: 0.0026\n",
            "Epoch 567/1000 - Train Error: 0.0025 - Test Error: 0.0026\n",
            "Epoch 568/1000 - Train Error: 0.0025 - Test Error: 0.0026\n",
            "Epoch 569/1000 - Train Error: 0.0025 - Test Error: 0.0026\n",
            "Epoch 570/1000 - Train Error: 0.0025 - Test Error: 0.0026\n",
            "Epoch 571/1000 - Train Error: 0.0025 - Test Error: 0.0026\n",
            "Epoch 572/1000 - Train Error: 0.0025 - Test Error: 0.0026\n",
            "Epoch 573/1000 - Train Error: 0.0025 - Test Error: 0.0026\n",
            "Epoch 574/1000 - Train Error: 0.0025 - Test Error: 0.0026\n",
            "Epoch 575/1000 - Train Error: 0.0025 - Test Error: 0.0026\n",
            "Epoch 576/1000 - Train Error: 0.0025 - Test Error: 0.0026\n",
            "Epoch 577/1000 - Train Error: 0.0025 - Test Error: 0.0026\n",
            "Epoch 578/1000 - Train Error: 0.0025 - Test Error: 0.0026\n",
            "Epoch 579/1000 - Train Error: 0.0025 - Test Error: 0.0026\n",
            "Epoch 580/1000 - Train Error: 0.0025 - Test Error: 0.0026\n",
            "Epoch 581/1000 - Train Error: 0.0025 - Test Error: 0.0026\n"
          ]
        },
        {
          "output_type": "stream",
          "name": "stderr",
          "text": [
            "Training:  59%|█████████████████████████████▍                    | 588/1000 [00:06<00:05, 80.77it/s]"
          ]
        },
        {
          "output_type": "stream",
          "name": "stdout",
          "text": [
            "Epoch 582/1000 - Train Error: 0.0025 - Test Error: 0.0026\n",
            "Epoch 583/1000 - Train Error: 0.0025 - Test Error: 0.0026\n",
            "Epoch 584/1000 - Train Error: 0.0025 - Test Error: 0.0026\n",
            "Epoch 585/1000 - Train Error: 0.0025 - Test Error: 0.0026\n",
            "Epoch 586/1000 - Train Error: 0.0025 - Test Error: 0.0026\n",
            "Epoch 587/1000 - Train Error: 0.0025 - Test Error: 0.0026\n",
            "Epoch 588/1000 - Train Error: 0.0025 - Test Error: 0.0026\n",
            "Epoch 589/1000 - Train Error: 0.0025 - Test Error: 0.0026\n",
            "Epoch 590/1000 - Train Error: 0.0025 - Test Error: 0.0026\n",
            "Epoch 591/1000 - Train Error: 0.0025 - Test Error: 0.0026\n",
            "Epoch 592/1000 - Train Error: 0.0025 - Test Error: 0.0026\n",
            "Epoch 593/1000 - Train Error: 0.0025 - Test Error: 0.0026\n",
            "Epoch 594/1000 - Train Error: 0.0025 - Test Error: 0.0026\n",
            "Epoch 595/1000 - Train Error: 0.0025 - Test Error: 0.0026\n",
            "Epoch 596/1000 - Train Error: 0.0025 - Test Error: 0.0026\n",
            "Epoch 597/1000 - Train Error: 0.0025 - Test Error: 0.0026\n"
          ]
        },
        {
          "output_type": "stream",
          "name": "stderr",
          "text": []
        },
        {
          "output_type": "stream",
          "name": "stdout",
          "text": [
            "Epoch 598/1000 - Train Error: 0.0025 - Test Error: 0.0026\n",
            "Epoch 599/1000 - Train Error: 0.0025 - Test Error: 0.0026\n",
            "Epoch 600/1000 - Train Error: 0.0025 - Test Error: 0.0026\n",
            "Epoch 601/1000 - Train Error: 0.0025 - Test Error: 0.0026\n",
            "Epoch 602/1000 - Train Error: 0.0025 - Test Error: 0.0026\n",
            "Epoch 603/1000 - Train Error: 0.0025 - Test Error: 0.0026\n",
            "Epoch 604/1000 - Train Error: 0.0025 - Test Error: 0.0026\n",
            "Epoch 605/1000 - Train Error: 0.0025 - Test Error: 0.0026\n",
            "Epoch 606/1000 - Train Error: 0.0025 - Test Error: 0.0026\n",
            "Epoch 607/1000 - Train Error: 0.0025 - Test Error: 0.0026\n",
            "Epoch 608/1000 - Train Error: 0.0025 - Test Error: 0.0026\n",
            "Epoch 609/1000 - Train Error: 0.0025 - Test Error: 0.0026\n",
            "Epoch 610/1000 - Train Error: 0.0025 - Test Error: 0.0026\n",
            "Epoch 611/1000 - Train Error: 0.0024 - Test Error: 0.0026\n",
            "Epoch 612/1000 - Train Error: 0.0024 - Test Error: 0.0026\n",
            "Epoch 613/1000 - Train Error: 0.0024 - Test Error: 0.0026\n",
            "Epoch 614/1000 - Train Error: 0.0024 - Test Error: 0.0026\n",
            "Epoch 615/1000 - Train Error: 0.0024 - Test Error: 0.0026\n"
          ]
        },
        {
          "output_type": "stream",
          "name": "stderr",
          "text": [
            "Training:  62%|███████████████████████████████▎                  | 625/1000 [00:06<00:04, 83.43it/s]"
          ]
        },
        {
          "output_type": "stream",
          "name": "stdout",
          "text": [
            "Epoch 616/1000 - Train Error: 0.0024 - Test Error: 0.0026\n",
            "Epoch 617/1000 - Train Error: 0.0024 - Test Error: 0.0026\n",
            "Epoch 618/1000 - Train Error: 0.0024 - Test Error: 0.0026\n",
            "Epoch 619/1000 - Train Error: 0.0024 - Test Error: 0.0026\n",
            "Epoch 620/1000 - Train Error: 0.0024 - Test Error: 0.0026\n",
            "Epoch 621/1000 - Train Error: 0.0024 - Test Error: 0.0026\n",
            "Epoch 622/1000 - Train Error: 0.0024 - Test Error: 0.0026\n",
            "Epoch 623/1000 - Train Error: 0.0024 - Test Error: 0.0026\n",
            "Epoch 624/1000 - Train Error: 0.0024 - Test Error: 0.0026\n",
            "Epoch 625/1000 - Train Error: 0.0024 - Test Error: 0.0026\n",
            "Epoch 626/1000 - Train Error: 0.0024 - Test Error: 0.0026\n",
            "Epoch 627/1000 - Train Error: 0.0024 - Test Error: 0.0026\n",
            "Epoch 628/1000 - Train Error: 0.0024 - Test Error: 0.0026\n",
            "Epoch 629/1000 - Train Error: 0.0024 - Test Error: 0.0025\n",
            "Epoch 630/1000 - Train Error: 0.0024 - Test Error: 0.0025\n",
            "Epoch 631/1000 - Train Error: 0.0024 - Test Error: 0.0025\n"
          ]
        },
        {
          "output_type": "stream",
          "name": "stderr",
          "text": [
            "Training:  64%|████████████████████████████████▏                 | 643/1000 [00:06<00:04, 79.68it/s]"
          ]
        },
        {
          "output_type": "stream",
          "name": "stdout",
          "text": [
            "Epoch 632/1000 - Train Error: 0.0024 - Test Error: 0.0025\n",
            "Epoch 633/1000 - Train Error: 0.0024 - Test Error: 0.0025\n",
            "Epoch 634/1000 - Train Error: 0.0024 - Test Error: 0.0025\n",
            "Epoch 635/1000 - Train Error: 0.0024 - Test Error: 0.0025\n",
            "Epoch 636/1000 - Train Error: 0.0024 - Test Error: 0.0025\n",
            "Epoch 637/1000 - Train Error: 0.0024 - Test Error: 0.0025\n",
            "Epoch 638/1000 - Train Error: 0.0024 - Test Error: 0.0025\n",
            "Epoch 639/1000 - Train Error: 0.0024 - Test Error: 0.0025\n",
            "Epoch 640/1000 - Train Error: 0.0024 - Test Error: 0.0025\n",
            "Epoch 641/1000 - Train Error: 0.0024 - Test Error: 0.0025\n",
            "Epoch 642/1000 - Train Error: 0.0024 - Test Error: 0.0025\n",
            "Epoch 643/1000 - Train Error: 0.0024 - Test Error: 0.0025\n",
            "Epoch 644/1000 - Train Error: 0.0024 - Test Error: 0.0025\n",
            "Epoch 645/1000 - Train Error: 0.0024 - Test Error: 0.0025\n",
            "Epoch 646/1000 - Train Error: 0.0024 - Test Error: 0.0025\n",
            "Epoch 647/1000 - Train Error: 0.0024 - Test Error: 0.0025\n"
          ]
        },
        {
          "output_type": "stream",
          "name": "stderr",
          "text": [
            "Training:  66%|█████████████████████████████████                 | 661/1000 [00:07<00:04, 80.96it/s]"
          ]
        },
        {
          "output_type": "stream",
          "name": "stdout",
          "text": [
            "Epoch 648/1000 - Train Error: 0.0024 - Test Error: 0.0025\n",
            "Epoch 649/1000 - Train Error: 0.0024 - Test Error: 0.0025\n",
            "Epoch 650/1000 - Train Error: 0.0024 - Test Error: 0.0025\n",
            "Epoch 651/1000 - Train Error: 0.0024 - Test Error: 0.0025\n",
            "Epoch 652/1000 - Train Error: 0.0024 - Test Error: 0.0025\n",
            "Epoch 653/1000 - Train Error: 0.0024 - Test Error: 0.0025\n",
            "Epoch 654/1000 - Train Error: 0.0024 - Test Error: 0.0025\n",
            "Epoch 655/1000 - Train Error: 0.0024 - Test Error: 0.0025\n",
            "Epoch 656/1000 - Train Error: 0.0024 - Test Error: 0.0025\n",
            "Epoch 657/1000 - Train Error: 0.0024 - Test Error: 0.0025\n",
            "Epoch 658/1000 - Train Error: 0.0024 - Test Error: 0.0025\n",
            "Epoch 659/1000 - Train Error: 0.0024 - Test Error: 0.0025\n",
            "Epoch 660/1000 - Train Error: 0.0024 - Test Error: 0.0025\n",
            "Epoch 661/1000 - Train Error: 0.0024 - Test Error: 0.0025\n",
            "Epoch 662/1000 - Train Error: 0.0024 - Test Error: 0.0025\n",
            "Epoch 663/1000 - Train Error: 0.0024 - Test Error: 0.0025\n",
            "Epoch 664/1000 - Train Error: 0.0024 - Test Error: 0.0025\n"
          ]
        },
        {
          "output_type": "stream",
          "name": "stderr",
          "text": [
            "Training:  68%|█████████████████████████████████▉                | 678/1000 [00:07<00:04, 76.93it/s]"
          ]
        },
        {
          "output_type": "stream",
          "name": "stdout",
          "text": [
            "Epoch 665/1000 - Train Error: 0.0024 - Test Error: 0.0025\n",
            "Epoch 666/1000 - Train Error: 0.0024 - Test Error: 0.0025\n",
            "Epoch 667/1000 - Train Error: 0.0024 - Test Error: 0.0025\n",
            "Epoch 668/1000 - Train Error: 0.0024 - Test Error: 0.0025\n",
            "Epoch 669/1000 - Train Error: 0.0024 - Test Error: 0.0025\n",
            "Epoch 670/1000 - Train Error: 0.0024 - Test Error: 0.0025\n",
            "Epoch 671/1000 - Train Error: 0.0024 - Test Error: 0.0025\n",
            "Epoch 672/1000 - Train Error: 0.0024 - Test Error: 0.0025\n",
            "Epoch 673/1000 - Train Error: 0.0024 - Test Error: 0.0025\n",
            "Epoch 674/1000 - Train Error: 0.0024 - Test Error: 0.0025\n",
            "Epoch 675/1000 - Train Error: 0.0024 - Test Error: 0.0025\n",
            "Epoch 676/1000 - Train Error: 0.0024 - Test Error: 0.0025\n",
            "Epoch 677/1000 - Train Error: 0.0024 - Test Error: 0.0025\n",
            "Epoch 678/1000 - Train Error: 0.0024 - Test Error: 0.0025\n",
            "Epoch 679/1000 - Train Error: 0.0024 - Test Error: 0.0025\n",
            "Epoch 680/1000 - Train Error: 0.0024 - Test Error: 0.0025\n"
          ]
        },
        {
          "output_type": "stream",
          "name": "stderr",
          "text": [
            "Training:  70%|██████████████████████████████████▊               | 695/1000 [00:07<00:03, 78.13it/s]"
          ]
        },
        {
          "output_type": "stream",
          "name": "stdout",
          "text": [
            "Epoch 681/1000 - Train Error: 0.0024 - Test Error: 0.0025\n",
            "Epoch 682/1000 - Train Error: 0.0024 - Test Error: 0.0025\n",
            "Epoch 683/1000 - Train Error: 0.0024 - Test Error: 0.0025\n",
            "Epoch 684/1000 - Train Error: 0.0024 - Test Error: 0.0025\n",
            "Epoch 685/1000 - Train Error: 0.0024 - Test Error: 0.0025\n",
            "Epoch 686/1000 - Train Error: 0.0024 - Test Error: 0.0025\n",
            "Epoch 687/1000 - Train Error: 0.0024 - Test Error: 0.0025\n",
            "Epoch 688/1000 - Train Error: 0.0024 - Test Error: 0.0025\n",
            "Epoch 689/1000 - Train Error: 0.0024 - Test Error: 0.0025\n",
            "Epoch 690/1000 - Train Error: 0.0024 - Test Error: 0.0025\n",
            "Epoch 691/1000 - Train Error: 0.0023 - Test Error: 0.0025\n",
            "Epoch 692/1000 - Train Error: 0.0023 - Test Error: 0.0025\n",
            "Epoch 693/1000 - Train Error: 0.0023 - Test Error: 0.0025\n",
            "Epoch 694/1000 - Train Error: 0.0023 - Test Error: 0.0025\n",
            "Epoch 695/1000 - Train Error: 0.0023 - Test Error: 0.0025\n",
            "Epoch 696/1000 - Train Error: 0.0023 - Test Error: 0.0025\n"
          ]
        },
        {
          "output_type": "stream",
          "name": "stderr",
          "text": [
            "Training:  71%|███████████████████████████████████▌              | 711/1000 [00:07<00:03, 76.29it/s]"
          ]
        },
        {
          "output_type": "stream",
          "name": "stdout",
          "text": [
            "Epoch 697/1000 - Train Error: 0.0023 - Test Error: 0.0025\n",
            "Epoch 698/1000 - Train Error: 0.0023 - Test Error: 0.0025\n",
            "Epoch 699/1000 - Train Error: 0.0023 - Test Error: 0.0025\n",
            "Epoch 700/1000 - Train Error: 0.0023 - Test Error: 0.0025\n",
            "Epoch 701/1000 - Train Error: 0.0023 - Test Error: 0.0025\n",
            "Epoch 702/1000 - Train Error: 0.0023 - Test Error: 0.0025\n",
            "Epoch 703/1000 - Train Error: 0.0023 - Test Error: 0.0025\n",
            "Epoch 704/1000 - Train Error: 0.0023 - Test Error: 0.0025\n",
            "Epoch 705/1000 - Train Error: 0.0023 - Test Error: 0.0025\n",
            "Epoch 706/1000 - Train Error: 0.0023 - Test Error: 0.0024\n",
            "Epoch 707/1000 - Train Error: 0.0023 - Test Error: 0.0024\n",
            "Epoch 708/1000 - Train Error: 0.0023 - Test Error: 0.0024\n",
            "Epoch 709/1000 - Train Error: 0.0023 - Test Error: 0.0024\n",
            "Epoch 710/1000 - Train Error: 0.0023 - Test Error: 0.0024\n",
            "Epoch 711/1000 - Train Error: 0.0023 - Test Error: 0.0024\n"
          ]
        },
        {
          "output_type": "stream",
          "name": "stderr",
          "text": [
            "Training:  72%|████████████████████████████████████              | 720/1000 [00:07<00:03, 77.71it/s]"
          ]
        },
        {
          "output_type": "stream",
          "name": "stdout",
          "text": [
            "Epoch 712/1000 - Train Error: 0.0023 - Test Error: 0.0024\n",
            "Epoch 713/1000 - Train Error: 0.0023 - Test Error: 0.0024\n",
            "Epoch 714/1000 - Train Error: 0.0023 - Test Error: 0.0024\n",
            "Epoch 715/1000 - Train Error: 0.0023 - Test Error: 0.0024\n",
            "Epoch 716/1000 - Train Error: 0.0023 - Test Error: 0.0024\n",
            "Epoch 717/1000 - Train Error: 0.0023 - Test Error: 0.0024\n",
            "Epoch 718/1000 - Train Error: 0.0023 - Test Error: 0.0024\n",
            "Epoch 719/1000 - Train Error: 0.0023 - Test Error: 0.0024\n",
            "Epoch 720/1000 - Train Error: 0.0023 - Test Error: 0.0024\n",
            "Epoch 721/1000 - Train Error: 0.0023 - Test Error: 0.0024\n",
            "Epoch 722/1000 - Train Error: 0.0023 - Test Error: 0.0024\n",
            "Epoch 723/1000 - Train Error: 0.0023 - Test Error: 0.0024\n",
            "Epoch 724/1000 - Train Error: 0.0023 - Test Error: 0.0024\n",
            "Epoch 725/1000 - Train Error: 0.0023 - Test Error: 0.0024\n",
            "Epoch 726/1000 - Train Error: 0.0023 - Test Error: 0.0024\n",
            "Epoch 727/1000 - Train Error: 0.0023 - Test Error: 0.0024\n"
          ]
        },
        {
          "output_type": "stream",
          "name": "stderr",
          "text": [
            "Training:  74%|████████████████████████████████████▊             | 736/1000 [00:08<00:03, 76.42it/s]"
          ]
        },
        {
          "output_type": "stream",
          "name": "stdout",
          "text": [
            "Epoch 728/1000 - Train Error: 0.0023 - Test Error: 0.0024\n",
            "Epoch 729/1000 - Train Error: 0.0023 - Test Error: 0.0024\n",
            "Epoch 730/1000 - Train Error: 0.0023 - Test Error: 0.0024\n",
            "Epoch 731/1000 - Train Error: 0.0023 - Test Error: 0.0024\n",
            "Epoch 732/1000 - Train Error: 0.0023 - Test Error: 0.0024\n",
            "Epoch 733/1000 - Train Error: 0.0023 - Test Error: 0.0024\n",
            "Epoch 734/1000 - Train Error: 0.0023 - Test Error: 0.0024\n",
            "Epoch 735/1000 - Train Error: 0.0023 - Test Error: 0.0024\n",
            "Epoch 736/1000 - Train Error: 0.0023 - Test Error: 0.0024\n",
            "Epoch 737/1000 - Train Error: 0.0023 - Test Error: 0.0024\n",
            "Epoch 738/1000 - Train Error: 0.0023 - Test Error: 0.0024\n",
            "Epoch 739/1000 - Train Error: 0.0023 - Test Error: 0.0024\n",
            "Epoch 740/1000 - Train Error: 0.0023 - Test Error: 0.0024\n",
            "Epoch 741/1000 - Train Error: 0.0023 - Test Error: 0.0024\n"
          ]
        },
        {
          "output_type": "stream",
          "name": "stderr",
          "text": [
            "Training:  75%|█████████████████████████████████████▌            | 752/1000 [00:08<00:03, 69.02it/s]"
          ]
        },
        {
          "output_type": "stream",
          "name": "stdout",
          "text": [
            "Epoch 742/1000 - Train Error: 0.0023 - Test Error: 0.0024\n",
            "Epoch 743/1000 - Train Error: 0.0023 - Test Error: 0.0024\n",
            "Epoch 744/1000 - Train Error: 0.0023 - Test Error: 0.0024\n",
            "Epoch 745/1000 - Train Error: 0.0023 - Test Error: 0.0024\n",
            "Epoch 746/1000 - Train Error: 0.0023 - Test Error: 0.0024\n",
            "Epoch 747/1000 - Train Error: 0.0023 - Test Error: 0.0024\n",
            "Epoch 748/1000 - Train Error: 0.0023 - Test Error: 0.0024\n",
            "Epoch 749/1000 - Train Error: 0.0023 - Test Error: 0.0024\n",
            "Epoch 750/1000 - Train Error: 0.0023 - Test Error: 0.0024\n",
            "Epoch 751/1000 - Train Error: 0.0023 - Test Error: 0.0024\n",
            "Epoch 752/1000 - Train Error: 0.0023 - Test Error: 0.0024\n",
            "Epoch 753/1000 - Train Error: 0.0023 - Test Error: 0.0024\n",
            "Epoch 754/1000 - Train Error: 0.0023 - Test Error: 0.0024\n",
            "Epoch 755/1000 - Train Error: 0.0023 - Test Error: 0.0024\n"
          ]
        },
        {
          "output_type": "stream",
          "name": "stderr",
          "text": [
            "Training:  77%|██████████████████████████████████████▍           | 768/1000 [00:08<00:03, 74.04it/s]"
          ]
        },
        {
          "output_type": "stream",
          "name": "stdout",
          "text": [
            "Epoch 756/1000 - Train Error: 0.0023 - Test Error: 0.0024\n",
            "Epoch 757/1000 - Train Error: 0.0023 - Test Error: 0.0024\n",
            "Epoch 758/1000 - Train Error: 0.0023 - Test Error: 0.0024\n",
            "Epoch 759/1000 - Train Error: 0.0023 - Test Error: 0.0024\n",
            "Epoch 760/1000 - Train Error: 0.0023 - Test Error: 0.0024\n",
            "Epoch 761/1000 - Train Error: 0.0023 - Test Error: 0.0024\n",
            "Epoch 762/1000 - Train Error: 0.0023 - Test Error: 0.0024\n",
            "Epoch 763/1000 - Train Error: 0.0023 - Test Error: 0.0024\n",
            "Epoch 764/1000 - Train Error: 0.0023 - Test Error: 0.0024\n",
            "Epoch 765/1000 - Train Error: 0.0023 - Test Error: 0.0024\n",
            "Epoch 766/1000 - Train Error: 0.0023 - Test Error: 0.0024\n",
            "Epoch 767/1000 - Train Error: 0.0023 - Test Error: 0.0024\n",
            "Epoch 768/1000 - Train Error: 0.0023 - Test Error: 0.0024\n",
            "Epoch 769/1000 - Train Error: 0.0023 - Test Error: 0.0024\n",
            "Epoch 770/1000 - Train Error: 0.0023 - Test Error: 0.0024\n",
            "Epoch 771/1000 - Train Error: 0.0023 - Test Error: 0.0024\n",
            "Epoch 772/1000 - Train Error: 0.0023 - Test Error: 0.0024\n"
          ]
        },
        {
          "output_type": "stream",
          "name": "stderr",
          "text": [
            "Training:  79%|███████████████████████████████████████▎          | 787/1000 [00:08<00:02, 82.54it/s]"
          ]
        },
        {
          "output_type": "stream",
          "name": "stdout",
          "text": [
            "Epoch 773/1000 - Train Error: 0.0023 - Test Error: 0.0024\n",
            "Epoch 774/1000 - Train Error: 0.0023 - Test Error: 0.0024\n",
            "Epoch 775/1000 - Train Error: 0.0023 - Test Error: 0.0024\n",
            "Epoch 776/1000 - Train Error: 0.0023 - Test Error: 0.0024\n",
            "Epoch 777/1000 - Train Error: 0.0023 - Test Error: 0.0024\n",
            "Epoch 778/1000 - Train Error: 0.0023 - Test Error: 0.0024\n",
            "Epoch 779/1000 - Train Error: 0.0023 - Test Error: 0.0024\n",
            "Epoch 780/1000 - Train Error: 0.0023 - Test Error: 0.0024\n",
            "Epoch 781/1000 - Train Error: 0.0022 - Test Error: 0.0024\n",
            "Epoch 782/1000 - Train Error: 0.0022 - Test Error: 0.0024\n",
            "Epoch 783/1000 - Train Error: 0.0022 - Test Error: 0.0024\n",
            "Epoch 784/1000 - Train Error: 0.0022 - Test Error: 0.0024\n",
            "Epoch 785/1000 - Train Error: 0.0022 - Test Error: 0.0024\n",
            "Epoch 786/1000 - Train Error: 0.0022 - Test Error: 0.0024\n",
            "Epoch 787/1000 - Train Error: 0.0022 - Test Error: 0.0024\n",
            "Epoch 788/1000 - Train Error: 0.0022 - Test Error: 0.0024\n",
            "Epoch 789/1000 - Train Error: 0.0022 - Test Error: 0.0024\n",
            "Epoch 790/1000 - Train Error: 0.0022 - Test Error: 0.0024\n",
            "Epoch 791/1000 - Train Error: 0.0022 - Test Error: 0.0024\n"
          ]
        },
        {
          "output_type": "stream",
          "name": "stderr",
          "text": [
            "Training:  80%|████████████████████████████████████████▎         | 805/1000 [00:08<00:02, 83.02it/s]"
          ]
        },
        {
          "output_type": "stream",
          "name": "stdout",
          "text": [
            "Epoch 792/1000 - Train Error: 0.0022 - Test Error: 0.0024\n",
            "Epoch 793/1000 - Train Error: 0.0022 - Test Error: 0.0023\n",
            "Epoch 794/1000 - Train Error: 0.0022 - Test Error: 0.0023\n",
            "Epoch 795/1000 - Train Error: 0.0022 - Test Error: 0.0023\n",
            "Epoch 796/1000 - Train Error: 0.0022 - Test Error: 0.0023\n",
            "Epoch 797/1000 - Train Error: 0.0022 - Test Error: 0.0023\n",
            "Epoch 798/1000 - Train Error: 0.0022 - Test Error: 0.0023\n",
            "Epoch 799/1000 - Train Error: 0.0022 - Test Error: 0.0023\n",
            "Epoch 800/1000 - Train Error: 0.0022 - Test Error: 0.0023\n",
            "Epoch 801/1000 - Train Error: 0.0022 - Test Error: 0.0023\n",
            "Epoch 802/1000 - Train Error: 0.0022 - Test Error: 0.0023\n",
            "Epoch 803/1000 - Train Error: 0.0022 - Test Error: 0.0023\n",
            "Epoch 804/1000 - Train Error: 0.0022 - Test Error: 0.0023\n",
            "Epoch 805/1000 - Train Error: 0.0022 - Test Error: 0.0023\n",
            "Epoch 806/1000 - Train Error: 0.0022 - Test Error: 0.0023\n",
            "Epoch 807/1000 - Train Error: 0.0022 - Test Error: 0.0023\n"
          ]
        },
        {
          "output_type": "stream",
          "name": "stderr",
          "text": [
            "Training:  81%|████████████████████████████████████████▋         | 814/1000 [00:09<00:02, 76.60it/s]"
          ]
        },
        {
          "output_type": "stream",
          "name": "stdout",
          "text": [
            "Epoch 808/1000 - Train Error: 0.0022 - Test Error: 0.0023\n",
            "Epoch 809/1000 - Train Error: 0.0022 - Test Error: 0.0023\n",
            "Epoch 810/1000 - Train Error: 0.0022 - Test Error: 0.0023\n",
            "Epoch 811/1000 - Train Error: 0.0022 - Test Error: 0.0023\n",
            "Epoch 812/1000 - Train Error: 0.0022 - Test Error: 0.0023\n",
            "Epoch 813/1000 - Train Error: 0.0022 - Test Error: 0.0023\n",
            "Epoch 814/1000 - Train Error: 0.0022 - Test Error: 0.0023\n",
            "Epoch 815/1000 - Train Error: 0.0022 - Test Error: 0.0023\n",
            "Epoch 816/1000 - Train Error: 0.0022 - Test Error: 0.0023\n",
            "Epoch 817/1000 - Train Error: 0.0022 - Test Error: 0.0023\n",
            "Epoch 818/1000 - Train Error: 0.0022 - Test Error: 0.0023\n",
            "Epoch 819/1000 - Train Error: 0.0022 - Test Error: 0.0023\n",
            "Epoch 820/1000 - Train Error: 0.0022 - Test Error: 0.0023\n",
            "Epoch 821/1000 - Train Error: 0.0022 - Test Error: 0.0023\n",
            "Epoch 822/1000 - Train Error: 0.0022 - Test Error: 0.0023\n"
          ]
        },
        {
          "output_type": "stream",
          "name": "stderr",
          "text": [
            "Training:  83%|█████████████████████████████████████████▌        | 831/1000 [00:09<00:02, 76.60it/s]"
          ]
        },
        {
          "output_type": "stream",
          "name": "stdout",
          "text": [
            "Epoch 823/1000 - Train Error: 0.0022 - Test Error: 0.0023\n",
            "Epoch 824/1000 - Train Error: 0.0022 - Test Error: 0.0023\n",
            "Epoch 825/1000 - Train Error: 0.0022 - Test Error: 0.0023\n",
            "Epoch 826/1000 - Train Error: 0.0022 - Test Error: 0.0023\n",
            "Epoch 827/1000 - Train Error: 0.0022 - Test Error: 0.0023\n",
            "Epoch 828/1000 - Train Error: 0.0022 - Test Error: 0.0023\n",
            "Epoch 829/1000 - Train Error: 0.0022 - Test Error: 0.0023\n",
            "Epoch 830/1000 - Train Error: 0.0022 - Test Error: 0.0023\n",
            "Epoch 831/1000 - Train Error: 0.0022 - Test Error: 0.0023\n",
            "Epoch 832/1000 - Train Error: 0.0022 - Test Error: 0.0023\n",
            "Epoch 833/1000 - Train Error: 0.0022 - Test Error: 0.0023\n",
            "Epoch 834/1000 - Train Error: 0.0022 - Test Error: 0.0023\n",
            "Epoch 835/1000 - Train Error: 0.0022 - Test Error: 0.0023\n",
            "Epoch 836/1000 - Train Error: 0.0022 - Test Error: 0.0023\n",
            "Epoch 837/1000 - Train Error: 0.0022 - Test Error: 0.0023\n",
            "Epoch 838/1000 - Train Error: 0.0022 - Test Error: 0.0023\n"
          ]
        },
        {
          "output_type": "stream",
          "name": "stderr",
          "text": [
            "Training:  85%|██████████████████████████████████████████▍       | 848/1000 [00:09<00:02, 74.02it/s]"
          ]
        },
        {
          "output_type": "stream",
          "name": "stdout",
          "text": [
            "Epoch 839/1000 - Train Error: 0.0022 - Test Error: 0.0023\n",
            "Epoch 840/1000 - Train Error: 0.0022 - Test Error: 0.0023\n",
            "Epoch 841/1000 - Train Error: 0.0022 - Test Error: 0.0023\n",
            "Epoch 842/1000 - Train Error: 0.0022 - Test Error: 0.0023\n",
            "Epoch 843/1000 - Train Error: 0.0022 - Test Error: 0.0023\n",
            "Epoch 844/1000 - Train Error: 0.0022 - Test Error: 0.0023\n",
            "Epoch 845/1000 - Train Error: 0.0022 - Test Error: 0.0023\n",
            "Epoch 846/1000 - Train Error: 0.0022 - Test Error: 0.0023\n",
            "Epoch 847/1000 - Train Error: 0.0022 - Test Error: 0.0023\n",
            "Epoch 848/1000 - Train Error: 0.0022 - Test Error: 0.0023\n",
            "Epoch 849/1000 - Train Error: 0.0022 - Test Error: 0.0023\n",
            "Epoch 850/1000 - Train Error: 0.0022 - Test Error: 0.0023\n",
            "Epoch 851/1000 - Train Error: 0.0022 - Test Error: 0.0023\n",
            "Epoch 852/1000 - Train Error: 0.0022 - Test Error: 0.0023\n",
            "Epoch 853/1000 - Train Error: 0.0022 - Test Error: 0.0023\n"
          ]
        },
        {
          "output_type": "stream",
          "name": "stderr",
          "text": [
            "Training:  86%|███████████████████████████████████████████▎      | 865/1000 [00:09<00:01, 78.40it/s]"
          ]
        },
        {
          "output_type": "stream",
          "name": "stdout",
          "text": [
            "Epoch 854/1000 - Train Error: 0.0022 - Test Error: 0.0023\n",
            "Epoch 855/1000 - Train Error: 0.0022 - Test Error: 0.0023\n",
            "Epoch 856/1000 - Train Error: 0.0022 - Test Error: 0.0023\n",
            "Epoch 857/1000 - Train Error: 0.0022 - Test Error: 0.0023\n",
            "Epoch 858/1000 - Train Error: 0.0022 - Test Error: 0.0023\n",
            "Epoch 859/1000 - Train Error: 0.0022 - Test Error: 0.0023\n",
            "Epoch 860/1000 - Train Error: 0.0022 - Test Error: 0.0023\n",
            "Epoch 861/1000 - Train Error: 0.0022 - Test Error: 0.0023\n",
            "Epoch 862/1000 - Train Error: 0.0022 - Test Error: 0.0023\n",
            "Epoch 863/1000 - Train Error: 0.0022 - Test Error: 0.0023\n",
            "Epoch 864/1000 - Train Error: 0.0022 - Test Error: 0.0023\n",
            "Epoch 865/1000 - Train Error: 0.0022 - Test Error: 0.0023\n",
            "Epoch 866/1000 - Train Error: 0.0022 - Test Error: 0.0023\n",
            "Epoch 867/1000 - Train Error: 0.0022 - Test Error: 0.0023\n",
            "Epoch 868/1000 - Train Error: 0.0022 - Test Error: 0.0023\n",
            "Epoch 869/1000 - Train Error: 0.0022 - Test Error: 0.0023\n",
            "Epoch 870/1000 - Train Error: 0.0022 - Test Error: 0.0023\n",
            "Epoch 871/1000 - Train Error: 0.0022 - Test Error: 0.0023\n"
          ]
        },
        {
          "output_type": "stream",
          "name": "stderr",
          "text": [
            "Training:  88%|████████████████████████████████████████████      | 882/1000 [00:09<00:01, 76.51it/s]"
          ]
        },
        {
          "output_type": "stream",
          "name": "stdout",
          "text": [
            "Epoch 872/1000 - Train Error: 0.0022 - Test Error: 0.0023\n",
            "Epoch 873/1000 - Train Error: 0.0022 - Test Error: 0.0023\n",
            "Epoch 874/1000 - Train Error: 0.0022 - Test Error: 0.0023\n",
            "Epoch 875/1000 - Train Error: 0.0022 - Test Error: 0.0023\n",
            "Epoch 876/1000 - Train Error: 0.0022 - Test Error: 0.0023\n",
            "Epoch 877/1000 - Train Error: 0.0022 - Test Error: 0.0023\n",
            "Epoch 878/1000 - Train Error: 0.0022 - Test Error: 0.0023\n",
            "Epoch 879/1000 - Train Error: 0.0022 - Test Error: 0.0023\n",
            "Epoch 880/1000 - Train Error: 0.0022 - Test Error: 0.0023\n",
            "Epoch 881/1000 - Train Error: 0.0021 - Test Error: 0.0023\n",
            "Epoch 882/1000 - Train Error: 0.0021 - Test Error: 0.0023\n",
            "Epoch 883/1000 - Train Error: 0.0021 - Test Error: 0.0023\n",
            "Epoch 884/1000 - Train Error: 0.0021 - Test Error: 0.0023\n",
            "Epoch 885/1000 - Train Error: 0.0021 - Test Error: 0.0023\n",
            "Epoch 886/1000 - Train Error: 0.0021 - Test Error: 0.0023\n"
          ]
        },
        {
          "output_type": "stream",
          "name": "stderr",
          "text": []
        },
        {
          "output_type": "stream",
          "name": "stdout",
          "text": [
            "Epoch 887/1000 - Train Error: 0.0021 - Test Error: 0.0023\n",
            "Epoch 888/1000 - Train Error: 0.0021 - Test Error: 0.0022\n",
            "Epoch 889/1000 - Train Error: 0.0021 - Test Error: 0.0022\n",
            "Epoch 890/1000 - Train Error: 0.0021 - Test Error: 0.0022\n",
            "Epoch 891/1000 - Train Error: 0.0021 - Test Error: 0.0022\n",
            "Epoch 892/1000 - Train Error: 0.0021 - Test Error: 0.0022\n",
            "Epoch 893/1000 - Train Error: 0.0021 - Test Error: 0.0022\n",
            "Epoch 894/1000 - Train Error: 0.0021 - Test Error: 0.0022\n",
            "Epoch 895/1000 - Train Error: 0.0021 - Test Error: 0.0022\n",
            "Epoch 896/1000 - Train Error: 0.0021 - Test Error: 0.0022\n",
            "Epoch 897/1000 - Train Error: 0.0021 - Test Error: 0.0022\n",
            "Epoch 898/1000 - Train Error: 0.0021 - Test Error: 0.0022\n",
            "Epoch 899/1000 - Train Error: 0.0021 - Test Error: 0.0022\n"
          ]
        },
        {
          "output_type": "stream",
          "name": "stderr",
          "text": [
            "Training:  92%|█████████████████████████████████████████████▊    | 915/1000 [00:10<00:01, 76.75it/s]"
          ]
        },
        {
          "output_type": "stream",
          "name": "stdout",
          "text": [
            "Epoch 900/1000 - Train Error: 0.0021 - Test Error: 0.0022\n",
            "Epoch 901/1000 - Train Error: 0.0021 - Test Error: 0.0022\n",
            "Epoch 902/1000 - Train Error: 0.0021 - Test Error: 0.0022\n",
            "Epoch 903/1000 - Train Error: 0.0021 - Test Error: 0.0022\n",
            "Epoch 904/1000 - Train Error: 0.0021 - Test Error: 0.0022\n",
            "Epoch 905/1000 - Train Error: 0.0021 - Test Error: 0.0022\n",
            "Epoch 906/1000 - Train Error: 0.0021 - Test Error: 0.0022\n",
            "Epoch 907/1000 - Train Error: 0.0021 - Test Error: 0.0022\n",
            "Epoch 908/1000 - Train Error: 0.0021 - Test Error: 0.0022\n",
            "Epoch 909/1000 - Train Error: 0.0021 - Test Error: 0.0022\n",
            "Epoch 910/1000 - Train Error: 0.0021 - Test Error: 0.0022\n",
            "Epoch 911/1000 - Train Error: 0.0021 - Test Error: 0.0022\n",
            "Epoch 912/1000 - Train Error: 0.0021 - Test Error: 0.0022\n",
            "Epoch 913/1000 - Train Error: 0.0021 - Test Error: 0.0022\n",
            "Epoch 914/1000 - Train Error: 0.0021 - Test Error: 0.0022\n",
            "Epoch 915/1000 - Train Error: 0.0021 - Test Error: 0.0022\n",
            "Epoch 916/1000 - Train Error: 0.0021 - Test Error: 0.0022\n",
            "Epoch 917/1000 - Train Error: 0.0021 - Test Error: 0.0022\n"
          ]
        },
        {
          "output_type": "stream",
          "name": "stderr",
          "text": [
            "Training:  93%|██████████████████████████████████████████████▌   | 932/1000 [00:10<00:00, 75.99it/s]"
          ]
        },
        {
          "output_type": "stream",
          "name": "stdout",
          "text": [
            "Epoch 918/1000 - Train Error: 0.0021 - Test Error: 0.0022\n",
            "Epoch 919/1000 - Train Error: 0.0021 - Test Error: 0.0022\n",
            "Epoch 920/1000 - Train Error: 0.0021 - Test Error: 0.0022\n",
            "Epoch 921/1000 - Train Error: 0.0021 - Test Error: 0.0022\n",
            "Epoch 922/1000 - Train Error: 0.0021 - Test Error: 0.0022\n",
            "Epoch 923/1000 - Train Error: 0.0021 - Test Error: 0.0022\n",
            "Epoch 924/1000 - Train Error: 0.0021 - Test Error: 0.0022\n",
            "Epoch 925/1000 - Train Error: 0.0021 - Test Error: 0.0022\n",
            "Epoch 926/1000 - Train Error: 0.0021 - Test Error: 0.0022\n",
            "Epoch 927/1000 - Train Error: 0.0021 - Test Error: 0.0022\n",
            "Epoch 928/1000 - Train Error: 0.0021 - Test Error: 0.0022\n",
            "Epoch 929/1000 - Train Error: 0.0021 - Test Error: 0.0022\n",
            "Epoch 930/1000 - Train Error: 0.0021 - Test Error: 0.0022\n",
            "Epoch 931/1000 - Train Error: 0.0021 - Test Error: 0.0022\n",
            "Epoch 932/1000 - Train Error: 0.0021 - Test Error: 0.0022\n",
            "Epoch 933/1000 - Train Error: 0.0021 - Test Error: 0.0022\n"
          ]
        },
        {
          "output_type": "stream",
          "name": "stderr",
          "text": [
            "Training:  95%|███████████████████████████████████████████████▌  | 950/1000 [00:10<00:00, 79.33it/s]"
          ]
        },
        {
          "output_type": "stream",
          "name": "stdout",
          "text": [
            "Epoch 934/1000 - Train Error: 0.0021 - Test Error: 0.0022\n",
            "Epoch 935/1000 - Train Error: 0.0021 - Test Error: 0.0022\n",
            "Epoch 936/1000 - Train Error: 0.0021 - Test Error: 0.0022\n",
            "Epoch 937/1000 - Train Error: 0.0021 - Test Error: 0.0022\n",
            "Epoch 938/1000 - Train Error: 0.0021 - Test Error: 0.0022\n",
            "Epoch 939/1000 - Train Error: 0.0021 - Test Error: 0.0022\n",
            "Epoch 940/1000 - Train Error: 0.0021 - Test Error: 0.0022\n",
            "Epoch 941/1000 - Train Error: 0.0021 - Test Error: 0.0022\n",
            "Epoch 942/1000 - Train Error: 0.0021 - Test Error: 0.0022\n",
            "Epoch 943/1000 - Train Error: 0.0021 - Test Error: 0.0022\n",
            "Epoch 944/1000 - Train Error: 0.0021 - Test Error: 0.0022\n",
            "Epoch 945/1000 - Train Error: 0.0021 - Test Error: 0.0022\n",
            "Epoch 946/1000 - Train Error: 0.0021 - Test Error: 0.0022\n",
            "Epoch 947/1000 - Train Error: 0.0021 - Test Error: 0.0022\n",
            "Epoch 948/1000 - Train Error: 0.0021 - Test Error: 0.0022\n",
            "Epoch 949/1000 - Train Error: 0.0021 - Test Error: 0.0022\n",
            "Epoch 950/1000 - Train Error: 0.0021 - Test Error: 0.0022\n"
          ]
        },
        {
          "output_type": "stream",
          "name": "stderr",
          "text": []
        },
        {
          "output_type": "stream",
          "name": "stdout",
          "text": [
            "Epoch 951/1000 - Train Error: 0.0021 - Test Error: 0.0022\n",
            "Epoch 952/1000 - Train Error: 0.0021 - Test Error: 0.0022\n",
            "Epoch 953/1000 - Train Error: 0.0021 - Test Error: 0.0022\n",
            "Epoch 954/1000 - Train Error: 0.0021 - Test Error: 0.0022\n",
            "Epoch 955/1000 - Train Error: 0.0021 - Test Error: 0.0022\n",
            "Epoch 956/1000 - Train Error: 0.0021 - Test Error: 0.0022\n",
            "Epoch 957/1000 - Train Error: 0.0021 - Test Error: 0.0022\n",
            "Epoch 958/1000 - Train Error: 0.0021 - Test Error: 0.0022\n",
            "Epoch 959/1000 - Train Error: 0.0021 - Test Error: 0.0022\n",
            "Epoch 960/1000 - Train Error: 0.0021 - Test Error: 0.0022\n",
            "Epoch 961/1000 - Train Error: 0.0021 - Test Error: 0.0022\n",
            "Epoch 962/1000 - Train Error: 0.0021 - Test Error: 0.0022\n",
            "Epoch 963/1000 - Train Error: 0.0021 - Test Error: 0.0022\n",
            "Epoch 964/1000 - Train Error: 0.0021 - Test Error: 0.0022\n",
            "Epoch 965/1000 - Train Error: 0.0021 - Test Error: 0.0022\n",
            "Epoch 966/1000 - Train Error: 0.0021 - Test Error: 0.0022\n"
          ]
        },
        {
          "output_type": "stream",
          "name": "stderr",
          "text": [
            "                                                                                                    "
          ]
        },
        {
          "output_type": "stream",
          "name": "stdout",
          "text": [
            "Epoch 967/1000 - Train Error: 0.0021 - Test Error: 0.0022\n",
            "Epoch 968/1000 - Train Error: 0.0021 - Test Error: 0.0022\n",
            "Epoch 969/1000 - Train Error: 0.0021 - Test Error: 0.0022\n",
            "Epoch 970/1000 - Train Error: 0.0021 - Test Error: 0.0022\n",
            "Epoch 971/1000 - Train Error: 0.0021 - Test Error: 0.0022\n",
            "Epoch 972/1000 - Train Error: 0.0021 - Test Error: 0.0022\n",
            "Epoch 973/1000 - Train Error: 0.0021 - Test Error: 0.0022\n",
            "Epoch 974/1000 - Train Error: 0.0021 - Test Error: 0.0022\n",
            "Epoch 975/1000 - Train Error: 0.0021 - Test Error: 0.0022\n",
            "Epoch 976/1000 - Train Error: 0.0021 - Test Error: 0.0022\n",
            "Epoch 977/1000 - Train Error: 0.0021 - Test Error: 0.0022\n",
            "Epoch 978/1000 - Train Error: 0.0021 - Test Error: 0.0022\n",
            "Epoch 979/1000 - Train Error: 0.0021 - Test Error: 0.0022\n",
            "Epoch 980/1000 - Train Error: 0.0021 - Test Error: 0.0022\n",
            "Epoch 981/1000 - Train Error: 0.0021 - Test Error: 0.0022\n",
            "Epoch 982/1000 - Train Error: 0.0021 - Test Error: 0.0022\n",
            "Epoch 983/1000 - Train Error: 0.0021 - Test Error: 0.0022\n"
          ]
        },
        {
          "output_type": "stream",
          "name": "stderr",
          "text": [
            "Training: 100%|█████████████████████████████████████████████████| 1000/1000 [00:11<00:00, 88.12it/s]\n"
          ]
        },
        {
          "output_type": "stream",
          "name": "stdout",
          "text": [
            "Epoch 984/1000 - Train Error: 0.0021 - Test Error: 0.0022\n",
            "Epoch 985/1000 - Train Error: 0.0021 - Test Error: 0.0022\n",
            "Epoch 986/1000 - Train Error: 0.0021 - Test Error: 0.0022\n",
            "Epoch 987/1000 - Train Error: 0.0021 - Test Error: 0.0022\n",
            "Epoch 988/1000 - Train Error: 0.0021 - Test Error: 0.0022\n",
            "Epoch 989/1000 - Train Error: 0.0021 - Test Error: 0.0022\n",
            "Epoch 990/1000 - Train Error: 0.0021 - Test Error: 0.0022\n",
            "Epoch 991/1000 - Train Error: 0.0021 - Test Error: 0.0022\n",
            "Epoch 992/1000 - Train Error: 0.0020 - Test Error: 0.0022\n",
            "Epoch 993/1000 - Train Error: 0.0020 - Test Error: 0.0022\n",
            "Epoch 994/1000 - Train Error: 0.0020 - Test Error: 0.0021\n",
            "Epoch 995/1000 - Train Error: 0.0020 - Test Error: 0.0021\n",
            "Epoch 996/1000 - Train Error: 0.0020 - Test Error: 0.0021\n",
            "Epoch 997/1000 - Train Error: 0.0020 - Test Error: 0.0021\n",
            "Epoch 998/1000 - Train Error: 0.0020 - Test Error: 0.0021\n",
            "Epoch 999/1000 - Train Error: 0.0020 - Test Error: 0.0021\n",
            "Epoch 1000/1000 - Train Error: 0.0020 - Test Error: 0.0021\n",
            "\n",
            "Final weights: [[ 3.40088291e-03]\n",
            " [ 1.16618451e-02]\n",
            " [-6.13271229e-03]\n",
            " [-1.83662017e-03]\n",
            " [ 3.90243386e-03]\n",
            " [-1.08777226e-02]\n",
            " [ 1.52398723e-02]\n",
            " [ 1.89632850e-02]\n",
            " [ 1.18562549e-02]\n",
            " [-6.79534793e-03]\n",
            " [-3.95521744e-02]\n",
            " [-2.76144046e-02]\n",
            " [ 3.20407850e-02]\n",
            " [-6.46535832e-04]\n",
            " [ 2.49270235e-02]\n",
            " [ 8.45526016e-02]\n",
            " [-1.77388817e-03]\n",
            " [ 8.04474229e-04]\n",
            " [ 2.13006062e-03]\n",
            " [ 2.91658113e-03]\n",
            " [ 2.42650034e-06]\n",
            " [ 7.11039310e-03]\n",
            " [-1.68693454e-03]\n",
            " [-2.26723540e-03]\n",
            " [ 5.38194334e-03]\n",
            " [ 5.59208691e-03]\n",
            " [ 5.09707412e-03]\n",
            " [ 9.02064899e-03]\n",
            " [-2.08424618e-02]\n",
            " [-4.15664904e-03]\n",
            " [ 5.95909666e-03]\n",
            " [ 5.11007300e-03]\n",
            " [ 5.86059881e-04]\n",
            " [-5.09962387e-03]\n",
            " [ 3.24901036e-02]\n",
            " [ 3.34985345e-02]\n",
            " [ 3.15603096e-02]\n",
            " [-2.13007906e-03]\n",
            " [-4.17011345e-03]\n",
            " [ 8.82826807e-04]\n",
            " [ 2.94763529e-03]\n",
            " [-1.21575545e-03]\n",
            " [ 5.83015256e-03]\n",
            " [-1.26849734e-03]\n",
            " [-3.74485480e-03]\n",
            " [ 8.54903484e-03]\n",
            " [ 9.12914450e-03]\n",
            " [ 7.06612879e-03]\n",
            " [-1.53585782e-03]\n",
            " [ 2.07186839e-03]\n",
            " [-1.17401538e-03]\n",
            " [ 8.70466335e-03]\n",
            " [ 1.20266502e-03]\n",
            " [-2.17788668e-03]\n",
            " [-5.26536001e-04]\n",
            " [-8.70425734e-04]\n",
            " [ 1.75001435e-03]\n",
            " [-6.42366433e-03]\n",
            " [ 9.27499780e-04]\n",
            " [ 3.01242961e-03]\n",
            " [-4.10070415e-03]\n",
            " [ 1.71562800e-03]\n",
            " [ 6.78459162e-04]\n",
            " [-1.09220353e-02]\n",
            " [ 1.76264675e-02]\n",
            " [ 2.02423051e-02]\n",
            " [ 1.59588638e-02]\n",
            " [-2.56387092e-03]\n",
            " [ 9.81715483e-03]\n",
            " [ 5.99554233e-03]\n",
            " [-1.80715415e-02]\n",
            " [ 4.66173877e-03]\n",
            " [ 8.90370366e-03]\n",
            " [ 1.47412160e-03]\n",
            " [ 4.94428158e-02]\n",
            " [ 5.05997647e-02]\n",
            " [ 4.76404876e-02]\n",
            " [-3.53511464e-03]\n",
            " [-9.80217269e-04]\n",
            " [-1.75086906e-03]\n",
            " [ 2.30694905e-03]\n",
            " [-7.34806396e-04]\n",
            " [ 7.39538436e-03]\n",
            " [-1.31113290e-03]\n",
            " [-4.43970849e-05]\n",
            " [ 5.52230200e-03]\n",
            " [ 7.58946433e-03]\n",
            " [ 5.30387564e-03]\n",
            " [ 1.55039515e-03]\n",
            " [ 1.74263720e-03]\n",
            " [ 2.01380509e-02]\n",
            " [ 2.13034088e-02]\n",
            " [ 2.29174781e-02]\n",
            " [-6.63079506e-04]\n",
            " [ 3.92616314e-03]\n",
            " [-6.98300815e-03]\n",
            " [ 8.55128439e-03]\n",
            " [ 9.02406181e-04]\n",
            " [ 1.10573855e-02]\n",
            " [ 1.03946942e-02]\n",
            " [ 9.51083474e-03]\n",
            " [ 6.42186580e-03]\n",
            " [-4.02274727e-03]\n",
            " [ 1.52890047e-03]\n",
            " [ 3.90469201e-04]\n",
            " [-1.03283286e-02]\n",
            " [ 6.15477323e-03]\n",
            " [ 3.81298714e-03]\n",
            " [-4.42584540e-03]\n",
            " [ 2.86761584e-02]\n",
            " [ 3.37794156e-02]\n",
            " [ 2.57432157e-02]\n",
            " [ 1.35739948e-03]\n",
            " [ 1.83421692e-03]\n",
            " [ 4.84059143e-03]\n",
            " [-2.00566540e-03]\n",
            " [-4.76063389e-03]\n",
            " [ 1.53114061e-03]\n",
            " [ 1.19010230e-03]\n",
            " [ 2.31146484e-03]\n",
            " [ 8.26013369e-03]\n",
            " [ 9.38194615e-03]\n",
            " [ 8.27767002e-03]\n",
            " [ 4.82255648e-03]\n",
            " [-1.84267792e-03]\n",
            " [-4.43264088e-03]\n",
            " [ 5.54370362e-03]\n",
            " [-1.19992724e-04]\n",
            " [ 5.54951412e-03]\n",
            " [ 6.22123646e-03]\n",
            " [ 4.09465867e-03]\n",
            " [ 3.96679337e-03]\n",
            " [-3.19614261e-03]\n",
            " [-8.62510542e-03]\n",
            " [ 8.42281449e-03]\n",
            " [-1.54024054e-03]\n",
            " [ 3.37386896e-02]\n",
            " [ 3.36712791e-02]\n",
            " [ 2.69643623e-02]\n",
            " [ 7.17625745e-03]\n",
            " [ 8.60415987e-03]\n",
            " [-2.78311830e-03]\n",
            " [ 4.74491170e-04]\n",
            " [-8.42095438e-03]\n",
            " [ 3.18231531e-02]\n",
            " [ 3.45178238e-02]\n",
            " [ 3.09361659e-02]\n",
            " [-2.11728104e-03]\n",
            " [-3.22450586e-03]\n",
            " [ 2.60624582e-03]\n",
            " [-6.78217636e-04]\n",
            " [ 1.32635703e-02]\n",
            " [ 1.38414553e-02]\n",
            " [ 1.35620571e-02]\n",
            " [-1.08180270e-02]\n",
            " [ 5.03764684e-04]\n",
            " [-2.90242131e-03]\n",
            " [ 7.99882460e-03]\n",
            " [-8.16498500e-04]\n",
            " [ 1.07833256e-03]\n",
            " [ 2.14811623e-04]\n",
            " [ 1.44442632e-03]]\n"
          ]
        },
        {
          "output_type": "display_data",
          "data": {
            "text/plain": [
              "<Figure size 640x480 with 1 Axes>"
            ],
            "image/png": "[encoded data removed]"
          },
          "metadata": {}
        }
      ]
    },
    {
      "cell_type": "code",
      "source": [
        "from sklearn.linear_model import LinearRegression, Lasso, Ridge\n",
        "\n",
        "# تعریف مدل‌های مختلف\n",
        "models = {\n",
        "    'Linear Regression': LinearRegression(),\n",
        "    'Lasso Regression': Lasso(alpha=0.1),\n",
        "    'Ridge Regression': Ridge(alpha=0.1)\n",
        "}\n",
        "\n",
        "# آموزش و ارزیابی مدل‌ها\n",
        "results = {}\n",
        "for model_name, model in models.items():\n",
        "    # آموزش مدل\n",
        "    model.fit(X_train, y_train)\n",
        "\n",
        "    # پیش‌بینی\n",
        "    y_train_pred = model.predict(X_train)\n",
        "    y_test_pred = model.predict(X_test)\n",
        "\n",
        "    # محاسبه MSE برای داده‌های آموزش و آزمون\n",
        "    train_error = mean_squared_error(y_train, y_train_pred)\n",
        "    test_error = mean_squared_error(y_test, y_test_pred)\n",
        "\n",
        "    results[model_name] = {\n",
        "        'Train Error (MSE)': train_error,\n",
        "        'Test Error (MSE)': test_error,\n",
        "        'Model': model\n",
        "    }\n",
        "\n",
        "# نمایش نتایج MSE برای هر مدل\n",
        "for model_name, result in results.items():\n",
        "    print(f\"{model_name} - Train MSE: {result['Train Error (MSE)']:.4f}, Test MSE: {result['Test Error (MSE)']:.4f}\")\n",
        "\n",
        "# مقایسه خطاهای مدل‌ها\n",
        "labels = list(results.keys())\n",
        "train_errors = [result['Train Error (MSE)'] for result in results.values()]\n",
        "test_errors = [result['Test Error (MSE)'] for result in results.values()]\n",
        "\n",
        "# نمودار مقایسه MSE\n",
        "plt.figure(figsize=(8,6))\n",
        "plt.bar(labels, train_errors, alpha=0.6, label='Train MSE')\n",
        "plt.bar(labels, test_errors, alpha=0.6, label='Test MSE')\n",
        "plt.ylabel('Mean Squared Error')\n",
        "plt.title('Comparison of Model Errors (MSE)')\n",
        "plt.legend()\n",
        "plt.show()\n",
        "\n",
        "# انتخاب بهترین مدل بر اساس کمترین MSE در آزمون\n",
        "best_model_name = min(results, key=lambda model: results[model]['Test Error (MSE)'])\n",
        "best_model = results[best_model_name]['Model']\n",
        "print(f\"\\nBest Model: {best_model_name}\")\n"
      ],
      "metadata": {
        "colab": {
          "base_uri": "https://localhost:8080/",
          "height": 632
        },
        "id": "r2ZoL4zXzIKj",
        "outputId": "b3f63072-b722-416b-87a8-65d69470db9e"
      },
      "execution_count": null,
      "outputs": [
        {
          "output_type": "stream",
          "name": "stdout",
          "text": [
            "Linear Regression - Train MSE: 0.0004, Test MSE: 0.0004\n",
            "Lasso Regression - Train MSE: 0.0418, Test MSE: 0.0406\n",
            "Ridge Regression - Train MSE: 0.0004, Test MSE: 0.0004\n"
          ]
        },
        {
          "output_type": "display_data",
          "data": {
            "text/plain": [
              "<Figure size 800x600 with 1 Axes>"
            ],
            "image/png": "[encoded data removed]"
          },
          "metadata": {}
        },
        {
          "output_type": "stream",
          "name": "stdout",
          "text": [
            "\n",
            "Best Model: Linear Regression\n"
          ]
        }
      ]
    },
    {
      "cell_type": "markdown",
      "source": [
        "# امتیازی 2"
      ],
      "metadata": {
        "id": "oDebywdU0eV_"
      }
    },
    {
      "cell_type": "code",
      "source": [
        "from tqdm import tqdm\n",
        "\n",
        "# برای نمونه، در اینجا دما (BUDAPEST_temp_mean) را به‌عنوان هدف انتخاب کرده‌ایم\n",
        "X = df_cleaned[['BASEL_humidity','BUDAPEST_humidity','DE_BILT_humidity','DRESDEN_humidity','DUSSELDORF_humidity','HEATHROW_humidity','KASSEL_humidity','LJUBLJANA_humidity','MAASTRICHT_humidity','MONTELIMAR_humidity','MUENCHEN_humidity','OSLO_humidity','PERPIGNAN_humidity','ROMA_humidity','SONNBLICK_humidity','TOURS_humidity']].values  # تمامی ویژگی‌ها به جز BUDAPEST_temp_mean\n",
        "y = df_cleaned['BUDAPEST_temp_mean'].values  # هدف: دمای شهر BUDAPEST\n",
        "\n",
        "# تقسیم داده‌ها به مجموعه آموزش و آزمون (80% آموزش و 20% آزمون)\n",
        "X_train, X_test, y_train, y_test = train_test_split(X, y, test_size=0.2, random_state=42)\n",
        "y_train = y_train.reshape(-1, 1)\n",
        "y_test = y_test.reshape(-1, 1)\n",
        "# تابع پیش‌بینی مدل (رگرسیون خطی درجه 1)\n",
        "def predict(X, weights):\n",
        "    return np.dot(X, weights)\n",
        "\n",
        "# تابع محاسبه خطا (MSE)\n",
        "def compute_error(y_true, y_pred):\n",
        "    return mean_squared_error(y_true, y_pred)\n",
        "\n",
        "# تابع محاسبه گرادیان (برای رگرسیون چندجمله‌ای درجه 1)\n",
        "def compute_gradient(X, y_true, y_pred):\n",
        "    return -2 * np.dot(X.T, (y_true - y_pred)) / len(y_true)\n",
        "\n",
        "# تابع بروزرسانی وزن‌ها\n",
        "def update_weights(weights, learning_rate, gradient):\n",
        "    return weights - learning_rate * gradient\n",
        "\n",
        "# حلقه آموزش مدل\n",
        "def train_model(X_train, y_train, X_test, y_test, learning_rate=0.01, max_epochs=1000, tolerance=0.001):\n",
        "    # وزن‌های اولیه مدل (آغاز از صفر)\n",
        "    weights = np.zeros((X_train.shape[1], 1))\n",
        "\n",
        "    # ذخیره خطاها برای نمایش در نهایت\n",
        "    train_errors = []\n",
        "    test_errors = []\n",
        "\n",
        "    # نوار پیشرفت tqdm\n",
        "    for epoch in tqdm(range(max_epochs), desc=\"Training\", ncols=100):\n",
        "        # پیش‌بینی برای داده‌های آموزش و آزمون\n",
        "        y_train_pred = predict(X_train, weights)\n",
        "        y_test_pred = predict(X_test, weights)\n",
        "\n",
        "        # محاسبه خطاها\n",
        "        train_error = compute_error(y_train, y_train_pred)\n",
        "        test_error = compute_error(y_test, y_test_pred)\n",
        "\n",
        "        # ذخیره خطاها\n",
        "        train_errors.append(train_error)\n",
        "        test_errors.append(test_error)\n",
        "\n",
        "        # محاسبه گرادیان\n",
        "        gradient = compute_gradient(X_train, y_train, y_train_pred)\n",
        "\n",
        "        # بروزرسانی وزن‌ها\n",
        "        weights = update_weights(weights, learning_rate, gradient)\n",
        "\n",
        "        # نمایش خطا برای داده‌های آموزش و آزمون\n",
        "        tqdm.write(f'Epoch {epoch+1}/{max_epochs} - Train Error: {train_error:.4f} - Test Error: {test_error:.4f}')\n",
        "\n",
        "        # توقف آموزش اگر خطا به حد مشخصی رسید\n",
        "        if train_error < tolerance:\n",
        "            print(f\"\\nTraining stopped at epoch {epoch+1} due to tolerance threshold.\")\n",
        "            break\n",
        "\n",
        "    return weights, train_errors, test_errors\n",
        "\n",
        "# آموزش مدل\n",
        "weights, train_errors, test_errors = train_model(X_train, y_train, X_test, y_test)\n",
        "\n",
        "# نمایش وزن‌ها نهایی\n",
        "print(\"\\nFinal weights:\", weights)\n",
        "\n",
        "# نمایش خطاها\n",
        "plt.plot(train_errors, label=\"Train Error\")\n",
        "plt.plot(test_errors, label=\"Test Error\")\n",
        "plt.xlabel(\"Epochs\")\n",
        "plt.ylabel(\"Error\")\n",
        "plt.legend()\n",
        "plt.title(\"Training and Test Errors Over Epochs\")\n",
        "plt.show()\n"
      ],
      "metadata": {
        "colab": {
          "base_uri": "https://localhost:8080/",
          "height": 1000
        },
        "id": "OEMmd1l34ZgZ",
        "outputId": "dff9798b-27cc-4a24-ec1b-127b135841e5"
      },
      "execution_count": null,
      "outputs": [
        {
          "output_type": "stream",
          "name": "stderr",
          "text": [
            "                                                                                                    "
          ]
        },
        {
          "output_type": "stream",
          "name": "stdout",
          "text": [
            "Epoch 1/1000 - Train Error: 0.3048 - Test Error: 0.3005\n",
            "Epoch 2/1000 - Train Error: 0.2429 - Test Error: 0.2392\n",
            "Epoch 3/1000 - Train Error: 0.1971 - Test Error: 0.1938\n",
            "Epoch 4/1000 - Train Error: 0.1631 - Test Error: 0.1601\n",
            "Epoch 5/1000 - Train Error: 0.1379 - Test Error: 0.1352\n",
            "Epoch 6/1000 - Train Error: 0.1192 - Test Error: 0.1168\n",
            "Epoch 7/1000 - Train Error: 0.1053 - Test Error: 0.1031\n",
            "Epoch 8/1000 - Train Error: 0.0950 - Test Error: 0.0930\n",
            "Epoch 9/1000 - Train Error: 0.0873 - Test Error: 0.0855\n",
            "Epoch 10/1000 - Train Error: 0.0816 - Test Error: 0.0800\n",
            "Epoch 11/1000 - Train Error: 0.0773 - Test Error: 0.0759\n",
            "Epoch 12/1000 - Train Error: 0.0742 - Test Error: 0.0728\n",
            "Epoch 13/1000 - Train Error: 0.0718 - Test Error: 0.0705\n",
            "Epoch 14/1000 - Train Error: 0.0701 - Test Error: 0.0688\n",
            "Epoch 15/1000 - Train Error: 0.0687 - Test Error: 0.0676\n",
            "Epoch 16/1000 - Train Error: 0.0677 - Test Error: 0.0666\n",
            "Epoch 17/1000 - Train Error: 0.0670 - Test Error: 0.0659\n",
            "Epoch 18/1000 - Train Error: 0.0664 - Test Error: 0.0654\n",
            "Epoch 19/1000 - Train Error: 0.0659 - Test Error: 0.0650\n",
            "Epoch 20/1000 - Train Error: 0.0656 - Test Error: 0.0646\n",
            "Epoch 21/1000 - Train Error: 0.0653 - Test Error: 0.0644\n",
            "Epoch 22/1000 - Train Error: 0.0651 - Test Error: 0.0642\n",
            "Epoch 23/1000 - Train Error: 0.0649 - Test Error: 0.0640\n",
            "Epoch 24/1000 - Train Error: 0.0647 - Test Error: 0.0639\n",
            "Epoch 25/1000 - Train Error: 0.0646 - Test Error: 0.0638\n",
            "Epoch 26/1000 - Train Error: 0.0645 - Test Error: 0.0637\n",
            "Epoch 27/1000 - Train Error: 0.0644 - Test Error: 0.0636\n",
            "Epoch 28/1000 - Train Error: 0.0643 - Test Error: 0.0635\n",
            "Epoch 29/1000 - Train Error: 0.0642 - Test Error: 0.0634\n",
            "Epoch 30/1000 - Train Error: 0.0641 - Test Error: 0.0634\n",
            "Epoch 31/1000 - Train Error: 0.0641 - Test Error: 0.0633\n",
            "Epoch 32/1000 - Train Error: 0.0640 - Test Error: 0.0632\n",
            "Epoch 33/1000 - Train Error: 0.0639 - Test Error: 0.0632\n",
            "Epoch 34/1000 - Train Error: 0.0638 - Test Error: 0.0631\n",
            "Epoch 35/1000 - Train Error: 0.0638 - Test Error: 0.0630\n",
            "Epoch 36/1000 - Train Error: 0.0637 - Test Error: 0.0630\n",
            "Epoch 37/1000 - Train Error: 0.0636 - Test Error: 0.0629\n",
            "Epoch 38/1000 - Train Error: 0.0636 - Test Error: 0.0628\n",
            "Epoch 39/1000 - Train Error: 0.0635 - Test Error: 0.0628\n",
            "Epoch 40/1000 - Train Error: 0.0634 - Test Error: 0.0627\n",
            "Epoch 41/1000 - Train Error: 0.0634 - Test Error: 0.0627\n"
          ]
        },
        {
          "output_type": "stream",
          "name": "stderr",
          "text": [
            "Training:   6%|███                                               | 62/1000 [00:00<00:04, 195.70it/s]"
          ]
        },
        {
          "output_type": "stream",
          "name": "stdout",
          "text": [
            "Epoch 42/1000 - Train Error: 0.0633 - Test Error: 0.0626\n",
            "Epoch 43/1000 - Train Error: 0.0632 - Test Error: 0.0625\n",
            "Epoch 44/1000 - Train Error: 0.0632 - Test Error: 0.0625\n",
            "Epoch 45/1000 - Train Error: 0.0631 - Test Error: 0.0624\n",
            "Epoch 46/1000 - Train Error: 0.0630 - Test Error: 0.0623\n",
            "Epoch 47/1000 - Train Error: 0.0630 - Test Error: 0.0623\n",
            "Epoch 48/1000 - Train Error: 0.0629 - Test Error: 0.0622\n",
            "Epoch 49/1000 - Train Error: 0.0628 - Test Error: 0.0622\n",
            "Epoch 50/1000 - Train Error: 0.0628 - Test Error: 0.0621\n",
            "Epoch 51/1000 - Train Error: 0.0627 - Test Error: 0.0620\n",
            "Epoch 52/1000 - Train Error: 0.0626 - Test Error: 0.0620\n",
            "Epoch 53/1000 - Train Error: 0.0626 - Test Error: 0.0619\n",
            "Epoch 54/1000 - Train Error: 0.0625 - Test Error: 0.0618\n",
            "Epoch 55/1000 - Train Error: 0.0624 - Test Error: 0.0618\n",
            "Epoch 56/1000 - Train Error: 0.0624 - Test Error: 0.0617\n",
            "Epoch 57/1000 - Train Error: 0.0623 - Test Error: 0.0617\n",
            "Epoch 58/1000 - Train Error: 0.0623 - Test Error: 0.0616\n",
            "Epoch 59/1000 - Train Error: 0.0622 - Test Error: 0.0615\n",
            "Epoch 60/1000 - Train Error: 0.0621 - Test Error: 0.0615\n",
            "Epoch 61/1000 - Train Error: 0.0621 - Test Error: 0.0614\n",
            "Epoch 62/1000 - Train Error: 0.0620 - Test Error: 0.0614\n",
            "Epoch 63/1000 - Train Error: 0.0619 - Test Error: 0.0613\n",
            "Epoch 64/1000 - Train Error: 0.0619 - Test Error: 0.0612\n",
            "Epoch 65/1000 - Train Error: 0.0618 - Test Error: 0.0612\n",
            "Epoch 66/1000 - Train Error: 0.0617 - Test Error: 0.0611\n",
            "Epoch 67/1000 - Train Error: 0.0617 - Test Error: 0.0611\n",
            "Epoch 68/1000 - Train Error: 0.0616 - Test Error: 0.0610\n",
            "Epoch 69/1000 - Train Error: 0.0616 - Test Error: 0.0609\n",
            "Epoch 70/1000 - Train Error: 0.0615 - Test Error: 0.0609\n",
            "Epoch 71/1000 - Train Error: 0.0614 - Test Error: 0.0608\n",
            "Epoch 72/1000 - Train Error: 0.0614 - Test Error: 0.0608\n",
            "Epoch 73/1000 - Train Error: 0.0613 - Test Error: 0.0607\n",
            "Epoch 74/1000 - Train Error: 0.0613 - Test Error: 0.0606\n",
            "Epoch 75/1000 - Train Error: 0.0612 - Test Error: 0.0606\n",
            "Epoch 76/1000 - Train Error: 0.0611 - Test Error: 0.0605\n",
            "Epoch 77/1000 - Train Error: 0.0611 - Test Error: 0.0605\n",
            "Epoch 78/1000 - Train Error: 0.0610 - Test Error: 0.0604\n",
            "Epoch 79/1000 - Train Error: 0.0610 - Test Error: 0.0604\n",
            "Epoch 80/1000 - Train Error: 0.0609 - Test Error: 0.0603\n"
          ]
        },
        {
          "output_type": "stream",
          "name": "stderr",
          "text": [
            "Training:  10%|████▉                                            | 102/1000 [00:00<00:04, 191.10it/s]"
          ]
        },
        {
          "output_type": "stream",
          "name": "stdout",
          "text": [
            "Epoch 81/1000 - Train Error: 0.0608 - Test Error: 0.0602\n",
            "Epoch 82/1000 - Train Error: 0.0608 - Test Error: 0.0602\n",
            "Epoch 83/1000 - Train Error: 0.0607 - Test Error: 0.0601\n",
            "Epoch 84/1000 - Train Error: 0.0606 - Test Error: 0.0601\n",
            "Epoch 85/1000 - Train Error: 0.0606 - Test Error: 0.0600\n",
            "Epoch 86/1000 - Train Error: 0.0605 - Test Error: 0.0599\n",
            "Epoch 87/1000 - Train Error: 0.0605 - Test Error: 0.0599\n",
            "Epoch 88/1000 - Train Error: 0.0604 - Test Error: 0.0598\n",
            "Epoch 89/1000 - Train Error: 0.0604 - Test Error: 0.0598\n",
            "Epoch 90/1000 - Train Error: 0.0603 - Test Error: 0.0597\n",
            "Epoch 91/1000 - Train Error: 0.0602 - Test Error: 0.0597\n",
            "Epoch 92/1000 - Train Error: 0.0602 - Test Error: 0.0596\n",
            "Epoch 93/1000 - Train Error: 0.0601 - Test Error: 0.0595\n",
            "Epoch 94/1000 - Train Error: 0.0601 - Test Error: 0.0595\n",
            "Epoch 95/1000 - Train Error: 0.0600 - Test Error: 0.0594\n",
            "Epoch 96/1000 - Train Error: 0.0599 - Test Error: 0.0594\n",
            "Epoch 97/1000 - Train Error: 0.0599 - Test Error: 0.0593\n",
            "Epoch 98/1000 - Train Error: 0.0598 - Test Error: 0.0593\n",
            "Epoch 99/1000 - Train Error: 0.0598 - Test Error: 0.0592\n",
            "Epoch 100/1000 - Train Error: 0.0597 - Test Error: 0.0592\n",
            "Epoch 101/1000 - Train Error: 0.0597 - Test Error: 0.0591\n",
            "Epoch 102/1000 - Train Error: 0.0596 - Test Error: 0.0590\n",
            "Epoch 103/1000 - Train Error: 0.0595 - Test Error: 0.0590\n",
            "Epoch 104/1000 - Train Error: 0.0595 - Test Error: 0.0589\n",
            "Epoch 105/1000 - Train Error: 0.0594 - Test Error: 0.0589\n",
            "Epoch 106/1000 - Train Error: 0.0594 - Test Error: 0.0588\n",
            "Epoch 107/1000 - Train Error: 0.0593 - Test Error: 0.0588\n",
            "Epoch 108/1000 - Train Error: 0.0593 - Test Error: 0.0587\n",
            "Epoch 109/1000 - Train Error: 0.0592 - Test Error: 0.0587\n",
            "Epoch 110/1000 - Train Error: 0.0591 - Test Error: 0.0586\n",
            "Epoch 111/1000 - Train Error: 0.0591 - Test Error: 0.0586\n",
            "Epoch 112/1000 - Train Error: 0.0590 - Test Error: 0.0585\n",
            "Epoch 113/1000 - Train Error: 0.0590 - Test Error: 0.0584\n",
            "Epoch 114/1000 - Train Error: 0.0589 - Test Error: 0.0584\n",
            "Epoch 115/1000 - Train Error: 0.0589 - Test Error: 0.0583\n",
            "Epoch 116/1000 - Train Error: 0.0588 - Test Error: 0.0583\n",
            "Epoch 117/1000 - Train Error: 0.0587 - Test Error: 0.0582\n",
            "Epoch 118/1000 - Train Error: 0.0587 - Test Error: 0.0582\n",
            "Epoch 119/1000 - Train Error: 0.0586 - Test Error: 0.0581\n"
          ]
        },
        {
          "output_type": "stream",
          "name": "stderr",
          "text": [
            "Training:  14%|███████                                          | 145/1000 [00:00<00:04, 201.36it/s]"
          ]
        },
        {
          "output_type": "stream",
          "name": "stdout",
          "text": [
            "Epoch 120/1000 - Train Error: 0.0586 - Test Error: 0.0581\n",
            "Epoch 121/1000 - Train Error: 0.0585 - Test Error: 0.0580\n",
            "Epoch 122/1000 - Train Error: 0.0585 - Test Error: 0.0580\n",
            "Epoch 123/1000 - Train Error: 0.0584 - Test Error: 0.0579\n",
            "Epoch 124/1000 - Train Error: 0.0584 - Test Error: 0.0579\n",
            "Epoch 125/1000 - Train Error: 0.0583 - Test Error: 0.0578\n",
            "Epoch 126/1000 - Train Error: 0.0583 - Test Error: 0.0578\n",
            "Epoch 127/1000 - Train Error: 0.0582 - Test Error: 0.0577\n",
            "Epoch 128/1000 - Train Error: 0.0581 - Test Error: 0.0576\n",
            "Epoch 129/1000 - Train Error: 0.0581 - Test Error: 0.0576\n",
            "Epoch 130/1000 - Train Error: 0.0580 - Test Error: 0.0575\n",
            "Epoch 131/1000 - Train Error: 0.0580 - Test Error: 0.0575\n",
            "Epoch 132/1000 - Train Error: 0.0579 - Test Error: 0.0574\n",
            "Epoch 133/1000 - Train Error: 0.0579 - Test Error: 0.0574\n",
            "Epoch 134/1000 - Train Error: 0.0578 - Test Error: 0.0573\n",
            "Epoch 135/1000 - Train Error: 0.0578 - Test Error: 0.0573\n",
            "Epoch 136/1000 - Train Error: 0.0577 - Test Error: 0.0572\n",
            "Epoch 137/1000 - Train Error: 0.0577 - Test Error: 0.0572\n",
            "Epoch 138/1000 - Train Error: 0.0576 - Test Error: 0.0571\n",
            "Epoch 139/1000 - Train Error: 0.0576 - Test Error: 0.0571\n",
            "Epoch 140/1000 - Train Error: 0.0575 - Test Error: 0.0570\n",
            "Epoch 141/1000 - Train Error: 0.0574 - Test Error: 0.0570\n",
            "Epoch 142/1000 - Train Error: 0.0574 - Test Error: 0.0569\n",
            "Epoch 143/1000 - Train Error: 0.0573 - Test Error: 0.0569\n",
            "Epoch 144/1000 - Train Error: 0.0573 - Test Error: 0.0568\n",
            "Epoch 145/1000 - Train Error: 0.0572 - Test Error: 0.0568\n",
            "Epoch 146/1000 - Train Error: 0.0572 - Test Error: 0.0567\n",
            "Epoch 147/1000 - Train Error: 0.0571 - Test Error: 0.0567\n",
            "Epoch 148/1000 - Train Error: 0.0571 - Test Error: 0.0566\n",
            "Epoch 149/1000 - Train Error: 0.0570 - Test Error: 0.0566\n",
            "Epoch 150/1000 - Train Error: 0.0570 - Test Error: 0.0565\n",
            "Epoch 151/1000 - Train Error: 0.0569 - Test Error: 0.0565\n",
            "Epoch 152/1000 - Train Error: 0.0569 - Test Error: 0.0564\n",
            "Epoch 153/1000 - Train Error: 0.0568 - Test Error: 0.0564\n",
            "Epoch 154/1000 - Train Error: 0.0568 - Test Error: 0.0563\n",
            "Epoch 155/1000 - Train Error: 0.0567 - Test Error: 0.0563\n",
            "Epoch 156/1000 - Train Error: 0.0567 - Test Error: 0.0562\n",
            "Epoch 157/1000 - Train Error: 0.0566 - Test Error: 0.0562\n",
            "Epoch 158/1000 - Train Error: 0.0566 - Test Error: 0.0561\n",
            "Epoch 159/1000 - Train Error: 0.0565 - Test Error: 0.0561\n",
            "Epoch 160/1000 - Train Error: 0.0565 - Test Error: 0.0560\n",
            "Epoch 161/1000 - Train Error: 0.0564 - Test Error: 0.0560\n",
            "Epoch 162/1000 - Train Error: 0.0564 - Test Error: 0.0559\n"
          ]
        },
        {
          "output_type": "stream",
          "name": "stderr",
          "text": []
        },
        {
          "output_type": "stream",
          "name": "stdout",
          "text": [
            "Epoch 163/1000 - Train Error: 0.0563 - Test Error: 0.0559\n",
            "Epoch 164/1000 - Train Error: 0.0563 - Test Error: 0.0558\n",
            "Epoch 165/1000 - Train Error: 0.0562 - Test Error: 0.0558\n",
            "Epoch 166/1000 - Train Error: 0.0562 - Test Error: 0.0557\n",
            "Epoch 167/1000 - Train Error: 0.0561 - Test Error: 0.0557\n",
            "Epoch 168/1000 - Train Error: 0.0561 - Test Error: 0.0556\n",
            "Epoch 169/1000 - Train Error: 0.0560 - Test Error: 0.0556\n",
            "Epoch 170/1000 - Train Error: 0.0560 - Test Error: 0.0556\n",
            "Epoch 171/1000 - Train Error: 0.0559 - Test Error: 0.0555\n",
            "Epoch 172/1000 - Train Error: 0.0559 - Test Error: 0.0555\n",
            "Epoch 173/1000 - Train Error: 0.0558 - Test Error: 0.0554\n",
            "Epoch 174/1000 - Train Error: 0.0558 - Test Error: 0.0554\n",
            "Epoch 175/1000 - Train Error: 0.0557 - Test Error: 0.0553\n",
            "Epoch 176/1000 - Train Error: 0.0557 - Test Error: 0.0553\n",
            "Epoch 177/1000 - Train Error: 0.0556 - Test Error: 0.0552\n",
            "Epoch 178/1000 - Train Error: 0.0556 - Test Error: 0.0552\n",
            "Epoch 179/1000 - Train Error: 0.0555 - Test Error: 0.0551\n",
            "Epoch 180/1000 - Train Error: 0.0555 - Test Error: 0.0551\n",
            "Epoch 181/1000 - Train Error: 0.0554 - Test Error: 0.0550\n",
            "Epoch 182/1000 - Train Error: 0.0554 - Test Error: 0.0550\n",
            "Epoch 183/1000 - Train Error: 0.0553 - Test Error: 0.0549\n",
            "Epoch 184/1000 - Train Error: 0.0553 - Test Error: 0.0549\n",
            "Epoch 185/1000 - Train Error: 0.0552 - Test Error: 0.0549\n",
            "Epoch 186/1000 - Train Error: 0.0552 - Test Error: 0.0548\n",
            "Epoch 187/1000 - Train Error: 0.0552 - Test Error: 0.0548\n",
            "Epoch 188/1000 - Train Error: 0.0551 - Test Error: 0.0547\n",
            "Epoch 189/1000 - Train Error: 0.0551 - Test Error: 0.0547\n",
            "Epoch 190/1000 - Train Error: 0.0550 - Test Error: 0.0546\n",
            "Epoch 191/1000 - Train Error: 0.0550 - Test Error: 0.0546\n",
            "Epoch 192/1000 - Train Error: 0.0549 - Test Error: 0.0545\n",
            "Epoch 193/1000 - Train Error: 0.0549 - Test Error: 0.0545\n",
            "Epoch 194/1000 - Train Error: 0.0548 - Test Error: 0.0544\n",
            "Epoch 195/1000 - Train Error: 0.0548 - Test Error: 0.0544\n",
            "Epoch 196/1000 - Train Error: 0.0547 - Test Error: 0.0543\n",
            "Epoch 197/1000 - Train Error: 0.0547 - Test Error: 0.0543\n",
            "Epoch 198/1000 - Train Error: 0.0546 - Test Error: 0.0543\n",
            "Epoch 199/1000 - Train Error: 0.0546 - Test Error: 0.0542\n",
            "Epoch 200/1000 - Train Error: 0.0545 - Test Error: 0.0542\n"
          ]
        },
        {
          "output_type": "stream",
          "name": "stderr",
          "text": []
        },
        {
          "output_type": "stream",
          "name": "stdout",
          "text": [
            "Epoch 201/1000 - Train Error: 0.0545 - Test Error: 0.0541\n",
            "Epoch 202/1000 - Train Error: 0.0545 - Test Error: 0.0541\n",
            "Epoch 203/1000 - Train Error: 0.0544 - Test Error: 0.0540\n",
            "Epoch 204/1000 - Train Error: 0.0544 - Test Error: 0.0540\n",
            "Epoch 205/1000 - Train Error: 0.0543 - Test Error: 0.0539\n",
            "Epoch 206/1000 - Train Error: 0.0543 - Test Error: 0.0539\n",
            "Epoch 207/1000 - Train Error: 0.0542 - Test Error: 0.0539\n",
            "Epoch 208/1000 - Train Error: 0.0542 - Test Error: 0.0538\n",
            "Epoch 209/1000 - Train Error: 0.0541 - Test Error: 0.0538\n",
            "Epoch 210/1000 - Train Error: 0.0541 - Test Error: 0.0537\n",
            "Epoch 211/1000 - Train Error: 0.0540 - Test Error: 0.0537\n",
            "Epoch 212/1000 - Train Error: 0.0540 - Test Error: 0.0536\n",
            "Epoch 213/1000 - Train Error: 0.0540 - Test Error: 0.0536\n",
            "Epoch 214/1000 - Train Error: 0.0539 - Test Error: 0.0536\n",
            "Epoch 215/1000 - Train Error: 0.0539 - Test Error: 0.0535\n",
            "Epoch 216/1000 - Train Error: 0.0538 - Test Error: 0.0535\n",
            "Epoch 217/1000 - Train Error: 0.0538 - Test Error: 0.0534\n",
            "Epoch 218/1000 - Train Error: 0.0537 - Test Error: 0.0534\n",
            "Epoch 219/1000 - Train Error: 0.0537 - Test Error: 0.0533\n",
            "Epoch 220/1000 - Train Error: 0.0536 - Test Error: 0.0533\n",
            "Epoch 221/1000 - Train Error: 0.0536 - Test Error: 0.0533\n",
            "Epoch 222/1000 - Train Error: 0.0536 - Test Error: 0.0532\n",
            "Epoch 223/1000 - Train Error: 0.0535 - Test Error: 0.0532\n",
            "Epoch 224/1000 - Train Error: 0.0535 - Test Error: 0.0531\n",
            "Epoch 225/1000 - Train Error: 0.0534 - Test Error: 0.0531\n",
            "Epoch 226/1000 - Train Error: 0.0534 - Test Error: 0.0530\n",
            "Epoch 227/1000 - Train Error: 0.0533 - Test Error: 0.0530\n",
            "Epoch 228/1000 - Train Error: 0.0533 - Test Error: 0.0530\n",
            "Epoch 229/1000 - Train Error: 0.0533 - Test Error: 0.0529\n",
            "Epoch 230/1000 - Train Error: 0.0532 - Test Error: 0.0529\n",
            "Epoch 231/1000 - Train Error: 0.0532 - Test Error: 0.0528\n",
            "Epoch 232/1000 - Train Error: 0.0531 - Test Error: 0.0528\n",
            "Epoch 233/1000 - Train Error: 0.0531 - Test Error: 0.0528\n",
            "Epoch 234/1000 - Train Error: 0.0530 - Test Error: 0.0527\n",
            "Epoch 235/1000 - Train Error: 0.0530 - Test Error: 0.0527\n",
            "Epoch 236/1000 - Train Error: 0.0530 - Test Error: 0.0526\n"
          ]
        },
        {
          "output_type": "stream",
          "name": "stderr",
          "text": [
            "                                                                                                    "
          ]
        },
        {
          "output_type": "stream",
          "name": "stdout",
          "text": [
            "Epoch 237/1000 - Train Error: 0.0529 - Test Error: 0.0526\n",
            "Epoch 238/1000 - Train Error: 0.0529 - Test Error: 0.0525\n",
            "Epoch 239/1000 - Train Error: 0.0528 - Test Error: 0.0525\n",
            "Epoch 240/1000 - Train Error: 0.0528 - Test Error: 0.0525\n",
            "Epoch 241/1000 - Train Error: 0.0527 - Test Error: 0.0524\n",
            "Epoch 242/1000 - Train Error: 0.0527 - Test Error: 0.0524\n",
            "Epoch 243/1000 - Train Error: 0.0527 - Test Error: 0.0523\n",
            "Epoch 244/1000 - Train Error: 0.0526 - Test Error: 0.0523\n",
            "Epoch 245/1000 - Train Error: 0.0526 - Test Error: 0.0523\n",
            "Epoch 246/1000 - Train Error: 0.0525 - Test Error: 0.0522\n",
            "Epoch 247/1000 - Train Error: 0.0525 - Test Error: 0.0522\n",
            "Epoch 248/1000 - Train Error: 0.0524 - Test Error: 0.0521\n",
            "Epoch 249/1000 - Train Error: 0.0524 - Test Error: 0.0521\n",
            "Epoch 250/1000 - Train Error: 0.0524 - Test Error: 0.0521\n",
            "Epoch 251/1000 - Train Error: 0.0523 - Test Error: 0.0520\n",
            "Epoch 252/1000 - Train Error: 0.0523 - Test Error: 0.0520\n",
            "Epoch 253/1000 - Train Error: 0.0522 - Test Error: 0.0519\n",
            "Epoch 254/1000 - Train Error: 0.0522 - Test Error: 0.0519\n",
            "Epoch 255/1000 - Train Error: 0.0522 - Test Error: 0.0519\n",
            "Epoch 256/1000 - Train Error: 0.0521 - Test Error: 0.0518\n",
            "Epoch 257/1000 - Train Error: 0.0521 - Test Error: 0.0518\n",
            "Epoch 258/1000 - Train Error: 0.0520 - Test Error: 0.0517\n",
            "Epoch 259/1000 - Train Error: 0.0520 - Test Error: 0.0517\n",
            "Epoch 260/1000 - Train Error: 0.0520 - Test Error: 0.0517\n",
            "Epoch 261/1000 - Train Error: 0.0519 - Test Error: 0.0516\n",
            "Epoch 262/1000 - Train Error: 0.0519 - Test Error: 0.0516\n",
            "Epoch 263/1000 - Train Error: 0.0518 - Test Error: 0.0515\n",
            "Epoch 264/1000 - Train Error: 0.0518 - Test Error: 0.0515\n",
            "Epoch 265/1000 - Train Error: 0.0518 - Test Error: 0.0515\n",
            "Epoch 266/1000 - Train Error: 0.0517 - Test Error: 0.0514\n",
            "Epoch 267/1000 - Train Error: 0.0517 - Test Error: 0.0514\n",
            "Epoch 268/1000 - Train Error: 0.0516 - Test Error: 0.0514\n",
            "Epoch 269/1000 - Train Error: 0.0516 - Test Error: 0.0513\n",
            "Epoch 270/1000 - Train Error: 0.0516 - Test Error: 0.0513\n",
            "Epoch 271/1000 - Train Error: 0.0515 - Test Error: 0.0512\n",
            "Epoch 272/1000 - Train Error: 0.0515 - Test Error: 0.0512\n"
          ]
        },
        {
          "output_type": "stream",
          "name": "stderr",
          "text": [
            "                                                                                                    "
          ]
        },
        {
          "output_type": "stream",
          "name": "stdout",
          "text": [
            "Epoch 273/1000 - Train Error: 0.0514 - Test Error: 0.0512\n",
            "Epoch 274/1000 - Train Error: 0.0514 - Test Error: 0.0511\n",
            "Epoch 275/1000 - Train Error: 0.0514 - Test Error: 0.0511\n",
            "Epoch 276/1000 - Train Error: 0.0513 - Test Error: 0.0510\n",
            "Epoch 277/1000 - Train Error: 0.0513 - Test Error: 0.0510\n",
            "Epoch 278/1000 - Train Error: 0.0512 - Test Error: 0.0510\n",
            "Epoch 279/1000 - Train Error: 0.0512 - Test Error: 0.0509\n",
            "Epoch 280/1000 - Train Error: 0.0512 - Test Error: 0.0509\n",
            "Epoch 281/1000 - Train Error: 0.0511 - Test Error: 0.0509\n",
            "Epoch 282/1000 - Train Error: 0.0511 - Test Error: 0.0508\n",
            "Epoch 283/1000 - Train Error: 0.0511 - Test Error: 0.0508\n",
            "Epoch 284/1000 - Train Error: 0.0510 - Test Error: 0.0507\n",
            "Epoch 285/1000 - Train Error: 0.0510 - Test Error: 0.0507\n",
            "Epoch 286/1000 - Train Error: 0.0509 - Test Error: 0.0507\n",
            "Epoch 287/1000 - Train Error: 0.0509 - Test Error: 0.0506\n",
            "Epoch 288/1000 - Train Error: 0.0509 - Test Error: 0.0506\n",
            "Epoch 289/1000 - Train Error: 0.0508 - Test Error: 0.0506\n",
            "Epoch 290/1000 - Train Error: 0.0508 - Test Error: 0.0505\n",
            "Epoch 291/1000 - Train Error: 0.0508 - Test Error: 0.0505\n",
            "Epoch 292/1000 - Train Error: 0.0507 - Test Error: 0.0505\n",
            "Epoch 293/1000 - Train Error: 0.0507 - Test Error: 0.0504\n",
            "Epoch 294/1000 - Train Error: 0.0506 - Test Error: 0.0504\n",
            "Epoch 295/1000 - Train Error: 0.0506 - Test Error: 0.0503\n",
            "Epoch 296/1000 - Train Error: 0.0506 - Test Error: 0.0503\n",
            "Epoch 297/1000 - Train Error: 0.0505 - Test Error: 0.0503\n",
            "Epoch 298/1000 - Train Error: 0.0505 - Test Error: 0.0502\n",
            "Epoch 299/1000 - Train Error: 0.0505 - Test Error: 0.0502\n",
            "Epoch 300/1000 - Train Error: 0.0504 - Test Error: 0.0502\n",
            "Epoch 301/1000 - Train Error: 0.0504 - Test Error: 0.0501\n",
            "Epoch 302/1000 - Train Error: 0.0503 - Test Error: 0.0501\n",
            "Epoch 303/1000 - Train Error: 0.0503 - Test Error: 0.0501\n",
            "Epoch 304/1000 - Train Error: 0.0503 - Test Error: 0.0500\n",
            "Epoch 305/1000 - Train Error: 0.0502 - Test Error: 0.0500\n"
          ]
        },
        {
          "output_type": "stream",
          "name": "stderr",
          "text": [
            "                                                                                                    "
          ]
        },
        {
          "output_type": "stream",
          "name": "stdout",
          "text": [
            "Epoch 306/1000 - Train Error: 0.0502 - Test Error: 0.0500\n",
            "Epoch 307/1000 - Train Error: 0.0502 - Test Error: 0.0499\n",
            "Epoch 308/1000 - Train Error: 0.0501 - Test Error: 0.0499\n",
            "Epoch 309/1000 - Train Error: 0.0501 - Test Error: 0.0498\n",
            "Epoch 310/1000 - Train Error: 0.0501 - Test Error: 0.0498\n",
            "Epoch 311/1000 - Train Error: 0.0500 - Test Error: 0.0498\n",
            "Epoch 312/1000 - Train Error: 0.0500 - Test Error: 0.0497\n",
            "Epoch 313/1000 - Train Error: 0.0499 - Test Error: 0.0497\n",
            "Epoch 314/1000 - Train Error: 0.0499 - Test Error: 0.0497\n",
            "Epoch 315/1000 - Train Error: 0.0499 - Test Error: 0.0496\n",
            "Epoch 316/1000 - Train Error: 0.0498 - Test Error: 0.0496\n",
            "Epoch 317/1000 - Train Error: 0.0498 - Test Error: 0.0496\n",
            "Epoch 318/1000 - Train Error: 0.0498 - Test Error: 0.0495\n",
            "Epoch 319/1000 - Train Error: 0.0497 - Test Error: 0.0495\n",
            "Epoch 320/1000 - Train Error: 0.0497 - Test Error: 0.0495\n",
            "Epoch 321/1000 - Train Error: 0.0497 - Test Error: 0.0494\n",
            "Epoch 322/1000 - Train Error: 0.0496 - Test Error: 0.0494\n",
            "Epoch 323/1000 - Train Error: 0.0496 - Test Error: 0.0494\n",
            "Epoch 324/1000 - Train Error: 0.0496 - Test Error: 0.0493\n",
            "Epoch 325/1000 - Train Error: 0.0495 - Test Error: 0.0493\n",
            "Epoch 326/1000 - Train Error: 0.0495 - Test Error: 0.0493\n",
            "Epoch 327/1000 - Train Error: 0.0495 - Test Error: 0.0492\n",
            "Epoch 328/1000 - Train Error: 0.0494 - Test Error: 0.0492\n",
            "Epoch 329/1000 - Train Error: 0.0494 - Test Error: 0.0492\n",
            "Epoch 330/1000 - Train Error: 0.0494 - Test Error: 0.0491\n",
            "Epoch 331/1000 - Train Error: 0.0493 - Test Error: 0.0491\n",
            "Epoch 332/1000 - Train Error: 0.0493 - Test Error: 0.0491\n",
            "Epoch 333/1000 - Train Error: 0.0492 - Test Error: 0.0490\n",
            "Epoch 334/1000 - Train Error: 0.0492 - Test Error: 0.0490\n",
            "Epoch 335/1000 - Train Error: 0.0492 - Test Error: 0.0490\n",
            "Epoch 336/1000 - Train Error: 0.0491 - Test Error: 0.0489\n",
            "Epoch 337/1000 - Train Error: 0.0491 - Test Error: 0.0489\n",
            "Epoch 338/1000 - Train Error: 0.0491 - Test Error: 0.0489\n",
            "Epoch 339/1000 - Train Error: 0.0490 - Test Error: 0.0488\n",
            "Epoch 340/1000 - Train Error: 0.0490 - Test Error: 0.0488\n",
            "Epoch 341/1000 - Train Error: 0.0490 - Test Error: 0.0488\n",
            "Epoch 342/1000 - Train Error: 0.0489 - Test Error: 0.0487\n"
          ]
        },
        {
          "output_type": "stream",
          "name": "stderr",
          "text": [
            "Training:  36%|█████████████████▋                               | 361/1000 [00:02<00:03, 178.07it/s]"
          ]
        },
        {
          "output_type": "stream",
          "name": "stdout",
          "text": [
            "Epoch 343/1000 - Train Error: 0.0489 - Test Error: 0.0487\n",
            "Epoch 344/1000 - Train Error: 0.0489 - Test Error: 0.0487\n",
            "Epoch 345/1000 - Train Error: 0.0488 - Test Error: 0.0486\n",
            "Epoch 346/1000 - Train Error: 0.0488 - Test Error: 0.0486\n",
            "Epoch 347/1000 - Train Error: 0.0488 - Test Error: 0.0486\n",
            "Epoch 348/1000 - Train Error: 0.0487 - Test Error: 0.0485\n",
            "Epoch 349/1000 - Train Error: 0.0487 - Test Error: 0.0485\n",
            "Epoch 350/1000 - Train Error: 0.0487 - Test Error: 0.0485\n",
            "Epoch 351/1000 - Train Error: 0.0486 - Test Error: 0.0484\n",
            "Epoch 352/1000 - Train Error: 0.0486 - Test Error: 0.0484\n",
            "Epoch 353/1000 - Train Error: 0.0486 - Test Error: 0.0484\n",
            "Epoch 354/1000 - Train Error: 0.0485 - Test Error: 0.0483\n",
            "Epoch 355/1000 - Train Error: 0.0485 - Test Error: 0.0483\n",
            "Epoch 356/1000 - Train Error: 0.0485 - Test Error: 0.0483\n",
            "Epoch 357/1000 - Train Error: 0.0484 - Test Error: 0.0482\n",
            "Epoch 358/1000 - Train Error: 0.0484 - Test Error: 0.0482\n",
            "Epoch 359/1000 - Train Error: 0.0484 - Test Error: 0.0482\n",
            "Epoch 360/1000 - Train Error: 0.0484 - Test Error: 0.0481\n",
            "Epoch 361/1000 - Train Error: 0.0483 - Test Error: 0.0481\n",
            "Epoch 362/1000 - Train Error: 0.0483 - Test Error: 0.0481\n",
            "Epoch 363/1000 - Train Error: 0.0483 - Test Error: 0.0481\n",
            "Epoch 364/1000 - Train Error: 0.0482 - Test Error: 0.0480\n",
            "Epoch 365/1000 - Train Error: 0.0482 - Test Error: 0.0480\n",
            "Epoch 366/1000 - Train Error: 0.0482 - Test Error: 0.0480\n",
            "Epoch 367/1000 - Train Error: 0.0481 - Test Error: 0.0479\n",
            "Epoch 368/1000 - Train Error: 0.0481 - Test Error: 0.0479\n",
            "Epoch 369/1000 - Train Error: 0.0481 - Test Error: 0.0479\n",
            "Epoch 370/1000 - Train Error: 0.0480 - Test Error: 0.0478\n",
            "Epoch 371/1000 - Train Error: 0.0480 - Test Error: 0.0478\n",
            "Epoch 372/1000 - Train Error: 0.0480 - Test Error: 0.0478\n",
            "Epoch 373/1000 - Train Error: 0.0479 - Test Error: 0.0477\n",
            "Epoch 374/1000 - Train Error: 0.0479 - Test Error: 0.0477\n",
            "Epoch 375/1000 - Train Error: 0.0479 - Test Error: 0.0477\n",
            "Epoch 376/1000 - Train Error: 0.0478 - Test Error: 0.0477\n",
            "Epoch 377/1000 - Train Error: 0.0478 - Test Error: 0.0476\n",
            "Epoch 378/1000 - Train Error: 0.0478 - Test Error: 0.0476\n",
            "Epoch 379/1000 - Train Error: 0.0478 - Test Error: 0.0476\n",
            "Epoch 380/1000 - Train Error: 0.0477 - Test Error: 0.0475\n"
          ]
        },
        {
          "output_type": "stream",
          "name": "stderr",
          "text": [
            "Training:  40%|███████████████████▌                             | 400/1000 [00:02<00:03, 167.31it/s]"
          ]
        },
        {
          "output_type": "stream",
          "name": "stdout",
          "text": [
            "Epoch 381/1000 - Train Error: 0.0477 - Test Error: 0.0475\n",
            "Epoch 382/1000 - Train Error: 0.0477 - Test Error: 0.0475\n",
            "Epoch 383/1000 - Train Error: 0.0476 - Test Error: 0.0474\n",
            "Epoch 384/1000 - Train Error: 0.0476 - Test Error: 0.0474\n",
            "Epoch 385/1000 - Train Error: 0.0476 - Test Error: 0.0474\n",
            "Epoch 386/1000 - Train Error: 0.0475 - Test Error: 0.0474\n",
            "Epoch 387/1000 - Train Error: 0.0475 - Test Error: 0.0473\n",
            "Epoch 388/1000 - Train Error: 0.0475 - Test Error: 0.0473\n",
            "Epoch 389/1000 - Train Error: 0.0474 - Test Error: 0.0473\n",
            "Epoch 390/1000 - Train Error: 0.0474 - Test Error: 0.0472\n",
            "Epoch 391/1000 - Train Error: 0.0474 - Test Error: 0.0472\n",
            "Epoch 392/1000 - Train Error: 0.0474 - Test Error: 0.0472\n",
            "Epoch 393/1000 - Train Error: 0.0473 - Test Error: 0.0471\n",
            "Epoch 394/1000 - Train Error: 0.0473 - Test Error: 0.0471\n",
            "Epoch 395/1000 - Train Error: 0.0473 - Test Error: 0.0471\n",
            "Epoch 396/1000 - Train Error: 0.0472 - Test Error: 0.0471\n",
            "Epoch 397/1000 - Train Error: 0.0472 - Test Error: 0.0470\n",
            "Epoch 398/1000 - Train Error: 0.0472 - Test Error: 0.0470\n",
            "Epoch 399/1000 - Train Error: 0.0471 - Test Error: 0.0470\n",
            "Epoch 400/1000 - Train Error: 0.0471 - Test Error: 0.0469\n",
            "Epoch 401/1000 - Train Error: 0.0471 - Test Error: 0.0469\n",
            "Epoch 402/1000 - Train Error: 0.0471 - Test Error: 0.0469\n",
            "Epoch 403/1000 - Train Error: 0.0470 - Test Error: 0.0469\n",
            "Epoch 404/1000 - Train Error: 0.0470 - Test Error: 0.0468\n",
            "Epoch 405/1000 - Train Error: 0.0470 - Test Error: 0.0468\n",
            "Epoch 406/1000 - Train Error: 0.0469 - Test Error: 0.0468\n",
            "Epoch 407/1000 - Train Error: 0.0469 - Test Error: 0.0467\n",
            "Epoch 408/1000 - Train Error: 0.0469 - Test Error: 0.0467\n",
            "Epoch 409/1000 - Train Error: 0.0469 - Test Error: 0.0467\n",
            "Epoch 410/1000 - Train Error: 0.0468 - Test Error: 0.0467\n",
            "Epoch 411/1000 - Train Error: 0.0468 - Test Error: 0.0466\n",
            "Epoch 412/1000 - Train Error: 0.0468 - Test Error: 0.0466\n"
          ]
        },
        {
          "output_type": "stream",
          "name": "stderr",
          "text": []
        },
        {
          "output_type": "stream",
          "name": "stdout",
          "text": [
            "Epoch 413/1000 - Train Error: 0.0467 - Test Error: 0.0466\n",
            "Epoch 414/1000 - Train Error: 0.0467 - Test Error: 0.0465\n",
            "Epoch 415/1000 - Train Error: 0.0467 - Test Error: 0.0465\n",
            "Epoch 416/1000 - Train Error: 0.0467 - Test Error: 0.0465\n",
            "Epoch 417/1000 - Train Error: 0.0466 - Test Error: 0.0465\n",
            "Epoch 418/1000 - Train Error: 0.0466 - Test Error: 0.0464\n",
            "Epoch 419/1000 - Train Error: 0.0466 - Test Error: 0.0464\n",
            "Epoch 420/1000 - Train Error: 0.0465 - Test Error: 0.0464\n",
            "Epoch 421/1000 - Train Error: 0.0465 - Test Error: 0.0463\n",
            "Epoch 422/1000 - Train Error: 0.0465 - Test Error: 0.0463\n",
            "Epoch 423/1000 - Train Error: 0.0465 - Test Error: 0.0463\n",
            "Epoch 424/1000 - Train Error: 0.0464 - Test Error: 0.0463\n",
            "Epoch 425/1000 - Train Error: 0.0464 - Test Error: 0.0462\n",
            "Epoch 426/1000 - Train Error: 0.0464 - Test Error: 0.0462\n",
            "Epoch 427/1000 - Train Error: 0.0463 - Test Error: 0.0462\n",
            "Epoch 428/1000 - Train Error: 0.0463 - Test Error: 0.0462\n",
            "Epoch 429/1000 - Train Error: 0.0463 - Test Error: 0.0461\n",
            "Epoch 430/1000 - Train Error: 0.0463 - Test Error: 0.0461\n",
            "Epoch 431/1000 - Train Error: 0.0462 - Test Error: 0.0461\n",
            "Epoch 432/1000 - Train Error: 0.0462 - Test Error: 0.0460\n",
            "Epoch 433/1000 - Train Error: 0.0462 - Test Error: 0.0460\n",
            "Epoch 434/1000 - Train Error: 0.0462 - Test Error: 0.0460\n",
            "Epoch 435/1000 - Train Error: 0.0461 - Test Error: 0.0460\n",
            "Epoch 436/1000 - Train Error: 0.0461 - Test Error: 0.0459\n",
            "Epoch 437/1000 - Train Error: 0.0461 - Test Error: 0.0459\n",
            "Epoch 438/1000 - Train Error: 0.0460 - Test Error: 0.0459\n",
            "Epoch 439/1000 - Train Error: 0.0460 - Test Error: 0.0459\n",
            "Epoch 440/1000 - Train Error: 0.0460 - Test Error: 0.0458\n",
            "Epoch 441/1000 - Train Error: 0.0460 - Test Error: 0.0458\n",
            "Epoch 442/1000 - Train Error: 0.0459 - Test Error: 0.0458\n",
            "Epoch 443/1000 - Train Error: 0.0459 - Test Error: 0.0458\n",
            "Epoch 444/1000 - Train Error: 0.0459 - Test Error: 0.0457\n",
            "Epoch 445/1000 - Train Error: 0.0459 - Test Error: 0.0457\n",
            "Epoch 446/1000 - Train Error: 0.0458 - Test Error: 0.0457\n",
            "Epoch 447/1000 - Train Error: 0.0458 - Test Error: 0.0456\n",
            "Epoch 448/1000 - Train Error: 0.0458 - Test Error: 0.0456\n",
            "Epoch 449/1000 - Train Error: 0.0457 - Test Error: 0.0456\n"
          ]
        },
        {
          "output_type": "stream",
          "name": "stderr",
          "text": [
            "Training:  48%|███████████████████████▎                         | 476/1000 [00:02<00:03, 168.11it/s]"
          ]
        },
        {
          "output_type": "stream",
          "name": "stdout",
          "text": [
            "Epoch 450/1000 - Train Error: 0.0457 - Test Error: 0.0456\n",
            "Epoch 451/1000 - Train Error: 0.0457 - Test Error: 0.0455\n",
            "Epoch 452/1000 - Train Error: 0.0457 - Test Error: 0.0455\n",
            "Epoch 453/1000 - Train Error: 0.0456 - Test Error: 0.0455\n",
            "Epoch 454/1000 - Train Error: 0.0456 - Test Error: 0.0455\n",
            "Epoch 455/1000 - Train Error: 0.0456 - Test Error: 0.0454\n",
            "Epoch 456/1000 - Train Error: 0.0456 - Test Error: 0.0454\n",
            "Epoch 457/1000 - Train Error: 0.0455 - Test Error: 0.0454\n",
            "Epoch 458/1000 - Train Error: 0.0455 - Test Error: 0.0454\n",
            "Epoch 459/1000 - Train Error: 0.0455 - Test Error: 0.0453\n",
            "Epoch 460/1000 - Train Error: 0.0455 - Test Error: 0.0453\n",
            "Epoch 461/1000 - Train Error: 0.0454 - Test Error: 0.0453\n",
            "Epoch 462/1000 - Train Error: 0.0454 - Test Error: 0.0453\n",
            "Epoch 463/1000 - Train Error: 0.0454 - Test Error: 0.0452\n",
            "Epoch 464/1000 - Train Error: 0.0454 - Test Error: 0.0452\n",
            "Epoch 465/1000 - Train Error: 0.0453 - Test Error: 0.0452\n",
            "Epoch 466/1000 - Train Error: 0.0453 - Test Error: 0.0452\n",
            "Epoch 467/1000 - Train Error: 0.0453 - Test Error: 0.0451\n",
            "Epoch 468/1000 - Train Error: 0.0453 - Test Error: 0.0451\n",
            "Epoch 469/1000 - Train Error: 0.0452 - Test Error: 0.0451\n",
            "Epoch 470/1000 - Train Error: 0.0452 - Test Error: 0.0451\n",
            "Epoch 471/1000 - Train Error: 0.0452 - Test Error: 0.0450\n",
            "Epoch 472/1000 - Train Error: 0.0452 - Test Error: 0.0450\n",
            "Epoch 473/1000 - Train Error: 0.0451 - Test Error: 0.0450\n",
            "Epoch 474/1000 - Train Error: 0.0451 - Test Error: 0.0450\n",
            "Epoch 475/1000 - Train Error: 0.0451 - Test Error: 0.0449\n",
            "Epoch 476/1000 - Train Error: 0.0451 - Test Error: 0.0449\n",
            "Epoch 477/1000 - Train Error: 0.0450 - Test Error: 0.0449\n",
            "Epoch 478/1000 - Train Error: 0.0450 - Test Error: 0.0449\n",
            "Epoch 479/1000 - Train Error: 0.0450 - Test Error: 0.0448\n",
            "Epoch 480/1000 - Train Error: 0.0450 - Test Error: 0.0448\n",
            "Epoch 481/1000 - Train Error: 0.0449 - Test Error: 0.0448\n",
            "Epoch 482/1000 - Train Error: 0.0449 - Test Error: 0.0448\n"
          ]
        },
        {
          "output_type": "stream",
          "name": "stderr",
          "text": [
            "Training:  51%|█████████████████████████                        | 512/1000 [00:02<00:02, 166.19it/s]"
          ]
        },
        {
          "output_type": "stream",
          "name": "stdout",
          "text": [
            "Epoch 483/1000 - Train Error: 0.0449 - Test Error: 0.0447\n",
            "Epoch 484/1000 - Train Error: 0.0449 - Test Error: 0.0447\n",
            "Epoch 485/1000 - Train Error: 0.0448 - Test Error: 0.0447\n",
            "Epoch 486/1000 - Train Error: 0.0448 - Test Error: 0.0447\n",
            "Epoch 487/1000 - Train Error: 0.0448 - Test Error: 0.0446\n",
            "Epoch 488/1000 - Train Error: 0.0448 - Test Error: 0.0446\n",
            "Epoch 489/1000 - Train Error: 0.0447 - Test Error: 0.0446\n",
            "Epoch 490/1000 - Train Error: 0.0447 - Test Error: 0.0446\n",
            "Epoch 491/1000 - Train Error: 0.0447 - Test Error: 0.0445\n",
            "Epoch 492/1000 - Train Error: 0.0447 - Test Error: 0.0445\n",
            "Epoch 493/1000 - Train Error: 0.0446 - Test Error: 0.0445\n",
            "Epoch 494/1000 - Train Error: 0.0446 - Test Error: 0.0445\n",
            "Epoch 495/1000 - Train Error: 0.0446 - Test Error: 0.0444\n",
            "Epoch 496/1000 - Train Error: 0.0446 - Test Error: 0.0444\n",
            "Epoch 497/1000 - Train Error: 0.0445 - Test Error: 0.0444\n",
            "Epoch 498/1000 - Train Error: 0.0445 - Test Error: 0.0444\n",
            "Epoch 499/1000 - Train Error: 0.0445 - Test Error: 0.0444\n",
            "Epoch 500/1000 - Train Error: 0.0445 - Test Error: 0.0443\n",
            "Epoch 501/1000 - Train Error: 0.0444 - Test Error: 0.0443\n",
            "Epoch 502/1000 - Train Error: 0.0444 - Test Error: 0.0443\n",
            "Epoch 503/1000 - Train Error: 0.0444 - Test Error: 0.0443\n",
            "Epoch 504/1000 - Train Error: 0.0444 - Test Error: 0.0442\n",
            "Epoch 505/1000 - Train Error: 0.0444 - Test Error: 0.0442\n",
            "Epoch 506/1000 - Train Error: 0.0443 - Test Error: 0.0442\n",
            "Epoch 507/1000 - Train Error: 0.0443 - Test Error: 0.0442\n",
            "Epoch 508/1000 - Train Error: 0.0443 - Test Error: 0.0441\n",
            "Epoch 509/1000 - Train Error: 0.0443 - Test Error: 0.0441\n",
            "Epoch 510/1000 - Train Error: 0.0442 - Test Error: 0.0441\n",
            "Epoch 511/1000 - Train Error: 0.0442 - Test Error: 0.0441\n",
            "Epoch 512/1000 - Train Error: 0.0442 - Test Error: 0.0441\n",
            "Epoch 513/1000 - Train Error: 0.0442 - Test Error: 0.0440\n",
            "Epoch 514/1000 - Train Error: 0.0441 - Test Error: 0.0440\n",
            "Epoch 515/1000 - Train Error: 0.0441 - Test Error: 0.0440\n",
            "Epoch 516/1000 - Train Error: 0.0441 - Test Error: 0.0440\n"
          ]
        },
        {
          "output_type": "stream",
          "name": "stderr",
          "text": [
            "Training:  55%|██████████████████████████▉                      | 549/1000 [00:03<00:02, 164.14it/s]"
          ]
        },
        {
          "output_type": "stream",
          "name": "stdout",
          "text": [
            "Epoch 517/1000 - Train Error: 0.0441 - Test Error: 0.0439\n",
            "Epoch 518/1000 - Train Error: 0.0440 - Test Error: 0.0439\n",
            "Epoch 519/1000 - Train Error: 0.0440 - Test Error: 0.0439\n",
            "Epoch 520/1000 - Train Error: 0.0440 - Test Error: 0.0439\n",
            "Epoch 521/1000 - Train Error: 0.0440 - Test Error: 0.0439\n",
            "Epoch 522/1000 - Train Error: 0.0440 - Test Error: 0.0438\n",
            "Epoch 523/1000 - Train Error: 0.0439 - Test Error: 0.0438\n",
            "Epoch 524/1000 - Train Error: 0.0439 - Test Error: 0.0438\n",
            "Epoch 525/1000 - Train Error: 0.0439 - Test Error: 0.0438\n",
            "Epoch 526/1000 - Train Error: 0.0439 - Test Error: 0.0437\n",
            "Epoch 527/1000 - Train Error: 0.0438 - Test Error: 0.0437\n",
            "Epoch 528/1000 - Train Error: 0.0438 - Test Error: 0.0437\n",
            "Epoch 529/1000 - Train Error: 0.0438 - Test Error: 0.0437\n",
            "Epoch 530/1000 - Train Error: 0.0438 - Test Error: 0.0437\n",
            "Epoch 531/1000 - Train Error: 0.0438 - Test Error: 0.0436\n",
            "Epoch 532/1000 - Train Error: 0.0437 - Test Error: 0.0436\n",
            "Epoch 533/1000 - Train Error: 0.0437 - Test Error: 0.0436\n",
            "Epoch 534/1000 - Train Error: 0.0437 - Test Error: 0.0436\n",
            "Epoch 535/1000 - Train Error: 0.0437 - Test Error: 0.0435\n",
            "Epoch 536/1000 - Train Error: 0.0436 - Test Error: 0.0435\n",
            "Epoch 537/1000 - Train Error: 0.0436 - Test Error: 0.0435\n",
            "Epoch 538/1000 - Train Error: 0.0436 - Test Error: 0.0435\n",
            "Epoch 539/1000 - Train Error: 0.0436 - Test Error: 0.0435\n",
            "Epoch 540/1000 - Train Error: 0.0436 - Test Error: 0.0434\n",
            "Epoch 541/1000 - Train Error: 0.0435 - Test Error: 0.0434\n",
            "Epoch 542/1000 - Train Error: 0.0435 - Test Error: 0.0434\n",
            "Epoch 543/1000 - Train Error: 0.0435 - Test Error: 0.0434\n",
            "Epoch 544/1000 - Train Error: 0.0435 - Test Error: 0.0433\n",
            "Epoch 545/1000 - Train Error: 0.0435 - Test Error: 0.0433\n",
            "Epoch 546/1000 - Train Error: 0.0434 - Test Error: 0.0433\n",
            "Epoch 547/1000 - Train Error: 0.0434 - Test Error: 0.0433\n",
            "Epoch 548/1000 - Train Error: 0.0434 - Test Error: 0.0433\n",
            "Epoch 549/1000 - Train Error: 0.0434 - Test Error: 0.0432\n"
          ]
        },
        {
          "output_type": "stream",
          "name": "stderr",
          "text": [
            "Training:  58%|████████████████████████████▌                    | 584/1000 [00:03<00:02, 165.44it/s]"
          ]
        },
        {
          "output_type": "stream",
          "name": "stdout",
          "text": [
            "Epoch 550/1000 - Train Error: 0.0433 - Test Error: 0.0432\n",
            "Epoch 551/1000 - Train Error: 0.0433 - Test Error: 0.0432\n",
            "Epoch 552/1000 - Train Error: 0.0433 - Test Error: 0.0432\n",
            "Epoch 553/1000 - Train Error: 0.0433 - Test Error: 0.0432\n",
            "Epoch 554/1000 - Train Error: 0.0433 - Test Error: 0.0431\n",
            "Epoch 555/1000 - Train Error: 0.0432 - Test Error: 0.0431\n",
            "Epoch 556/1000 - Train Error: 0.0432 - Test Error: 0.0431\n",
            "Epoch 557/1000 - Train Error: 0.0432 - Test Error: 0.0431\n",
            "Epoch 558/1000 - Train Error: 0.0432 - Test Error: 0.0431\n",
            "Epoch 559/1000 - Train Error: 0.0432 - Test Error: 0.0430\n",
            "Epoch 560/1000 - Train Error: 0.0431 - Test Error: 0.0430\n",
            "Epoch 561/1000 - Train Error: 0.0431 - Test Error: 0.0430\n",
            "Epoch 562/1000 - Train Error: 0.0431 - Test Error: 0.0430\n",
            "Epoch 563/1000 - Train Error: 0.0431 - Test Error: 0.0429\n",
            "Epoch 564/1000 - Train Error: 0.0431 - Test Error: 0.0429\n",
            "Epoch 565/1000 - Train Error: 0.0430 - Test Error: 0.0429\n",
            "Epoch 566/1000 - Train Error: 0.0430 - Test Error: 0.0429\n",
            "Epoch 567/1000 - Train Error: 0.0430 - Test Error: 0.0429\n",
            "Epoch 568/1000 - Train Error: 0.0430 - Test Error: 0.0428\n",
            "Epoch 569/1000 - Train Error: 0.0429 - Test Error: 0.0428\n",
            "Epoch 570/1000 - Train Error: 0.0429 - Test Error: 0.0428\n",
            "Epoch 571/1000 - Train Error: 0.0429 - Test Error: 0.0428\n",
            "Epoch 572/1000 - Train Error: 0.0429 - Test Error: 0.0428\n",
            "Epoch 573/1000 - Train Error: 0.0429 - Test Error: 0.0427\n",
            "Epoch 574/1000 - Train Error: 0.0428 - Test Error: 0.0427\n",
            "Epoch 575/1000 - Train Error: 0.0428 - Test Error: 0.0427\n",
            "Epoch 576/1000 - Train Error: 0.0428 - Test Error: 0.0427\n",
            "Epoch 577/1000 - Train Error: 0.0428 - Test Error: 0.0427\n",
            "Epoch 578/1000 - Train Error: 0.0428 - Test Error: 0.0426\n",
            "Epoch 579/1000 - Train Error: 0.0427 - Test Error: 0.0426\n",
            "Epoch 580/1000 - Train Error: 0.0427 - Test Error: 0.0426\n",
            "Epoch 581/1000 - Train Error: 0.0427 - Test Error: 0.0426\n",
            "Epoch 582/1000 - Train Error: 0.0427 - Test Error: 0.0426\n",
            "Epoch 583/1000 - Train Error: 0.0427 - Test Error: 0.0425\n",
            "Epoch 584/1000 - Train Error: 0.0426 - Test Error: 0.0425\n"
          ]
        },
        {
          "output_type": "stream",
          "name": "stderr",
          "text": []
        },
        {
          "output_type": "stream",
          "name": "stdout",
          "text": [
            "Epoch 585/1000 - Train Error: 0.0426 - Test Error: 0.0425\n",
            "Epoch 586/1000 - Train Error: 0.0426 - Test Error: 0.0425\n",
            "Epoch 587/1000 - Train Error: 0.0426 - Test Error: 0.0425\n",
            "Epoch 588/1000 - Train Error: 0.0426 - Test Error: 0.0424\n",
            "Epoch 589/1000 - Train Error: 0.0425 - Test Error: 0.0424\n",
            "Epoch 590/1000 - Train Error: 0.0425 - Test Error: 0.0424\n",
            "Epoch 591/1000 - Train Error: 0.0425 - Test Error: 0.0424\n",
            "Epoch 592/1000 - Train Error: 0.0425 - Test Error: 0.0424\n",
            "Epoch 593/1000 - Train Error: 0.0425 - Test Error: 0.0424\n",
            "Epoch 594/1000 - Train Error: 0.0424 - Test Error: 0.0423\n",
            "Epoch 595/1000 - Train Error: 0.0424 - Test Error: 0.0423\n",
            "Epoch 596/1000 - Train Error: 0.0424 - Test Error: 0.0423\n",
            "Epoch 597/1000 - Train Error: 0.0424 - Test Error: 0.0423\n",
            "Epoch 598/1000 - Train Error: 0.0424 - Test Error: 0.0423\n",
            "Epoch 599/1000 - Train Error: 0.0424 - Test Error: 0.0422\n",
            "Epoch 600/1000 - Train Error: 0.0423 - Test Error: 0.0422\n",
            "Epoch 601/1000 - Train Error: 0.0423 - Test Error: 0.0422\n",
            "Epoch 602/1000 - Train Error: 0.0423 - Test Error: 0.0422\n",
            "Epoch 603/1000 - Train Error: 0.0423 - Test Error: 0.0422\n",
            "Epoch 604/1000 - Train Error: 0.0423 - Test Error: 0.0421\n",
            "Epoch 605/1000 - Train Error: 0.0422 - Test Error: 0.0421\n",
            "Epoch 606/1000 - Train Error: 0.0422 - Test Error: 0.0421\n",
            "Epoch 607/1000 - Train Error: 0.0422 - Test Error: 0.0421\n",
            "Epoch 608/1000 - Train Error: 0.0422 - Test Error: 0.0421\n",
            "Epoch 609/1000 - Train Error: 0.0422 - Test Error: 0.0420\n",
            "Epoch 610/1000 - Train Error: 0.0421 - Test Error: 0.0420\n",
            "Epoch 611/1000 - Train Error: 0.0421 - Test Error: 0.0420\n",
            "Epoch 612/1000 - Train Error: 0.0421 - Test Error: 0.0420\n",
            "Epoch 613/1000 - Train Error: 0.0421 - Test Error: 0.0420\n",
            "Epoch 614/1000 - Train Error: 0.0421 - Test Error: 0.0420\n",
            "Epoch 615/1000 - Train Error: 0.0421 - Test Error: 0.0419\n",
            "Epoch 616/1000 - Train Error: 0.0420 - Test Error: 0.0419\n",
            "Epoch 617/1000 - Train Error: 0.0420 - Test Error: 0.0419\n",
            "Epoch 618/1000 - Train Error: 0.0420 - Test Error: 0.0419\n",
            "Epoch 619/1000 - Train Error: 0.0420 - Test Error: 0.0419\n",
            "Epoch 620/1000 - Train Error: 0.0420 - Test Error: 0.0418\n",
            "Epoch 621/1000 - Train Error: 0.0419 - Test Error: 0.0418\n",
            "Epoch 622/1000 - Train Error: 0.0419 - Test Error: 0.0418\n"
          ]
        },
        {
          "output_type": "stream",
          "name": "stderr",
          "text": [
            "Training:  64%|███████████████████████████████▌                 | 644/1000 [00:03<00:01, 188.17it/s]"
          ]
        },
        {
          "output_type": "stream",
          "name": "stdout",
          "text": [
            "Epoch 623/1000 - Train Error: 0.0419 - Test Error: 0.0418\n",
            "Epoch 624/1000 - Train Error: 0.0419 - Test Error: 0.0418\n",
            "Epoch 625/1000 - Train Error: 0.0419 - Test Error: 0.0418\n",
            "Epoch 626/1000 - Train Error: 0.0419 - Test Error: 0.0417\n",
            "Epoch 627/1000 - Train Error: 0.0418 - Test Error: 0.0417\n",
            "Epoch 628/1000 - Train Error: 0.0418 - Test Error: 0.0417\n",
            "Epoch 629/1000 - Train Error: 0.0418 - Test Error: 0.0417\n",
            "Epoch 630/1000 - Train Error: 0.0418 - Test Error: 0.0417\n",
            "Epoch 631/1000 - Train Error: 0.0418 - Test Error: 0.0416\n",
            "Epoch 632/1000 - Train Error: 0.0417 - Test Error: 0.0416\n",
            "Epoch 633/1000 - Train Error: 0.0417 - Test Error: 0.0416\n",
            "Epoch 634/1000 - Train Error: 0.0417 - Test Error: 0.0416\n",
            "Epoch 635/1000 - Train Error: 0.0417 - Test Error: 0.0416\n",
            "Epoch 636/1000 - Train Error: 0.0417 - Test Error: 0.0416\n",
            "Epoch 637/1000 - Train Error: 0.0417 - Test Error: 0.0415\n",
            "Epoch 638/1000 - Train Error: 0.0416 - Test Error: 0.0415\n",
            "Epoch 639/1000 - Train Error: 0.0416 - Test Error: 0.0415\n",
            "Epoch 640/1000 - Train Error: 0.0416 - Test Error: 0.0415\n",
            "Epoch 641/1000 - Train Error: 0.0416 - Test Error: 0.0415\n",
            "Epoch 642/1000 - Train Error: 0.0416 - Test Error: 0.0415\n",
            "Epoch 643/1000 - Train Error: 0.0415 - Test Error: 0.0414\n",
            "Epoch 644/1000 - Train Error: 0.0415 - Test Error: 0.0414\n",
            "Epoch 645/1000 - Train Error: 0.0415 - Test Error: 0.0414\n",
            "Epoch 646/1000 - Train Error: 0.0415 - Test Error: 0.0414\n",
            "Epoch 647/1000 - Train Error: 0.0415 - Test Error: 0.0414\n",
            "Epoch 648/1000 - Train Error: 0.0415 - Test Error: 0.0413\n",
            "Epoch 649/1000 - Train Error: 0.0414 - Test Error: 0.0413\n",
            "Epoch 650/1000 - Train Error: 0.0414 - Test Error: 0.0413\n",
            "Epoch 651/1000 - Train Error: 0.0414 - Test Error: 0.0413\n",
            "Epoch 652/1000 - Train Error: 0.0414 - Test Error: 0.0413\n",
            "Epoch 653/1000 - Train Error: 0.0414 - Test Error: 0.0413\n",
            "Epoch 654/1000 - Train Error: 0.0414 - Test Error: 0.0412\n",
            "Epoch 655/1000 - Train Error: 0.0413 - Test Error: 0.0412\n",
            "Epoch 656/1000 - Train Error: 0.0413 - Test Error: 0.0412\n",
            "Epoch 657/1000 - Train Error: 0.0413 - Test Error: 0.0412\n",
            "Epoch 658/1000 - Train Error: 0.0413 - Test Error: 0.0412\n",
            "Epoch 659/1000 - Train Error: 0.0413 - Test Error: 0.0412\n",
            "Epoch 660/1000 - Train Error: 0.0413 - Test Error: 0.0411\n",
            "Epoch 661/1000 - Train Error: 0.0412 - Test Error: 0.0411\n",
            "Epoch 662/1000 - Train Error: 0.0412 - Test Error: 0.0411\n"
          ]
        },
        {
          "output_type": "stream",
          "name": "stderr",
          "text": [
            "Training:  68%|█████████████████████████████████▍               | 683/1000 [00:03<00:01, 185.75it/s]"
          ]
        },
        {
          "output_type": "stream",
          "name": "stdout",
          "text": [
            "Epoch 663/1000 - Train Error: 0.0412 - Test Error: 0.0411\n",
            "Epoch 664/1000 - Train Error: 0.0412 - Test Error: 0.0411\n",
            "Epoch 665/1000 - Train Error: 0.0412 - Test Error: 0.0411\n",
            "Epoch 666/1000 - Train Error: 0.0412 - Test Error: 0.0410\n",
            "Epoch 667/1000 - Train Error: 0.0411 - Test Error: 0.0410\n",
            "Epoch 668/1000 - Train Error: 0.0411 - Test Error: 0.0410\n",
            "Epoch 669/1000 - Train Error: 0.0411 - Test Error: 0.0410\n",
            "Epoch 670/1000 - Train Error: 0.0411 - Test Error: 0.0410\n",
            "Epoch 671/1000 - Train Error: 0.0411 - Test Error: 0.0410\n",
            "Epoch 672/1000 - Train Error: 0.0411 - Test Error: 0.0409\n",
            "Epoch 673/1000 - Train Error: 0.0410 - Test Error: 0.0409\n",
            "Epoch 674/1000 - Train Error: 0.0410 - Test Error: 0.0409\n",
            "Epoch 675/1000 - Train Error: 0.0410 - Test Error: 0.0409\n",
            "Epoch 676/1000 - Train Error: 0.0410 - Test Error: 0.0409\n",
            "Epoch 677/1000 - Train Error: 0.0410 - Test Error: 0.0409\n",
            "Epoch 678/1000 - Train Error: 0.0410 - Test Error: 0.0408\n",
            "Epoch 679/1000 - Train Error: 0.0409 - Test Error: 0.0408\n",
            "Epoch 680/1000 - Train Error: 0.0409 - Test Error: 0.0408\n",
            "Epoch 681/1000 - Train Error: 0.0409 - Test Error: 0.0408\n",
            "Epoch 682/1000 - Train Error: 0.0409 - Test Error: 0.0408\n",
            "Epoch 683/1000 - Train Error: 0.0409 - Test Error: 0.0408\n",
            "Epoch 684/1000 - Train Error: 0.0409 - Test Error: 0.0407\n",
            "Epoch 685/1000 - Train Error: 0.0408 - Test Error: 0.0407\n",
            "Epoch 686/1000 - Train Error: 0.0408 - Test Error: 0.0407\n",
            "Epoch 687/1000 - Train Error: 0.0408 - Test Error: 0.0407\n",
            "Epoch 688/1000 - Train Error: 0.0408 - Test Error: 0.0407\n",
            "Epoch 689/1000 - Train Error: 0.0408 - Test Error: 0.0407\n",
            "Epoch 690/1000 - Train Error: 0.0408 - Test Error: 0.0407\n",
            "Epoch 691/1000 - Train Error: 0.0408 - Test Error: 0.0406\n",
            "Epoch 692/1000 - Train Error: 0.0407 - Test Error: 0.0406\n",
            "Epoch 693/1000 - Train Error: 0.0407 - Test Error: 0.0406\n",
            "Epoch 694/1000 - Train Error: 0.0407 - Test Error: 0.0406\n",
            "Epoch 695/1000 - Train Error: 0.0407 - Test Error: 0.0406\n",
            "Epoch 696/1000 - Train Error: 0.0407 - Test Error: 0.0406\n",
            "Epoch 697/1000 - Train Error: 0.0407 - Test Error: 0.0405\n",
            "Epoch 698/1000 - Train Error: 0.0406 - Test Error: 0.0405\n",
            "Epoch 699/1000 - Train Error: 0.0406 - Test Error: 0.0405\n",
            "Epoch 700/1000 - Train Error: 0.0406 - Test Error: 0.0405\n",
            "Epoch 701/1000 - Train Error: 0.0406 - Test Error: 0.0405\n",
            "Epoch 702/1000 - Train Error: 0.0406 - Test Error: 0.0405\n",
            "Epoch 703/1000 - Train Error: 0.0406 - Test Error: 0.0404\n"
          ]
        },
        {
          "output_type": "stream",
          "name": "stderr",
          "text": [
            "Training:  73%|███████████████████████████████████▌             | 726/1000 [00:04<00:01, 198.06it/s]"
          ]
        },
        {
          "output_type": "stream",
          "name": "stdout",
          "text": [
            "Epoch 704/1000 - Train Error: 0.0405 - Test Error: 0.0404\n",
            "Epoch 705/1000 - Train Error: 0.0405 - Test Error: 0.0404\n",
            "Epoch 706/1000 - Train Error: 0.0405 - Test Error: 0.0404\n",
            "Epoch 707/1000 - Train Error: 0.0405 - Test Error: 0.0404\n",
            "Epoch 708/1000 - Train Error: 0.0405 - Test Error: 0.0404\n",
            "Epoch 709/1000 - Train Error: 0.0405 - Test Error: 0.0404\n",
            "Epoch 710/1000 - Train Error: 0.0405 - Test Error: 0.0403\n",
            "Epoch 711/1000 - Train Error: 0.0404 - Test Error: 0.0403\n",
            "Epoch 712/1000 - Train Error: 0.0404 - Test Error: 0.0403\n",
            "Epoch 713/1000 - Train Error: 0.0404 - Test Error: 0.0403\n",
            "Epoch 714/1000 - Train Error: 0.0404 - Test Error: 0.0403\n",
            "Epoch 715/1000 - Train Error: 0.0404 - Test Error: 0.0403\n",
            "Epoch 716/1000 - Train Error: 0.0404 - Test Error: 0.0403\n",
            "Epoch 717/1000 - Train Error: 0.0404 - Test Error: 0.0402\n",
            "Epoch 718/1000 - Train Error: 0.0403 - Test Error: 0.0402\n",
            "Epoch 719/1000 - Train Error: 0.0403 - Test Error: 0.0402\n",
            "Epoch 720/1000 - Train Error: 0.0403 - Test Error: 0.0402\n",
            "Epoch 721/1000 - Train Error: 0.0403 - Test Error: 0.0402\n",
            "Epoch 722/1000 - Train Error: 0.0403 - Test Error: 0.0402\n",
            "Epoch 723/1000 - Train Error: 0.0403 - Test Error: 0.0401\n",
            "Epoch 724/1000 - Train Error: 0.0402 - Test Error: 0.0401\n",
            "Epoch 725/1000 - Train Error: 0.0402 - Test Error: 0.0401\n",
            "Epoch 726/1000 - Train Error: 0.0402 - Test Error: 0.0401\n",
            "Epoch 727/1000 - Train Error: 0.0402 - Test Error: 0.0401\n",
            "Epoch 728/1000 - Train Error: 0.0402 - Test Error: 0.0401\n",
            "Epoch 729/1000 - Train Error: 0.0402 - Test Error: 0.0401\n",
            "Epoch 730/1000 - Train Error: 0.0402 - Test Error: 0.0400\n",
            "Epoch 731/1000 - Train Error: 0.0401 - Test Error: 0.0400\n",
            "Epoch 732/1000 - Train Error: 0.0401 - Test Error: 0.0400\n",
            "Epoch 733/1000 - Train Error: 0.0401 - Test Error: 0.0400\n",
            "Epoch 734/1000 - Train Error: 0.0401 - Test Error: 0.0400\n",
            "Epoch 735/1000 - Train Error: 0.0401 - Test Error: 0.0400\n",
            "Epoch 736/1000 - Train Error: 0.0401 - Test Error: 0.0400\n",
            "Epoch 737/1000 - Train Error: 0.0401 - Test Error: 0.0399\n",
            "Epoch 738/1000 - Train Error: 0.0400 - Test Error: 0.0399\n",
            "Epoch 739/1000 - Train Error: 0.0400 - Test Error: 0.0399\n",
            "Epoch 740/1000 - Train Error: 0.0400 - Test Error: 0.0399\n",
            "Epoch 741/1000 - Train Error: 0.0400 - Test Error: 0.0399\n",
            "Epoch 742/1000 - Train Error: 0.0400 - Test Error: 0.0399\n",
            "Epoch 743/1000 - Train Error: 0.0400 - Test Error: 0.0399\n",
            "Epoch 744/1000 - Train Error: 0.0400 - Test Error: 0.0398\n",
            "Epoch 745/1000 - Train Error: 0.0399 - Test Error: 0.0398\n",
            "Epoch 746/1000 - Train Error: 0.0399 - Test Error: 0.0398\n"
          ]
        },
        {
          "output_type": "stream",
          "name": "stderr",
          "text": [
            "Training:  77%|█████████████████████████████████████▋           | 768/1000 [00:04<00:01, 197.33it/s]"
          ]
        },
        {
          "output_type": "stream",
          "name": "stdout",
          "text": [
            "Epoch 747/1000 - Train Error: 0.0399 - Test Error: 0.0398\n",
            "Epoch 748/1000 - Train Error: 0.0399 - Test Error: 0.0398\n",
            "Epoch 749/1000 - Train Error: 0.0399 - Test Error: 0.0398\n",
            "Epoch 750/1000 - Train Error: 0.0399 - Test Error: 0.0398\n",
            "Epoch 751/1000 - Train Error: 0.0399 - Test Error: 0.0397\n",
            "Epoch 752/1000 - Train Error: 0.0398 - Test Error: 0.0397\n",
            "Epoch 753/1000 - Train Error: 0.0398 - Test Error: 0.0397\n",
            "Epoch 754/1000 - Train Error: 0.0398 - Test Error: 0.0397\n",
            "Epoch 755/1000 - Train Error: 0.0398 - Test Error: 0.0397\n",
            "Epoch 756/1000 - Train Error: 0.0398 - Test Error: 0.0397\n",
            "Epoch 757/1000 - Train Error: 0.0398 - Test Error: 0.0397\n",
            "Epoch 758/1000 - Train Error: 0.0398 - Test Error: 0.0396\n",
            "Epoch 759/1000 - Train Error: 0.0398 - Test Error: 0.0396\n",
            "Epoch 760/1000 - Train Error: 0.0397 - Test Error: 0.0396\n",
            "Epoch 761/1000 - Train Error: 0.0397 - Test Error: 0.0396\n",
            "Epoch 762/1000 - Train Error: 0.0397 - Test Error: 0.0396\n",
            "Epoch 763/1000 - Train Error: 0.0397 - Test Error: 0.0396\n",
            "Epoch 764/1000 - Train Error: 0.0397 - Test Error: 0.0396\n",
            "Epoch 765/1000 - Train Error: 0.0397 - Test Error: 0.0395\n",
            "Epoch 766/1000 - Train Error: 0.0397 - Test Error: 0.0395\n",
            "Epoch 767/1000 - Train Error: 0.0396 - Test Error: 0.0395\n",
            "Epoch 768/1000 - Train Error: 0.0396 - Test Error: 0.0395\n",
            "Epoch 769/1000 - Train Error: 0.0396 - Test Error: 0.0395\n",
            "Epoch 770/1000 - Train Error: 0.0396 - Test Error: 0.0395\n",
            "Epoch 771/1000 - Train Error: 0.0396 - Test Error: 0.0395\n",
            "Epoch 772/1000 - Train Error: 0.0396 - Test Error: 0.0395\n",
            "Epoch 773/1000 - Train Error: 0.0396 - Test Error: 0.0394\n",
            "Epoch 774/1000 - Train Error: 0.0395 - Test Error: 0.0394\n",
            "Epoch 775/1000 - Train Error: 0.0395 - Test Error: 0.0394\n",
            "Epoch 776/1000 - Train Error: 0.0395 - Test Error: 0.0394\n",
            "Epoch 777/1000 - Train Error: 0.0395 - Test Error: 0.0394\n",
            "Epoch 778/1000 - Train Error: 0.0395 - Test Error: 0.0394\n",
            "Epoch 779/1000 - Train Error: 0.0395 - Test Error: 0.0394\n",
            "Epoch 780/1000 - Train Error: 0.0395 - Test Error: 0.0393\n",
            "Epoch 781/1000 - Train Error: 0.0395 - Test Error: 0.0393\n",
            "Epoch 782/1000 - Train Error: 0.0394 - Test Error: 0.0393\n",
            "Epoch 783/1000 - Train Error: 0.0394 - Test Error: 0.0393\n",
            "Epoch 784/1000 - Train Error: 0.0394 - Test Error: 0.0393\n"
          ]
        },
        {
          "output_type": "stream",
          "name": "stderr",
          "text": [
            "Training:  81%|███████████████████████████████████████▋         | 809/1000 [00:04<00:00, 196.80it/s]"
          ]
        },
        {
          "output_type": "stream",
          "name": "stdout",
          "text": [
            "Epoch 785/1000 - Train Error: 0.0394 - Test Error: 0.0393\n",
            "Epoch 786/1000 - Train Error: 0.0394 - Test Error: 0.0393\n",
            "Epoch 787/1000 - Train Error: 0.0394 - Test Error: 0.0393\n",
            "Epoch 788/1000 - Train Error: 0.0394 - Test Error: 0.0392\n",
            "Epoch 789/1000 - Train Error: 0.0394 - Test Error: 0.0392\n",
            "Epoch 790/1000 - Train Error: 0.0393 - Test Error: 0.0392\n",
            "Epoch 791/1000 - Train Error: 0.0393 - Test Error: 0.0392\n",
            "Epoch 792/1000 - Train Error: 0.0393 - Test Error: 0.0392\n",
            "Epoch 793/1000 - Train Error: 0.0393 - Test Error: 0.0392\n",
            "Epoch 794/1000 - Train Error: 0.0393 - Test Error: 0.0392\n",
            "Epoch 795/1000 - Train Error: 0.0393 - Test Error: 0.0392\n",
            "Epoch 796/1000 - Train Error: 0.0393 - Test Error: 0.0391\n",
            "Epoch 797/1000 - Train Error: 0.0393 - Test Error: 0.0391\n",
            "Epoch 798/1000 - Train Error: 0.0392 - Test Error: 0.0391\n",
            "Epoch 799/1000 - Train Error: 0.0392 - Test Error: 0.0391\n",
            "Epoch 800/1000 - Train Error: 0.0392 - Test Error: 0.0391\n",
            "Epoch 801/1000 - Train Error: 0.0392 - Test Error: 0.0391\n",
            "Epoch 802/1000 - Train Error: 0.0392 - Test Error: 0.0391\n",
            "Epoch 803/1000 - Train Error: 0.0392 - Test Error: 0.0390\n",
            "Epoch 804/1000 - Train Error: 0.0392 - Test Error: 0.0390\n",
            "Epoch 805/1000 - Train Error: 0.0391 - Test Error: 0.0390\n",
            "Epoch 806/1000 - Train Error: 0.0391 - Test Error: 0.0390\n",
            "Epoch 807/1000 - Train Error: 0.0391 - Test Error: 0.0390\n",
            "Epoch 808/1000 - Train Error: 0.0391 - Test Error: 0.0390\n",
            "Epoch 809/1000 - Train Error: 0.0391 - Test Error: 0.0390\n",
            "Epoch 810/1000 - Train Error: 0.0391 - Test Error: 0.0390\n",
            "Epoch 811/1000 - Train Error: 0.0391 - Test Error: 0.0389\n",
            "Epoch 812/1000 - Train Error: 0.0391 - Test Error: 0.0389\n",
            "Epoch 813/1000 - Train Error: 0.0391 - Test Error: 0.0389\n",
            "Epoch 814/1000 - Train Error: 0.0390 - Test Error: 0.0389\n",
            "Epoch 815/1000 - Train Error: 0.0390 - Test Error: 0.0389\n",
            "Epoch 816/1000 - Train Error: 0.0390 - Test Error: 0.0389\n",
            "Epoch 817/1000 - Train Error: 0.0390 - Test Error: 0.0389\n",
            "Epoch 818/1000 - Train Error: 0.0390 - Test Error: 0.0389\n",
            "Epoch 819/1000 - Train Error: 0.0390 - Test Error: 0.0388\n",
            "Epoch 820/1000 - Train Error: 0.0390 - Test Error: 0.0388\n",
            "Epoch 821/1000 - Train Error: 0.0390 - Test Error: 0.0388\n",
            "Epoch 822/1000 - Train Error: 0.0389 - Test Error: 0.0388\n",
            "Epoch 823/1000 - Train Error: 0.0389 - Test Error: 0.0388\n"
          ]
        },
        {
          "output_type": "stream",
          "name": "stderr",
          "text": []
        },
        {
          "output_type": "stream",
          "name": "stdout",
          "text": [
            "Epoch 824/1000 - Train Error: 0.0389 - Test Error: 0.0388\n",
            "Epoch 825/1000 - Train Error: 0.0389 - Test Error: 0.0388\n",
            "Epoch 826/1000 - Train Error: 0.0389 - Test Error: 0.0388\n",
            "Epoch 827/1000 - Train Error: 0.0389 - Test Error: 0.0388\n",
            "Epoch 828/1000 - Train Error: 0.0389 - Test Error: 0.0387\n",
            "Epoch 829/1000 - Train Error: 0.0389 - Test Error: 0.0387\n",
            "Epoch 830/1000 - Train Error: 0.0388 - Test Error: 0.0387\n",
            "Epoch 831/1000 - Train Error: 0.0388 - Test Error: 0.0387\n",
            "Epoch 832/1000 - Train Error: 0.0388 - Test Error: 0.0387\n",
            "Epoch 833/1000 - Train Error: 0.0388 - Test Error: 0.0387\n",
            "Epoch 834/1000 - Train Error: 0.0388 - Test Error: 0.0387\n",
            "Epoch 835/1000 - Train Error: 0.0388 - Test Error: 0.0387\n",
            "Epoch 836/1000 - Train Error: 0.0388 - Test Error: 0.0386\n",
            "Epoch 837/1000 - Train Error: 0.0388 - Test Error: 0.0386\n",
            "Epoch 838/1000 - Train Error: 0.0388 - Test Error: 0.0386\n",
            "Epoch 839/1000 - Train Error: 0.0387 - Test Error: 0.0386\n",
            "Epoch 840/1000 - Train Error: 0.0387 - Test Error: 0.0386\n",
            "Epoch 841/1000 - Train Error: 0.0387 - Test Error: 0.0386\n",
            "Epoch 842/1000 - Train Error: 0.0387 - Test Error: 0.0386\n",
            "Epoch 843/1000 - Train Error: 0.0387 - Test Error: 0.0386\n",
            "Epoch 844/1000 - Train Error: 0.0387 - Test Error: 0.0385\n",
            "Epoch 845/1000 - Train Error: 0.0387 - Test Error: 0.0385\n",
            "Epoch 846/1000 - Train Error: 0.0387 - Test Error: 0.0385\n",
            "Epoch 847/1000 - Train Error: 0.0386 - Test Error: 0.0385\n",
            "Epoch 848/1000 - Train Error: 0.0386 - Test Error: 0.0385\n",
            "Epoch 849/1000 - Train Error: 0.0386 - Test Error: 0.0385\n",
            "Epoch 850/1000 - Train Error: 0.0386 - Test Error: 0.0385\n",
            "Epoch 851/1000 - Train Error: 0.0386 - Test Error: 0.0385\n",
            "Epoch 852/1000 - Train Error: 0.0386 - Test Error: 0.0385\n",
            "Epoch 853/1000 - Train Error: 0.0386 - Test Error: 0.0384\n",
            "Epoch 854/1000 - Train Error: 0.0386 - Test Error: 0.0384\n",
            "Epoch 855/1000 - Train Error: 0.0386 - Test Error: 0.0384\n",
            "Epoch 856/1000 - Train Error: 0.0385 - Test Error: 0.0384\n",
            "Epoch 857/1000 - Train Error: 0.0385 - Test Error: 0.0384\n",
            "Epoch 858/1000 - Train Error: 0.0385 - Test Error: 0.0384\n",
            "Epoch 859/1000 - Train Error: 0.0385 - Test Error: 0.0384\n",
            "Epoch 860/1000 - Train Error: 0.0385 - Test Error: 0.0384\n",
            "Epoch 861/1000 - Train Error: 0.0385 - Test Error: 0.0384\n",
            "Epoch 862/1000 - Train Error: 0.0385 - Test Error: 0.0383\n",
            "Epoch 863/1000 - Train Error: 0.0385 - Test Error: 0.0383\n"
          ]
        },
        {
          "output_type": "stream",
          "name": "stderr",
          "text": []
        },
        {
          "output_type": "stream",
          "name": "stdout",
          "text": [
            "Epoch 864/1000 - Train Error: 0.0385 - Test Error: 0.0383\n",
            "Epoch 865/1000 - Train Error: 0.0384 - Test Error: 0.0383\n",
            "Epoch 866/1000 - Train Error: 0.0384 - Test Error: 0.0383\n",
            "Epoch 867/1000 - Train Error: 0.0384 - Test Error: 0.0383\n",
            "Epoch 868/1000 - Train Error: 0.0384 - Test Error: 0.0383\n",
            "Epoch 869/1000 - Train Error: 0.0384 - Test Error: 0.0383\n",
            "Epoch 870/1000 - Train Error: 0.0384 - Test Error: 0.0383\n",
            "Epoch 871/1000 - Train Error: 0.0384 - Test Error: 0.0382\n",
            "Epoch 872/1000 - Train Error: 0.0384 - Test Error: 0.0382\n",
            "Epoch 873/1000 - Train Error: 0.0384 - Test Error: 0.0382\n",
            "Epoch 874/1000 - Train Error: 0.0383 - Test Error: 0.0382\n",
            "Epoch 875/1000 - Train Error: 0.0383 - Test Error: 0.0382\n",
            "Epoch 876/1000 - Train Error: 0.0383 - Test Error: 0.0382\n",
            "Epoch 877/1000 - Train Error: 0.0383 - Test Error: 0.0382\n",
            "Epoch 878/1000 - Train Error: 0.0383 - Test Error: 0.0382\n",
            "Epoch 879/1000 - Train Error: 0.0383 - Test Error: 0.0382\n",
            "Epoch 880/1000 - Train Error: 0.0383 - Test Error: 0.0381\n",
            "Epoch 881/1000 - Train Error: 0.0383 - Test Error: 0.0381\n",
            "Epoch 882/1000 - Train Error: 0.0383 - Test Error: 0.0381\n",
            "Epoch 883/1000 - Train Error: 0.0383 - Test Error: 0.0381\n",
            "Epoch 884/1000 - Train Error: 0.0382 - Test Error: 0.0381\n",
            "Epoch 885/1000 - Train Error: 0.0382 - Test Error: 0.0381\n",
            "Epoch 886/1000 - Train Error: 0.0382 - Test Error: 0.0381\n",
            "Epoch 887/1000 - Train Error: 0.0382 - Test Error: 0.0381\n",
            "Epoch 888/1000 - Train Error: 0.0382 - Test Error: 0.0381\n",
            "Epoch 889/1000 - Train Error: 0.0382 - Test Error: 0.0380\n",
            "Epoch 890/1000 - Train Error: 0.0382 - Test Error: 0.0380\n",
            "Epoch 891/1000 - Train Error: 0.0382 - Test Error: 0.0380\n",
            "Epoch 892/1000 - Train Error: 0.0382 - Test Error: 0.0380\n",
            "Epoch 893/1000 - Train Error: 0.0381 - Test Error: 0.0380\n",
            "Epoch 894/1000 - Train Error: 0.0381 - Test Error: 0.0380\n",
            "Epoch 895/1000 - Train Error: 0.0381 - Test Error: 0.0380\n",
            "Epoch 896/1000 - Train Error: 0.0381 - Test Error: 0.0380\n",
            "Epoch 897/1000 - Train Error: 0.0381 - Test Error: 0.0380\n",
            "Epoch 898/1000 - Train Error: 0.0381 - Test Error: 0.0380\n",
            "Epoch 899/1000 - Train Error: 0.0381 - Test Error: 0.0379\n",
            "Epoch 900/1000 - Train Error: 0.0381 - Test Error: 0.0379\n",
            "Epoch 901/1000 - Train Error: 0.0381 - Test Error: 0.0379\n",
            "Epoch 902/1000 - Train Error: 0.0381 - Test Error: 0.0379\n"
          ]
        },
        {
          "output_type": "stream",
          "name": "stderr",
          "text": [
            "Training:  93%|█████████████████████████████████████████████▌   | 929/1000 [00:05<00:00, 189.82it/s]"
          ]
        },
        {
          "output_type": "stream",
          "name": "stdout",
          "text": [
            "Epoch 903/1000 - Train Error: 0.0380 - Test Error: 0.0379\n",
            "Epoch 904/1000 - Train Error: 0.0380 - Test Error: 0.0379\n",
            "Epoch 905/1000 - Train Error: 0.0380 - Test Error: 0.0379\n",
            "Epoch 906/1000 - Train Error: 0.0380 - Test Error: 0.0379\n",
            "Epoch 907/1000 - Train Error: 0.0380 - Test Error: 0.0379\n",
            "Epoch 908/1000 - Train Error: 0.0380 - Test Error: 0.0378\n",
            "Epoch 909/1000 - Train Error: 0.0380 - Test Error: 0.0378\n",
            "Epoch 910/1000 - Train Error: 0.0380 - Test Error: 0.0378\n",
            "Epoch 911/1000 - Train Error: 0.0380 - Test Error: 0.0378\n",
            "Epoch 912/1000 - Train Error: 0.0380 - Test Error: 0.0378\n",
            "Epoch 913/1000 - Train Error: 0.0379 - Test Error: 0.0378\n",
            "Epoch 914/1000 - Train Error: 0.0379 - Test Error: 0.0378\n",
            "Epoch 915/1000 - Train Error: 0.0379 - Test Error: 0.0378\n",
            "Epoch 916/1000 - Train Error: 0.0379 - Test Error: 0.0378\n",
            "Epoch 917/1000 - Train Error: 0.0379 - Test Error: 0.0378\n",
            "Epoch 918/1000 - Train Error: 0.0379 - Test Error: 0.0377\n",
            "Epoch 919/1000 - Train Error: 0.0379 - Test Error: 0.0377\n",
            "Epoch 920/1000 - Train Error: 0.0379 - Test Error: 0.0377\n",
            "Epoch 921/1000 - Train Error: 0.0379 - Test Error: 0.0377\n",
            "Epoch 922/1000 - Train Error: 0.0379 - Test Error: 0.0377\n",
            "Epoch 923/1000 - Train Error: 0.0378 - Test Error: 0.0377\n",
            "Epoch 924/1000 - Train Error: 0.0378 - Test Error: 0.0377\n",
            "Epoch 925/1000 - Train Error: 0.0378 - Test Error: 0.0377\n",
            "Epoch 926/1000 - Train Error: 0.0378 - Test Error: 0.0377\n",
            "Epoch 927/1000 - Train Error: 0.0378 - Test Error: 0.0377\n",
            "Epoch 928/1000 - Train Error: 0.0378 - Test Error: 0.0376\n",
            "Epoch 929/1000 - Train Error: 0.0378 - Test Error: 0.0376\n",
            "Epoch 930/1000 - Train Error: 0.0378 - Test Error: 0.0376\n",
            "Epoch 931/1000 - Train Error: 0.0378 - Test Error: 0.0376\n",
            "Epoch 932/1000 - Train Error: 0.0378 - Test Error: 0.0376\n",
            "Epoch 933/1000 - Train Error: 0.0377 - Test Error: 0.0376\n",
            "Epoch 934/1000 - Train Error: 0.0377 - Test Error: 0.0376\n",
            "Epoch 935/1000 - Train Error: 0.0377 - Test Error: 0.0376\n",
            "Epoch 936/1000 - Train Error: 0.0377 - Test Error: 0.0376\n",
            "Epoch 937/1000 - Train Error: 0.0377 - Test Error: 0.0376\n",
            "Epoch 938/1000 - Train Error: 0.0377 - Test Error: 0.0375\n"
          ]
        },
        {
          "output_type": "stream",
          "name": "stderr",
          "text": [
            "                                                                                                    "
          ]
        },
        {
          "output_type": "stream",
          "name": "stdout",
          "text": [
            "Epoch 939/1000 - Train Error: 0.0377 - Test Error: 0.0375\n",
            "Epoch 940/1000 - Train Error: 0.0377 - Test Error: 0.0375\n",
            "Epoch 941/1000 - Train Error: 0.0377 - Test Error: 0.0375\n",
            "Epoch 942/1000 - Train Error: 0.0377 - Test Error: 0.0375\n",
            "Epoch 943/1000 - Train Error: 0.0376 - Test Error: 0.0375\n",
            "Epoch 944/1000 - Train Error: 0.0376 - Test Error: 0.0375\n",
            "Epoch 945/1000 - Train Error: 0.0376 - Test Error: 0.0375\n",
            "Epoch 946/1000 - Train Error: 0.0376 - Test Error: 0.0375\n",
            "Epoch 947/1000 - Train Error: 0.0376 - Test Error: 0.0375\n",
            "Epoch 948/1000 - Train Error: 0.0376 - Test Error: 0.0374\n",
            "Epoch 949/1000 - Train Error: 0.0376 - Test Error: 0.0374\n",
            "Epoch 950/1000 - Train Error: 0.0376 - Test Error: 0.0374\n",
            "Epoch 951/1000 - Train Error: 0.0376 - Test Error: 0.0374\n",
            "Epoch 952/1000 - Train Error: 0.0376 - Test Error: 0.0374\n",
            "Epoch 953/1000 - Train Error: 0.0376 - Test Error: 0.0374\n",
            "Epoch 954/1000 - Train Error: 0.0375 - Test Error: 0.0374\n",
            "Epoch 955/1000 - Train Error: 0.0375 - Test Error: 0.0374\n",
            "Epoch 956/1000 - Train Error: 0.0375 - Test Error: 0.0374\n",
            "Epoch 957/1000 - Train Error: 0.0375 - Test Error: 0.0374\n",
            "Epoch 958/1000 - Train Error: 0.0375 - Test Error: 0.0374\n",
            "Epoch 959/1000 - Train Error: 0.0375 - Test Error: 0.0373\n",
            "Epoch 960/1000 - Train Error: 0.0375 - Test Error: 0.0373\n",
            "Epoch 961/1000 - Train Error: 0.0375 - Test Error: 0.0373\n",
            "Epoch 962/1000 - Train Error: 0.0375 - Test Error: 0.0373\n",
            "Epoch 963/1000 - Train Error: 0.0375 - Test Error: 0.0373\n",
            "Epoch 964/1000 - Train Error: 0.0375 - Test Error: 0.0373\n",
            "Epoch 965/1000 - Train Error: 0.0374 - Test Error: 0.0373\n",
            "Epoch 966/1000 - Train Error: 0.0374 - Test Error: 0.0373\n",
            "Epoch 967/1000 - Train Error: 0.0374 - Test Error: 0.0373\n",
            "Epoch 968/1000 - Train Error: 0.0374 - Test Error: 0.0373\n",
            "Epoch 969/1000 - Train Error: 0.0374 - Test Error: 0.0373\n",
            "Epoch 970/1000 - Train Error: 0.0374 - Test Error: 0.0372\n",
            "Epoch 971/1000 - Train Error: 0.0374 - Test Error: 0.0372\n",
            "Epoch 972/1000 - Train Error: 0.0374 - Test Error: 0.0372\n",
            "Epoch 973/1000 - Train Error: 0.0374 - Test Error: 0.0372\n",
            "Epoch 974/1000 - Train Error: 0.0374 - Test Error: 0.0372\n",
            "Epoch 975/1000 - Train Error: 0.0374 - Test Error: 0.0372\n",
            "Epoch 976/1000 - Train Error: 0.0373 - Test Error: 0.0372\n"
          ]
        },
        {
          "output_type": "stream",
          "name": "stderr",
          "text": [
            "Training: 100%|████████████████████████████████████████████████| 1000/1000 [00:05<00:00, 184.23it/s]\n"
          ]
        },
        {
          "output_type": "stream",
          "name": "stdout",
          "text": [
            "Epoch 977/1000 - Train Error: 0.0373 - Test Error: 0.0372\n",
            "Epoch 978/1000 - Train Error: 0.0373 - Test Error: 0.0372\n",
            "Epoch 979/1000 - Train Error: 0.0373 - Test Error: 0.0372\n",
            "Epoch 980/1000 - Train Error: 0.0373 - Test Error: 0.0372\n",
            "Epoch 981/1000 - Train Error: 0.0373 - Test Error: 0.0371\n",
            "Epoch 982/1000 - Train Error: 0.0373 - Test Error: 0.0371\n",
            "Epoch 983/1000 - Train Error: 0.0373 - Test Error: 0.0371\n",
            "Epoch 984/1000 - Train Error: 0.0373 - Test Error: 0.0371\n",
            "Epoch 985/1000 - Train Error: 0.0373 - Test Error: 0.0371\n",
            "Epoch 986/1000 - Train Error: 0.0373 - Test Error: 0.0371\n",
            "Epoch 987/1000 - Train Error: 0.0373 - Test Error: 0.0371\n",
            "Epoch 988/1000 - Train Error: 0.0372 - Test Error: 0.0371\n",
            "Epoch 989/1000 - Train Error: 0.0372 - Test Error: 0.0371\n",
            "Epoch 990/1000 - Train Error: 0.0372 - Test Error: 0.0371\n",
            "Epoch 991/1000 - Train Error: 0.0372 - Test Error: 0.0371\n",
            "Epoch 992/1000 - Train Error: 0.0372 - Test Error: 0.0370\n",
            "Epoch 993/1000 - Train Error: 0.0372 - Test Error: 0.0370\n",
            "Epoch 994/1000 - Train Error: 0.0372 - Test Error: 0.0370\n",
            "Epoch 995/1000 - Train Error: 0.0372 - Test Error: 0.0370\n",
            "Epoch 996/1000 - Train Error: 0.0372 - Test Error: 0.0370\n",
            "Epoch 997/1000 - Train Error: 0.0372 - Test Error: 0.0370\n",
            "Epoch 998/1000 - Train Error: 0.0372 - Test Error: 0.0370\n",
            "Epoch 999/1000 - Train Error: 0.0371 - Test Error: 0.0370\n",
            "Epoch 1000/1000 - Train Error: 0.0371 - Test Error: 0.0370\n",
            "\n",
            "Final weights: [[ 0.06060112]\n",
            " [-0.17640199]\n",
            " [ 0.09803135]\n",
            " [-0.07454319]\n",
            " [ 0.05738788]\n",
            " [-0.03682949]\n",
            " [-0.00088516]\n",
            " [-0.05474665]\n",
            " [ 0.00075276]\n",
            " [-0.03031885]\n",
            " [ 0.03601203]\n",
            " [ 0.02647439]\n",
            " [ 0.17449118]\n",
            " [ 0.09997883]\n",
            " [ 0.4422508 ]\n",
            " [-0.0237829 ]]\n"
          ]
        },
        {
          "output_type": "display_data",
          "data": {
            "text/plain": [
              "<Figure size 640x480 with 1 Axes>"
            ],
            "image/png": "[encoded data removed]"
          },
          "metadata": {}
        }
      ]
    },
    {
      "cell_type": "code",
      "source": [
        "from sklearn.linear_model import LinearRegression, Lasso, Ridge\n",
        "\n",
        "# تعریف مدل‌های مختلف\n",
        "models = {\n",
        "    'Linear Regression': LinearRegression(),\n",
        "    'Lasso Regression': Lasso(alpha=0.1),\n",
        "    'Ridge Regression': Ridge(alpha=0.1)\n",
        "}\n",
        "\n",
        "# آموزش و ارزیابی مدل‌ها\n",
        "results = {}\n",
        "for model_name, model in models.items():\n",
        "    # آموزش مدل\n",
        "    model.fit(X_train, y_train)\n",
        "\n",
        "    # پیش‌بینی\n",
        "    y_train_pred = model.predict(X_train)\n",
        "    y_test_pred = model.predict(X_test)\n",
        "\n",
        "    # محاسبه MSE برای داده‌های آموزش و آزمون\n",
        "    train_error = mean_squared_error(y_train, y_train_pred)\n",
        "    test_error = mean_squared_error(y_test, y_test_pred)\n",
        "\n",
        "    results[model_name] = {\n",
        "        'Train Error (MSE)': train_error,\n",
        "        'Test Error (MSE)': test_error,\n",
        "        'Model': model\n",
        "    }\n",
        "\n",
        "# نمایش نتایج MSE برای هر مدل\n",
        "for model_name, result in results.items():\n",
        "    print(f\"{model_name} - Train MSE: {result['Train Error (MSE)']:.4f}, Test MSE: {result['Test Error (MSE)']:.4f}\")\n",
        "\n",
        "# مقایسه خطاهای مدل‌ها\n",
        "labels = list(results.keys())\n",
        "train_errors = [result['Train Error (MSE)'] for result in results.values()]\n",
        "test_errors = [result['Test Error (MSE)'] for result in results.values()]\n",
        "\n",
        "# نمودار مقایسه MSE\n",
        "plt.figure(figsize=(8,6))\n",
        "plt.bar(labels, train_errors, alpha=0.6, label='Train MSE')\n",
        "plt.bar(labels, test_errors, alpha=0.6, label='Test MSE')\n",
        "plt.ylabel('Mean Squared Error')\n",
        "plt.title('Comparison of Model Errors (MSE)')\n",
        "plt.legend()\n",
        "plt.show()\n",
        "\n",
        "# انتخاب بهترین مدل بر اساس کمترین MSE در آزمون\n",
        "best_model_name = min(results, key=lambda model: results[model]['Test Error (MSE)'])\n",
        "best_model = results[best_model_name]['Model']\n",
        "print(f\"\\nBest Model: {best_model_name}\")\n"
      ],
      "metadata": {
        "colab": {
          "base_uri": "https://localhost:8080/",
          "height": 632
        },
        "id": "q65FttAe0iA7",
        "outputId": "333ad9ba-88b8-4f20-d2bb-75adc321f1f4"
      },
      "execution_count": null,
      "outputs": [
        {
          "output_type": "stream",
          "name": "stdout",
          "text": [
            "Linear Regression - Train MSE: 0.0218, Test MSE: 0.0211\n",
            "Lasso Regression - Train MSE: 0.0418, Test MSE: 0.0406\n",
            "Ridge Regression - Train MSE: 0.0218, Test MSE: 0.0211\n"
          ]
        },
        {
          "output_type": "display_data",
          "data": {
            "text/plain": [
              "<Figure size 800x600 with 1 Axes>"
            ],
            "image/png": "[encoded data removed]"
          },
          "metadata": {}
        },
        {
          "output_type": "stream",
          "name": "stdout",
          "text": [
            "\n",
            "Best Model: Ridge Regression\n"
          ]
        }
      ]
    }
  ]
}