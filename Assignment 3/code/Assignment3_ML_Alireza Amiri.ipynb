{
 "cells": [
  {
   "cell_type": "markdown",
   "id": "092bc5f5",
   "metadata": {},
   "source": [
    "Importing required packages"
   ]
  },
  {
   "cell_type": "code",
   "execution_count": 1,
   "id": "9eb2d177",
   "metadata": {},
   "outputs": [],
   "source": [
    "import pandas as pd\n",
    "import numpy as np\n"
   ]
  },
  {
   "cell_type": "markdown",
   "id": "c0577f8b",
   "metadata": {},
   "source": [
    "Reading the file"
   ]
  },
  {
   "cell_type": "code",
   "execution_count": null,
   "id": "4eca0bbe",
   "metadata": {},
   "outputs": [],
   "source": [
    "df = pd.read_csv(\"spam.csv\", encoding=\"latin1\")\n"
   ]
  },
  {
   "cell_type": "markdown",
   "id": "4b7d98ad",
   "metadata": {},
   "source": [
    "Showing the csv file content"
   ]
  },
  {
   "cell_type": "code",
   "execution_count": 26,
   "id": "d7de6ea2",
   "metadata": {},
   "outputs": [
    {
     "data": {
      "text/html": [
       "<div>\n",
       "<style scoped>\n",
       "    .dataframe tbody tr th:only-of-type {\n",
       "        vertical-align: middle;\n",
       "    }\n",
       "\n",
       "    .dataframe tbody tr th {\n",
       "        vertical-align: top;\n",
       "    }\n",
       "\n",
       "    .dataframe thead th {\n",
       "        text-align: right;\n",
       "    }\n",
       "</style>\n",
       "<table border=\"1\" class=\"dataframe\">\n",
       "  <thead>\n",
       "    <tr style=\"text-align: right;\">\n",
       "      <th></th>\n",
       "      <th>v1</th>\n",
       "      <th>v2</th>\n",
       "      <th>Unnamed: 2</th>\n",
       "      <th>Unnamed: 3</th>\n",
       "      <th>Unnamed: 4</th>\n",
       "    </tr>\n",
       "  </thead>\n",
       "  <tbody>\n",
       "    <tr>\n",
       "      <th>0</th>\n",
       "      <td>ham</td>\n",
       "      <td>Go until jurong point, crazy.. Available only ...</td>\n",
       "      <td>NaN</td>\n",
       "      <td>NaN</td>\n",
       "      <td>NaN</td>\n",
       "    </tr>\n",
       "    <tr>\n",
       "      <th>1</th>\n",
       "      <td>ham</td>\n",
       "      <td>Ok lar... Joking wif u oni...</td>\n",
       "      <td>NaN</td>\n",
       "      <td>NaN</td>\n",
       "      <td>NaN</td>\n",
       "    </tr>\n",
       "    <tr>\n",
       "      <th>2</th>\n",
       "      <td>spam</td>\n",
       "      <td>Free entry in 2 a wkly comp to win FA Cup fina...</td>\n",
       "      <td>NaN</td>\n",
       "      <td>NaN</td>\n",
       "      <td>NaN</td>\n",
       "    </tr>\n",
       "    <tr>\n",
       "      <th>3</th>\n",
       "      <td>ham</td>\n",
       "      <td>U dun say so early hor... U c already then say...</td>\n",
       "      <td>NaN</td>\n",
       "      <td>NaN</td>\n",
       "      <td>NaN</td>\n",
       "    </tr>\n",
       "    <tr>\n",
       "      <th>4</th>\n",
       "      <td>ham</td>\n",
       "      <td>Nah I don't think he goes to usf, he lives aro...</td>\n",
       "      <td>NaN</td>\n",
       "      <td>NaN</td>\n",
       "      <td>NaN</td>\n",
       "    </tr>\n",
       "  </tbody>\n",
       "</table>\n",
       "</div>"
      ],
      "text/plain": [
       "     v1                                                 v2 Unnamed: 2  \\\n",
       "0   ham  Go until jurong point, crazy.. Available only ...        NaN   \n",
       "1   ham                      Ok lar... Joking wif u oni...        NaN   \n",
       "2  spam  Free entry in 2 a wkly comp to win FA Cup fina...        NaN   \n",
       "3   ham  U dun say so early hor... U c already then say...        NaN   \n",
       "4   ham  Nah I don't think he goes to usf, he lives aro...        NaN   \n",
       "\n",
       "  Unnamed: 3 Unnamed: 4  \n",
       "0        NaN        NaN  \n",
       "1        NaN        NaN  \n",
       "2        NaN        NaN  \n",
       "3        NaN        NaN  \n",
       "4        NaN        NaN  "
      ]
     },
     "execution_count": 26,
     "metadata": {},
     "output_type": "execute_result"
    }
   ],
   "source": [
    "df.head()\n"
   ]
  },
  {
   "cell_type": "code",
   "execution_count": 29,
   "id": "9433aacc",
   "metadata": {},
   "outputs": [
    {
     "data": {
      "text/html": [
       "<div>\n",
       "<style scoped>\n",
       "    .dataframe tbody tr th:only-of-type {\n",
       "        vertical-align: middle;\n",
       "    }\n",
       "\n",
       "    .dataframe tbody tr th {\n",
       "        vertical-align: top;\n",
       "    }\n",
       "\n",
       "    .dataframe thead th {\n",
       "        text-align: right;\n",
       "    }\n",
       "</style>\n",
       "<table border=\"1\" class=\"dataframe\">\n",
       "  <thead>\n",
       "    <tr style=\"text-align: right;\">\n",
       "      <th></th>\n",
       "      <th>label</th>\n",
       "      <th>message</th>\n",
       "    </tr>\n",
       "  </thead>\n",
       "  <tbody>\n",
       "    <tr>\n",
       "      <th>0</th>\n",
       "      <td>ham</td>\n",
       "      <td>Go until jurong point, crazy.. Available only ...</td>\n",
       "    </tr>\n",
       "    <tr>\n",
       "      <th>1</th>\n",
       "      <td>ham</td>\n",
       "      <td>Ok lar... Joking wif u oni...</td>\n",
       "    </tr>\n",
       "    <tr>\n",
       "      <th>2</th>\n",
       "      <td>spam</td>\n",
       "      <td>Free entry in 2 a wkly comp to win FA Cup fina...</td>\n",
       "    </tr>\n",
       "    <tr>\n",
       "      <th>3</th>\n",
       "      <td>ham</td>\n",
       "      <td>U dun say so early hor... U c already then say...</td>\n",
       "    </tr>\n",
       "    <tr>\n",
       "      <th>4</th>\n",
       "      <td>ham</td>\n",
       "      <td>Nah I don't think he goes to usf, he lives aro...</td>\n",
       "    </tr>\n",
       "  </tbody>\n",
       "</table>\n",
       "</div>"
      ],
      "text/plain": [
       "  label                                            message\n",
       "0   ham  Go until jurong point, crazy.. Available only ...\n",
       "1   ham                      Ok lar... Joking wif u oni...\n",
       "2  spam  Free entry in 2 a wkly comp to win FA Cup fina...\n",
       "3   ham  U dun say so early hor... U c already then say...\n",
       "4   ham  Nah I don't think he goes to usf, he lives aro..."
      ]
     },
     "execution_count": 29,
     "metadata": {},
     "output_type": "execute_result"
    }
   ],
   "source": [
    "df.dropna(how=\"any\", inplace=True, axis=1)\n",
    "df.columns = ['label', 'message']\n",
    "\n",
    "df.head()\n"
   ]
  },
  {
   "cell_type": "markdown",
   "id": "d74d5da5",
   "metadata": {},
   "source": [
    "Preprocess Data"
   ]
  },
  {
   "cell_type": "code",
   "execution_count": 32,
   "id": "9c04a4c7",
   "metadata": {},
   "outputs": [
    {
     "name": "stdout",
     "output_type": "stream",
     "text": [
      "Looking in indexes: https://pypi.org/simple, https://pypi.ngc.nvidia.com\n",
      "Collecting nltk\n",
      "  Downloading nltk-3.9.1-py3-none-any.whl.metadata (2.9 kB)\n",
      "Requirement already satisfied: click in c:\\users\\lenovo\\anaconda3\\lib\\site-packages (from nltk) (8.1.7)\n",
      "Requirement already satisfied: joblib in c:\\users\\lenovo\\anaconda3\\lib\\site-packages (from nltk) (1.4.2)\n",
      "Collecting regex>=2021.8.3 (from nltk)\n",
      "  Downloading regex-2024.11.6-cp310-cp310-win_amd64.whl.metadata (41 kB)\n",
      "     ---------------------------------------- 0.0/41.5 kB ? eta -:--:--\n",
      "     -------------------------------------  41.0/41.5 kB 991.0 kB/s eta 0:00:01\n",
      "     -------------------------------------- 41.5/41.5 kB 505.0 kB/s eta 0:00:00\n",
      "Requirement already satisfied: tqdm in c:\\users\\lenovo\\anaconda3\\lib\\site-packages (from nltk) (4.66.4)\n",
      "Requirement already satisfied: colorama in c:\\users\\lenovo\\anaconda3\\lib\\site-packages (from click->nltk) (0.4.6)\n",
      "Downloading nltk-3.9.1-py3-none-any.whl (1.5 MB)\n",
      "   ---------------------------------------- 0.0/1.5 MB ? eta -:--:--\n",
      "   - -------------------------------------- 0.0/1.5 MB 1.9 MB/s eta 0:00:01\n",
      "   -- ------------------------------------- 0.1/1.5 MB 919.0 kB/s eta 0:00:02\n",
      "   ---- ----------------------------------- 0.2/1.5 MB 1.5 MB/s eta 0:00:01\n",
      "   ------ --------------------------------- 0.3/1.5 MB 1.4 MB/s eta 0:00:01\n",
      "   ----------- ---------------------------- 0.5/1.5 MB 2.0 MB/s eta 0:00:01\n",
      "   ---------------- ----------------------- 0.6/1.5 MB 2.3 MB/s eta 0:00:01\n",
      "   -------------------------- ------------- 1.0/1.5 MB 3.2 MB/s eta 0:00:01\n",
      "   ------------------------------------ --- 1.4/1.5 MB 3.8 MB/s eta 0:00:01\n",
      "   ---------------------------------------- 1.5/1.5 MB 4.0 MB/s eta 0:00:00\n",
      "Downloading regex-2024.11.6-cp310-cp310-win_amd64.whl (274 kB)\n",
      "   ---------------------------------------- 0.0/274.0 kB ? eta -:--:--\n",
      "   --------------------------------------- 274.0/274.0 kB 16.5 MB/s eta 0:00:00\n",
      "Installing collected packages: regex, nltk\n",
      "Successfully installed nltk-3.9.1 regex-2024.11.6\n"
     ]
    }
   ],
   "source": [
    "!pip install nltk"
   ]
  },
  {
   "cell_type": "code",
   "execution_count": 33,
   "id": "a67ed334",
   "metadata": {},
   "outputs": [
    {
     "name": "stderr",
     "output_type": "stream",
     "text": [
      "[nltk_data] Downloading package stopwords to\n",
      "[nltk_data]     C:\\Users\\lenovo\\AppData\\Roaming\\nltk_data...\n",
      "[nltk_data]   Unzipping corpora\\stopwords.zip.\n"
     ]
    }
   ],
   "source": [
    "import string\n",
    "import nltk\n",
    "nltk.download('stopwords')\n",
    "\n",
    "from nltk.corpus import stopwords\n",
    "\n",
    "def text_process(mess):\n",
    "    \"\"\"\n",
    "    Takes in a string of text, then performs the following:\n",
    "    1. Remove all punctuation\n",
    "    2. Remove all stopwords\n",
    "    3. Returns a list of the cleaned text\n",
    "    \"\"\"\n",
    "    STOPWORDS = stopwords.words('english') + ['u', 'ü', 'ur', '4', '2', 'im', 'dont', 'doin', 'ure']\n",
    "    # Check characters to see if they are in punctuation\n",
    "    nopunc = [char for char in mess if char not in string.punctuation]\n",
    "\n",
    "    # Join the characters again to form the string.\n",
    "    nopunc = ''.join(nopunc)\n",
    "    \n",
    "    # Now just remove any stopwords\n",
    "    return ' '.join([word for word in nopunc.split() if word.lower() not in STOPWORDS])"
   ]
  },
  {
   "cell_type": "code",
   "execution_count": 34,
   "id": "27cb2cfe",
   "metadata": {},
   "outputs": [
    {
     "data": {
      "text/html": [
       "<div>\n",
       "<style scoped>\n",
       "    .dataframe tbody tr th:only-of-type {\n",
       "        vertical-align: middle;\n",
       "    }\n",
       "\n",
       "    .dataframe tbody tr th {\n",
       "        vertical-align: top;\n",
       "    }\n",
       "\n",
       "    .dataframe thead th {\n",
       "        text-align: right;\n",
       "    }\n",
       "</style>\n",
       "<table border=\"1\" class=\"dataframe\">\n",
       "  <thead>\n",
       "    <tr style=\"text-align: right;\">\n",
       "      <th></th>\n",
       "      <th>label</th>\n",
       "      <th>message</th>\n",
       "    </tr>\n",
       "  </thead>\n",
       "  <tbody>\n",
       "    <tr>\n",
       "      <th>0</th>\n",
       "      <td>ham</td>\n",
       "      <td>Go jurong point crazy Available bugis n great ...</td>\n",
       "    </tr>\n",
       "    <tr>\n",
       "      <th>1</th>\n",
       "      <td>ham</td>\n",
       "      <td>Ok lar Joking wif oni</td>\n",
       "    </tr>\n",
       "    <tr>\n",
       "      <th>2</th>\n",
       "      <td>spam</td>\n",
       "      <td>Free entry wkly comp win FA Cup final tkts 21s...</td>\n",
       "    </tr>\n",
       "    <tr>\n",
       "      <th>3</th>\n",
       "      <td>ham</td>\n",
       "      <td>dun say early hor c already say</td>\n",
       "    </tr>\n",
       "    <tr>\n",
       "      <th>4</th>\n",
       "      <td>ham</td>\n",
       "      <td>Nah think goes usf lives around though</td>\n",
       "    </tr>\n",
       "  </tbody>\n",
       "</table>\n",
       "</div>"
      ],
      "text/plain": [
       "  label                                            message\n",
       "0   ham  Go jurong point crazy Available bugis n great ...\n",
       "1   ham                              Ok lar Joking wif oni\n",
       "2  spam  Free entry wkly comp win FA Cup final tkts 21s...\n",
       "3   ham                    dun say early hor c already say\n",
       "4   ham             Nah think goes usf lives around though"
      ]
     },
     "execution_count": 34,
     "metadata": {},
     "output_type": "execute_result"
    }
   ],
   "source": [
    "df['message'] = df.message.apply(text_process)\n",
    "df.head()"
   ]
  },
  {
   "cell_type": "markdown",
   "id": "e49e8dab",
   "metadata": {},
   "source": [
    "Mapping the labels to be numeric instead of strings"
   ]
  },
  {
   "cell_type": "code",
   "execution_count": 35,
   "id": "218af47a",
   "metadata": {},
   "outputs": [
    {
     "data": {
      "text/html": [
       "<div>\n",
       "<style scoped>\n",
       "    .dataframe tbody tr th:only-of-type {\n",
       "        vertical-align: middle;\n",
       "    }\n",
       "\n",
       "    .dataframe tbody tr th {\n",
       "        vertical-align: top;\n",
       "    }\n",
       "\n",
       "    .dataframe thead th {\n",
       "        text-align: right;\n",
       "    }\n",
       "</style>\n",
       "<table border=\"1\" class=\"dataframe\">\n",
       "  <thead>\n",
       "    <tr style=\"text-align: right;\">\n",
       "      <th></th>\n",
       "      <th>label</th>\n",
       "      <th>message</th>\n",
       "    </tr>\n",
       "  </thead>\n",
       "  <tbody>\n",
       "    <tr>\n",
       "      <th>0</th>\n",
       "      <td>0</td>\n",
       "      <td>Go jurong point crazy Available bugis n great ...</td>\n",
       "    </tr>\n",
       "    <tr>\n",
       "      <th>1</th>\n",
       "      <td>0</td>\n",
       "      <td>Ok lar Joking wif oni</td>\n",
       "    </tr>\n",
       "    <tr>\n",
       "      <th>2</th>\n",
       "      <td>1</td>\n",
       "      <td>Free entry wkly comp win FA Cup final tkts 21s...</td>\n",
       "    </tr>\n",
       "    <tr>\n",
       "      <th>3</th>\n",
       "      <td>0</td>\n",
       "      <td>dun say early hor c already say</td>\n",
       "    </tr>\n",
       "    <tr>\n",
       "      <th>4</th>\n",
       "      <td>0</td>\n",
       "      <td>Nah think goes usf lives around though</td>\n",
       "    </tr>\n",
       "  </tbody>\n",
       "</table>\n",
       "</div>"
      ],
      "text/plain": [
       "   label                                            message\n",
       "0      0  Go jurong point crazy Available bugis n great ...\n",
       "1      0                              Ok lar Joking wif oni\n",
       "2      1  Free entry wkly comp win FA Cup final tkts 21s...\n",
       "3      0                    dun say early hor c already say\n",
       "4      0             Nah think goes usf lives around though"
      ]
     },
     "execution_count": 35,
     "metadata": {},
     "output_type": "execute_result"
    }
   ],
   "source": [
    "df['label'] = df.label.map({'ham':0, 'spam':1})\n",
    "df.head()"
   ]
  },
  {
   "cell_type": "markdown",
   "id": "d9b10e1d",
   "metadata": {},
   "source": [
    "Tokenize the dataset"
   ]
  },
  {
   "cell_type": "code",
   "execution_count": 56,
   "id": "f06d0171",
   "metadata": {},
   "outputs": [],
   "source": [
    "from sklearn.model_selection import train_test_split\n",
    "from sklearn.metrics import accuracy_score\n",
    "\n",
    "# Step 3: Split data\n",
    "X_train_raw, X_test_raw, y_train, y_test = train_test_split(df['message'], df['label'], test_size=0.2, random_state=42)\n"
   ]
  },
  {
   "cell_type": "code",
   "execution_count": 63,
   "id": "6608f3cc",
   "metadata": {},
   "outputs": [],
   "source": [
    "# Step 2: fit ONLY on training data\n",
    "vectorizer = CountVectorizer()\n",
    "X_train = vectorizer.fit_transform(X_train_raw).toarray()\n",
    "\n",
    "\n",
    "# Step 3: transform test data using the same vocabulary\n",
    "X_test = vectorizer.transform(X_test_raw).toarray()"
   ]
  },
  {
   "cell_type": "code",
   "execution_count": 71,
   "id": "3ed4690a",
   "metadata": {},
   "outputs": [
    {
     "data": {
      "text/plain": [
       "((4457, 8265), (1115, 8265), (4457,), (1115,))"
      ]
     },
     "execution_count": 71,
     "metadata": {},
     "output_type": "execute_result"
    }
   ],
   "source": [
    "X_train.shape, X_test.shape, y_train.shape, y_test.shape"
   ]
  },
  {
   "cell_type": "code",
   "execution_count": 64,
   "id": "6735d0e3",
   "metadata": {},
   "outputs": [],
   "source": [
    "class MultiNB:\n",
    "    def __init__(self,alpha=1):\n",
    "        self.alpha = alpha\n",
    "\n",
    "    def _prior(self): # CHECKED\n",
    "        \"\"\"\n",
    "        Calculates prior for each unique class in y. P(y)\n",
    "        \"\"\"\n",
    "        P = np.zeros((self.n_classes_))\n",
    "        _, self.dist = np.unique(self.y,return_counts=True)\n",
    "        for i in range(self.classes_.shape[0]):\n",
    "            P[i] = self.dist[i] / self.n_samples\n",
    "        return P\n",
    "\n",
    "    def fit(self, X, y): # CHECKED, matches with sklearn\n",
    "        \"\"\"\n",
    "        Calculates the following things-\n",
    "            class_priors_ is list of priors for each y.\n",
    "            N_yi: 2D array. Contains for each class in y, the number of time each feature i appears under y.\n",
    "            N_y: 1D array. Contains for each class in y, the number of all features appear under y.\n",
    "\n",
    "        params\n",
    "        ------\n",
    "        X: 2D array. shape(n_samples, n_features)\n",
    "            Multinomial data\n",
    "        y: 1D array. shape(n_samples,). Labels must be encoded to integers.\n",
    "        \"\"\"\n",
    "        self.y = y\n",
    "        self.n_samples, self.n_features = X.shape\n",
    "        self.classes_ = np.unique(y)\n",
    "        self.n_classes_ = self.classes_.shape[0]\n",
    "        self.class_priors_ = self._prior()\n",
    "\n",
    "        # distinct values in each features\n",
    "        self.uniques = []\n",
    "        for i in range(self.n_features):\n",
    "            tmp = np.unique(X[:,i])\n",
    "            self.uniques.append( tmp )\n",
    "\n",
    "        self.N_yi = np.zeros((self.n_classes_, self.n_features)) # feature count\n",
    "        self.N_y = np.zeros((self.n_classes_)) # total count\n",
    "        for i in self.classes_: # x axis\n",
    "            indices = np.argwhere(self.y==i).flatten()\n",
    "            columnwise_sum = []\n",
    "            for j in range(self.n_features): # y axis\n",
    "                columnwise_sum.append(np.sum(X[indices,j]))\n",
    "\n",
    "            self.N_yi[i] = columnwise_sum # 2d\n",
    "            self.N_y[i] = np.sum(columnwise_sum) # 1d\n",
    "\n",
    "    def _theta(self, x_i, i, h):\n",
    "        \"\"\"\n",
    "        Calculates theta_yi. aka P(xi | y) using eqn(1) in the notebook.\n",
    "\n",
    "        params\n",
    "        ------\n",
    "        x_i: int.\n",
    "            feature x_i\n",
    "\n",
    "        i: int.\n",
    "            feature index.\n",
    "\n",
    "        h: int or string.\n",
    "            a class in y\n",
    "\n",
    "        returns\n",
    "        -------\n",
    "        theta_yi: P(xi | y)\n",
    "        \"\"\"\n",
    "\n",
    "        Nyi = self.N_yi[h,i]\n",
    "        Ny  = self.N_y[h]\n",
    "\n",
    "        numerator = Nyi + self.alpha\n",
    "        denominator = Ny + (self.alpha * self.n_features)\n",
    "\n",
    "        return  (numerator / denominator)**x_i\n",
    "\n",
    "    def _likelyhood(self, x, h):\n",
    "        \"\"\"\n",
    "        Calculates P(E|H) = P(E1|H) * P(E2|H) .. * P(En|H).\n",
    "\n",
    "        params\n",
    "        ------\n",
    "        x: array. shape(n_features,)\n",
    "            a row of data.\n",
    "        h: int.\n",
    "            a class in y\n",
    "        \"\"\"\n",
    "        tmp = []\n",
    "        for i in range(x.shape[0]):\n",
    "            tmp.append(self._theta(x[i], i,h))\n",
    "\n",
    "        return np.prod(tmp)\n",
    "\n",
    "    def predict(self, X):\n",
    "        samples, features = X.shape\n",
    "        self.predict_proba = np.zeros((samples,self.n_classes_))\n",
    "\n",
    "        for i in range(X.shape[0]):\n",
    "            joint_likelyhood = np.zeros((self.n_classes_))\n",
    "\n",
    "            for h in range(self.n_classes_):\n",
    "                joint_likelyhood[h]  = self.class_priors_[h] * self._likelyhood(X[i],h) # P(y) P(X|y)\n",
    "\n",
    "            denominator = np.sum(joint_likelyhood)\n",
    "\n",
    "            for h in range(self.n_classes_):\n",
    "                numerator = joint_likelyhood[h]\n",
    "                self.predict_proba[i,h] = (numerator / denominator)\n",
    "\n",
    "        indices = np.argmax(self.predict_proba,axis=1)\n",
    "        return self.classes_[indices]"
   ]
  },
  {
   "cell_type": "code",
   "execution_count": 65,
   "id": "11e1a425",
   "metadata": {},
   "outputs": [
    {
     "name": "stdout",
     "output_type": "stream",
     "text": [
      "Accuracy: 0.9821\n"
     ]
    }
   ],
   "source": [
    "# Step 4: Train your model\n",
    "model_MultiNB = MultiNB()\n",
    "model_MultiNB.fit(X_train, y_train)\n",
    "\n",
    "# Step 5: Predict\n",
    "y_pred = model_MultiNB.predict(X_test)\n",
    "\n",
    "# Step 6: Accuracy\n",
    "acc = accuracy_score(y_test, y_pred)\n",
    "print(f\"Accuracy: {acc:.4f}\")"
   ]
  },
  {
   "cell_type": "code",
   "execution_count": 66,
   "id": "3cdf34bd",
   "metadata": {},
   "outputs": [
    {
     "name": "stdout",
     "output_type": "stream",
     "text": [
      "Accuracy: 0.9821\n",
      "\n",
      "Classification Report:\n",
      "              precision    recall  f1-score   support\n",
      "\n",
      "         Ham       0.98      1.00      0.99       965\n",
      "        Spam       0.98      0.89      0.93       150\n",
      "\n",
      "    accuracy                           0.98      1115\n",
      "   macro avg       0.98      0.94      0.96      1115\n",
      "weighted avg       0.98      0.98      0.98      1115\n",
      "\n"
     ]
    },
    {
     "data": {
      "image/png": "[encoded data removed]",
      "text/plain": [
       "<Figure size 500x400 with 2 Axes>"
      ]
     },
     "metadata": {},
     "output_type": "display_data"
    }
   ],
   "source": [
    "from sklearn.metrics import classification_report, confusion_matrix, accuracy_score\n",
    "import seaborn as sns\n",
    "import matplotlib.pyplot as plt\n",
    "\n",
    "# Predict using your trained model\n",
    "y_pred = model_MultiNB.predict(X_test)\n",
    "\n",
    "# Accuracy\n",
    "acc = accuracy_score(y_test, y_pred)\n",
    "print(f\"Accuracy: {acc:.4f}\")\n",
    "\n",
    "# Classification report (includes precision, recall, f1)\n",
    "print(\"\\nClassification Report:\")\n",
    "print(classification_report(y_test, y_pred, target_names=[\"Ham\", \"Spam\"]))\n",
    "\n",
    "# Confusion matrix\n",
    "cm = confusion_matrix(y_test, y_pred)\n",
    "plt.figure(figsize=(5,4))\n",
    "sns.heatmap(cm, annot=True, fmt='d', cmap='Blues', xticklabels=[\"Ham\", \"Spam\"], yticklabels=[\"Ham\", \"Spam\"])\n",
    "plt.xlabel(\"Predicted\")\n",
    "plt.ylabel(\"Actual\")\n",
    "plt.title(\"Confusion Matrix\")\n",
    "plt.show()\n"
   ]
  },
  {
   "cell_type": "code",
   "execution_count": 67,
   "id": "7b17e4a6",
   "metadata": {},
   "outputs": [],
   "source": [
    "from sklearn.naive_bayes import MultinomialNB, ComplementNB\n",
    "from sklearn.metrics import classification_report, confusion_matrix, accuracy_score, precision_score, recall_score, f1_score\n",
    "import matplotlib.pyplot as plt\n",
    "import seaborn as sns\n",
    "\n",
    "# Fit scikit-learn models\n",
    "sk_model = MultinomialNB()\n",
    "cb_model = ComplementNB()\n",
    "\n",
    "sk_model.fit(X_train, y_train)\n",
    "cb_model.fit(X_train, y_train)\n",
    "\n",
    "# Predict\n",
    "y_pred_custom = model_MultiNB.predict(X_test)\n",
    "y_pred_sk = sk_model.predict(X_test)\n",
    "y_pred_cb = cb_model.predict(X_test)\n"
   ]
  },
  {
   "cell_type": "code",
   "execution_count": 68,
   "id": "54e78a0d",
   "metadata": {},
   "outputs": [
    {
     "name": "stdout",
     "output_type": "stream",
     "text": [
      "\n",
      "--- Custom MultiNB ---\n",
      "Accuracy: 0.9820627802690582\n",
      "              precision    recall  f1-score   support\n",
      "\n",
      "         Ham       0.98      1.00      0.99       965\n",
      "        Spam       0.98      0.89      0.93       150\n",
      "\n",
      "    accuracy                           0.98      1115\n",
      "   macro avg       0.98      0.94      0.96      1115\n",
      "weighted avg       0.98      0.98      0.98      1115\n",
      "\n"
     ]
    },
    {
     "data": {
      "image/png": "[encoded data removed]",
      "text/plain": [
       "<Figure size 400x300 with 2 Axes>"
      ]
     },
     "metadata": {},
     "output_type": "display_data"
    },
    {
     "name": "stdout",
     "output_type": "stream",
     "text": [
      "\n",
      "--- Sklearn MultinomialNB ---\n",
      "Accuracy: 0.9820627802690582\n",
      "              precision    recall  f1-score   support\n",
      "\n",
      "         Ham       0.98      1.00      0.99       965\n",
      "        Spam       0.98      0.89      0.93       150\n",
      "\n",
      "    accuracy                           0.98      1115\n",
      "   macro avg       0.98      0.94      0.96      1115\n",
      "weighted avg       0.98      0.98      0.98      1115\n",
      "\n"
     ]
    },
    {
     "data": {
      "image/png": "[encoded data removed]",
      "text/plain": [
       "<Figure size 400x300 with 2 Axes>"
      ]
     },
     "metadata": {},
     "output_type": "display_data"
    },
    {
     "name": "stdout",
     "output_type": "stream",
     "text": [
      "\n",
      "--- Sklearn ComplementNB ---\n",
      "Accuracy: 0.9542600896860987\n",
      "              precision    recall  f1-score   support\n",
      "\n",
      "         Ham       0.99      0.96      0.97       965\n",
      "        Spam       0.79      0.91      0.84       150\n",
      "\n",
      "    accuracy                           0.95      1115\n",
      "   macro avg       0.89      0.93      0.91      1115\n",
      "weighted avg       0.96      0.95      0.96      1115\n",
      "\n"
     ]
    },
    {
     "data": {
      "image/png": "[encoded data removed]",
      "text/plain": [
       "<Figure size 400x300 with 2 Axes>"
      ]
     },
     "metadata": {},
     "output_type": "display_data"
    }
   ],
   "source": [
    "def report_and_cm(y_true, y_pred, name):\n",
    "    print(f\"\\n--- {name} ---\")\n",
    "    print(\"Accuracy:\", accuracy_score(y_true, y_pred))\n",
    "    print(classification_report(y_true, y_pred, target_names=[\"Ham\", \"Spam\"]))\n",
    "    \n",
    "    cm = confusion_matrix(y_true, y_pred)\n",
    "    plt.figure(figsize=(4,3))\n",
    "    sns.heatmap(cm, annot=True, fmt='d', cmap='Blues', xticklabels=[\"Ham\", \"Spam\"], yticklabels=[\"Ham\", \"Spam\"])\n",
    "    plt.title(f\"{name} Confusion Matrix\")\n",
    "    plt.xlabel(\"Predicted\")\n",
    "    plt.ylabel(\"Actual\")\n",
    "    plt.tight_layout()\n",
    "    plt.show()\n",
    "\n",
    "# Generate reports\n",
    "report_and_cm(y_test, y_pred_custom, \"Custom MultiNB\")\n",
    "report_and_cm(y_test, y_pred_sk, \"Sklearn MultinomialNB\")\n",
    "report_and_cm(y_test, y_pred_cb, \"Sklearn ComplementNB\")\n"
   ]
  },
  {
   "cell_type": "code",
   "execution_count": 72,
   "id": "97da9aba",
   "metadata": {},
   "outputs": [
    {
     "name": "stderr",
     "output_type": "stream",
     "text": [
      "C:\\Users\\lenovo\\AppData\\Local\\Temp\\ipykernel_19448\\24198226.py:20: FutureWarning: \n",
      "\n",
      "Passing `palette` without assigning `hue` is deprecated and will be removed in v0.14.0. Assign the `x` variable to `hue` and set `legend=False` for the same effect.\n",
      "\n",
      "  sns.barplot(x=models, y=values, palette='Set2')\n",
      "C:\\Users\\lenovo\\AppData\\Local\\Temp\\ipykernel_19448\\24198226.py:20: FutureWarning: \n",
      "\n",
      "Passing `palette` without assigning `hue` is deprecated and will be removed in v0.14.0. Assign the `x` variable to `hue` and set `legend=False` for the same effect.\n",
      "\n",
      "  sns.barplot(x=models, y=values, palette='Set2')\n",
      "C:\\Users\\lenovo\\AppData\\Local\\Temp\\ipykernel_19448\\24198226.py:20: FutureWarning: \n",
      "\n",
      "Passing `palette` without assigning `hue` is deprecated and will be removed in v0.14.0. Assign the `x` variable to `hue` and set `legend=False` for the same effect.\n",
      "\n",
      "  sns.barplot(x=models, y=values, palette='Set2')\n",
      "C:\\Users\\lenovo\\AppData\\Local\\Temp\\ipykernel_19448\\24198226.py:20: FutureWarning: \n",
      "\n",
      "Passing `palette` without assigning `hue` is deprecated and will be removed in v0.14.0. Assign the `x` variable to `hue` and set `legend=False` for the same effect.\n",
      "\n",
      "  sns.barplot(x=models, y=values, palette='Set2')\n"
     ]
    },
    {
     "data": {
      "image/png": "[encoded data removed]",
      "text/plain": [
       "<Figure size 1000x600 with 4 Axes>"
      ]
     },
     "metadata": {},
     "output_type": "display_data"
    }
   ],
   "source": [
    "# Metric comparison\n",
    "models = ['model_MultiNB', 'MultinomialNB', 'ComplementNB']\n",
    "y_preds = [y_pred_custom, y_pred_sk, y_pred_cb]\n",
    "\n",
    "def calc_metrics(y_true, y_preds):\n",
    "    scores = {\"Accuracy\": [], \"Precision\": [], \"Recall\": [], \"F1-score\": []}\n",
    "    for y_pred in y_preds:\n",
    "        scores[\"Accuracy\"].append(accuracy_score(y_true, y_pred))\n",
    "        scores[\"Precision\"].append(precision_score(y_true, y_pred))\n",
    "        scores[\"Recall\"].append(recall_score(y_true, y_pred))\n",
    "        scores[\"F1-score\"].append(f1_score(y_true, y_pred))\n",
    "    return scores\n",
    "\n",
    "scores = calc_metrics(y_test, y_preds)\n",
    "\n",
    "# Plot\n",
    "plt.figure(figsize=(10,6))\n",
    "for i, (metric, values) in enumerate(scores.items()):\n",
    "    plt.subplot(2,2,i+1)\n",
    "    sns.barplot(x=models, y=values, palette='Set2')\n",
    "    plt.title(metric)\n",
    "    plt.ylim(0.8, 1)\n",
    "    plt.ylabel(metric)\n",
    "    plt.grid(axis='y')\n",
    "\n",
    "plt.tight_layout()\n",
    "plt.suptitle(\"Model Performance Comparison\", fontsize=16, y=1.02)\n",
    "plt.show()\n"
   ]
  },
  {
   "cell_type": "code",
   "execution_count": 53,
   "id": "55c92fc0",
   "metadata": {},
   "outputs": [],
   "source": [
    "from sklearn.naive_bayes import MultinomialNB\n",
    "from sklearn.metrics import classification_report, confusion_matrix, accuracy_score\n",
    "import matplotlib.pyplot as plt\n",
    "import seaborn as sns\n",
    "\n",
    "def train_evaluate_multinb(X_train, X_test, y_train, y_test):\n",
    "    \"\"\"\n",
    "    Train and evaluate a Multinomial Naive Bayes classifier using sklearn.\n",
    "\n",
    "    Parameters:\n",
    "    -----------\n",
    "    X_train : array-like (n_samples_train, n_features)\n",
    "        Training data (tokenized/count vectorized or TF-IDF transformed).\n",
    "    X_test : array-like (n_samples_test, n_features)\n",
    "        Test data (same preprocessing as training).\n",
    "    y_train : array-like (n_samples_train,)\n",
    "        Training labels.\n",
    "    y_test : array-like (n_samples_test,)\n",
    "        Test labels.\n",
    "\n",
    "    Returns:\n",
    "    --------\n",
    "    model : trained MultinomialNB object\n",
    "    y_pred : array of predicted labels for X_test\n",
    "    \"\"\"\n",
    "    model = MultinomialNB()\n",
    "    model.fit(X_train, y_train)\n",
    "    y_pred = model.predict(X_test)\n",
    "\n",
    "    # Evaluation Report\n",
    "    print(\"\\n--- Sklearn MultinomialNB ---\")\n",
    "    print(f\"Accuracy: {accuracy_score(y_test, y_pred)}\")\n",
    "    print(classification_report(y_test, y_pred))\n",
    "\n",
    "    # Confusion Matrix\n",
    "    cm = confusion_matrix(y_test, y_pred, labels=model.classes_)\n",
    "    sns.heatmap(cm, annot=True, fmt='d', xticklabels=model.classes_, yticklabels=model.classes_, cmap=\"Blues\")\n",
    "    plt.title(\"Confusion Matrix - MultinomialNB\")\n",
    "    plt.xlabel(\"Predicted\")\n",
    "    plt.ylabel(\"Actual\")\n",
    "    plt.tight_layout()\n",
    "    plt.show()\n",
    "\n",
    "    return model, y_pred\n"
   ]
  },
  {
   "cell_type": "code",
   "execution_count": 54,
   "id": "4104f19f",
   "metadata": {},
   "outputs": [
    {
     "name": "stdout",
     "output_type": "stream",
     "text": [
      "\n",
      "--- Sklearn MultinomialNB ---\n",
      "Accuracy: 0.9757847533632287\n",
      "              precision    recall  f1-score   support\n",
      "\n",
      "           0       0.99      0.98      0.99       965\n",
      "           1       0.90      0.92      0.91       150\n",
      "\n",
      "    accuracy                           0.98      1115\n",
      "   macro avg       0.94      0.95      0.95      1115\n",
      "weighted avg       0.98      0.98      0.98      1115\n",
      "\n"
     ]
    },
    {
     "data": {
      "image/png": "[encoded data removed]",
      "text/plain": [
       "<Figure size 640x480 with 2 Axes>"
      ]
     },
     "metadata": {},
     "output_type": "display_data"
    }
   ],
   "source": [
    "model, y_pred = train_evaluate_multinb(X_train, X_test, y_train, y_test)\n"
   ]
  },
  {
   "cell_type": "code",
   "execution_count": 73,
   "id": "71ed5ebe",
   "metadata": {},
   "outputs": [
    {
     "name": "stdout",
     "output_type": "stream",
     "text": [
      "Custom MultiNB       | Total Risk: 88 | Average Risk: 0.0789\n",
      "sklearn MultiNB      | Total Risk: 88 | Average Risk: 0.0789\n",
      "ComplementNB         | Total Risk: 107 | Average Risk: 0.0960\n"
     ]
    }
   ],
   "source": [
    "from sklearn.metrics import confusion_matrix\n",
    "\n",
    "def cost_sensitive_risk(y_true, y_pred, cost_fn=5, cost_fp=1):\n",
    "    \"\"\"\n",
    "    Computes total and average risk using a cost-sensitive confusion matrix.\n",
    "\n",
    "    Parameters:\n",
    "    -----------\n",
    "    y_true : array-like\n",
    "        Ground truth labels (0 for ham, 1 for spam)\n",
    "    y_pred : array-like\n",
    "        Predicted labels (0 or 1)\n",
    "    cost_fn : int or float\n",
    "        Cost of false negatives (spam predicted as ham)\n",
    "    cost_fp : int or float\n",
    "        Cost of false positives (ham predicted as spam)\n",
    "\n",
    "    Returns:\n",
    "    --------\n",
    "    total_risk : float\n",
    "        Total cost over all predictions\n",
    "    avg_risk : float\n",
    "        Average cost per prediction\n",
    "    \"\"\"\n",
    "    tn, fp, fn, tp = confusion_matrix(y_true, y_pred).ravel()\n",
    "    total_risk = cost_fn * fn + cost_fp * fp\n",
    "    avg_risk = total_risk / len(y_true)\n",
    "    return total_risk, avg_risk\n",
    "\n",
    "# Evaluate risks\n",
    "models = {\n",
    "    \"Custom MultiNB\": y_pred_custom,\n",
    "    \"sklearn MultiNB\": y_pred_sk,\n",
    "    \"ComplementNB\": y_pred_cb\n",
    "}\n",
    "\n",
    "for name, preds in models.items():\n",
    "    total, avg = cost_sensitive_risk(y_test, preds)\n",
    "    print(f\"{name:20s} | Total Risk: {total:.0f} | Average Risk: {avg:.4f}\")\n"
   ]
  }
 ],
 "metadata": {
  "kernelspec": {
   "display_name": "base",
   "language": "python",
   "name": "python3"
  },
  "language_info": {
   "codemirror_mode": {
    "name": "ipython",
    "version": 3
   },
   "file_extension": ".py",
   "mimetype": "text/x-python",
   "name": "python",
   "nbconvert_exporter": "python",
   "pygments_lexer": "ipython3",
   "version": "3.10.9"
  }
 },
 "nbformat": 4,
 "nbformat_minor": 5
}
